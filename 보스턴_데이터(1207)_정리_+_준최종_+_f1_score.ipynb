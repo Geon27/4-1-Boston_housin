{
  "nbformat": 4,
  "nbformat_minor": 0,
  "metadata": {
    "colab": {
      "provenance": [],
      "collapsed_sections": [
        "mlmFBx-AgM9i",
        "P7rYBSpKhOyL",
        "_KJF9nOTctpg",
        "U_MigjFmxkqd",
        "xCG_ru0HyVPf"
      ],
      "toc_visible": true,
      "include_colab_link": true
    },
    "kernelspec": {
      "name": "python3",
      "display_name": "Python 3"
    },
    "language_info": {
      "name": "python"
    }
  },
  "cells": [
    {
      "cell_type": "markdown",
      "metadata": {
        "id": "view-in-github",
        "colab_type": "text"
      },
      "source": [
        "<a href=\"https://colab.research.google.com/github/Geon27/4-1-Boston_housin/blob/main/%EB%B3%B4%EC%8A%A4%ED%84%B4_%EB%8D%B0%EC%9D%B4%ED%84%B0(1207)_%EC%A0%95%EB%A6%AC_%2B_%EC%A4%80%EC%B5%9C%EC%A2%85_%2B_f1_score.ipynb\" target=\"_parent\"><img src=\"https://colab.research.google.com/assets/colab-badge.svg\" alt=\"Open In Colab\"/></a>"
      ]
    },
    {
      "cell_type": "markdown",
      "source": [
        "#Boston_housing Data를 활용한 집값 예측값 Model\n",
        "각 모델(Logistic regression, KNeighbors, Decision tree, Random forest)의 f1-score 를 확인하고, 예측 정확도를 확인해본다."
      ],
      "metadata": {
        "id": "p3xncMeZh-6a"
      }
    },
    {
      "cell_type": "markdown",
      "source": [
        "- 나의 구글 드라이브와 구글 코랩의 연결  \n",
        "- 이 과정(마운트)을 통해 나의 구글 드라이브내의 데이터를 구글 코랩에 로드하고 또한 분석된 내용을 저장하는것도 가능하게 됨"
      ],
      "metadata": {
        "id": "hYQvbyARtJVu"
      }
    },
    {
      "cell_type": "code",
      "source": [
        "#구글 드라이브 연동\n",
        "from google.colab import drive\n",
        "drive.mount('/content/drive') \n",
        "\n",
        "# 아래 출력되는 URL에 접속하여 이용 동의 후 생성되는 인증코드를 복사해서 붙여넣기"
      ],
      "metadata": {
        "id": "_bwuB0V6jjzE",
        "colab": {
          "base_uri": "https://localhost:8080/"
        },
        "outputId": "7e3b9364-65de-46ce-c7d9-e86aa010ef40"
      },
      "execution_count": null,
      "outputs": [
        {
          "output_type": "stream",
          "name": "stdout",
          "text": [
            "Drive already mounted at /content/drive; to attempt to forcibly remount, call drive.mount(\"/content/drive\", force_remount=True).\n"
          ]
        }
      ]
    },
    {
      "cell_type": "markdown",
      "source": [
        "### 파이썬 패키지 설치"
      ],
      "metadata": {
        "id": "wbXaY_plBUuD"
      }
    },
    {
      "cell_type": "markdown",
      "source": [
        "패키지라 함은 메인엔진은 파이썬이 잘 구현될 수 있도록 지원해주는 체계로서 패키지안에 함수나 클래스 등이 포함되어 있음  \n",
        "패키지를 사용하려면 2단계(인스톨-로드)를 거치는데 로드는 매번 인스톨은 처음에 1회만 하면 되는데 구글 코랩에서는 단점으로서 클라우드 방식이므로 인스톨을 매번해주어야 하는 번거로움이 있음"
      ],
      "metadata": {
        "id": "188fgFdRuEAx"
      }
    },
    {
      "cell_type": "markdown",
      "source": [
        "#### 패키지 로드"
      ],
      "metadata": {
        "id": "tusPl0uwui-i"
      }
    },
    {
      "cell_type": "markdown",
      "source": [
        "아래 코드는 인스톨 코드이므로 후에 로드를 다시 해주어야 함  \n",
        "코랩에서는 다른 파이썬 IDE와 다르게 이미 필요한 패키지들이 설치되어 있어서 비교적 편리함  \n",
        "다만 어떤 패키지는 버전에 따라 상황이 달라질 수 있으므로 같은 패키지여도 필요한 버전을 추가로 설치해야 하는 경우도 발생될 수 있음"
      ],
      "metadata": {
        "id": "KtOt1GPHupR7"
      }
    },
    {
      "cell_type": "code",
      "source": [
        "# !pip uninstall scipy -y\n",
        "# !pip uninstall pingouin -y\n",
        "!pip install pingouin\n",
        "# !pip install statsmodels==0.13.1\n",
        "!pip install sidetable\n",
        "# !pip install researchpy \n",
        "# !pip install bioinfokit\n",
        "# !pip install sidetable\n"
      ],
      "metadata": {
        "id": "e-r7-1j5MchC",
        "colab": {
          "base_uri": "https://localhost:8080/"
        },
        "outputId": "ff67062d-3431-4281-8700-90952dde7758"
      },
      "execution_count": null,
      "outputs": [
        {
          "output_type": "stream",
          "name": "stdout",
          "text": [
            "Looking in indexes: https://pypi.org/simple, https://us-python.pkg.dev/colab-wheels/public/simple/\n",
            "Requirement already satisfied: pingouin in /usr/local/lib/python3.8/dist-packages (0.5.2)\n",
            "Requirement already satisfied: scikit-learn<1.1.0 in /usr/local/lib/python3.8/dist-packages (from pingouin) (1.0.2)\n",
            "Requirement already satisfied: pandas-flavor>=0.2.0 in /usr/local/lib/python3.8/dist-packages (from pingouin) (0.3.0)\n",
            "Requirement already satisfied: scipy>=1.7 in /usr/local/lib/python3.8/dist-packages (from pingouin) (1.7.3)\n",
            "Requirement already satisfied: statsmodels>=0.13 in /usr/local/lib/python3.8/dist-packages (from pingouin) (0.13.5)\n",
            "Requirement already satisfied: outdated in /usr/local/lib/python3.8/dist-packages (from pingouin) (0.2.2)\n",
            "Requirement already satisfied: seaborn>=0.11 in /usr/local/lib/python3.8/dist-packages (from pingouin) (0.11.2)\n",
            "Requirement already satisfied: matplotlib>=3.0.2 in /usr/local/lib/python3.8/dist-packages (from pingouin) (3.2.2)\n",
            "Requirement already satisfied: pandas>=1.0 in /usr/local/lib/python3.8/dist-packages (from pingouin) (1.3.5)\n",
            "Requirement already satisfied: numpy>=1.19 in /usr/local/lib/python3.8/dist-packages (from pingouin) (1.21.6)\n",
            "Requirement already satisfied: tabulate in /usr/local/lib/python3.8/dist-packages (from pingouin) (0.8.10)\n",
            "Requirement already satisfied: pyparsing!=2.0.4,!=2.1.2,!=2.1.6,>=2.0.1 in /usr/local/lib/python3.8/dist-packages (from matplotlib>=3.0.2->pingouin) (3.0.9)\n",
            "Requirement already satisfied: python-dateutil>=2.1 in /usr/local/lib/python3.8/dist-packages (from matplotlib>=3.0.2->pingouin) (2.8.2)\n",
            "Requirement already satisfied: kiwisolver>=1.0.1 in /usr/local/lib/python3.8/dist-packages (from matplotlib>=3.0.2->pingouin) (1.4.4)\n",
            "Requirement already satisfied: cycler>=0.10 in /usr/local/lib/python3.8/dist-packages (from matplotlib>=3.0.2->pingouin) (0.11.0)\n",
            "Requirement already satisfied: pytz>=2017.3 in /usr/local/lib/python3.8/dist-packages (from pandas>=1.0->pingouin) (2022.6)\n",
            "Requirement already satisfied: lazy-loader==0.1rc2 in /usr/local/lib/python3.8/dist-packages (from pandas-flavor>=0.2.0->pingouin) (0.1rc2)\n",
            "Requirement already satisfied: xarray in /usr/local/lib/python3.8/dist-packages (from pandas-flavor>=0.2.0->pingouin) (0.20.2)\n",
            "Requirement already satisfied: six>=1.5 in /usr/local/lib/python3.8/dist-packages (from python-dateutil>=2.1->matplotlib>=3.0.2->pingouin) (1.15.0)\n",
            "Requirement already satisfied: threadpoolctl>=2.0.0 in /usr/local/lib/python3.8/dist-packages (from scikit-learn<1.1.0->pingouin) (3.1.0)\n",
            "Requirement already satisfied: joblib>=0.11 in /usr/local/lib/python3.8/dist-packages (from scikit-learn<1.1.0->pingouin) (1.2.0)\n",
            "Requirement already satisfied: patsy>=0.5.2 in /usr/local/lib/python3.8/dist-packages (from statsmodels>=0.13->pingouin) (0.5.3)\n",
            "Requirement already satisfied: packaging>=21.3 in /usr/local/lib/python3.8/dist-packages (from statsmodels>=0.13->pingouin) (21.3)\n",
            "Requirement already satisfied: setuptools>=44 in /usr/local/lib/python3.8/dist-packages (from outdated->pingouin) (57.4.0)\n",
            "Requirement already satisfied: requests in /usr/local/lib/python3.8/dist-packages (from outdated->pingouin) (2.23.0)\n",
            "Requirement already satisfied: littleutils in /usr/local/lib/python3.8/dist-packages (from outdated->pingouin) (0.2.2)\n",
            "Requirement already satisfied: certifi>=2017.4.17 in /usr/local/lib/python3.8/dist-packages (from requests->outdated->pingouin) (2022.9.24)\n",
            "Requirement already satisfied: idna<3,>=2.5 in /usr/local/lib/python3.8/dist-packages (from requests->outdated->pingouin) (2.10)\n",
            "Requirement already satisfied: urllib3!=1.25.0,!=1.25.1,<1.26,>=1.21.1 in /usr/local/lib/python3.8/dist-packages (from requests->outdated->pingouin) (1.24.3)\n",
            "Requirement already satisfied: chardet<4,>=3.0.2 in /usr/local/lib/python3.8/dist-packages (from requests->outdated->pingouin) (3.0.4)\n",
            "Looking in indexes: https://pypi.org/simple, https://us-python.pkg.dev/colab-wheels/public/simple/\n",
            "Requirement already satisfied: sidetable in /usr/local/lib/python3.8/dist-packages (0.9.1)\n",
            "Requirement already satisfied: pandas>=1.0 in /usr/local/lib/python3.8/dist-packages (from sidetable) (1.3.5)\n",
            "Requirement already satisfied: python-dateutil>=2.7.3 in /usr/local/lib/python3.8/dist-packages (from pandas>=1.0->sidetable) (2.8.2)\n",
            "Requirement already satisfied: pytz>=2017.3 in /usr/local/lib/python3.8/dist-packages (from pandas>=1.0->sidetable) (2022.6)\n",
            "Requirement already satisfied: numpy>=1.17.3 in /usr/local/lib/python3.8/dist-packages (from pandas>=1.0->sidetable) (1.21.6)\n",
            "Requirement already satisfied: six>=1.5 in /usr/local/lib/python3.8/dist-packages (from python-dateutil>=2.7.3->pandas>=1.0->sidetable) (1.15.0)\n"
          ]
        }
      ]
    },
    {
      "cell_type": "markdown",
      "source": [
        "패키지 인스톨 명령어 `\"!pip install 패키지이름\"`로 인스톨함"
      ],
      "metadata": {
        "id": "aNn_Lywn5MAb"
      }
    },
    {
      "cell_type": "markdown",
      "source": [
        "#### 패키지 로드"
      ],
      "metadata": {
        "id": "qUAyuxLBuxL7"
      }
    },
    {
      "cell_type": "code",
      "metadata": {
        "id": "HrjcaVJfFSIa"
      },
      "source": [
        "import seaborn as sns\n",
        "import pandas as pd\n",
        "#import datatable as dt\n",
        "import scipy.stats as ss\n",
        "from sklearn import datasets\n",
        "import numpy\n",
        "import sidetable \n",
        "from scipy.stats import mode\n",
        "import matplotlib.pyplot as plt\n",
        "import numpy as np\n",
        "import scipy.stats as stats\n",
        "from statsmodels.formula.api import ols\n",
        "from statsmodels.stats.anova import anova_lm\n",
        "from statsmodels.stats.multicomp import pairwise_tukeyhsd\n",
        "import statsmodels.formula.api as smf\n",
        "pd.options.display.float_format = lambda x: f'{x:.3f}'\n",
        "#pd.reset_option('display.float_format')"
      ],
      "execution_count": null,
      "outputs": []
    },
    {
      "cell_type": "markdown",
      "source": [
        "## 데이터로드"
      ],
      "metadata": {
        "id": "J1RK9sqaCcgN"
      }
    },
    {
      "cell_type": "markdown",
      "source": [
        "나의 구글 드라이브에서 원하는 데이터 파일을 찾아서(drive-My drive) 이에 대한 경로를 복사하여 아래 코드의 `' '`부분에 붙여 넣기  \n",
        "아래의 경로는 이전 사용자의 고유경로이므로 바로 실행하면 에러가 발생될 수 있음"
      ],
      "metadata": {
        "id": "s6wpfvVYvERQ"
      }
    },
    {
      "cell_type": "code",
      "source": [
        "##데이터 로드: 엑셀파일\n",
        "# 파일명: 관광수요_데이터_예제_R업로드_환경부.xlsx\n",
        "Df = pd.read_csv('/content/drive/MyDrive/보스턴_데이터과학/housing.csv')"
      ],
      "metadata": {
        "id": "9UxOCFJwCf08"
      },
      "execution_count": null,
      "outputs": []
    },
    {
      "cell_type": "code",
      "source": [
        "#Df[1:1] #변수명만 추출\n",
        "print(Df.columns); print(len(Df.columns))"
      ],
      "metadata": {
        "colab": {
          "base_uri": "https://localhost:8080/"
        },
        "id": "Uaz9eS0lzlkG",
        "outputId": "189daa02-3e2a-4193-90dd-05f1fa34d5da"
      },
      "execution_count": null,
      "outputs": [
        {
          "output_type": "stream",
          "name": "stdout",
          "text": [
            "Index(['CRIM', 'ZN', 'INDUS', 'CHAS', 'NOX', 'RM', 'AGE', 'DIS', 'RAD', 'TAX',\n",
            "       'PTRATIO', 'B', 'LSTAT', 'MEDV'],\n",
            "      dtype='object')\n",
            "14\n"
          ]
        }
      ]
    },
    {
      "cell_type": "code",
      "source": [
        "Df.info()"
      ],
      "metadata": {
        "colab": {
          "base_uri": "https://localhost:8080/"
        },
        "id": "_-l2nhT3j-1c",
        "outputId": "a930cee9-2f8a-43a8-ea91-479e100223d2"
      },
      "execution_count": null,
      "outputs": [
        {
          "output_type": "stream",
          "name": "stdout",
          "text": [
            "<class 'pandas.core.frame.DataFrame'>\n",
            "RangeIndex: 506 entries, 0 to 505\n",
            "Data columns (total 14 columns):\n",
            " #   Column   Non-Null Count  Dtype  \n",
            "---  ------   --------------  -----  \n",
            " 0   CRIM     506 non-null    float64\n",
            " 1   ZN       506 non-null    float64\n",
            " 2   INDUS    506 non-null    float64\n",
            " 3   CHAS     506 non-null    float64\n",
            " 4   NOX      506 non-null    float64\n",
            " 5   RM       506 non-null    float64\n",
            " 6   AGE      506 non-null    float64\n",
            " 7   DIS      506 non-null    float64\n",
            " 8   RAD      506 non-null    float64\n",
            " 9   TAX      506 non-null    float64\n",
            " 10  PTRATIO  506 non-null    float64\n",
            " 11  B        506 non-null    float64\n",
            " 12  LSTAT    506 non-null    float64\n",
            " 13  MEDV     506 non-null    float64\n",
            "dtypes: float64(14)\n",
            "memory usage: 55.5 KB\n"
          ]
        }
      ]
    },
    {
      "cell_type": "markdown",
      "source": [
        "데이터의 Type를 보게되면 전부 float(실수)형으로 되어있다."
      ],
      "metadata": {
        "id": "vb-MeMM_QdeU"
      }
    },
    {
      "cell_type": "code",
      "source": [
        "Df.shape"
      ],
      "metadata": {
        "colab": {
          "base_uri": "https://localhost:8080/"
        },
        "id": "g1NgAS98kLfU",
        "outputId": "37f05813-6533-4aa7-bb77-4d889cde4fb1"
      },
      "execution_count": null,
      "outputs": [
        {
          "output_type": "execute_result",
          "data": {
            "text/plain": [
              "(506, 14)"
            ]
          },
          "metadata": {},
          "execution_count": 8
        }
      ]
    },
    {
      "cell_type": "code",
      "source": [
        "Df.head()"
      ],
      "metadata": {
        "colab": {
          "base_uri": "https://localhost:8080/",
          "height": 206
        },
        "id": "eiZgqbkrlmQp",
        "outputId": "1422e5a6-451f-44e4-842b-c0be4351e328"
      },
      "execution_count": null,
      "outputs": [
        {
          "output_type": "execute_result",
          "data": {
            "text/plain": [
              "   CRIM     ZN  INDUS  CHAS   NOX    RM    AGE   DIS   RAD     TAX  PTRATIO  \\\n",
              "0 0.006 18.000  2.310 0.000 0.538 6.575 65.200 4.090 1.000 296.000   15.300   \n",
              "1 0.027  0.000  7.070 0.000 0.469 6.421 78.900 4.967 2.000 242.000   17.800   \n",
              "2 0.027  0.000  7.070 0.000 0.469 7.185 61.100 4.967 2.000 242.000   17.800   \n",
              "3 0.032  0.000  2.180 0.000 0.458 6.998 45.800 6.062 3.000 222.000   18.700   \n",
              "4 0.069  0.000  2.180 0.000 0.458 7.147 54.200 6.062 3.000 222.000   18.700   \n",
              "\n",
              "        B  LSTAT   MEDV  \n",
              "0 396.900  4.980 24.000  \n",
              "1 396.900  9.140 21.600  \n",
              "2 392.830  4.030 34.700  \n",
              "3 394.630  2.940 33.400  \n",
              "4 396.900  5.330 36.200  "
            ],
            "text/html": [
              "\n",
              "  <div id=\"df-2096a1ac-9928-433e-9de0-1281c0ec3189\">\n",
              "    <div class=\"colab-df-container\">\n",
              "      <div>\n",
              "<style scoped>\n",
              "    .dataframe tbody tr th:only-of-type {\n",
              "        vertical-align: middle;\n",
              "    }\n",
              "\n",
              "    .dataframe tbody tr th {\n",
              "        vertical-align: top;\n",
              "    }\n",
              "\n",
              "    .dataframe thead th {\n",
              "        text-align: right;\n",
              "    }\n",
              "</style>\n",
              "<table border=\"1\" class=\"dataframe\">\n",
              "  <thead>\n",
              "    <tr style=\"text-align: right;\">\n",
              "      <th></th>\n",
              "      <th>CRIM</th>\n",
              "      <th>ZN</th>\n",
              "      <th>INDUS</th>\n",
              "      <th>CHAS</th>\n",
              "      <th>NOX</th>\n",
              "      <th>RM</th>\n",
              "      <th>AGE</th>\n",
              "      <th>DIS</th>\n",
              "      <th>RAD</th>\n",
              "      <th>TAX</th>\n",
              "      <th>PTRATIO</th>\n",
              "      <th>B</th>\n",
              "      <th>LSTAT</th>\n",
              "      <th>MEDV</th>\n",
              "    </tr>\n",
              "  </thead>\n",
              "  <tbody>\n",
              "    <tr>\n",
              "      <th>0</th>\n",
              "      <td>0.006</td>\n",
              "      <td>18.000</td>\n",
              "      <td>2.310</td>\n",
              "      <td>0.000</td>\n",
              "      <td>0.538</td>\n",
              "      <td>6.575</td>\n",
              "      <td>65.200</td>\n",
              "      <td>4.090</td>\n",
              "      <td>1.000</td>\n",
              "      <td>296.000</td>\n",
              "      <td>15.300</td>\n",
              "      <td>396.900</td>\n",
              "      <td>4.980</td>\n",
              "      <td>24.000</td>\n",
              "    </tr>\n",
              "    <tr>\n",
              "      <th>1</th>\n",
              "      <td>0.027</td>\n",
              "      <td>0.000</td>\n",
              "      <td>7.070</td>\n",
              "      <td>0.000</td>\n",
              "      <td>0.469</td>\n",
              "      <td>6.421</td>\n",
              "      <td>78.900</td>\n",
              "      <td>4.967</td>\n",
              "      <td>2.000</td>\n",
              "      <td>242.000</td>\n",
              "      <td>17.800</td>\n",
              "      <td>396.900</td>\n",
              "      <td>9.140</td>\n",
              "      <td>21.600</td>\n",
              "    </tr>\n",
              "    <tr>\n",
              "      <th>2</th>\n",
              "      <td>0.027</td>\n",
              "      <td>0.000</td>\n",
              "      <td>7.070</td>\n",
              "      <td>0.000</td>\n",
              "      <td>0.469</td>\n",
              "      <td>7.185</td>\n",
              "      <td>61.100</td>\n",
              "      <td>4.967</td>\n",
              "      <td>2.000</td>\n",
              "      <td>242.000</td>\n",
              "      <td>17.800</td>\n",
              "      <td>392.830</td>\n",
              "      <td>4.030</td>\n",
              "      <td>34.700</td>\n",
              "    </tr>\n",
              "    <tr>\n",
              "      <th>3</th>\n",
              "      <td>0.032</td>\n",
              "      <td>0.000</td>\n",
              "      <td>2.180</td>\n",
              "      <td>0.000</td>\n",
              "      <td>0.458</td>\n",
              "      <td>6.998</td>\n",
              "      <td>45.800</td>\n",
              "      <td>6.062</td>\n",
              "      <td>3.000</td>\n",
              "      <td>222.000</td>\n",
              "      <td>18.700</td>\n",
              "      <td>394.630</td>\n",
              "      <td>2.940</td>\n",
              "      <td>33.400</td>\n",
              "    </tr>\n",
              "    <tr>\n",
              "      <th>4</th>\n",
              "      <td>0.069</td>\n",
              "      <td>0.000</td>\n",
              "      <td>2.180</td>\n",
              "      <td>0.000</td>\n",
              "      <td>0.458</td>\n",
              "      <td>7.147</td>\n",
              "      <td>54.200</td>\n",
              "      <td>6.062</td>\n",
              "      <td>3.000</td>\n",
              "      <td>222.000</td>\n",
              "      <td>18.700</td>\n",
              "      <td>396.900</td>\n",
              "      <td>5.330</td>\n",
              "      <td>36.200</td>\n",
              "    </tr>\n",
              "  </tbody>\n",
              "</table>\n",
              "</div>\n",
              "      <button class=\"colab-df-convert\" onclick=\"convertToInteractive('df-2096a1ac-9928-433e-9de0-1281c0ec3189')\"\n",
              "              title=\"Convert this dataframe to an interactive table.\"\n",
              "              style=\"display:none;\">\n",
              "        \n",
              "  <svg xmlns=\"http://www.w3.org/2000/svg\" height=\"24px\"viewBox=\"0 0 24 24\"\n",
              "       width=\"24px\">\n",
              "    <path d=\"M0 0h24v24H0V0z\" fill=\"none\"/>\n",
              "    <path d=\"M18.56 5.44l.94 2.06.94-2.06 2.06-.94-2.06-.94-.94-2.06-.94 2.06-2.06.94zm-11 1L8.5 8.5l.94-2.06 2.06-.94-2.06-.94L8.5 2.5l-.94 2.06-2.06.94zm10 10l.94 2.06.94-2.06 2.06-.94-2.06-.94-.94-2.06-.94 2.06-2.06.94z\"/><path d=\"M17.41 7.96l-1.37-1.37c-.4-.4-.92-.59-1.43-.59-.52 0-1.04.2-1.43.59L10.3 9.45l-7.72 7.72c-.78.78-.78 2.05 0 2.83L4 21.41c.39.39.9.59 1.41.59.51 0 1.02-.2 1.41-.59l7.78-7.78 2.81-2.81c.8-.78.8-2.07 0-2.86zM5.41 20L4 18.59l7.72-7.72 1.47 1.35L5.41 20z\"/>\n",
              "  </svg>\n",
              "      </button>\n",
              "      \n",
              "  <style>\n",
              "    .colab-df-container {\n",
              "      display:flex;\n",
              "      flex-wrap:wrap;\n",
              "      gap: 12px;\n",
              "    }\n",
              "\n",
              "    .colab-df-convert {\n",
              "      background-color: #E8F0FE;\n",
              "      border: none;\n",
              "      border-radius: 50%;\n",
              "      cursor: pointer;\n",
              "      display: none;\n",
              "      fill: #1967D2;\n",
              "      height: 32px;\n",
              "      padding: 0 0 0 0;\n",
              "      width: 32px;\n",
              "    }\n",
              "\n",
              "    .colab-df-convert:hover {\n",
              "      background-color: #E2EBFA;\n",
              "      box-shadow: 0px 1px 2px rgba(60, 64, 67, 0.3), 0px 1px 3px 1px rgba(60, 64, 67, 0.15);\n",
              "      fill: #174EA6;\n",
              "    }\n",
              "\n",
              "    [theme=dark] .colab-df-convert {\n",
              "      background-color: #3B4455;\n",
              "      fill: #D2E3FC;\n",
              "    }\n",
              "\n",
              "    [theme=dark] .colab-df-convert:hover {\n",
              "      background-color: #434B5C;\n",
              "      box-shadow: 0px 1px 3px 1px rgba(0, 0, 0, 0.15);\n",
              "      filter: drop-shadow(0px 1px 2px rgba(0, 0, 0, 0.3));\n",
              "      fill: #FFFFFF;\n",
              "    }\n",
              "  </style>\n",
              "\n",
              "      <script>\n",
              "        const buttonEl =\n",
              "          document.querySelector('#df-2096a1ac-9928-433e-9de0-1281c0ec3189 button.colab-df-convert');\n",
              "        buttonEl.style.display =\n",
              "          google.colab.kernel.accessAllowed ? 'block' : 'none';\n",
              "\n",
              "        async function convertToInteractive(key) {\n",
              "          const element = document.querySelector('#df-2096a1ac-9928-433e-9de0-1281c0ec3189');\n",
              "          const dataTable =\n",
              "            await google.colab.kernel.invokeFunction('convertToInteractive',\n",
              "                                                     [key], {});\n",
              "          if (!dataTable) return;\n",
              "\n",
              "          const docLinkHtml = 'Like what you see? Visit the ' +\n",
              "            '<a target=\"_blank\" href=https://colab.research.google.com/notebooks/data_table.ipynb>data table notebook</a>'\n",
              "            + ' to learn more about interactive tables.';\n",
              "          element.innerHTML = '';\n",
              "          dataTable['output_type'] = 'display_data';\n",
              "          await google.colab.output.renderOutput(dataTable, element);\n",
              "          const docLink = document.createElement('div');\n",
              "          docLink.innerHTML = docLinkHtml;\n",
              "          element.appendChild(docLink);\n",
              "        }\n",
              "      </script>\n",
              "    </div>\n",
              "  </div>\n",
              "  "
            ]
          },
          "metadata": {},
          "execution_count": 9
        }
      ]
    },
    {
      "cell_type": "markdown",
      "source": [
        "## feature와 target의 구분"
      ],
      "metadata": {
        "id": "WA7ZuxOmjnBs"
      }
    },
    {
      "cell_type": "code",
      "source": [
        "# 컬럼명 수동지정\n",
        "features =['CRIM','ZN','INDUS','NOX','RM','AGE','DIS','RAD','TAX','PTRATIO','B','LSTAT']\n",
        "target = ['MEDV'] "
      ],
      "metadata": {
        "id": "JZBhNSnzkWWd"
      },
      "execution_count": null,
      "outputs": []
    },
    {
      "cell_type": "markdown",
      "source": [
        "위 데이터셋에서는 python_score에 영향을 주는 요인들로 CRIM, AGE, RM, NOX, TAX등의 다양한 변수들이 있는 것을 알 수 있음. 영향을 주는 것을 독립변수(양적변수)라 하고 영향을 받는 것을 종속변수(질적변수)라고 하는데 현 데이터에서는 종속변수를 'MEDV', 나머지 변수들을 독립변수로 지정한다."
      ],
      "metadata": {
        "id": "FeSW3O3_RCcp"
      }
    },
    {
      "cell_type": "code",
      "source": [
        "# 데이터 로드 확인\n",
        "print(Df.shape)            # 데이터의 가로세로수 확인\n",
        "print(Df.head())           # 데이터 앞부분(5개)확인\n",
        "print(Df.tail())           # 데이터 뒷부분(5개)확인"
      ],
      "metadata": {
        "colab": {
          "base_uri": "https://localhost:8080/"
        },
        "id": "SICQXQdgIcAB",
        "outputId": "c1b3d51b-fafa-4d19-b623-3007846bcd6a"
      },
      "execution_count": null,
      "outputs": [
        {
          "output_type": "stream",
          "name": "stdout",
          "text": [
            "(506, 14)\n",
            "   CRIM     ZN  INDUS  CHAS   NOX    RM    AGE   DIS   RAD     TAX  PTRATIO  \\\n",
            "0 0.006 18.000  2.310 0.000 0.538 6.575 65.200 4.090 1.000 296.000   15.300   \n",
            "1 0.027  0.000  7.070 0.000 0.469 6.421 78.900 4.967 2.000 242.000   17.800   \n",
            "2 0.027  0.000  7.070 0.000 0.469 7.185 61.100 4.967 2.000 242.000   17.800   \n",
            "3 0.032  0.000  2.180 0.000 0.458 6.998 45.800 6.062 3.000 222.000   18.700   \n",
            "4 0.069  0.000  2.180 0.000 0.458 7.147 54.200 6.062 3.000 222.000   18.700   \n",
            "\n",
            "        B  LSTAT   MEDV  \n",
            "0 396.900  4.980 24.000  \n",
            "1 396.900  9.140 21.600  \n",
            "2 392.830  4.030 34.700  \n",
            "3 394.630  2.940 33.400  \n",
            "4 396.900  5.330 36.200  \n",
            "     CRIM    ZN  INDUS  CHAS   NOX    RM    AGE   DIS   RAD     TAX  PTRATIO  \\\n",
            "501 0.063 0.000 11.930 0.000 0.573 6.593 69.100 2.479 1.000 273.000   21.000   \n",
            "502 0.045 0.000 11.930 0.000 0.573 6.120 76.700 2.288 1.000 273.000   21.000   \n",
            "503 0.061 0.000 11.930 0.000 0.573 6.976 91.000 2.167 1.000 273.000   21.000   \n",
            "504 0.110 0.000 11.930 0.000 0.573 6.794 89.300 2.389 1.000 273.000   21.000   \n",
            "505 0.047 0.000 11.930 0.000 0.573 6.030 80.800 2.505 1.000 273.000   21.000   \n",
            "\n",
            "          B  LSTAT   MEDV  \n",
            "501 391.990  9.670 22.400  \n",
            "502 396.900  9.080 20.600  \n",
            "503 396.900  5.640 23.900  \n",
            "504 393.450  6.480 22.000  \n",
            "505 396.900  7.880 11.900  \n"
          ]
        }
      ]
    },
    {
      "cell_type": "code",
      "source": [
        "Df_dt = pd.DataFrame(Df) # 데이터 한눈에 보기\n",
        "Df_dt.head(3)"
      ],
      "metadata": {
        "colab": {
          "base_uri": "https://localhost:8080/",
          "height": 143
        },
        "id": "0upSj1EpTQbR",
        "outputId": "c3653619-35b5-4075-bafe-0972949c123a"
      },
      "execution_count": null,
      "outputs": [
        {
          "output_type": "execute_result",
          "data": {
            "text/plain": [
              "   CRIM     ZN  INDUS  CHAS   NOX    RM    AGE   DIS   RAD     TAX  PTRATIO  \\\n",
              "0 0.006 18.000  2.310 0.000 0.538 6.575 65.200 4.090 1.000 296.000   15.300   \n",
              "1 0.027  0.000  7.070 0.000 0.469 6.421 78.900 4.967 2.000 242.000   17.800   \n",
              "2 0.027  0.000  7.070 0.000 0.469 7.185 61.100 4.967 2.000 242.000   17.800   \n",
              "\n",
              "        B  LSTAT   MEDV  \n",
              "0 396.900  4.980 24.000  \n",
              "1 396.900  9.140 21.600  \n",
              "2 392.830  4.030 34.700  "
            ],
            "text/html": [
              "\n",
              "  <div id=\"df-caf18b20-b20b-41f5-a77f-e3c04595c71c\">\n",
              "    <div class=\"colab-df-container\">\n",
              "      <div>\n",
              "<style scoped>\n",
              "    .dataframe tbody tr th:only-of-type {\n",
              "        vertical-align: middle;\n",
              "    }\n",
              "\n",
              "    .dataframe tbody tr th {\n",
              "        vertical-align: top;\n",
              "    }\n",
              "\n",
              "    .dataframe thead th {\n",
              "        text-align: right;\n",
              "    }\n",
              "</style>\n",
              "<table border=\"1\" class=\"dataframe\">\n",
              "  <thead>\n",
              "    <tr style=\"text-align: right;\">\n",
              "      <th></th>\n",
              "      <th>CRIM</th>\n",
              "      <th>ZN</th>\n",
              "      <th>INDUS</th>\n",
              "      <th>CHAS</th>\n",
              "      <th>NOX</th>\n",
              "      <th>RM</th>\n",
              "      <th>AGE</th>\n",
              "      <th>DIS</th>\n",
              "      <th>RAD</th>\n",
              "      <th>TAX</th>\n",
              "      <th>PTRATIO</th>\n",
              "      <th>B</th>\n",
              "      <th>LSTAT</th>\n",
              "      <th>MEDV</th>\n",
              "    </tr>\n",
              "  </thead>\n",
              "  <tbody>\n",
              "    <tr>\n",
              "      <th>0</th>\n",
              "      <td>0.006</td>\n",
              "      <td>18.000</td>\n",
              "      <td>2.310</td>\n",
              "      <td>0.000</td>\n",
              "      <td>0.538</td>\n",
              "      <td>6.575</td>\n",
              "      <td>65.200</td>\n",
              "      <td>4.090</td>\n",
              "      <td>1.000</td>\n",
              "      <td>296.000</td>\n",
              "      <td>15.300</td>\n",
              "      <td>396.900</td>\n",
              "      <td>4.980</td>\n",
              "      <td>24.000</td>\n",
              "    </tr>\n",
              "    <tr>\n",
              "      <th>1</th>\n",
              "      <td>0.027</td>\n",
              "      <td>0.000</td>\n",
              "      <td>7.070</td>\n",
              "      <td>0.000</td>\n",
              "      <td>0.469</td>\n",
              "      <td>6.421</td>\n",
              "      <td>78.900</td>\n",
              "      <td>4.967</td>\n",
              "      <td>2.000</td>\n",
              "      <td>242.000</td>\n",
              "      <td>17.800</td>\n",
              "      <td>396.900</td>\n",
              "      <td>9.140</td>\n",
              "      <td>21.600</td>\n",
              "    </tr>\n",
              "    <tr>\n",
              "      <th>2</th>\n",
              "      <td>0.027</td>\n",
              "      <td>0.000</td>\n",
              "      <td>7.070</td>\n",
              "      <td>0.000</td>\n",
              "      <td>0.469</td>\n",
              "      <td>7.185</td>\n",
              "      <td>61.100</td>\n",
              "      <td>4.967</td>\n",
              "      <td>2.000</td>\n",
              "      <td>242.000</td>\n",
              "      <td>17.800</td>\n",
              "      <td>392.830</td>\n",
              "      <td>4.030</td>\n",
              "      <td>34.700</td>\n",
              "    </tr>\n",
              "  </tbody>\n",
              "</table>\n",
              "</div>\n",
              "      <button class=\"colab-df-convert\" onclick=\"convertToInteractive('df-caf18b20-b20b-41f5-a77f-e3c04595c71c')\"\n",
              "              title=\"Convert this dataframe to an interactive table.\"\n",
              "              style=\"display:none;\">\n",
              "        \n",
              "  <svg xmlns=\"http://www.w3.org/2000/svg\" height=\"24px\"viewBox=\"0 0 24 24\"\n",
              "       width=\"24px\">\n",
              "    <path d=\"M0 0h24v24H0V0z\" fill=\"none\"/>\n",
              "    <path d=\"M18.56 5.44l.94 2.06.94-2.06 2.06-.94-2.06-.94-.94-2.06-.94 2.06-2.06.94zm-11 1L8.5 8.5l.94-2.06 2.06-.94-2.06-.94L8.5 2.5l-.94 2.06-2.06.94zm10 10l.94 2.06.94-2.06 2.06-.94-2.06-.94-.94-2.06-.94 2.06-2.06.94z\"/><path d=\"M17.41 7.96l-1.37-1.37c-.4-.4-.92-.59-1.43-.59-.52 0-1.04.2-1.43.59L10.3 9.45l-7.72 7.72c-.78.78-.78 2.05 0 2.83L4 21.41c.39.39.9.59 1.41.59.51 0 1.02-.2 1.41-.59l7.78-7.78 2.81-2.81c.8-.78.8-2.07 0-2.86zM5.41 20L4 18.59l7.72-7.72 1.47 1.35L5.41 20z\"/>\n",
              "  </svg>\n",
              "      </button>\n",
              "      \n",
              "  <style>\n",
              "    .colab-df-container {\n",
              "      display:flex;\n",
              "      flex-wrap:wrap;\n",
              "      gap: 12px;\n",
              "    }\n",
              "\n",
              "    .colab-df-convert {\n",
              "      background-color: #E8F0FE;\n",
              "      border: none;\n",
              "      border-radius: 50%;\n",
              "      cursor: pointer;\n",
              "      display: none;\n",
              "      fill: #1967D2;\n",
              "      height: 32px;\n",
              "      padding: 0 0 0 0;\n",
              "      width: 32px;\n",
              "    }\n",
              "\n",
              "    .colab-df-convert:hover {\n",
              "      background-color: #E2EBFA;\n",
              "      box-shadow: 0px 1px 2px rgba(60, 64, 67, 0.3), 0px 1px 3px 1px rgba(60, 64, 67, 0.15);\n",
              "      fill: #174EA6;\n",
              "    }\n",
              "\n",
              "    [theme=dark] .colab-df-convert {\n",
              "      background-color: #3B4455;\n",
              "      fill: #D2E3FC;\n",
              "    }\n",
              "\n",
              "    [theme=dark] .colab-df-convert:hover {\n",
              "      background-color: #434B5C;\n",
              "      box-shadow: 0px 1px 3px 1px rgba(0, 0, 0, 0.15);\n",
              "      filter: drop-shadow(0px 1px 2px rgba(0, 0, 0, 0.3));\n",
              "      fill: #FFFFFF;\n",
              "    }\n",
              "  </style>\n",
              "\n",
              "      <script>\n",
              "        const buttonEl =\n",
              "          document.querySelector('#df-caf18b20-b20b-41f5-a77f-e3c04595c71c button.colab-df-convert');\n",
              "        buttonEl.style.display =\n",
              "          google.colab.kernel.accessAllowed ? 'block' : 'none';\n",
              "\n",
              "        async function convertToInteractive(key) {\n",
              "          const element = document.querySelector('#df-caf18b20-b20b-41f5-a77f-e3c04595c71c');\n",
              "          const dataTable =\n",
              "            await google.colab.kernel.invokeFunction('convertToInteractive',\n",
              "                                                     [key], {});\n",
              "          if (!dataTable) return;\n",
              "\n",
              "          const docLinkHtml = 'Like what you see? Visit the ' +\n",
              "            '<a target=\"_blank\" href=https://colab.research.google.com/notebooks/data_table.ipynb>data table notebook</a>'\n",
              "            + ' to learn more about interactive tables.';\n",
              "          element.innerHTML = '';\n",
              "          dataTable['output_type'] = 'display_data';\n",
              "          await google.colab.output.renderOutput(dataTable, element);\n",
              "          const docLink = document.createElement('div');\n",
              "          docLink.innerHTML = docLinkHtml;\n",
              "          element.appendChild(docLink);\n",
              "        }\n",
              "      </script>\n",
              "    </div>\n",
              "  </div>\n",
              "  "
            ]
          },
          "metadata": {},
          "execution_count": 13
        }
      ]
    },
    {
      "cell_type": "code",
      "source": [
        "Df['INDUS'].value_counts()"
      ],
      "metadata": {
        "colab": {
          "base_uri": "https://localhost:8080/"
        },
        "id": "IRCOzZjqwwkE",
        "outputId": "4f4be1f1-ac13-4a45-d095-68e40424d553"
      },
      "execution_count": null,
      "outputs": [
        {
          "output_type": "execute_result",
          "data": {
            "text/plain": [
              "18.100    132\n",
              "19.580     30\n",
              "8.140      22\n",
              "6.200      18\n",
              "21.890     15\n",
              "         ... \n",
              "1.210       1\n",
              "1.380       1\n",
              "3.750       1\n",
              "0.460       1\n",
              "2.310       1\n",
              "Name: INDUS, Length: 76, dtype: int64"
            ]
          },
          "metadata": {},
          "execution_count": 14
        }
      ]
    },
    {
      "cell_type": "code",
      "source": [
        "# 문자형식으로 코딩된 질적변수를 더미변수로 코딩\n",
        "Df_dummy = pd.get_dummies(Df, drop_first=True) # 기준변수를 0으로 만들어줌\n",
        "Df_dummy.head()"
      ],
      "metadata": {
        "colab": {
          "base_uri": "https://localhost:8080/",
          "height": 206
        },
        "id": "DrVpz5ILtuN9",
        "outputId": "4b58a6a7-e605-4661-942e-eb3cc0979cc7"
      },
      "execution_count": null,
      "outputs": [
        {
          "output_type": "execute_result",
          "data": {
            "text/plain": [
              "   CRIM     ZN  INDUS  CHAS   NOX    RM    AGE   DIS   RAD     TAX  PTRATIO  \\\n",
              "0 0.006 18.000  2.310 0.000 0.538 6.575 65.200 4.090 1.000 296.000   15.300   \n",
              "1 0.027  0.000  7.070 0.000 0.469 6.421 78.900 4.967 2.000 242.000   17.800   \n",
              "2 0.027  0.000  7.070 0.000 0.469 7.185 61.100 4.967 2.000 242.000   17.800   \n",
              "3 0.032  0.000  2.180 0.000 0.458 6.998 45.800 6.062 3.000 222.000   18.700   \n",
              "4 0.069  0.000  2.180 0.000 0.458 7.147 54.200 6.062 3.000 222.000   18.700   \n",
              "\n",
              "        B  LSTAT   MEDV  \n",
              "0 396.900  4.980 24.000  \n",
              "1 396.900  9.140 21.600  \n",
              "2 392.830  4.030 34.700  \n",
              "3 394.630  2.940 33.400  \n",
              "4 396.900  5.330 36.200  "
            ],
            "text/html": [
              "\n",
              "  <div id=\"df-9ac21070-bd10-4b50-bd87-6dc53054d08c\">\n",
              "    <div class=\"colab-df-container\">\n",
              "      <div>\n",
              "<style scoped>\n",
              "    .dataframe tbody tr th:only-of-type {\n",
              "        vertical-align: middle;\n",
              "    }\n",
              "\n",
              "    .dataframe tbody tr th {\n",
              "        vertical-align: top;\n",
              "    }\n",
              "\n",
              "    .dataframe thead th {\n",
              "        text-align: right;\n",
              "    }\n",
              "</style>\n",
              "<table border=\"1\" class=\"dataframe\">\n",
              "  <thead>\n",
              "    <tr style=\"text-align: right;\">\n",
              "      <th></th>\n",
              "      <th>CRIM</th>\n",
              "      <th>ZN</th>\n",
              "      <th>INDUS</th>\n",
              "      <th>CHAS</th>\n",
              "      <th>NOX</th>\n",
              "      <th>RM</th>\n",
              "      <th>AGE</th>\n",
              "      <th>DIS</th>\n",
              "      <th>RAD</th>\n",
              "      <th>TAX</th>\n",
              "      <th>PTRATIO</th>\n",
              "      <th>B</th>\n",
              "      <th>LSTAT</th>\n",
              "      <th>MEDV</th>\n",
              "    </tr>\n",
              "  </thead>\n",
              "  <tbody>\n",
              "    <tr>\n",
              "      <th>0</th>\n",
              "      <td>0.006</td>\n",
              "      <td>18.000</td>\n",
              "      <td>2.310</td>\n",
              "      <td>0.000</td>\n",
              "      <td>0.538</td>\n",
              "      <td>6.575</td>\n",
              "      <td>65.200</td>\n",
              "      <td>4.090</td>\n",
              "      <td>1.000</td>\n",
              "      <td>296.000</td>\n",
              "      <td>15.300</td>\n",
              "      <td>396.900</td>\n",
              "      <td>4.980</td>\n",
              "      <td>24.000</td>\n",
              "    </tr>\n",
              "    <tr>\n",
              "      <th>1</th>\n",
              "      <td>0.027</td>\n",
              "      <td>0.000</td>\n",
              "      <td>7.070</td>\n",
              "      <td>0.000</td>\n",
              "      <td>0.469</td>\n",
              "      <td>6.421</td>\n",
              "      <td>78.900</td>\n",
              "      <td>4.967</td>\n",
              "      <td>2.000</td>\n",
              "      <td>242.000</td>\n",
              "      <td>17.800</td>\n",
              "      <td>396.900</td>\n",
              "      <td>9.140</td>\n",
              "      <td>21.600</td>\n",
              "    </tr>\n",
              "    <tr>\n",
              "      <th>2</th>\n",
              "      <td>0.027</td>\n",
              "      <td>0.000</td>\n",
              "      <td>7.070</td>\n",
              "      <td>0.000</td>\n",
              "      <td>0.469</td>\n",
              "      <td>7.185</td>\n",
              "      <td>61.100</td>\n",
              "      <td>4.967</td>\n",
              "      <td>2.000</td>\n",
              "      <td>242.000</td>\n",
              "      <td>17.800</td>\n",
              "      <td>392.830</td>\n",
              "      <td>4.030</td>\n",
              "      <td>34.700</td>\n",
              "    </tr>\n",
              "    <tr>\n",
              "      <th>3</th>\n",
              "      <td>0.032</td>\n",
              "      <td>0.000</td>\n",
              "      <td>2.180</td>\n",
              "      <td>0.000</td>\n",
              "      <td>0.458</td>\n",
              "      <td>6.998</td>\n",
              "      <td>45.800</td>\n",
              "      <td>6.062</td>\n",
              "      <td>3.000</td>\n",
              "      <td>222.000</td>\n",
              "      <td>18.700</td>\n",
              "      <td>394.630</td>\n",
              "      <td>2.940</td>\n",
              "      <td>33.400</td>\n",
              "    </tr>\n",
              "    <tr>\n",
              "      <th>4</th>\n",
              "      <td>0.069</td>\n",
              "      <td>0.000</td>\n",
              "      <td>2.180</td>\n",
              "      <td>0.000</td>\n",
              "      <td>0.458</td>\n",
              "      <td>7.147</td>\n",
              "      <td>54.200</td>\n",
              "      <td>6.062</td>\n",
              "      <td>3.000</td>\n",
              "      <td>222.000</td>\n",
              "      <td>18.700</td>\n",
              "      <td>396.900</td>\n",
              "      <td>5.330</td>\n",
              "      <td>36.200</td>\n",
              "    </tr>\n",
              "  </tbody>\n",
              "</table>\n",
              "</div>\n",
              "      <button class=\"colab-df-convert\" onclick=\"convertToInteractive('df-9ac21070-bd10-4b50-bd87-6dc53054d08c')\"\n",
              "              title=\"Convert this dataframe to an interactive table.\"\n",
              "              style=\"display:none;\">\n",
              "        \n",
              "  <svg xmlns=\"http://www.w3.org/2000/svg\" height=\"24px\"viewBox=\"0 0 24 24\"\n",
              "       width=\"24px\">\n",
              "    <path d=\"M0 0h24v24H0V0z\" fill=\"none\"/>\n",
              "    <path d=\"M18.56 5.44l.94 2.06.94-2.06 2.06-.94-2.06-.94-.94-2.06-.94 2.06-2.06.94zm-11 1L8.5 8.5l.94-2.06 2.06-.94-2.06-.94L8.5 2.5l-.94 2.06-2.06.94zm10 10l.94 2.06.94-2.06 2.06-.94-2.06-.94-.94-2.06-.94 2.06-2.06.94z\"/><path d=\"M17.41 7.96l-1.37-1.37c-.4-.4-.92-.59-1.43-.59-.52 0-1.04.2-1.43.59L10.3 9.45l-7.72 7.72c-.78.78-.78 2.05 0 2.83L4 21.41c.39.39.9.59 1.41.59.51 0 1.02-.2 1.41-.59l7.78-7.78 2.81-2.81c.8-.78.8-2.07 0-2.86zM5.41 20L4 18.59l7.72-7.72 1.47 1.35L5.41 20z\"/>\n",
              "  </svg>\n",
              "      </button>\n",
              "      \n",
              "  <style>\n",
              "    .colab-df-container {\n",
              "      display:flex;\n",
              "      flex-wrap:wrap;\n",
              "      gap: 12px;\n",
              "    }\n",
              "\n",
              "    .colab-df-convert {\n",
              "      background-color: #E8F0FE;\n",
              "      border: none;\n",
              "      border-radius: 50%;\n",
              "      cursor: pointer;\n",
              "      display: none;\n",
              "      fill: #1967D2;\n",
              "      height: 32px;\n",
              "      padding: 0 0 0 0;\n",
              "      width: 32px;\n",
              "    }\n",
              "\n",
              "    .colab-df-convert:hover {\n",
              "      background-color: #E2EBFA;\n",
              "      box-shadow: 0px 1px 2px rgba(60, 64, 67, 0.3), 0px 1px 3px 1px rgba(60, 64, 67, 0.15);\n",
              "      fill: #174EA6;\n",
              "    }\n",
              "\n",
              "    [theme=dark] .colab-df-convert {\n",
              "      background-color: #3B4455;\n",
              "      fill: #D2E3FC;\n",
              "    }\n",
              "\n",
              "    [theme=dark] .colab-df-convert:hover {\n",
              "      background-color: #434B5C;\n",
              "      box-shadow: 0px 1px 3px 1px rgba(0, 0, 0, 0.15);\n",
              "      filter: drop-shadow(0px 1px 2px rgba(0, 0, 0, 0.3));\n",
              "      fill: #FFFFFF;\n",
              "    }\n",
              "  </style>\n",
              "\n",
              "      <script>\n",
              "        const buttonEl =\n",
              "          document.querySelector('#df-9ac21070-bd10-4b50-bd87-6dc53054d08c button.colab-df-convert');\n",
              "        buttonEl.style.display =\n",
              "          google.colab.kernel.accessAllowed ? 'block' : 'none';\n",
              "\n",
              "        async function convertToInteractive(key) {\n",
              "          const element = document.querySelector('#df-9ac21070-bd10-4b50-bd87-6dc53054d08c');\n",
              "          const dataTable =\n",
              "            await google.colab.kernel.invokeFunction('convertToInteractive',\n",
              "                                                     [key], {});\n",
              "          if (!dataTable) return;\n",
              "\n",
              "          const docLinkHtml = 'Like what you see? Visit the ' +\n",
              "            '<a target=\"_blank\" href=https://colab.research.google.com/notebooks/data_table.ipynb>data table notebook</a>'\n",
              "            + ' to learn more about interactive tables.';\n",
              "          element.innerHTML = '';\n",
              "          dataTable['output_type'] = 'display_data';\n",
              "          await google.colab.output.renderOutput(dataTable, element);\n",
              "          const docLink = document.createElement('div');\n",
              "          docLink.innerHTML = docLinkHtml;\n",
              "          element.appendChild(docLink);\n",
              "        }\n",
              "      </script>\n",
              "    </div>\n",
              "  </div>\n",
              "  "
            ]
          },
          "metadata": {},
          "execution_count": 15
        }
      ]
    },
    {
      "cell_type": "code",
      "source": [
        "Df_dummy.columns"
      ],
      "metadata": {
        "colab": {
          "base_uri": "https://localhost:8080/"
        },
        "id": "b3ShBUqntwu8",
        "outputId": "4c257d63-1792-46a8-d47e-efd4aee06726"
      },
      "execution_count": null,
      "outputs": [
        {
          "output_type": "execute_result",
          "data": {
            "text/plain": [
              "Index(['CRIM', 'ZN', 'INDUS', 'CHAS', 'NOX', 'RM', 'AGE', 'DIS', 'RAD', 'TAX',\n",
              "       'PTRATIO', 'B', 'LSTAT', 'MEDV'],\n",
              "      dtype='object')"
            ]
          },
          "metadata": {},
          "execution_count": 16
        }
      ]
    },
    {
      "cell_type": "code",
      "source": [
        "Df_dummy"
      ],
      "metadata": {
        "colab": {
          "base_uri": "https://localhost:8080/",
          "height": 424
        },
        "id": "gs0c-ty-u3F5",
        "outputId": "0024ba47-c961-493d-ba4a-3b237c7e1672"
      },
      "execution_count": null,
      "outputs": [
        {
          "output_type": "execute_result",
          "data": {
            "text/plain": [
              "     CRIM     ZN  INDUS  CHAS   NOX    RM    AGE   DIS   RAD     TAX  PTRATIO  \\\n",
              "0   0.006 18.000  2.310 0.000 0.538 6.575 65.200 4.090 1.000 296.000   15.300   \n",
              "1   0.027  0.000  7.070 0.000 0.469 6.421 78.900 4.967 2.000 242.000   17.800   \n",
              "2   0.027  0.000  7.070 0.000 0.469 7.185 61.100 4.967 2.000 242.000   17.800   \n",
              "3   0.032  0.000  2.180 0.000 0.458 6.998 45.800 6.062 3.000 222.000   18.700   \n",
              "4   0.069  0.000  2.180 0.000 0.458 7.147 54.200 6.062 3.000 222.000   18.700   \n",
              "..    ...    ...    ...   ...   ...   ...    ...   ...   ...     ...      ...   \n",
              "501 0.063  0.000 11.930 0.000 0.573 6.593 69.100 2.479 1.000 273.000   21.000   \n",
              "502 0.045  0.000 11.930 0.000 0.573 6.120 76.700 2.288 1.000 273.000   21.000   \n",
              "503 0.061  0.000 11.930 0.000 0.573 6.976 91.000 2.167 1.000 273.000   21.000   \n",
              "504 0.110  0.000 11.930 0.000 0.573 6.794 89.300 2.389 1.000 273.000   21.000   \n",
              "505 0.047  0.000 11.930 0.000 0.573 6.030 80.800 2.505 1.000 273.000   21.000   \n",
              "\n",
              "          B  LSTAT   MEDV  \n",
              "0   396.900  4.980 24.000  \n",
              "1   396.900  9.140 21.600  \n",
              "2   392.830  4.030 34.700  \n",
              "3   394.630  2.940 33.400  \n",
              "4   396.900  5.330 36.200  \n",
              "..      ...    ...    ...  \n",
              "501 391.990  9.670 22.400  \n",
              "502 396.900  9.080 20.600  \n",
              "503 396.900  5.640 23.900  \n",
              "504 393.450  6.480 22.000  \n",
              "505 396.900  7.880 11.900  \n",
              "\n",
              "[506 rows x 14 columns]"
            ],
            "text/html": [
              "\n",
              "  <div id=\"df-af9f61e1-3788-4053-b46b-9767718ec924\">\n",
              "    <div class=\"colab-df-container\">\n",
              "      <div>\n",
              "<style scoped>\n",
              "    .dataframe tbody tr th:only-of-type {\n",
              "        vertical-align: middle;\n",
              "    }\n",
              "\n",
              "    .dataframe tbody tr th {\n",
              "        vertical-align: top;\n",
              "    }\n",
              "\n",
              "    .dataframe thead th {\n",
              "        text-align: right;\n",
              "    }\n",
              "</style>\n",
              "<table border=\"1\" class=\"dataframe\">\n",
              "  <thead>\n",
              "    <tr style=\"text-align: right;\">\n",
              "      <th></th>\n",
              "      <th>CRIM</th>\n",
              "      <th>ZN</th>\n",
              "      <th>INDUS</th>\n",
              "      <th>CHAS</th>\n",
              "      <th>NOX</th>\n",
              "      <th>RM</th>\n",
              "      <th>AGE</th>\n",
              "      <th>DIS</th>\n",
              "      <th>RAD</th>\n",
              "      <th>TAX</th>\n",
              "      <th>PTRATIO</th>\n",
              "      <th>B</th>\n",
              "      <th>LSTAT</th>\n",
              "      <th>MEDV</th>\n",
              "    </tr>\n",
              "  </thead>\n",
              "  <tbody>\n",
              "    <tr>\n",
              "      <th>0</th>\n",
              "      <td>0.006</td>\n",
              "      <td>18.000</td>\n",
              "      <td>2.310</td>\n",
              "      <td>0.000</td>\n",
              "      <td>0.538</td>\n",
              "      <td>6.575</td>\n",
              "      <td>65.200</td>\n",
              "      <td>4.090</td>\n",
              "      <td>1.000</td>\n",
              "      <td>296.000</td>\n",
              "      <td>15.300</td>\n",
              "      <td>396.900</td>\n",
              "      <td>4.980</td>\n",
              "      <td>24.000</td>\n",
              "    </tr>\n",
              "    <tr>\n",
              "      <th>1</th>\n",
              "      <td>0.027</td>\n",
              "      <td>0.000</td>\n",
              "      <td>7.070</td>\n",
              "      <td>0.000</td>\n",
              "      <td>0.469</td>\n",
              "      <td>6.421</td>\n",
              "      <td>78.900</td>\n",
              "      <td>4.967</td>\n",
              "      <td>2.000</td>\n",
              "      <td>242.000</td>\n",
              "      <td>17.800</td>\n",
              "      <td>396.900</td>\n",
              "      <td>9.140</td>\n",
              "      <td>21.600</td>\n",
              "    </tr>\n",
              "    <tr>\n",
              "      <th>2</th>\n",
              "      <td>0.027</td>\n",
              "      <td>0.000</td>\n",
              "      <td>7.070</td>\n",
              "      <td>0.000</td>\n",
              "      <td>0.469</td>\n",
              "      <td>7.185</td>\n",
              "      <td>61.100</td>\n",
              "      <td>4.967</td>\n",
              "      <td>2.000</td>\n",
              "      <td>242.000</td>\n",
              "      <td>17.800</td>\n",
              "      <td>392.830</td>\n",
              "      <td>4.030</td>\n",
              "      <td>34.700</td>\n",
              "    </tr>\n",
              "    <tr>\n",
              "      <th>3</th>\n",
              "      <td>0.032</td>\n",
              "      <td>0.000</td>\n",
              "      <td>2.180</td>\n",
              "      <td>0.000</td>\n",
              "      <td>0.458</td>\n",
              "      <td>6.998</td>\n",
              "      <td>45.800</td>\n",
              "      <td>6.062</td>\n",
              "      <td>3.000</td>\n",
              "      <td>222.000</td>\n",
              "      <td>18.700</td>\n",
              "      <td>394.630</td>\n",
              "      <td>2.940</td>\n",
              "      <td>33.400</td>\n",
              "    </tr>\n",
              "    <tr>\n",
              "      <th>4</th>\n",
              "      <td>0.069</td>\n",
              "      <td>0.000</td>\n",
              "      <td>2.180</td>\n",
              "      <td>0.000</td>\n",
              "      <td>0.458</td>\n",
              "      <td>7.147</td>\n",
              "      <td>54.200</td>\n",
              "      <td>6.062</td>\n",
              "      <td>3.000</td>\n",
              "      <td>222.000</td>\n",
              "      <td>18.700</td>\n",
              "      <td>396.900</td>\n",
              "      <td>5.330</td>\n",
              "      <td>36.200</td>\n",
              "    </tr>\n",
              "    <tr>\n",
              "      <th>...</th>\n",
              "      <td>...</td>\n",
              "      <td>...</td>\n",
              "      <td>...</td>\n",
              "      <td>...</td>\n",
              "      <td>...</td>\n",
              "      <td>...</td>\n",
              "      <td>...</td>\n",
              "      <td>...</td>\n",
              "      <td>...</td>\n",
              "      <td>...</td>\n",
              "      <td>...</td>\n",
              "      <td>...</td>\n",
              "      <td>...</td>\n",
              "      <td>...</td>\n",
              "    </tr>\n",
              "    <tr>\n",
              "      <th>501</th>\n",
              "      <td>0.063</td>\n",
              "      <td>0.000</td>\n",
              "      <td>11.930</td>\n",
              "      <td>0.000</td>\n",
              "      <td>0.573</td>\n",
              "      <td>6.593</td>\n",
              "      <td>69.100</td>\n",
              "      <td>2.479</td>\n",
              "      <td>1.000</td>\n",
              "      <td>273.000</td>\n",
              "      <td>21.000</td>\n",
              "      <td>391.990</td>\n",
              "      <td>9.670</td>\n",
              "      <td>22.400</td>\n",
              "    </tr>\n",
              "    <tr>\n",
              "      <th>502</th>\n",
              "      <td>0.045</td>\n",
              "      <td>0.000</td>\n",
              "      <td>11.930</td>\n",
              "      <td>0.000</td>\n",
              "      <td>0.573</td>\n",
              "      <td>6.120</td>\n",
              "      <td>76.700</td>\n",
              "      <td>2.288</td>\n",
              "      <td>1.000</td>\n",
              "      <td>273.000</td>\n",
              "      <td>21.000</td>\n",
              "      <td>396.900</td>\n",
              "      <td>9.080</td>\n",
              "      <td>20.600</td>\n",
              "    </tr>\n",
              "    <tr>\n",
              "      <th>503</th>\n",
              "      <td>0.061</td>\n",
              "      <td>0.000</td>\n",
              "      <td>11.930</td>\n",
              "      <td>0.000</td>\n",
              "      <td>0.573</td>\n",
              "      <td>6.976</td>\n",
              "      <td>91.000</td>\n",
              "      <td>2.167</td>\n",
              "      <td>1.000</td>\n",
              "      <td>273.000</td>\n",
              "      <td>21.000</td>\n",
              "      <td>396.900</td>\n",
              "      <td>5.640</td>\n",
              "      <td>23.900</td>\n",
              "    </tr>\n",
              "    <tr>\n",
              "      <th>504</th>\n",
              "      <td>0.110</td>\n",
              "      <td>0.000</td>\n",
              "      <td>11.930</td>\n",
              "      <td>0.000</td>\n",
              "      <td>0.573</td>\n",
              "      <td>6.794</td>\n",
              "      <td>89.300</td>\n",
              "      <td>2.389</td>\n",
              "      <td>1.000</td>\n",
              "      <td>273.000</td>\n",
              "      <td>21.000</td>\n",
              "      <td>393.450</td>\n",
              "      <td>6.480</td>\n",
              "      <td>22.000</td>\n",
              "    </tr>\n",
              "    <tr>\n",
              "      <th>505</th>\n",
              "      <td>0.047</td>\n",
              "      <td>0.000</td>\n",
              "      <td>11.930</td>\n",
              "      <td>0.000</td>\n",
              "      <td>0.573</td>\n",
              "      <td>6.030</td>\n",
              "      <td>80.800</td>\n",
              "      <td>2.505</td>\n",
              "      <td>1.000</td>\n",
              "      <td>273.000</td>\n",
              "      <td>21.000</td>\n",
              "      <td>396.900</td>\n",
              "      <td>7.880</td>\n",
              "      <td>11.900</td>\n",
              "    </tr>\n",
              "  </tbody>\n",
              "</table>\n",
              "<p>506 rows × 14 columns</p>\n",
              "</div>\n",
              "      <button class=\"colab-df-convert\" onclick=\"convertToInteractive('df-af9f61e1-3788-4053-b46b-9767718ec924')\"\n",
              "              title=\"Convert this dataframe to an interactive table.\"\n",
              "              style=\"display:none;\">\n",
              "        \n",
              "  <svg xmlns=\"http://www.w3.org/2000/svg\" height=\"24px\"viewBox=\"0 0 24 24\"\n",
              "       width=\"24px\">\n",
              "    <path d=\"M0 0h24v24H0V0z\" fill=\"none\"/>\n",
              "    <path d=\"M18.56 5.44l.94 2.06.94-2.06 2.06-.94-2.06-.94-.94-2.06-.94 2.06-2.06.94zm-11 1L8.5 8.5l.94-2.06 2.06-.94-2.06-.94L8.5 2.5l-.94 2.06-2.06.94zm10 10l.94 2.06.94-2.06 2.06-.94-2.06-.94-.94-2.06-.94 2.06-2.06.94z\"/><path d=\"M17.41 7.96l-1.37-1.37c-.4-.4-.92-.59-1.43-.59-.52 0-1.04.2-1.43.59L10.3 9.45l-7.72 7.72c-.78.78-.78 2.05 0 2.83L4 21.41c.39.39.9.59 1.41.59.51 0 1.02-.2 1.41-.59l7.78-7.78 2.81-2.81c.8-.78.8-2.07 0-2.86zM5.41 20L4 18.59l7.72-7.72 1.47 1.35L5.41 20z\"/>\n",
              "  </svg>\n",
              "      </button>\n",
              "      \n",
              "  <style>\n",
              "    .colab-df-container {\n",
              "      display:flex;\n",
              "      flex-wrap:wrap;\n",
              "      gap: 12px;\n",
              "    }\n",
              "\n",
              "    .colab-df-convert {\n",
              "      background-color: #E8F0FE;\n",
              "      border: none;\n",
              "      border-radius: 50%;\n",
              "      cursor: pointer;\n",
              "      display: none;\n",
              "      fill: #1967D2;\n",
              "      height: 32px;\n",
              "      padding: 0 0 0 0;\n",
              "      width: 32px;\n",
              "    }\n",
              "\n",
              "    .colab-df-convert:hover {\n",
              "      background-color: #E2EBFA;\n",
              "      box-shadow: 0px 1px 2px rgba(60, 64, 67, 0.3), 0px 1px 3px 1px rgba(60, 64, 67, 0.15);\n",
              "      fill: #174EA6;\n",
              "    }\n",
              "\n",
              "    [theme=dark] .colab-df-convert {\n",
              "      background-color: #3B4455;\n",
              "      fill: #D2E3FC;\n",
              "    }\n",
              "\n",
              "    [theme=dark] .colab-df-convert:hover {\n",
              "      background-color: #434B5C;\n",
              "      box-shadow: 0px 1px 3px 1px rgba(0, 0, 0, 0.15);\n",
              "      filter: drop-shadow(0px 1px 2px rgba(0, 0, 0, 0.3));\n",
              "      fill: #FFFFFF;\n",
              "    }\n",
              "  </style>\n",
              "\n",
              "      <script>\n",
              "        const buttonEl =\n",
              "          document.querySelector('#df-af9f61e1-3788-4053-b46b-9767718ec924 button.colab-df-convert');\n",
              "        buttonEl.style.display =\n",
              "          google.colab.kernel.accessAllowed ? 'block' : 'none';\n",
              "\n",
              "        async function convertToInteractive(key) {\n",
              "          const element = document.querySelector('#df-af9f61e1-3788-4053-b46b-9767718ec924');\n",
              "          const dataTable =\n",
              "            await google.colab.kernel.invokeFunction('convertToInteractive',\n",
              "                                                     [key], {});\n",
              "          if (!dataTable) return;\n",
              "\n",
              "          const docLinkHtml = 'Like what you see? Visit the ' +\n",
              "            '<a target=\"_blank\" href=https://colab.research.google.com/notebooks/data_table.ipynb>data table notebook</a>'\n",
              "            + ' to learn more about interactive tables.';\n",
              "          element.innerHTML = '';\n",
              "          dataTable['output_type'] = 'display_data';\n",
              "          await google.colab.output.renderOutput(dataTable, element);\n",
              "          const docLink = document.createElement('div');\n",
              "          docLink.innerHTML = docLinkHtml;\n",
              "          element.appendChild(docLink);\n",
              "        }\n",
              "      </script>\n",
              "    </div>\n",
              "  </div>\n",
              "  "
            ]
          },
          "metadata": {},
          "execution_count": 17
        }
      ]
    },
    {
      "cell_type": "code",
      "source": [
        "target_dummy = Df_dummy.drop(['CRIM','ZN', 'INDUS', 'CHAS', 'NOX', 'RM', 'AGE', 'DIS', 'RAD', 'TAX',\n",
        "       'PTRATIO', 'B', 'LSTAT'], axis=1)"
      ],
      "metadata": {
        "id": "7XOC2O9RuisO"
      },
      "execution_count": null,
      "outputs": []
    },
    {
      "cell_type": "code",
      "source": [
        "target_dummy"
      ],
      "metadata": {
        "colab": {
          "base_uri": "https://localhost:8080/",
          "height": 424
        },
        "id": "kQxT4o7auBIU",
        "outputId": "25aed790-7aac-433b-fa76-356cc2a13d64"
      },
      "execution_count": null,
      "outputs": [
        {
          "output_type": "execute_result",
          "data": {
            "text/plain": [
              "      MEDV\n",
              "0   24.000\n",
              "1   21.600\n",
              "2   34.700\n",
              "3   33.400\n",
              "4   36.200\n",
              "..     ...\n",
              "501 22.400\n",
              "502 20.600\n",
              "503 23.900\n",
              "504 22.000\n",
              "505 11.900\n",
              "\n",
              "[506 rows x 1 columns]"
            ],
            "text/html": [
              "\n",
              "  <div id=\"df-ad2d283d-2da4-4eb7-b250-02aadb8b95c6\">\n",
              "    <div class=\"colab-df-container\">\n",
              "      <div>\n",
              "<style scoped>\n",
              "    .dataframe tbody tr th:only-of-type {\n",
              "        vertical-align: middle;\n",
              "    }\n",
              "\n",
              "    .dataframe tbody tr th {\n",
              "        vertical-align: top;\n",
              "    }\n",
              "\n",
              "    .dataframe thead th {\n",
              "        text-align: right;\n",
              "    }\n",
              "</style>\n",
              "<table border=\"1\" class=\"dataframe\">\n",
              "  <thead>\n",
              "    <tr style=\"text-align: right;\">\n",
              "      <th></th>\n",
              "      <th>MEDV</th>\n",
              "    </tr>\n",
              "  </thead>\n",
              "  <tbody>\n",
              "    <tr>\n",
              "      <th>0</th>\n",
              "      <td>24.000</td>\n",
              "    </tr>\n",
              "    <tr>\n",
              "      <th>1</th>\n",
              "      <td>21.600</td>\n",
              "    </tr>\n",
              "    <tr>\n",
              "      <th>2</th>\n",
              "      <td>34.700</td>\n",
              "    </tr>\n",
              "    <tr>\n",
              "      <th>3</th>\n",
              "      <td>33.400</td>\n",
              "    </tr>\n",
              "    <tr>\n",
              "      <th>4</th>\n",
              "      <td>36.200</td>\n",
              "    </tr>\n",
              "    <tr>\n",
              "      <th>...</th>\n",
              "      <td>...</td>\n",
              "    </tr>\n",
              "    <tr>\n",
              "      <th>501</th>\n",
              "      <td>22.400</td>\n",
              "    </tr>\n",
              "    <tr>\n",
              "      <th>502</th>\n",
              "      <td>20.600</td>\n",
              "    </tr>\n",
              "    <tr>\n",
              "      <th>503</th>\n",
              "      <td>23.900</td>\n",
              "    </tr>\n",
              "    <tr>\n",
              "      <th>504</th>\n",
              "      <td>22.000</td>\n",
              "    </tr>\n",
              "    <tr>\n",
              "      <th>505</th>\n",
              "      <td>11.900</td>\n",
              "    </tr>\n",
              "  </tbody>\n",
              "</table>\n",
              "<p>506 rows × 1 columns</p>\n",
              "</div>\n",
              "      <button class=\"colab-df-convert\" onclick=\"convertToInteractive('df-ad2d283d-2da4-4eb7-b250-02aadb8b95c6')\"\n",
              "              title=\"Convert this dataframe to an interactive table.\"\n",
              "              style=\"display:none;\">\n",
              "        \n",
              "  <svg xmlns=\"http://www.w3.org/2000/svg\" height=\"24px\"viewBox=\"0 0 24 24\"\n",
              "       width=\"24px\">\n",
              "    <path d=\"M0 0h24v24H0V0z\" fill=\"none\"/>\n",
              "    <path d=\"M18.56 5.44l.94 2.06.94-2.06 2.06-.94-2.06-.94-.94-2.06-.94 2.06-2.06.94zm-11 1L8.5 8.5l.94-2.06 2.06-.94-2.06-.94L8.5 2.5l-.94 2.06-2.06.94zm10 10l.94 2.06.94-2.06 2.06-.94-2.06-.94-.94-2.06-.94 2.06-2.06.94z\"/><path d=\"M17.41 7.96l-1.37-1.37c-.4-.4-.92-.59-1.43-.59-.52 0-1.04.2-1.43.59L10.3 9.45l-7.72 7.72c-.78.78-.78 2.05 0 2.83L4 21.41c.39.39.9.59 1.41.59.51 0 1.02-.2 1.41-.59l7.78-7.78 2.81-2.81c.8-.78.8-2.07 0-2.86zM5.41 20L4 18.59l7.72-7.72 1.47 1.35L5.41 20z\"/>\n",
              "  </svg>\n",
              "      </button>\n",
              "      \n",
              "  <style>\n",
              "    .colab-df-container {\n",
              "      display:flex;\n",
              "      flex-wrap:wrap;\n",
              "      gap: 12px;\n",
              "    }\n",
              "\n",
              "    .colab-df-convert {\n",
              "      background-color: #E8F0FE;\n",
              "      border: none;\n",
              "      border-radius: 50%;\n",
              "      cursor: pointer;\n",
              "      display: none;\n",
              "      fill: #1967D2;\n",
              "      height: 32px;\n",
              "      padding: 0 0 0 0;\n",
              "      width: 32px;\n",
              "    }\n",
              "\n",
              "    .colab-df-convert:hover {\n",
              "      background-color: #E2EBFA;\n",
              "      box-shadow: 0px 1px 2px rgba(60, 64, 67, 0.3), 0px 1px 3px 1px rgba(60, 64, 67, 0.15);\n",
              "      fill: #174EA6;\n",
              "    }\n",
              "\n",
              "    [theme=dark] .colab-df-convert {\n",
              "      background-color: #3B4455;\n",
              "      fill: #D2E3FC;\n",
              "    }\n",
              "\n",
              "    [theme=dark] .colab-df-convert:hover {\n",
              "      background-color: #434B5C;\n",
              "      box-shadow: 0px 1px 3px 1px rgba(0, 0, 0, 0.15);\n",
              "      filter: drop-shadow(0px 1px 2px rgba(0, 0, 0, 0.3));\n",
              "      fill: #FFFFFF;\n",
              "    }\n",
              "  </style>\n",
              "\n",
              "      <script>\n",
              "        const buttonEl =\n",
              "          document.querySelector('#df-ad2d283d-2da4-4eb7-b250-02aadb8b95c6 button.colab-df-convert');\n",
              "        buttonEl.style.display =\n",
              "          google.colab.kernel.accessAllowed ? 'block' : 'none';\n",
              "\n",
              "        async function convertToInteractive(key) {\n",
              "          const element = document.querySelector('#df-ad2d283d-2da4-4eb7-b250-02aadb8b95c6');\n",
              "          const dataTable =\n",
              "            await google.colab.kernel.invokeFunction('convertToInteractive',\n",
              "                                                     [key], {});\n",
              "          if (!dataTable) return;\n",
              "\n",
              "          const docLinkHtml = 'Like what you see? Visit the ' +\n",
              "            '<a target=\"_blank\" href=https://colab.research.google.com/notebooks/data_table.ipynb>data table notebook</a>'\n",
              "            + ' to learn more about interactive tables.';\n",
              "          element.innerHTML = '';\n",
              "          dataTable['output_type'] = 'display_data';\n",
              "          await google.colab.output.renderOutput(dataTable, element);\n",
              "          const docLink = document.createElement('div');\n",
              "          docLink.innerHTML = docLinkHtml;\n",
              "          element.appendChild(docLink);\n",
              "        }\n",
              "      </script>\n",
              "    </div>\n",
              "  </div>\n",
              "  "
            ]
          },
          "metadata": {},
          "execution_count": 19
        }
      ]
    },
    {
      "cell_type": "code",
      "source": [
        "feature_dummy = Df_dummy.drop(['MEDV'], axis=1)"
      ],
      "metadata": {
        "id": "3LK7XV3Kx405"
      },
      "execution_count": null,
      "outputs": []
    },
    {
      "cell_type": "code",
      "source": [
        "feature_dummy"
      ],
      "metadata": {
        "id": "Wp72wfGXx4tB"
      },
      "execution_count": null,
      "outputs": []
    },
    {
      "cell_type": "markdown",
      "source": [
        "### 양적변수 더미변수화"
      ],
      "metadata": {
        "id": "XN8TPAQ_JY96"
      }
    },
    {
      "cell_type": "code",
      "source": [
        "# # var_nums  = Dataset[['egion_tourist_num','region_price_index','population','average_income','average_transport_cost']]\n",
        "# #Ever_Married, Graduated, Profession, Spending_Score\n",
        "# cat_vars = Df[features] # 'name',\n",
        "# cat_vars\n",
        "cat_vars = Df[features] # 'name',\n",
        "cat_vars"
      ],
      "metadata": {
        "colab": {
          "base_uri": "https://localhost:8080/",
          "height": 424
        },
        "id": "7Cq1MdEYbiKE",
        "outputId": "acd324ef-0bd6-411c-bcba-eb1097e20856"
      },
      "execution_count": null,
      "outputs": [
        {
          "output_type": "execute_result",
          "data": {
            "text/plain": [
              "     CRIM     ZN  INDUS   NOX    RM    AGE   DIS   RAD     TAX  PTRATIO  \\\n",
              "0   0.006 18.000  2.310 0.538 6.575 65.200 4.090 1.000 296.000   15.300   \n",
              "1   0.027  0.000  7.070 0.469 6.421 78.900 4.967 2.000 242.000   17.800   \n",
              "2   0.027  0.000  7.070 0.469 7.185 61.100 4.967 2.000 242.000   17.800   \n",
              "3   0.032  0.000  2.180 0.458 6.998 45.800 6.062 3.000 222.000   18.700   \n",
              "4   0.069  0.000  2.180 0.458 7.147 54.200 6.062 3.000 222.000   18.700   \n",
              "..    ...    ...    ...   ...   ...    ...   ...   ...     ...      ...   \n",
              "501 0.063  0.000 11.930 0.573 6.593 69.100 2.479 1.000 273.000   21.000   \n",
              "502 0.045  0.000 11.930 0.573 6.120 76.700 2.288 1.000 273.000   21.000   \n",
              "503 0.061  0.000 11.930 0.573 6.976 91.000 2.167 1.000 273.000   21.000   \n",
              "504 0.110  0.000 11.930 0.573 6.794 89.300 2.389 1.000 273.000   21.000   \n",
              "505 0.047  0.000 11.930 0.573 6.030 80.800 2.505 1.000 273.000   21.000   \n",
              "\n",
              "          B  LSTAT  \n",
              "0   396.900  4.980  \n",
              "1   396.900  9.140  \n",
              "2   392.830  4.030  \n",
              "3   394.630  2.940  \n",
              "4   396.900  5.330  \n",
              "..      ...    ...  \n",
              "501 391.990  9.670  \n",
              "502 396.900  9.080  \n",
              "503 396.900  5.640  \n",
              "504 393.450  6.480  \n",
              "505 396.900  7.880  \n",
              "\n",
              "[506 rows x 12 columns]"
            ],
            "text/html": [
              "\n",
              "  <div id=\"df-debfa8b9-6858-4f7b-887a-686c75dd9cdf\">\n",
              "    <div class=\"colab-df-container\">\n",
              "      <div>\n",
              "<style scoped>\n",
              "    .dataframe tbody tr th:only-of-type {\n",
              "        vertical-align: middle;\n",
              "    }\n",
              "\n",
              "    .dataframe tbody tr th {\n",
              "        vertical-align: top;\n",
              "    }\n",
              "\n",
              "    .dataframe thead th {\n",
              "        text-align: right;\n",
              "    }\n",
              "</style>\n",
              "<table border=\"1\" class=\"dataframe\">\n",
              "  <thead>\n",
              "    <tr style=\"text-align: right;\">\n",
              "      <th></th>\n",
              "      <th>CRIM</th>\n",
              "      <th>ZN</th>\n",
              "      <th>INDUS</th>\n",
              "      <th>NOX</th>\n",
              "      <th>RM</th>\n",
              "      <th>AGE</th>\n",
              "      <th>DIS</th>\n",
              "      <th>RAD</th>\n",
              "      <th>TAX</th>\n",
              "      <th>PTRATIO</th>\n",
              "      <th>B</th>\n",
              "      <th>LSTAT</th>\n",
              "    </tr>\n",
              "  </thead>\n",
              "  <tbody>\n",
              "    <tr>\n",
              "      <th>0</th>\n",
              "      <td>0.006</td>\n",
              "      <td>18.000</td>\n",
              "      <td>2.310</td>\n",
              "      <td>0.538</td>\n",
              "      <td>6.575</td>\n",
              "      <td>65.200</td>\n",
              "      <td>4.090</td>\n",
              "      <td>1.000</td>\n",
              "      <td>296.000</td>\n",
              "      <td>15.300</td>\n",
              "      <td>396.900</td>\n",
              "      <td>4.980</td>\n",
              "    </tr>\n",
              "    <tr>\n",
              "      <th>1</th>\n",
              "      <td>0.027</td>\n",
              "      <td>0.000</td>\n",
              "      <td>7.070</td>\n",
              "      <td>0.469</td>\n",
              "      <td>6.421</td>\n",
              "      <td>78.900</td>\n",
              "      <td>4.967</td>\n",
              "      <td>2.000</td>\n",
              "      <td>242.000</td>\n",
              "      <td>17.800</td>\n",
              "      <td>396.900</td>\n",
              "      <td>9.140</td>\n",
              "    </tr>\n",
              "    <tr>\n",
              "      <th>2</th>\n",
              "      <td>0.027</td>\n",
              "      <td>0.000</td>\n",
              "      <td>7.070</td>\n",
              "      <td>0.469</td>\n",
              "      <td>7.185</td>\n",
              "      <td>61.100</td>\n",
              "      <td>4.967</td>\n",
              "      <td>2.000</td>\n",
              "      <td>242.000</td>\n",
              "      <td>17.800</td>\n",
              "      <td>392.830</td>\n",
              "      <td>4.030</td>\n",
              "    </tr>\n",
              "    <tr>\n",
              "      <th>3</th>\n",
              "      <td>0.032</td>\n",
              "      <td>0.000</td>\n",
              "      <td>2.180</td>\n",
              "      <td>0.458</td>\n",
              "      <td>6.998</td>\n",
              "      <td>45.800</td>\n",
              "      <td>6.062</td>\n",
              "      <td>3.000</td>\n",
              "      <td>222.000</td>\n",
              "      <td>18.700</td>\n",
              "      <td>394.630</td>\n",
              "      <td>2.940</td>\n",
              "    </tr>\n",
              "    <tr>\n",
              "      <th>4</th>\n",
              "      <td>0.069</td>\n",
              "      <td>0.000</td>\n",
              "      <td>2.180</td>\n",
              "      <td>0.458</td>\n",
              "      <td>7.147</td>\n",
              "      <td>54.200</td>\n",
              "      <td>6.062</td>\n",
              "      <td>3.000</td>\n",
              "      <td>222.000</td>\n",
              "      <td>18.700</td>\n",
              "      <td>396.900</td>\n",
              "      <td>5.330</td>\n",
              "    </tr>\n",
              "    <tr>\n",
              "      <th>...</th>\n",
              "      <td>...</td>\n",
              "      <td>...</td>\n",
              "      <td>...</td>\n",
              "      <td>...</td>\n",
              "      <td>...</td>\n",
              "      <td>...</td>\n",
              "      <td>...</td>\n",
              "      <td>...</td>\n",
              "      <td>...</td>\n",
              "      <td>...</td>\n",
              "      <td>...</td>\n",
              "      <td>...</td>\n",
              "    </tr>\n",
              "    <tr>\n",
              "      <th>501</th>\n",
              "      <td>0.063</td>\n",
              "      <td>0.000</td>\n",
              "      <td>11.930</td>\n",
              "      <td>0.573</td>\n",
              "      <td>6.593</td>\n",
              "      <td>69.100</td>\n",
              "      <td>2.479</td>\n",
              "      <td>1.000</td>\n",
              "      <td>273.000</td>\n",
              "      <td>21.000</td>\n",
              "      <td>391.990</td>\n",
              "      <td>9.670</td>\n",
              "    </tr>\n",
              "    <tr>\n",
              "      <th>502</th>\n",
              "      <td>0.045</td>\n",
              "      <td>0.000</td>\n",
              "      <td>11.930</td>\n",
              "      <td>0.573</td>\n",
              "      <td>6.120</td>\n",
              "      <td>76.700</td>\n",
              "      <td>2.288</td>\n",
              "      <td>1.000</td>\n",
              "      <td>273.000</td>\n",
              "      <td>21.000</td>\n",
              "      <td>396.900</td>\n",
              "      <td>9.080</td>\n",
              "    </tr>\n",
              "    <tr>\n",
              "      <th>503</th>\n",
              "      <td>0.061</td>\n",
              "      <td>0.000</td>\n",
              "      <td>11.930</td>\n",
              "      <td>0.573</td>\n",
              "      <td>6.976</td>\n",
              "      <td>91.000</td>\n",
              "      <td>2.167</td>\n",
              "      <td>1.000</td>\n",
              "      <td>273.000</td>\n",
              "      <td>21.000</td>\n",
              "      <td>396.900</td>\n",
              "      <td>5.640</td>\n",
              "    </tr>\n",
              "    <tr>\n",
              "      <th>504</th>\n",
              "      <td>0.110</td>\n",
              "      <td>0.000</td>\n",
              "      <td>11.930</td>\n",
              "      <td>0.573</td>\n",
              "      <td>6.794</td>\n",
              "      <td>89.300</td>\n",
              "      <td>2.389</td>\n",
              "      <td>1.000</td>\n",
              "      <td>273.000</td>\n",
              "      <td>21.000</td>\n",
              "      <td>393.450</td>\n",
              "      <td>6.480</td>\n",
              "    </tr>\n",
              "    <tr>\n",
              "      <th>505</th>\n",
              "      <td>0.047</td>\n",
              "      <td>0.000</td>\n",
              "      <td>11.930</td>\n",
              "      <td>0.573</td>\n",
              "      <td>6.030</td>\n",
              "      <td>80.800</td>\n",
              "      <td>2.505</td>\n",
              "      <td>1.000</td>\n",
              "      <td>273.000</td>\n",
              "      <td>21.000</td>\n",
              "      <td>396.900</td>\n",
              "      <td>7.880</td>\n",
              "    </tr>\n",
              "  </tbody>\n",
              "</table>\n",
              "<p>506 rows × 12 columns</p>\n",
              "</div>\n",
              "      <button class=\"colab-df-convert\" onclick=\"convertToInteractive('df-debfa8b9-6858-4f7b-887a-686c75dd9cdf')\"\n",
              "              title=\"Convert this dataframe to an interactive table.\"\n",
              "              style=\"display:none;\">\n",
              "        \n",
              "  <svg xmlns=\"http://www.w3.org/2000/svg\" height=\"24px\"viewBox=\"0 0 24 24\"\n",
              "       width=\"24px\">\n",
              "    <path d=\"M0 0h24v24H0V0z\" fill=\"none\"/>\n",
              "    <path d=\"M18.56 5.44l.94 2.06.94-2.06 2.06-.94-2.06-.94-.94-2.06-.94 2.06-2.06.94zm-11 1L8.5 8.5l.94-2.06 2.06-.94-2.06-.94L8.5 2.5l-.94 2.06-2.06.94zm10 10l.94 2.06.94-2.06 2.06-.94-2.06-.94-.94-2.06-.94 2.06-2.06.94z\"/><path d=\"M17.41 7.96l-1.37-1.37c-.4-.4-.92-.59-1.43-.59-.52 0-1.04.2-1.43.59L10.3 9.45l-7.72 7.72c-.78.78-.78 2.05 0 2.83L4 21.41c.39.39.9.59 1.41.59.51 0 1.02-.2 1.41-.59l7.78-7.78 2.81-2.81c.8-.78.8-2.07 0-2.86zM5.41 20L4 18.59l7.72-7.72 1.47 1.35L5.41 20z\"/>\n",
              "  </svg>\n",
              "      </button>\n",
              "      \n",
              "  <style>\n",
              "    .colab-df-container {\n",
              "      display:flex;\n",
              "      flex-wrap:wrap;\n",
              "      gap: 12px;\n",
              "    }\n",
              "\n",
              "    .colab-df-convert {\n",
              "      background-color: #E8F0FE;\n",
              "      border: none;\n",
              "      border-radius: 50%;\n",
              "      cursor: pointer;\n",
              "      display: none;\n",
              "      fill: #1967D2;\n",
              "      height: 32px;\n",
              "      padding: 0 0 0 0;\n",
              "      width: 32px;\n",
              "    }\n",
              "\n",
              "    .colab-df-convert:hover {\n",
              "      background-color: #E2EBFA;\n",
              "      box-shadow: 0px 1px 2px rgba(60, 64, 67, 0.3), 0px 1px 3px 1px rgba(60, 64, 67, 0.15);\n",
              "      fill: #174EA6;\n",
              "    }\n",
              "\n",
              "    [theme=dark] .colab-df-convert {\n",
              "      background-color: #3B4455;\n",
              "      fill: #D2E3FC;\n",
              "    }\n",
              "\n",
              "    [theme=dark] .colab-df-convert:hover {\n",
              "      background-color: #434B5C;\n",
              "      box-shadow: 0px 1px 3px 1px rgba(0, 0, 0, 0.15);\n",
              "      filter: drop-shadow(0px 1px 2px rgba(0, 0, 0, 0.3));\n",
              "      fill: #FFFFFF;\n",
              "    }\n",
              "  </style>\n",
              "\n",
              "      <script>\n",
              "        const buttonEl =\n",
              "          document.querySelector('#df-debfa8b9-6858-4f7b-887a-686c75dd9cdf button.colab-df-convert');\n",
              "        buttonEl.style.display =\n",
              "          google.colab.kernel.accessAllowed ? 'block' : 'none';\n",
              "\n",
              "        async function convertToInteractive(key) {\n",
              "          const element = document.querySelector('#df-debfa8b9-6858-4f7b-887a-686c75dd9cdf');\n",
              "          const dataTable =\n",
              "            await google.colab.kernel.invokeFunction('convertToInteractive',\n",
              "                                                     [key], {});\n",
              "          if (!dataTable) return;\n",
              "\n",
              "          const docLinkHtml = 'Like what you see? Visit the ' +\n",
              "            '<a target=\"_blank\" href=https://colab.research.google.com/notebooks/data_table.ipynb>data table notebook</a>'\n",
              "            + ' to learn more about interactive tables.';\n",
              "          element.innerHTML = '';\n",
              "          dataTable['output_type'] = 'display_data';\n",
              "          await google.colab.output.renderOutput(dataTable, element);\n",
              "          const docLink = document.createElement('div');\n",
              "          docLink.innerHTML = docLinkHtml;\n",
              "          element.appendChild(docLink);\n",
              "        }\n",
              "      </script>\n",
              "    </div>\n",
              "  </div>\n",
              "  "
            ]
          },
          "metadata": {},
          "execution_count": 24
        }
      ]
    },
    {
      "cell_type": "code",
      "source": [
        "# 문자형식으로 코딩된 질적변수를 더미변수로 코딩\n",
        "features_dummy = pd.get_dummies(features, cat_vars, drop_first=True) # 기준변수를 0으로 만들어줌\n",
        "features_dummy.head()"
      ],
      "metadata": {
        "colab": {
          "base_uri": "https://localhost:8080/",
          "height": 1000
        },
        "id": "4CcBo-9t552s",
        "outputId": "a1bd6352-f7cd-45ed-c9d0-b5e91985c4e4"
      },
      "execution_count": null,
      "outputs": [
        {
          "output_type": "execute_result",
          "data": {
            "text/plain": [
              "        CRIM     ZN  INDUS   NOX    RM    AGE   DIS   RAD     TAX  PTRATIO  \\\\n0   0.006 18.000  2.310 0.538 6.575 65.200 4.090 1.000 296.000   15.300   \\n1   0.027  0.000  7.070 0.469 6.421 78.900 4.967 2.000 242.000   17.800   \\n2   0.027  0.000  7.070 0.469 7.185 61.100 4.967 2.000 242.000   17.800   \\n3   0.032  0.000  2.180 0.458 6.998 45.800 6.062 3.000 222.000   18.700   \\n4   0.069  0.000  2.180 0.458 7.147 54.200 6.062 3.000 222.000   18.700   \\n..    ...    ...    ...   ...   ...    ...   ...   ...     ...      ...   \\n501 0.063  0.000 11.930 0.573 6.593 69.100 2.479 1.000 273.000   21.000   \\n502 0.045  0.000 11.930 0.573 6.120 76.700 2.288 1.000 273.000   21.000   \\n503 0.061  0.000 11.930 0.573 6.976 91.000 2.167 1.000 273.000   21.000   \\n504 0.110  0.000 11.930 0.573 6.794 89.300 2.389 1.000 273.000   21.000   \\n505 0.047  0.000 11.930 0.573 6.030 80.800 2.505 1.000 273.000   21.000   \\n\\n          B  LSTAT  \\n0   396.900  4.980  \\n1   396.900  9.140  \\n2   392.830  4.030  \\n3   394.630  2.940  \\n4   396.900  5.330  \\n..      ...    ...  \\n501 391.990  9.670  \\n502 396.900  9.080  \\n503 396.900  5.640  \\n504 393.450  6.480  \\n505 396.900  7.880  \\n\\n[506 rows x 12 columns]_B  \\\n",
              "0                                                  0                                                                                                                                                                                                                                                                                                                                                                                                                                                                                                                                                                                                                                                                                                                                                                                                                                                                                                                                                                                                                                                                                                                                                                                                       \n",
              "1                                                  0                                                                                                                                                                                                                                                                                                                                                                                                                                                                                                                                                                                                                                                                                                                                                                                                                                                                                                                                                                                                                                                                                                                                                                                                       \n",
              "2                                                  0                                                                                                                                                                                                                                                                                                                                                                                                                                                                                                                                                                                                                                                                                                                                                                                                                                                                                                                                                                                                                                                                                                                                                                                                       \n",
              "3                                                  0                                                                                                                                                                                                                                                                                                                                                                                                                                                                                                                                                                                                                                                                                                                                                                                                                                                                                                                                                                                                                                                                                                                                                                                                       \n",
              "4                                                  0                                                                                                                                                                                                                                                                                                                                                                                                                                                                                                                                                                                                                                                                                                                                                                                                                                                                                                                                                                                                                                                                                                                                                                                                       \n",
              "\n",
              "        CRIM     ZN  INDUS   NOX    RM    AGE   DIS   RAD     TAX  PTRATIO  \\\\n0   0.006 18.000  2.310 0.538 6.575 65.200 4.090 1.000 296.000   15.300   \\n1   0.027  0.000  7.070 0.469 6.421 78.900 4.967 2.000 242.000   17.800   \\n2   0.027  0.000  7.070 0.469 7.185 61.100 4.967 2.000 242.000   17.800   \\n3   0.032  0.000  2.180 0.458 6.998 45.800 6.062 3.000 222.000   18.700   \\n4   0.069  0.000  2.180 0.458 7.147 54.200 6.062 3.000 222.000   18.700   \\n..    ...    ...    ...   ...   ...    ...   ...   ...     ...      ...   \\n501 0.063  0.000 11.930 0.573 6.593 69.100 2.479 1.000 273.000   21.000   \\n502 0.045  0.000 11.930 0.573 6.120 76.700 2.288 1.000 273.000   21.000   \\n503 0.061  0.000 11.930 0.573 6.976 91.000 2.167 1.000 273.000   21.000   \\n504 0.110  0.000 11.930 0.573 6.794 89.300 2.389 1.000 273.000   21.000   \\n505 0.047  0.000 11.930 0.573 6.030 80.800 2.505 1.000 273.000   21.000   \\n\\n          B  LSTAT  \\n0   396.900  4.980  \\n1   396.900  9.140  \\n2   392.830  4.030  \\n3   394.630  2.940  \\n4   396.900  5.330  \\n..      ...    ...  \\n501 391.990  9.670  \\n502 396.900  9.080  \\n503 396.900  5.640  \\n504 393.450  6.480  \\n505 396.900  7.880  \\n\\n[506 rows x 12 columns]_CRIM  \\\n",
              "0                                                  1                                                                                                                                                                                                                                                                                                                                                                                                                                                                                                                                                                                                                                                                                                                                                                                                                                                                                                                                                                                                                                                                                                                                                                                                          \n",
              "1                                                  0                                                                                                                                                                                                                                                                                                                                                                                                                                                                                                                                                                                                                                                                                                                                                                                                                                                                                                                                                                                                                                                                                                                                                                                                          \n",
              "2                                                  0                                                                                                                                                                                                                                                                                                                                                                                                                                                                                                                                                                                                                                                                                                                                                                                                                                                                                                                                                                                                                                                                                                                                                                                                          \n",
              "3                                                  0                                                                                                                                                                                                                                                                                                                                                                                                                                                                                                                                                                                                                                                                                                                                                                                                                                                                                                                                                                                                                                                                                                                                                                                                          \n",
              "4                                                  0                                                                                                                                                                                                                                                                                                                                                                                                                                                                                                                                                                                                                                                                                                                                                                                                                                                                                                                                                                                                                                                                                                                                                                                                          \n",
              "\n",
              "        CRIM     ZN  INDUS   NOX    RM    AGE   DIS   RAD     TAX  PTRATIO  \\\\n0   0.006 18.000  2.310 0.538 6.575 65.200 4.090 1.000 296.000   15.300   \\n1   0.027  0.000  7.070 0.469 6.421 78.900 4.967 2.000 242.000   17.800   \\n2   0.027  0.000  7.070 0.469 7.185 61.100 4.967 2.000 242.000   17.800   \\n3   0.032  0.000  2.180 0.458 6.998 45.800 6.062 3.000 222.000   18.700   \\n4   0.069  0.000  2.180 0.458 7.147 54.200 6.062 3.000 222.000   18.700   \\n..    ...    ...    ...   ...   ...    ...   ...   ...     ...      ...   \\n501 0.063  0.000 11.930 0.573 6.593 69.100 2.479 1.000 273.000   21.000   \\n502 0.045  0.000 11.930 0.573 6.120 76.700 2.288 1.000 273.000   21.000   \\n503 0.061  0.000 11.930 0.573 6.976 91.000 2.167 1.000 273.000   21.000   \\n504 0.110  0.000 11.930 0.573 6.794 89.300 2.389 1.000 273.000   21.000   \\n505 0.047  0.000 11.930 0.573 6.030 80.800 2.505 1.000 273.000   21.000   \\n\\n          B  LSTAT  \\n0   396.900  4.980  \\n1   396.900  9.140  \\n2   392.830  4.030  \\n3   394.630  2.940  \\n4   396.900  5.330  \\n..      ...    ...  \\n501 391.990  9.670  \\n502 396.900  9.080  \\n503 396.900  5.640  \\n504 393.450  6.480  \\n505 396.900  7.880  \\n\\n[506 rows x 12 columns]_DIS  \\\n",
              "0                                                  0                                                                                                                                                                                                                                                                                                                                                                                                                                                                                                                                                                                                                                                                                                                                                                                                                                                                                                                                                                                                                                                                                                                                                                                                         \n",
              "1                                                  0                                                                                                                                                                                                                                                                                                                                                                                                                                                                                                                                                                                                                                                                                                                                                                                                                                                                                                                                                                                                                                                                                                                                                                                                         \n",
              "2                                                  0                                                                                                                                                                                                                                                                                                                                                                                                                                                                                                                                                                                                                                                                                                                                                                                                                                                                                                                                                                                                                                                                                                                                                                                                         \n",
              "3                                                  0                                                                                                                                                                                                                                                                                                                                                                                                                                                                                                                                                                                                                                                                                                                                                                                                                                                                                                                                                                                                                                                                                                                                                                                                         \n",
              "4                                                  0                                                                                                                                                                                                                                                                                                                                                                                                                                                                                                                                                                                                                                                                                                                                                                                                                                                                                                                                                                                                                                                                                                                                                                                                         \n",
              "\n",
              "        CRIM     ZN  INDUS   NOX    RM    AGE   DIS   RAD     TAX  PTRATIO  \\\\n0   0.006 18.000  2.310 0.538 6.575 65.200 4.090 1.000 296.000   15.300   \\n1   0.027  0.000  7.070 0.469 6.421 78.900 4.967 2.000 242.000   17.800   \\n2   0.027  0.000  7.070 0.469 7.185 61.100 4.967 2.000 242.000   17.800   \\n3   0.032  0.000  2.180 0.458 6.998 45.800 6.062 3.000 222.000   18.700   \\n4   0.069  0.000  2.180 0.458 7.147 54.200 6.062 3.000 222.000   18.700   \\n..    ...    ...    ...   ...   ...    ...   ...   ...     ...      ...   \\n501 0.063  0.000 11.930 0.573 6.593 69.100 2.479 1.000 273.000   21.000   \\n502 0.045  0.000 11.930 0.573 6.120 76.700 2.288 1.000 273.000   21.000   \\n503 0.061  0.000 11.930 0.573 6.976 91.000 2.167 1.000 273.000   21.000   \\n504 0.110  0.000 11.930 0.573 6.794 89.300 2.389 1.000 273.000   21.000   \\n505 0.047  0.000 11.930 0.573 6.030 80.800 2.505 1.000 273.000   21.000   \\n\\n          B  LSTAT  \\n0   396.900  4.980  \\n1   396.900  9.140  \\n2   392.830  4.030  \\n3   394.630  2.940  \\n4   396.900  5.330  \\n..      ...    ...  \\n501 391.990  9.670  \\n502 396.900  9.080  \\n503 396.900  5.640  \\n504 393.450  6.480  \\n505 396.900  7.880  \\n\\n[506 rows x 12 columns]_INDUS  \\\n",
              "0                                                  0                                                                                                                                                                                                                                                                                                                                                                                                                                                                                                                                                                                                                                                                                                                                                                                                                                                                                                                                                                                                                                                                                                                                                                                                           \n",
              "1                                                  0                                                                                                                                                                                                                                                                                                                                                                                                                                                                                                                                                                                                                                                                                                                                                                                                                                                                                                                                                                                                                                                                                                                                                                                                           \n",
              "2                                                  1                                                                                                                                                                                                                                                                                                                                                                                                                                                                                                                                                                                                                                                                                                                                                                                                                                                                                                                                                                                                                                                                                                                                                                                                           \n",
              "3                                                  0                                                                                                                                                                                                                                                                                                                                                                                                                                                                                                                                                                                                                                                                                                                                                                                                                                                                                                                                                                                                                                                                                                                                                                                                           \n",
              "4                                                  0                                                                                                                                                                                                                                                                                                                                                                                                                                                                                                                                                                                                                                                                                                                                                                                                                                                                                                                                                                                                                                                                                                                                                                                                           \n",
              "\n",
              "        CRIM     ZN  INDUS   NOX    RM    AGE   DIS   RAD     TAX  PTRATIO  \\\\n0   0.006 18.000  2.310 0.538 6.575 65.200 4.090 1.000 296.000   15.300   \\n1   0.027  0.000  7.070 0.469 6.421 78.900 4.967 2.000 242.000   17.800   \\n2   0.027  0.000  7.070 0.469 7.185 61.100 4.967 2.000 242.000   17.800   \\n3   0.032  0.000  2.180 0.458 6.998 45.800 6.062 3.000 222.000   18.700   \\n4   0.069  0.000  2.180 0.458 7.147 54.200 6.062 3.000 222.000   18.700   \\n..    ...    ...    ...   ...   ...    ...   ...   ...     ...      ...   \\n501 0.063  0.000 11.930 0.573 6.593 69.100 2.479 1.000 273.000   21.000   \\n502 0.045  0.000 11.930 0.573 6.120 76.700 2.288 1.000 273.000   21.000   \\n503 0.061  0.000 11.930 0.573 6.976 91.000 2.167 1.000 273.000   21.000   \\n504 0.110  0.000 11.930 0.573 6.794 89.300 2.389 1.000 273.000   21.000   \\n505 0.047  0.000 11.930 0.573 6.030 80.800 2.505 1.000 273.000   21.000   \\n\\n          B  LSTAT  \\n0   396.900  4.980  \\n1   396.900  9.140  \\n2   392.830  4.030  \\n3   394.630  2.940  \\n4   396.900  5.330  \\n..      ...    ...  \\n501 391.990  9.670  \\n502 396.900  9.080  \\n503 396.900  5.640  \\n504 393.450  6.480  \\n505 396.900  7.880  \\n\\n[506 rows x 12 columns]_LSTAT  \\\n",
              "0                                                  0                                                                                                                                                                                                                                                                                                                                                                                                                                                                                                                                                                                                                                                                                                                                                                                                                                                                                                                                                                                                                                                                                                                                                                                                           \n",
              "1                                                  0                                                                                                                                                                                                                                                                                                                                                                                                                                                                                                                                                                                                                                                                                                                                                                                                                                                                                                                                                                                                                                                                                                                                                                                                           \n",
              "2                                                  0                                                                                                                                                                                                                                                                                                                                                                                                                                                                                                                                                                                                                                                                                                                                                                                                                                                                                                                                                                                                                                                                                                                                                                                                           \n",
              "3                                                  0                                                                                                                                                                                                                                                                                                                                                                                                                                                                                                                                                                                                                                                                                                                                                                                                                                                                                                                                                                                                                                                                                                                                                                                                           \n",
              "4                                                  0                                                                                                                                                                                                                                                                                                                                                                                                                                                                                                                                                                                                                                                                                                                                                                                                                                                                                                                                                                                                                                                                                                                                                                                                           \n",
              "\n",
              "        CRIM     ZN  INDUS   NOX    RM    AGE   DIS   RAD     TAX  PTRATIO  \\\\n0   0.006 18.000  2.310 0.538 6.575 65.200 4.090 1.000 296.000   15.300   \\n1   0.027  0.000  7.070 0.469 6.421 78.900 4.967 2.000 242.000   17.800   \\n2   0.027  0.000  7.070 0.469 7.185 61.100 4.967 2.000 242.000   17.800   \\n3   0.032  0.000  2.180 0.458 6.998 45.800 6.062 3.000 222.000   18.700   \\n4   0.069  0.000  2.180 0.458 7.147 54.200 6.062 3.000 222.000   18.700   \\n..    ...    ...    ...   ...   ...    ...   ...   ...     ...      ...   \\n501 0.063  0.000 11.930 0.573 6.593 69.100 2.479 1.000 273.000   21.000   \\n502 0.045  0.000 11.930 0.573 6.120 76.700 2.288 1.000 273.000   21.000   \\n503 0.061  0.000 11.930 0.573 6.976 91.000 2.167 1.000 273.000   21.000   \\n504 0.110  0.000 11.930 0.573 6.794 89.300 2.389 1.000 273.000   21.000   \\n505 0.047  0.000 11.930 0.573 6.030 80.800 2.505 1.000 273.000   21.000   \\n\\n          B  LSTAT  \\n0   396.900  4.980  \\n1   396.900  9.140  \\n2   392.830  4.030  \\n3   394.630  2.940  \\n4   396.900  5.330  \\n..      ...    ...  \\n501 391.990  9.670  \\n502 396.900  9.080  \\n503 396.900  5.640  \\n504 393.450  6.480  \\n505 396.900  7.880  \\n\\n[506 rows x 12 columns]_NOX  \\\n",
              "0                                                  0                                                                                                                                                                                                                                                                                                                                                                                                                                                                                                                                                                                                                                                                                                                                                                                                                                                                                                                                                                                                                                                                                                                                                                                                         \n",
              "1                                                  0                                                                                                                                                                                                                                                                                                                                                                                                                                                                                                                                                                                                                                                                                                                                                                                                                                                                                                                                                                                                                                                                                                                                                                                                         \n",
              "2                                                  0                                                                                                                                                                                                                                                                                                                                                                                                                                                                                                                                                                                                                                                                                                                                                                                                                                                                                                                                                                                                                                                                                                                                                                                                         \n",
              "3                                                  1                                                                                                                                                                                                                                                                                                                                                                                                                                                                                                                                                                                                                                                                                                                                                                                                                                                                                                                                                                                                                                                                                                                                                                                                         \n",
              "4                                                  0                                                                                                                                                                                                                                                                                                                                                                                                                                                                                                                                                                                                                                                                                                                                                                                                                                                                                                                                                                                                                                                                                                                                                                                                         \n",
              "\n",
              "        CRIM     ZN  INDUS   NOX    RM    AGE   DIS   RAD     TAX  PTRATIO  \\\\n0   0.006 18.000  2.310 0.538 6.575 65.200 4.090 1.000 296.000   15.300   \\n1   0.027  0.000  7.070 0.469 6.421 78.900 4.967 2.000 242.000   17.800   \\n2   0.027  0.000  7.070 0.469 7.185 61.100 4.967 2.000 242.000   17.800   \\n3   0.032  0.000  2.180 0.458 6.998 45.800 6.062 3.000 222.000   18.700   \\n4   0.069  0.000  2.180 0.458 7.147 54.200 6.062 3.000 222.000   18.700   \\n..    ...    ...    ...   ...   ...    ...   ...   ...     ...      ...   \\n501 0.063  0.000 11.930 0.573 6.593 69.100 2.479 1.000 273.000   21.000   \\n502 0.045  0.000 11.930 0.573 6.120 76.700 2.288 1.000 273.000   21.000   \\n503 0.061  0.000 11.930 0.573 6.976 91.000 2.167 1.000 273.000   21.000   \\n504 0.110  0.000 11.930 0.573 6.794 89.300 2.389 1.000 273.000   21.000   \\n505 0.047  0.000 11.930 0.573 6.030 80.800 2.505 1.000 273.000   21.000   \\n\\n          B  LSTAT  \\n0   396.900  4.980  \\n1   396.900  9.140  \\n2   392.830  4.030  \\n3   394.630  2.940  \\n4   396.900  5.330  \\n..      ...    ...  \\n501 391.990  9.670  \\n502 396.900  9.080  \\n503 396.900  5.640  \\n504 393.450  6.480  \\n505 396.900  7.880  \\n\\n[506 rows x 12 columns]_PTRATIO  \\\n",
              "0                                                  0                                                                                                                                                                                                                                                                                                                                                                                                                                                                                                                                                                                                                                                                                                                                                                                                                                                                                                                                                                                                                                                                                                                                                                                                             \n",
              "1                                                  0                                                                                                                                                                                                                                                                                                                                                                                                                                                                                                                                                                                                                                                                                                                                                                                                                                                                                                                                                                                                                                                                                                                                                                                                             \n",
              "2                                                  0                                                                                                                                                                                                                                                                                                                                                                                                                                                                                                                                                                                                                                                                                                                                                                                                                                                                                                                                                                                                                                                                                                                                                                                                             \n",
              "3                                                  0                                                                                                                                                                                                                                                                                                                                                                                                                                                                                                                                                                                                                                                                                                                                                                                                                                                                                                                                                                                                                                                                                                                                                                                                             \n",
              "4                                                  0                                                                                                                                                                                                                                                                                                                                                                                                                                                                                                                                                                                                                                                                                                                                                                                                                                                                                                                                                                                                                                                                                                                                                                                                             \n",
              "\n",
              "        CRIM     ZN  INDUS   NOX    RM    AGE   DIS   RAD     TAX  PTRATIO  \\\\n0   0.006 18.000  2.310 0.538 6.575 65.200 4.090 1.000 296.000   15.300   \\n1   0.027  0.000  7.070 0.469 6.421 78.900 4.967 2.000 242.000   17.800   \\n2   0.027  0.000  7.070 0.469 7.185 61.100 4.967 2.000 242.000   17.800   \\n3   0.032  0.000  2.180 0.458 6.998 45.800 6.062 3.000 222.000   18.700   \\n4   0.069  0.000  2.180 0.458 7.147 54.200 6.062 3.000 222.000   18.700   \\n..    ...    ...    ...   ...   ...    ...   ...   ...     ...      ...   \\n501 0.063  0.000 11.930 0.573 6.593 69.100 2.479 1.000 273.000   21.000   \\n502 0.045  0.000 11.930 0.573 6.120 76.700 2.288 1.000 273.000   21.000   \\n503 0.061  0.000 11.930 0.573 6.976 91.000 2.167 1.000 273.000   21.000   \\n504 0.110  0.000 11.930 0.573 6.794 89.300 2.389 1.000 273.000   21.000   \\n505 0.047  0.000 11.930 0.573 6.030 80.800 2.505 1.000 273.000   21.000   \\n\\n          B  LSTAT  \\n0   396.900  4.980  \\n1   396.900  9.140  \\n2   392.830  4.030  \\n3   394.630  2.940  \\n4   396.900  5.330  \\n..      ...    ...  \\n501 391.990  9.670  \\n502 396.900  9.080  \\n503 396.900  5.640  \\n504 393.450  6.480  \\n505 396.900  7.880  \\n\\n[506 rows x 12 columns]_RAD  \\\n",
              "0                                                  0                                                                                                                                                                                                                                                                                                                                                                                                                                                                                                                                                                                                                                                                                                                                                                                                                                                                                                                                                                                                                                                                                                                                                                                                         \n",
              "1                                                  0                                                                                                                                                                                                                                                                                                                                                                                                                                                                                                                                                                                                                                                                                                                                                                                                                                                                                                                                                                                                                                                                                                                                                                                                         \n",
              "2                                                  0                                                                                                                                                                                                                                                                                                                                                                                                                                                                                                                                                                                                                                                                                                                                                                                                                                                                                                                                                                                                                                                                                                                                                                                                         \n",
              "3                                                  0                                                                                                                                                                                                                                                                                                                                                                                                                                                                                                                                                                                                                                                                                                                                                                                                                                                                                                                                                                                                                                                                                                                                                                                                         \n",
              "4                                                  0                                                                                                                                                                                                                                                                                                                                                                                                                                                                                                                                                                                                                                                                                                                                                                                                                                                                                                                                                                                                                                                                                                                                                                                                         \n",
              "\n",
              "        CRIM     ZN  INDUS   NOX    RM    AGE   DIS   RAD     TAX  PTRATIO  \\\\n0   0.006 18.000  2.310 0.538 6.575 65.200 4.090 1.000 296.000   15.300   \\n1   0.027  0.000  7.070 0.469 6.421 78.900 4.967 2.000 242.000   17.800   \\n2   0.027  0.000  7.070 0.469 7.185 61.100 4.967 2.000 242.000   17.800   \\n3   0.032  0.000  2.180 0.458 6.998 45.800 6.062 3.000 222.000   18.700   \\n4   0.069  0.000  2.180 0.458 7.147 54.200 6.062 3.000 222.000   18.700   \\n..    ...    ...    ...   ...   ...    ...   ...   ...     ...      ...   \\n501 0.063  0.000 11.930 0.573 6.593 69.100 2.479 1.000 273.000   21.000   \\n502 0.045  0.000 11.930 0.573 6.120 76.700 2.288 1.000 273.000   21.000   \\n503 0.061  0.000 11.930 0.573 6.976 91.000 2.167 1.000 273.000   21.000   \\n504 0.110  0.000 11.930 0.573 6.794 89.300 2.389 1.000 273.000   21.000   \\n505 0.047  0.000 11.930 0.573 6.030 80.800 2.505 1.000 273.000   21.000   \\n\\n          B  LSTAT  \\n0   396.900  4.980  \\n1   396.900  9.140  \\n2   392.830  4.030  \\n3   394.630  2.940  \\n4   396.900  5.330  \\n..      ...    ...  \\n501 391.990  9.670  \\n502 396.900  9.080  \\n503 396.900  5.640  \\n504 393.450  6.480  \\n505 396.900  7.880  \\n\\n[506 rows x 12 columns]_RM  \\\n",
              "0                                                  0                                                                                                                                                                                                                                                                                                                                                                                                                                                                                                                                                                                                                                                                                                                                                                                                                                                                                                                                                                                                                                                                                                                                                                                                        \n",
              "1                                                  0                                                                                                                                                                                                                                                                                                                                                                                                                                                                                                                                                                                                                                                                                                                                                                                                                                                                                                                                                                                                                                                                                                                                                                                                        \n",
              "2                                                  0                                                                                                                                                                                                                                                                                                                                                                                                                                                                                                                                                                                                                                                                                                                                                                                                                                                                                                                                                                                                                                                                                                                                                                                                        \n",
              "3                                                  0                                                                                                                                                                                                                                                                                                                                                                                                                                                                                                                                                                                                                                                                                                                                                                                                                                                                                                                                                                                                                                                                                                                                                                                                        \n",
              "4                                                  1                                                                                                                                                                                                                                                                                                                                                                                                                                                                                                                                                                                                                                                                                                                                                                                                                                                                                                                                                                                                                                                                                                                                                                                                        \n",
              "\n",
              "        CRIM     ZN  INDUS   NOX    RM    AGE   DIS   RAD     TAX  PTRATIO  \\\\n0   0.006 18.000  2.310 0.538 6.575 65.200 4.090 1.000 296.000   15.300   \\n1   0.027  0.000  7.070 0.469 6.421 78.900 4.967 2.000 242.000   17.800   \\n2   0.027  0.000  7.070 0.469 7.185 61.100 4.967 2.000 242.000   17.800   \\n3   0.032  0.000  2.180 0.458 6.998 45.800 6.062 3.000 222.000   18.700   \\n4   0.069  0.000  2.180 0.458 7.147 54.200 6.062 3.000 222.000   18.700   \\n..    ...    ...    ...   ...   ...    ...   ...   ...     ...      ...   \\n501 0.063  0.000 11.930 0.573 6.593 69.100 2.479 1.000 273.000   21.000   \\n502 0.045  0.000 11.930 0.573 6.120 76.700 2.288 1.000 273.000   21.000   \\n503 0.061  0.000 11.930 0.573 6.976 91.000 2.167 1.000 273.000   21.000   \\n504 0.110  0.000 11.930 0.573 6.794 89.300 2.389 1.000 273.000   21.000   \\n505 0.047  0.000 11.930 0.573 6.030 80.800 2.505 1.000 273.000   21.000   \\n\\n          B  LSTAT  \\n0   396.900  4.980  \\n1   396.900  9.140  \\n2   392.830  4.030  \\n3   394.630  2.940  \\n4   396.900  5.330  \\n..      ...    ...  \\n501 391.990  9.670  \\n502 396.900  9.080  \\n503 396.900  5.640  \\n504 393.450  6.480  \\n505 396.900  7.880  \\n\\n[506 rows x 12 columns]_TAX  \\\n",
              "0                                                  0                                                                                                                                                                                                                                                                                                                                                                                                                                                                                                                                                                                                                                                                                                                                                                                                                                                                                                                                                                                                                                                                                                                                                                                                         \n",
              "1                                                  0                                                                                                                                                                                                                                                                                                                                                                                                                                                                                                                                                                                                                                                                                                                                                                                                                                                                                                                                                                                                                                                                                                                                                                                                         \n",
              "2                                                  0                                                                                                                                                                                                                                                                                                                                                                                                                                                                                                                                                                                                                                                                                                                                                                                                                                                                                                                                                                                                                                                                                                                                                                                                         \n",
              "3                                                  0                                                                                                                                                                                                                                                                                                                                                                                                                                                                                                                                                                                                                                                                                                                                                                                                                                                                                                                                                                                                                                                                                                                                                                                                         \n",
              "4                                                  0                                                                                                                                                                                                                                                                                                                                                                                                                                                                                                                                                                                                                                                                                                                                                                                                                                                                                                                                                                                                                                                                                                                                                                                                         \n",
              "\n",
              "        CRIM     ZN  INDUS   NOX    RM    AGE   DIS   RAD     TAX  PTRATIO  \\\\n0   0.006 18.000  2.310 0.538 6.575 65.200 4.090 1.000 296.000   15.300   \\n1   0.027  0.000  7.070 0.469 6.421 78.900 4.967 2.000 242.000   17.800   \\n2   0.027  0.000  7.070 0.469 7.185 61.100 4.967 2.000 242.000   17.800   \\n3   0.032  0.000  2.180 0.458 6.998 45.800 6.062 3.000 222.000   18.700   \\n4   0.069  0.000  2.180 0.458 7.147 54.200 6.062 3.000 222.000   18.700   \\n..    ...    ...    ...   ...   ...    ...   ...   ...     ...      ...   \\n501 0.063  0.000 11.930 0.573 6.593 69.100 2.479 1.000 273.000   21.000   \\n502 0.045  0.000 11.930 0.573 6.120 76.700 2.288 1.000 273.000   21.000   \\n503 0.061  0.000 11.930 0.573 6.976 91.000 2.167 1.000 273.000   21.000   \\n504 0.110  0.000 11.930 0.573 6.794 89.300 2.389 1.000 273.000   21.000   \\n505 0.047  0.000 11.930 0.573 6.030 80.800 2.505 1.000 273.000   21.000   \\n\\n          B  LSTAT  \\n0   396.900  4.980  \\n1   396.900  9.140  \\n2   392.830  4.030  \\n3   394.630  2.940  \\n4   396.900  5.330  \\n..      ...    ...  \\n501 391.990  9.670  \\n502 396.900  9.080  \\n503 396.900  5.640  \\n504 393.450  6.480  \\n505 396.900  7.880  \\n\\n[506 rows x 12 columns]_ZN  \n",
              "0                                                  0                                                                                                                                                                                                                                                                                                                                                                                                                                                                                                                                                                                                                                                                                                                                                                                                                                                                                                                                                                                                                                                                                                                                                                                                       \n",
              "1                                                  1                                                                                                                                                                                                                                                                                                                                                                                                                                                                                                                                                                                                                                                                                                                                                                                                                                                                                                                                                                                                                                                                                                                                                                                                       \n",
              "2                                                  0                                                                                                                                                                                                                                                                                                                                                                                                                                                                                                                                                                                                                                                                                                                                                                                                                                                                                                                                                                                                                                                                                                                                                                                                       \n",
              "3                                                  0                                                                                                                                                                                                                                                                                                                                                                                                                                                                                                                                                                                                                                                                                                                                                                                                                                                                                                                                                                                                                                                                                                                                                                                                       \n",
              "4                                                  0                                                                                                                                                                                                                                                                                                                                                                                                                                                                                                                                                                                                                                                                                                                                                                                                                                                                                                                                                                                                                                                                                                                                                                                                       "
            ],
            "text/html": [
              "\n",
              "  <div id=\"df-f7346cfc-eb92-4dd7-8bae-295ef5af862e\">\n",
              "    <div class=\"colab-df-container\">\n",
              "      <div>\n",
              "<style scoped>\n",
              "    .dataframe tbody tr th:only-of-type {\n",
              "        vertical-align: middle;\n",
              "    }\n",
              "\n",
              "    .dataframe tbody tr th {\n",
              "        vertical-align: top;\n",
              "    }\n",
              "\n",
              "    .dataframe thead th {\n",
              "        text-align: right;\n",
              "    }\n",
              "</style>\n",
              "<table border=\"1\" class=\"dataframe\">\n",
              "  <thead>\n",
              "    <tr style=\"text-align: right;\">\n",
              "      <th></th>\n",
              "      <th>CRIM     ZN  INDUS   NOX    RM    AGE   DIS   RAD     TAX  PTRATIO  \\\\n0   0.006 18.000  2.310 0.538 6.575 65.200 4.090 1.000 296.000   15.300   \\n1   0.027  0.000  7.070 0.469 6.421 78.900 4.967 2.000 242.000   17.800   \\n2   0.027  0.000  7.070 0.469 7.185 61.100 4.967 2.000 242.000   17.800   \\n3   0.032  0.000  2.180 0.458 6.998 45.800 6.062 3.000 222.000   18.700   \\n4   0.069  0.000  2.180 0.458 7.147 54.200 6.062 3.000 222.000   18.700   \\n..    ...    ...    ...   ...   ...    ...   ...   ...     ...      ...   \\n501 0.063  0.000 11.930 0.573 6.593 69.100 2.479 1.000 273.000   21.000   \\n502 0.045  0.000 11.930 0.573 6.120 76.700 2.288 1.000 273.000   21.000   \\n503 0.061  0.000 11.930 0.573 6.976 91.000 2.167 1.000 273.000   21.000   \\n504 0.110  0.000 11.930 0.573 6.794 89.300 2.389 1.000 273.000   21.000   \\n505 0.047  0.000 11.930 0.573 6.030 80.800 2.505 1.000 273.000   21.000   \\n\\n          B  LSTAT  \\n0   396.900  4.980  \\n1   396.900  9.140  \\n2   392.830  4.030  \\n3   394.630  2.940  \\n4   396.900  5.330  \\n..      ...    ...  \\n501 391.990  9.670  \\n502 396.900  9.080  \\n503 396.900  5.640  \\n504 393.450  6.480  \\n505 396.900  7.880  \\n\\n[506 rows x 12 columns]_B</th>\n",
              "      <th>CRIM     ZN  INDUS   NOX    RM    AGE   DIS   RAD     TAX  PTRATIO  \\\\n0   0.006 18.000  2.310 0.538 6.575 65.200 4.090 1.000 296.000   15.300   \\n1   0.027  0.000  7.070 0.469 6.421 78.900 4.967 2.000 242.000   17.800   \\n2   0.027  0.000  7.070 0.469 7.185 61.100 4.967 2.000 242.000   17.800   \\n3   0.032  0.000  2.180 0.458 6.998 45.800 6.062 3.000 222.000   18.700   \\n4   0.069  0.000  2.180 0.458 7.147 54.200 6.062 3.000 222.000   18.700   \\n..    ...    ...    ...   ...   ...    ...   ...   ...     ...      ...   \\n501 0.063  0.000 11.930 0.573 6.593 69.100 2.479 1.000 273.000   21.000   \\n502 0.045  0.000 11.930 0.573 6.120 76.700 2.288 1.000 273.000   21.000   \\n503 0.061  0.000 11.930 0.573 6.976 91.000 2.167 1.000 273.000   21.000   \\n504 0.110  0.000 11.930 0.573 6.794 89.300 2.389 1.000 273.000   21.000   \\n505 0.047  0.000 11.930 0.573 6.030 80.800 2.505 1.000 273.000   21.000   \\n\\n          B  LSTAT  \\n0   396.900  4.980  \\n1   396.900  9.140  \\n2   392.830  4.030  \\n3   394.630  2.940  \\n4   396.900  5.330  \\n..      ...    ...  \\n501 391.990  9.670  \\n502 396.900  9.080  \\n503 396.900  5.640  \\n504 393.450  6.480  \\n505 396.900  7.880  \\n\\n[506 rows x 12 columns]_CRIM</th>\n",
              "      <th>CRIM     ZN  INDUS   NOX    RM    AGE   DIS   RAD     TAX  PTRATIO  \\\\n0   0.006 18.000  2.310 0.538 6.575 65.200 4.090 1.000 296.000   15.300   \\n1   0.027  0.000  7.070 0.469 6.421 78.900 4.967 2.000 242.000   17.800   \\n2   0.027  0.000  7.070 0.469 7.185 61.100 4.967 2.000 242.000   17.800   \\n3   0.032  0.000  2.180 0.458 6.998 45.800 6.062 3.000 222.000   18.700   \\n4   0.069  0.000  2.180 0.458 7.147 54.200 6.062 3.000 222.000   18.700   \\n..    ...    ...    ...   ...   ...    ...   ...   ...     ...      ...   \\n501 0.063  0.000 11.930 0.573 6.593 69.100 2.479 1.000 273.000   21.000   \\n502 0.045  0.000 11.930 0.573 6.120 76.700 2.288 1.000 273.000   21.000   \\n503 0.061  0.000 11.930 0.573 6.976 91.000 2.167 1.000 273.000   21.000   \\n504 0.110  0.000 11.930 0.573 6.794 89.300 2.389 1.000 273.000   21.000   \\n505 0.047  0.000 11.930 0.573 6.030 80.800 2.505 1.000 273.000   21.000   \\n\\n          B  LSTAT  \\n0   396.900  4.980  \\n1   396.900  9.140  \\n2   392.830  4.030  \\n3   394.630  2.940  \\n4   396.900  5.330  \\n..      ...    ...  \\n501 391.990  9.670  \\n502 396.900  9.080  \\n503 396.900  5.640  \\n504 393.450  6.480  \\n505 396.900  7.880  \\n\\n[506 rows x 12 columns]_DIS</th>\n",
              "      <th>CRIM     ZN  INDUS   NOX    RM    AGE   DIS   RAD     TAX  PTRATIO  \\\\n0   0.006 18.000  2.310 0.538 6.575 65.200 4.090 1.000 296.000   15.300   \\n1   0.027  0.000  7.070 0.469 6.421 78.900 4.967 2.000 242.000   17.800   \\n2   0.027  0.000  7.070 0.469 7.185 61.100 4.967 2.000 242.000   17.800   \\n3   0.032  0.000  2.180 0.458 6.998 45.800 6.062 3.000 222.000   18.700   \\n4   0.069  0.000  2.180 0.458 7.147 54.200 6.062 3.000 222.000   18.700   \\n..    ...    ...    ...   ...   ...    ...   ...   ...     ...      ...   \\n501 0.063  0.000 11.930 0.573 6.593 69.100 2.479 1.000 273.000   21.000   \\n502 0.045  0.000 11.930 0.573 6.120 76.700 2.288 1.000 273.000   21.000   \\n503 0.061  0.000 11.930 0.573 6.976 91.000 2.167 1.000 273.000   21.000   \\n504 0.110  0.000 11.930 0.573 6.794 89.300 2.389 1.000 273.000   21.000   \\n505 0.047  0.000 11.930 0.573 6.030 80.800 2.505 1.000 273.000   21.000   \\n\\n          B  LSTAT  \\n0   396.900  4.980  \\n1   396.900  9.140  \\n2   392.830  4.030  \\n3   394.630  2.940  \\n4   396.900  5.330  \\n..      ...    ...  \\n501 391.990  9.670  \\n502 396.900  9.080  \\n503 396.900  5.640  \\n504 393.450  6.480  \\n505 396.900  7.880  \\n\\n[506 rows x 12 columns]_INDUS</th>\n",
              "      <th>CRIM     ZN  INDUS   NOX    RM    AGE   DIS   RAD     TAX  PTRATIO  \\\\n0   0.006 18.000  2.310 0.538 6.575 65.200 4.090 1.000 296.000   15.300   \\n1   0.027  0.000  7.070 0.469 6.421 78.900 4.967 2.000 242.000   17.800   \\n2   0.027  0.000  7.070 0.469 7.185 61.100 4.967 2.000 242.000   17.800   \\n3   0.032  0.000  2.180 0.458 6.998 45.800 6.062 3.000 222.000   18.700   \\n4   0.069  0.000  2.180 0.458 7.147 54.200 6.062 3.000 222.000   18.700   \\n..    ...    ...    ...   ...   ...    ...   ...   ...     ...      ...   \\n501 0.063  0.000 11.930 0.573 6.593 69.100 2.479 1.000 273.000   21.000   \\n502 0.045  0.000 11.930 0.573 6.120 76.700 2.288 1.000 273.000   21.000   \\n503 0.061  0.000 11.930 0.573 6.976 91.000 2.167 1.000 273.000   21.000   \\n504 0.110  0.000 11.930 0.573 6.794 89.300 2.389 1.000 273.000   21.000   \\n505 0.047  0.000 11.930 0.573 6.030 80.800 2.505 1.000 273.000   21.000   \\n\\n          B  LSTAT  \\n0   396.900  4.980  \\n1   396.900  9.140  \\n2   392.830  4.030  \\n3   394.630  2.940  \\n4   396.900  5.330  \\n..      ...    ...  \\n501 391.990  9.670  \\n502 396.900  9.080  \\n503 396.900  5.640  \\n504 393.450  6.480  \\n505 396.900  7.880  \\n\\n[506 rows x 12 columns]_LSTAT</th>\n",
              "      <th>CRIM     ZN  INDUS   NOX    RM    AGE   DIS   RAD     TAX  PTRATIO  \\\\n0   0.006 18.000  2.310 0.538 6.575 65.200 4.090 1.000 296.000   15.300   \\n1   0.027  0.000  7.070 0.469 6.421 78.900 4.967 2.000 242.000   17.800   \\n2   0.027  0.000  7.070 0.469 7.185 61.100 4.967 2.000 242.000   17.800   \\n3   0.032  0.000  2.180 0.458 6.998 45.800 6.062 3.000 222.000   18.700   \\n4   0.069  0.000  2.180 0.458 7.147 54.200 6.062 3.000 222.000   18.700   \\n..    ...    ...    ...   ...   ...    ...   ...   ...     ...      ...   \\n501 0.063  0.000 11.930 0.573 6.593 69.100 2.479 1.000 273.000   21.000   \\n502 0.045  0.000 11.930 0.573 6.120 76.700 2.288 1.000 273.000   21.000   \\n503 0.061  0.000 11.930 0.573 6.976 91.000 2.167 1.000 273.000   21.000   \\n504 0.110  0.000 11.930 0.573 6.794 89.300 2.389 1.000 273.000   21.000   \\n505 0.047  0.000 11.930 0.573 6.030 80.800 2.505 1.000 273.000   21.000   \\n\\n          B  LSTAT  \\n0   396.900  4.980  \\n1   396.900  9.140  \\n2   392.830  4.030  \\n3   394.630  2.940  \\n4   396.900  5.330  \\n..      ...    ...  \\n501 391.990  9.670  \\n502 396.900  9.080  \\n503 396.900  5.640  \\n504 393.450  6.480  \\n505 396.900  7.880  \\n\\n[506 rows x 12 columns]_NOX</th>\n",
              "      <th>CRIM     ZN  INDUS   NOX    RM    AGE   DIS   RAD     TAX  PTRATIO  \\\\n0   0.006 18.000  2.310 0.538 6.575 65.200 4.090 1.000 296.000   15.300   \\n1   0.027  0.000  7.070 0.469 6.421 78.900 4.967 2.000 242.000   17.800   \\n2   0.027  0.000  7.070 0.469 7.185 61.100 4.967 2.000 242.000   17.800   \\n3   0.032  0.000  2.180 0.458 6.998 45.800 6.062 3.000 222.000   18.700   \\n4   0.069  0.000  2.180 0.458 7.147 54.200 6.062 3.000 222.000   18.700   \\n..    ...    ...    ...   ...   ...    ...   ...   ...     ...      ...   \\n501 0.063  0.000 11.930 0.573 6.593 69.100 2.479 1.000 273.000   21.000   \\n502 0.045  0.000 11.930 0.573 6.120 76.700 2.288 1.000 273.000   21.000   \\n503 0.061  0.000 11.930 0.573 6.976 91.000 2.167 1.000 273.000   21.000   \\n504 0.110  0.000 11.930 0.573 6.794 89.300 2.389 1.000 273.000   21.000   \\n505 0.047  0.000 11.930 0.573 6.030 80.800 2.505 1.000 273.000   21.000   \\n\\n          B  LSTAT  \\n0   396.900  4.980  \\n1   396.900  9.140  \\n2   392.830  4.030  \\n3   394.630  2.940  \\n4   396.900  5.330  \\n..      ...    ...  \\n501 391.990  9.670  \\n502 396.900  9.080  \\n503 396.900  5.640  \\n504 393.450  6.480  \\n505 396.900  7.880  \\n\\n[506 rows x 12 columns]_PTRATIO</th>\n",
              "      <th>CRIM     ZN  INDUS   NOX    RM    AGE   DIS   RAD     TAX  PTRATIO  \\\\n0   0.006 18.000  2.310 0.538 6.575 65.200 4.090 1.000 296.000   15.300   \\n1   0.027  0.000  7.070 0.469 6.421 78.900 4.967 2.000 242.000   17.800   \\n2   0.027  0.000  7.070 0.469 7.185 61.100 4.967 2.000 242.000   17.800   \\n3   0.032  0.000  2.180 0.458 6.998 45.800 6.062 3.000 222.000   18.700   \\n4   0.069  0.000  2.180 0.458 7.147 54.200 6.062 3.000 222.000   18.700   \\n..    ...    ...    ...   ...   ...    ...   ...   ...     ...      ...   \\n501 0.063  0.000 11.930 0.573 6.593 69.100 2.479 1.000 273.000   21.000   \\n502 0.045  0.000 11.930 0.573 6.120 76.700 2.288 1.000 273.000   21.000   \\n503 0.061  0.000 11.930 0.573 6.976 91.000 2.167 1.000 273.000   21.000   \\n504 0.110  0.000 11.930 0.573 6.794 89.300 2.389 1.000 273.000   21.000   \\n505 0.047  0.000 11.930 0.573 6.030 80.800 2.505 1.000 273.000   21.000   \\n\\n          B  LSTAT  \\n0   396.900  4.980  \\n1   396.900  9.140  \\n2   392.830  4.030  \\n3   394.630  2.940  \\n4   396.900  5.330  \\n..      ...    ...  \\n501 391.990  9.670  \\n502 396.900  9.080  \\n503 396.900  5.640  \\n504 393.450  6.480  \\n505 396.900  7.880  \\n\\n[506 rows x 12 columns]_RAD</th>\n",
              "      <th>CRIM     ZN  INDUS   NOX    RM    AGE   DIS   RAD     TAX  PTRATIO  \\\\n0   0.006 18.000  2.310 0.538 6.575 65.200 4.090 1.000 296.000   15.300   \\n1   0.027  0.000  7.070 0.469 6.421 78.900 4.967 2.000 242.000   17.800   \\n2   0.027  0.000  7.070 0.469 7.185 61.100 4.967 2.000 242.000   17.800   \\n3   0.032  0.000  2.180 0.458 6.998 45.800 6.062 3.000 222.000   18.700   \\n4   0.069  0.000  2.180 0.458 7.147 54.200 6.062 3.000 222.000   18.700   \\n..    ...    ...    ...   ...   ...    ...   ...   ...     ...      ...   \\n501 0.063  0.000 11.930 0.573 6.593 69.100 2.479 1.000 273.000   21.000   \\n502 0.045  0.000 11.930 0.573 6.120 76.700 2.288 1.000 273.000   21.000   \\n503 0.061  0.000 11.930 0.573 6.976 91.000 2.167 1.000 273.000   21.000   \\n504 0.110  0.000 11.930 0.573 6.794 89.300 2.389 1.000 273.000   21.000   \\n505 0.047  0.000 11.930 0.573 6.030 80.800 2.505 1.000 273.000   21.000   \\n\\n          B  LSTAT  \\n0   396.900  4.980  \\n1   396.900  9.140  \\n2   392.830  4.030  \\n3   394.630  2.940  \\n4   396.900  5.330  \\n..      ...    ...  \\n501 391.990  9.670  \\n502 396.900  9.080  \\n503 396.900  5.640  \\n504 393.450  6.480  \\n505 396.900  7.880  \\n\\n[506 rows x 12 columns]_RM</th>\n",
              "      <th>CRIM     ZN  INDUS   NOX    RM    AGE   DIS   RAD     TAX  PTRATIO  \\\\n0   0.006 18.000  2.310 0.538 6.575 65.200 4.090 1.000 296.000   15.300   \\n1   0.027  0.000  7.070 0.469 6.421 78.900 4.967 2.000 242.000   17.800   \\n2   0.027  0.000  7.070 0.469 7.185 61.100 4.967 2.000 242.000   17.800   \\n3   0.032  0.000  2.180 0.458 6.998 45.800 6.062 3.000 222.000   18.700   \\n4   0.069  0.000  2.180 0.458 7.147 54.200 6.062 3.000 222.000   18.700   \\n..    ...    ...    ...   ...   ...    ...   ...   ...     ...      ...   \\n501 0.063  0.000 11.930 0.573 6.593 69.100 2.479 1.000 273.000   21.000   \\n502 0.045  0.000 11.930 0.573 6.120 76.700 2.288 1.000 273.000   21.000   \\n503 0.061  0.000 11.930 0.573 6.976 91.000 2.167 1.000 273.000   21.000   \\n504 0.110  0.000 11.930 0.573 6.794 89.300 2.389 1.000 273.000   21.000   \\n505 0.047  0.000 11.930 0.573 6.030 80.800 2.505 1.000 273.000   21.000   \\n\\n          B  LSTAT  \\n0   396.900  4.980  \\n1   396.900  9.140  \\n2   392.830  4.030  \\n3   394.630  2.940  \\n4   396.900  5.330  \\n..      ...    ...  \\n501 391.990  9.670  \\n502 396.900  9.080  \\n503 396.900  5.640  \\n504 393.450  6.480  \\n505 396.900  7.880  \\n\\n[506 rows x 12 columns]_TAX</th>\n",
              "      <th>CRIM     ZN  INDUS   NOX    RM    AGE   DIS   RAD     TAX  PTRATIO  \\\\n0   0.006 18.000  2.310 0.538 6.575 65.200 4.090 1.000 296.000   15.300   \\n1   0.027  0.000  7.070 0.469 6.421 78.900 4.967 2.000 242.000   17.800   \\n2   0.027  0.000  7.070 0.469 7.185 61.100 4.967 2.000 242.000   17.800   \\n3   0.032  0.000  2.180 0.458 6.998 45.800 6.062 3.000 222.000   18.700   \\n4   0.069  0.000  2.180 0.458 7.147 54.200 6.062 3.000 222.000   18.700   \\n..    ...    ...    ...   ...   ...    ...   ...   ...     ...      ...   \\n501 0.063  0.000 11.930 0.573 6.593 69.100 2.479 1.000 273.000   21.000   \\n502 0.045  0.000 11.930 0.573 6.120 76.700 2.288 1.000 273.000   21.000   \\n503 0.061  0.000 11.930 0.573 6.976 91.000 2.167 1.000 273.000   21.000   \\n504 0.110  0.000 11.930 0.573 6.794 89.300 2.389 1.000 273.000   21.000   \\n505 0.047  0.000 11.930 0.573 6.030 80.800 2.505 1.000 273.000   21.000   \\n\\n          B  LSTAT  \\n0   396.900  4.980  \\n1   396.900  9.140  \\n2   392.830  4.030  \\n3   394.630  2.940  \\n4   396.900  5.330  \\n..      ...    ...  \\n501 391.990  9.670  \\n502 396.900  9.080  \\n503 396.900  5.640  \\n504 393.450  6.480  \\n505 396.900  7.880  \\n\\n[506 rows x 12 columns]_ZN</th>\n",
              "    </tr>\n",
              "  </thead>\n",
              "  <tbody>\n",
              "    <tr>\n",
              "      <th>0</th>\n",
              "      <td>0</td>\n",
              "      <td>1</td>\n",
              "      <td>0</td>\n",
              "      <td>0</td>\n",
              "      <td>0</td>\n",
              "      <td>0</td>\n",
              "      <td>0</td>\n",
              "      <td>0</td>\n",
              "      <td>0</td>\n",
              "      <td>0</td>\n",
              "      <td>0</td>\n",
              "    </tr>\n",
              "    <tr>\n",
              "      <th>1</th>\n",
              "      <td>0</td>\n",
              "      <td>0</td>\n",
              "      <td>0</td>\n",
              "      <td>0</td>\n",
              "      <td>0</td>\n",
              "      <td>0</td>\n",
              "      <td>0</td>\n",
              "      <td>0</td>\n",
              "      <td>0</td>\n",
              "      <td>0</td>\n",
              "      <td>1</td>\n",
              "    </tr>\n",
              "    <tr>\n",
              "      <th>2</th>\n",
              "      <td>0</td>\n",
              "      <td>0</td>\n",
              "      <td>0</td>\n",
              "      <td>1</td>\n",
              "      <td>0</td>\n",
              "      <td>0</td>\n",
              "      <td>0</td>\n",
              "      <td>0</td>\n",
              "      <td>0</td>\n",
              "      <td>0</td>\n",
              "      <td>0</td>\n",
              "    </tr>\n",
              "    <tr>\n",
              "      <th>3</th>\n",
              "      <td>0</td>\n",
              "      <td>0</td>\n",
              "      <td>0</td>\n",
              "      <td>0</td>\n",
              "      <td>0</td>\n",
              "      <td>1</td>\n",
              "      <td>0</td>\n",
              "      <td>0</td>\n",
              "      <td>0</td>\n",
              "      <td>0</td>\n",
              "      <td>0</td>\n",
              "    </tr>\n",
              "    <tr>\n",
              "      <th>4</th>\n",
              "      <td>0</td>\n",
              "      <td>0</td>\n",
              "      <td>0</td>\n",
              "      <td>0</td>\n",
              "      <td>0</td>\n",
              "      <td>0</td>\n",
              "      <td>0</td>\n",
              "      <td>0</td>\n",
              "      <td>1</td>\n",
              "      <td>0</td>\n",
              "      <td>0</td>\n",
              "    </tr>\n",
              "  </tbody>\n",
              "</table>\n",
              "</div>\n",
              "      <button class=\"colab-df-convert\" onclick=\"convertToInteractive('df-f7346cfc-eb92-4dd7-8bae-295ef5af862e')\"\n",
              "              title=\"Convert this dataframe to an interactive table.\"\n",
              "              style=\"display:none;\">\n",
              "        \n",
              "  <svg xmlns=\"http://www.w3.org/2000/svg\" height=\"24px\"viewBox=\"0 0 24 24\"\n",
              "       width=\"24px\">\n",
              "    <path d=\"M0 0h24v24H0V0z\" fill=\"none\"/>\n",
              "    <path d=\"M18.56 5.44l.94 2.06.94-2.06 2.06-.94-2.06-.94-.94-2.06-.94 2.06-2.06.94zm-11 1L8.5 8.5l.94-2.06 2.06-.94-2.06-.94L8.5 2.5l-.94 2.06-2.06.94zm10 10l.94 2.06.94-2.06 2.06-.94-2.06-.94-.94-2.06-.94 2.06-2.06.94z\"/><path d=\"M17.41 7.96l-1.37-1.37c-.4-.4-.92-.59-1.43-.59-.52 0-1.04.2-1.43.59L10.3 9.45l-7.72 7.72c-.78.78-.78 2.05 0 2.83L4 21.41c.39.39.9.59 1.41.59.51 0 1.02-.2 1.41-.59l7.78-7.78 2.81-2.81c.8-.78.8-2.07 0-2.86zM5.41 20L4 18.59l7.72-7.72 1.47 1.35L5.41 20z\"/>\n",
              "  </svg>\n",
              "      </button>\n",
              "      \n",
              "  <style>\n",
              "    .colab-df-container {\n",
              "      display:flex;\n",
              "      flex-wrap:wrap;\n",
              "      gap: 12px;\n",
              "    }\n",
              "\n",
              "    .colab-df-convert {\n",
              "      background-color: #E8F0FE;\n",
              "      border: none;\n",
              "      border-radius: 50%;\n",
              "      cursor: pointer;\n",
              "      display: none;\n",
              "      fill: #1967D2;\n",
              "      height: 32px;\n",
              "      padding: 0 0 0 0;\n",
              "      width: 32px;\n",
              "    }\n",
              "\n",
              "    .colab-df-convert:hover {\n",
              "      background-color: #E2EBFA;\n",
              "      box-shadow: 0px 1px 2px rgba(60, 64, 67, 0.3), 0px 1px 3px 1px rgba(60, 64, 67, 0.15);\n",
              "      fill: #174EA6;\n",
              "    }\n",
              "\n",
              "    [theme=dark] .colab-df-convert {\n",
              "      background-color: #3B4455;\n",
              "      fill: #D2E3FC;\n",
              "    }\n",
              "\n",
              "    [theme=dark] .colab-df-convert:hover {\n",
              "      background-color: #434B5C;\n",
              "      box-shadow: 0px 1px 3px 1px rgba(0, 0, 0, 0.15);\n",
              "      filter: drop-shadow(0px 1px 2px rgba(0, 0, 0, 0.3));\n",
              "      fill: #FFFFFF;\n",
              "    }\n",
              "  </style>\n",
              "\n",
              "      <script>\n",
              "        const buttonEl =\n",
              "          document.querySelector('#df-f7346cfc-eb92-4dd7-8bae-295ef5af862e button.colab-df-convert');\n",
              "        buttonEl.style.display =\n",
              "          google.colab.kernel.accessAllowed ? 'block' : 'none';\n",
              "\n",
              "        async function convertToInteractive(key) {\n",
              "          const element = document.querySelector('#df-f7346cfc-eb92-4dd7-8bae-295ef5af862e');\n",
              "          const dataTable =\n",
              "            await google.colab.kernel.invokeFunction('convertToInteractive',\n",
              "                                                     [key], {});\n",
              "          if (!dataTable) return;\n",
              "\n",
              "          const docLinkHtml = 'Like what you see? Visit the ' +\n",
              "            '<a target=\"_blank\" href=https://colab.research.google.com/notebooks/data_table.ipynb>data table notebook</a>'\n",
              "            + ' to learn more about interactive tables.';\n",
              "          element.innerHTML = '';\n",
              "          dataTable['output_type'] = 'display_data';\n",
              "          await google.colab.output.renderOutput(dataTable, element);\n",
              "          const docLink = document.createElement('div');\n",
              "          docLink.innerHTML = docLinkHtml;\n",
              "          element.appendChild(docLink);\n",
              "        }\n",
              "      </script>\n",
              "    </div>\n",
              "  </div>\n",
              "  "
            ]
          },
          "metadata": {},
          "execution_count": 25
        }
      ]
    },
    {
      "cell_type": "code",
      "source": [
        "features_col = features_dummy.columns"
      ],
      "metadata": {
        "id": "r58L-C8C6NoW"
      },
      "execution_count": null,
      "outputs": []
    },
    {
      "cell_type": "markdown",
      "source": [
        "변수들의 표준화\n",
        "\n",
        "```\n",
        "# 코드로 형식 지정됨\n",
        "```\n",
        "\n"
      ],
      "metadata": {
        "id": "rWcpM9fm8dLZ"
      }
    },
    {
      "cell_type": "code",
      "source": [
        "#from sklearn.preprocessing import MinMaxScaler\n",
        "from sklearn.preprocessing import StandardScaler\n",
        "#scaler_minmax=MinMaxScaler()\n",
        "scaler_standard=StandardScaler()"
      ],
      "metadata": {
        "id": "eYLOCwDh4WjR"
      },
      "execution_count": null,
      "outputs": []
    },
    {
      "cell_type": "code",
      "source": [
        "scaler_standard.fit(feature_dummy)\n",
        "features_scaled=scaler_standard.transform(feature_dummy)\n",
        "print(features_scaled.shape)\n",
        "print(feature_dummy[:6])\n",
        "features_scaled[:6]"
      ],
      "metadata": {
        "id": "XqWeb6gH4bML",
        "colab": {
          "base_uri": "https://localhost:8080/"
        },
        "outputId": "1b631ec5-fcb2-47f8-8224-96f8e808fa4c"
      },
      "execution_count": null,
      "outputs": [
        {
          "output_type": "stream",
          "name": "stdout",
          "text": [
            "(506, 13)\n",
            "   CRIM     ZN  INDUS  CHAS   NOX    RM    AGE   DIS   RAD     TAX  PTRATIO  \\\n",
            "0 0.006 18.000  2.310 0.000 0.538 6.575 65.200 4.090 1.000 296.000   15.300   \n",
            "1 0.027  0.000  7.070 0.000 0.469 6.421 78.900 4.967 2.000 242.000   17.800   \n",
            "2 0.027  0.000  7.070 0.000 0.469 7.185 61.100 4.967 2.000 242.000   17.800   \n",
            "3 0.032  0.000  2.180 0.000 0.458 6.998 45.800 6.062 3.000 222.000   18.700   \n",
            "4 0.069  0.000  2.180 0.000 0.458 7.147 54.200 6.062 3.000 222.000   18.700   \n",
            "5 0.030  0.000  2.180 0.000 0.458 6.430 58.700 6.062 3.000 222.000   18.700   \n",
            "\n",
            "        B  LSTAT  \n",
            "0 396.900  4.980  \n",
            "1 396.900  9.140  \n",
            "2 392.830  4.030  \n",
            "3 394.630  2.940  \n",
            "4 396.900  5.330  \n",
            "5 394.120  5.210  \n"
          ]
        },
        {
          "output_type": "execute_result",
          "data": {
            "text/plain": [
              "array([[-0.41978194,  0.28482986, -1.2879095 , -0.27259857, -0.14421743,\n",
              "         0.41367189, -0.12001342,  0.1402136 , -0.98284286, -0.66660821,\n",
              "        -1.45900038,  0.44105193, -1.0755623 ],\n",
              "       [-0.41733926, -0.48772236, -0.59338101, -0.27259857, -0.74026221,\n",
              "         0.19427445,  0.36716642,  0.55715988, -0.8678825 , -0.98732948,\n",
              "        -0.30309415,  0.44105193, -0.49243937],\n",
              "       [-0.41734159, -0.48772236, -0.59338101, -0.27259857, -0.74026221,\n",
              "         1.28271368, -0.26581176,  0.55715988, -0.8678825 , -0.98732948,\n",
              "        -0.30309415,  0.39642699, -1.2087274 ],\n",
              "       [-0.41675042, -0.48772236, -1.30687771, -0.27259857, -0.83528384,\n",
              "         1.01630251, -0.80988851,  1.07773662, -0.75292215, -1.10611514,\n",
              "         0.1130321 ,  0.41616284, -1.36151682],\n",
              "       [-0.41248185, -0.48772236, -1.30687771, -0.27259857, -0.83528384,\n",
              "         1.22857665, -0.51117971,  1.07773662, -0.75292215, -1.10611514,\n",
              "         0.1130321 ,  0.44105193, -1.02650148],\n",
              "       [-0.41704368, -0.48772236, -1.30687771, -0.27259857, -0.83528384,\n",
              "         0.20709638, -0.35115713,  1.07773662, -0.75292215, -1.10611514,\n",
              "         0.1130321 ,  0.41057102, -1.04332233]])"
            ]
          },
          "metadata": {},
          "execution_count": 29
        }
      ]
    },
    {
      "cell_type": "markdown",
      "source": [
        "분석하는 feature들의 단위가 서로 다를 수 있으므로 단위를 표준화할 필요가 있는데 이를 표준화라고 함. 한편 표준화 방법에는 여러가지 있음. 여기서는 `StandardScaler : 각 특성의 평균을 0, 분산을 1로 변경하여 특성의 스케일을 맞춥니다.`를 사용함"
      ],
      "metadata": {
        "id": "N443EEs5W3xB"
      }
    },
    {
      "cell_type": "code",
      "source": [
        "feature_dummy = feature_dummy.astype(dtype='int32')"
      ],
      "metadata": {
        "id": "52SoenW-7J5J"
      },
      "execution_count": null,
      "outputs": []
    },
    {
      "cell_type": "code",
      "source": [
        "target_dummy = target_dummy.astype(dtype='int32')"
      ],
      "metadata": {
        "id": "RbQLmdzc8MeQ"
      },
      "execution_count": null,
      "outputs": []
    },
    {
      "cell_type": "markdown",
      "source": [
        "boston 데이터의 경우 모든 column가 float(실수) 타입으로 되어있다. float의 데이터 타입은 분석에 어려움이 생기는데, 그러한 문제점을 해결하기 위해서는 모든 column을 int(정수)로 변환한다."
      ],
      "metadata": {
        "id": "Z3uYJ-oROJni"
      }
    },
    {
      "cell_type": "markdown",
      "source": [
        "## 훈련/테스트 셋 분류"
      ],
      "metadata": {
        "id": "VMkab7JsRY41"
      }
    },
    {
      "cell_type": "code",
      "source": [
        "# import the train-test split\n",
        "from sklearn.model_selection import train_test_split\n",
        "\n",
        "# divide into train and test sets\n",
        "features_scaled_train, features_scaled_test, target_train, target_test = train_test_split(feature_dummy, target_dummy, random_state=42)#, test_size=0.2, stratify=y\n",
        "# 중요한 것은 42를 사용할 때마다 처음 분할 할 때 항상 동일한 출력을 얻는다\n",
        "# stratify=Y로 설정하면 나누어진 데이터셋들도 0과 1을 각각 25%, 75%로 유지한 채 분할된다\n",
        "# test_size : 테스트 데이터셋의 비율(float)이나 갯수(int) (default = 0.25)\n",
        "# test_size와 stratify는 필요한 옵션이지만 데이터가 적은 경우 에러가 발생될 수 있음"
      ],
      "metadata": {
        "id": "3ZzOQAbURbNL"
      },
      "execution_count": null,
      "outputs": []
    },
    {
      "cell_type": "markdown",
      "source": [
        "X_scaled과 y에 대해 train_test_split을 실행하면 총 4개의 데이터셋\n",
        "\n",
        "(features_scaled_train, features_scaled_test, target_train, target_test)이 생성된다."
      ],
      "metadata": {
        "id": "szoltMnqP8jA"
      }
    },
    {
      "cell_type": "code",
      "source": [
        "print(features_scaled_train[:6])\n",
        "print(target_train[:6])\n",
        "#print(pd.concat(features_train[:6],target_train[:6]))"
      ],
      "metadata": {
        "colab": {
          "base_uri": "https://localhost:8080/"
        },
        "id": "LZJ5g1OGnWs1",
        "outputId": "224470d5-dee9-4754-ff7d-c2c28310ae53"
      },
      "execution_count": null,
      "outputs": [
        {
          "output_type": "stream",
          "name": "stdout",
          "text": [
            "     CRIM  ZN  INDUS  CHAS  NOX  RM  AGE  DIS  RAD  TAX  PTRATIO    B  LSTAT\n",
            "182     0   0      2     0    0   7   92    2    3  193       17  394      4\n",
            "155     3   0     19     1    0   6   82    1    5  403       14   88     15\n",
            "280     0  20      3     0    0   7   64    4    5  216       14  387      3\n",
            "126     0   0     25     0    0   5   95    1    2  188       19  359     27\n",
            "329     0   0      3     0    0   6   17    5    4  430       16  375      7\n",
            "31      1   0      8     0    0   6  100    4    4  307       21  376     13\n",
            "     MEDV\n",
            "182    37\n",
            "155    15\n",
            "280    45\n",
            "126    15\n",
            "329    22\n",
            "31     14\n"
          ]
        }
      ]
    },
    {
      "cell_type": "code",
      "source": [
        "print(features_scaled_test[:6])\n",
        "print(target_test[:6])"
      ],
      "metadata": {
        "colab": {
          "base_uri": "https://localhost:8080/"
        },
        "id": "WXpWMNfLQ5jk",
        "outputId": "16e59064-4040-47e7-ce96-0d97d5bf8177"
      },
      "execution_count": null,
      "outputs": [
        {
          "output_type": "stream",
          "name": "stdout",
          "text": [
            "     CRIM  ZN  INDUS  CHAS  NOX  RM  AGE  DIS  RAD  TAX  PTRATIO    B  LSTAT\n",
            "173     0   0      4     0    0   6   84    2    5  296       16  395      9\n",
            "274     0  40      6     1    0   6   32    4    4  254       17  396      3\n",
            "491     0   0     27     0    0   5   98    1    4  711       20  390     18\n",
            "72      0   0     10     0    0   6    7    5    4  305       19  390      5\n",
            "452     5   0     18     0    0   6   91    2   24  666       20  385     17\n",
            "76      0   0     12     0    0   6   74    4    5  398       18  373     11\n",
            "     MEDV\n",
            "173    23\n",
            "274    32\n",
            "491    13\n",
            "72     22\n",
            "452    16\n",
            "76     20\n"
          ]
        }
      ]
    },
    {
      "cell_type": "code",
      "source": [
        "print(features_scaled_train.shape)\n",
        "print(target_train.shape)"
      ],
      "metadata": {
        "colab": {
          "base_uri": "https://localhost:8080/"
        },
        "id": "KY7TPFXdRCNg",
        "outputId": "d2a7b0ca-9d6d-4fbf-845e-e5f5e5b6e617"
      },
      "execution_count": null,
      "outputs": [
        {
          "output_type": "stream",
          "name": "stdout",
          "text": [
            "(379, 13)\n",
            "(379, 1)\n"
          ]
        }
      ]
    },
    {
      "cell_type": "code",
      "source": [
        "print(features_scaled_test.shape)\n",
        "print(target_test.shape)"
      ],
      "metadata": {
        "colab": {
          "base_uri": "https://localhost:8080/"
        },
        "id": "EqOAI7cyRMDw",
        "outputId": "08240f63-7272-4894-d305-4f7f15fd40d6"
      },
      "execution_count": null,
      "outputs": [
        {
          "output_type": "stream",
          "name": "stdout",
          "text": [
            "(127, 13)\n",
            "(127, 1)\n"
          ]
        }
      ]
    },
    {
      "cell_type": "code",
      "source": [
        "y_train = target_train.apply(lambda x : round(x)) \n",
        "y_test = target_test.apply(lambda x : round(x))   \n",
        "\n",
        "y_train[(y_train>0) & (y_train<=10)] = 0     \n",
        "y_train[(y_train>10) & (y_train<=20)] = 1\n",
        "y_train[(y_train>20) & (y_train<=30)] = 2\n",
        "y_train[(y_train>30) & (y_train<=40)] = 3\n",
        "y_train[(y_train>40) & (y_train<=50)] = 4\n",
        "\n",
        "\n",
        "y_test[(y_test>0) & (y_test<=10)] = 0         \n",
        "y_test[(y_test>10) & (y_test<=20)] = 1\n",
        "y_test[(y_test>20) & (y_test<=30)] = 2\n",
        "y_test[(y_test>30) & (y_test<=40)] = 3\n",
        "y_test[(y_test>40) & (y_test<=50)] = 4"
      ],
      "metadata": {
        "id": "HHNo9f2I9HBq"
      },
      "execution_count": null,
      "outputs": []
    },
    {
      "cell_type": "markdown",
      "source": [
        "classification을 진행할때는 label이 int(정수) 타입이 되어야하는데, boston 데이터의 경우 모든 columns가 float(실수) 타입으로 되어있다. 그러한 문제점을 해결하기 위해서는 모든 column을 int(정수)로 변환하면 되지만, 연속형이기때문에 label이 너무 많아 정확한 예측이 힘들기 때문에 예측값이 굉장히 낮게 나오는 문제가 생긴다. 따라서 Y축의 MEDV 값을 먼저 int형으로 변경한뒤, 다시 범주형으로 쪼개어 사용하여야 한다.\n",
        "\n",
        "Ex) 0-10은 1, 10-20은 2, 20-30은 3 과 같이 바꾸어야 조금이라도 더 정확한 모델이 나오게 된다."
      ],
      "metadata": {
        "id": "HZ0LepPe_yg0"
      }
    },
    {
      "cell_type": "markdown",
      "source": [
        "### 지도학습중 범주분류 예측"
      ],
      "metadata": {
        "id": "EjxAOGNvhISr"
      }
    },
    {
      "cell_type": "markdown",
      "source": [
        "#### 로지스틱 회귀분석"
      ],
      "metadata": {
        "id": "mlmFBx-AgM9i"
      }
    },
    {
      "cell_type": "code",
      "source": [
        "from sklearn.linear_model import LogisticRegression\n",
        "from sklearn.metrics import f1_score\n",
        "LR_cate1 = LogisticRegression() # 기본치인 n_neighbors=5가 생략되어 있음"
      ],
      "metadata": {
        "id": "WxjRwF3NgYUH"
      },
      "execution_count": null,
      "outputs": []
    },
    {
      "cell_type": "code",
      "source": [
        "LR_cate1.fit(features_scaled_train, y_train) # fit함수: 모델추정\n",
        "LR_cate1.score(features_scaled_train, y_train) # 분류된 모델의 정확도를 측정"
      ],
      "metadata": {
        "colab": {
          "base_uri": "https://localhost:8080/"
        },
        "outputId": "2f04b65f-939d-42b5-d196-ef2ea459779b",
        "id": "zPwVXnx6gYUI"
      },
      "execution_count": null,
      "outputs": [
        {
          "output_type": "stream",
          "name": "stderr",
          "text": [
            "/usr/local/lib/python3.8/dist-packages/sklearn/utils/validation.py:993: DataConversionWarning: A column-vector y was passed when a 1d array was expected. Please change the shape of y to (n_samples, ), for example using ravel().\n",
            "  y = column_or_1d(y, warn=True)\n",
            "/usr/local/lib/python3.8/dist-packages/sklearn/linear_model/_logistic.py:814: ConvergenceWarning: lbfgs failed to converge (status=1):\n",
            "STOP: TOTAL NO. of ITERATIONS REACHED LIMIT.\n",
            "\n",
            "Increase the number of iterations (max_iter) or scale the data as shown in:\n",
            "    https://scikit-learn.org/stable/modules/preprocessing.html\n",
            "Please also refer to the documentation for alternative solver options:\n",
            "    https://scikit-learn.org/stable/modules/linear_model.html#logistic-regression\n",
            "  n_iter_i = _check_optimize_result(\n"
          ]
        },
        {
          "output_type": "execute_result",
          "data": {
            "text/plain": [
              "0.6701846965699209"
            ]
          },
          "metadata": {},
          "execution_count": 47
        }
      ]
    },
    {
      "cell_type": "code",
      "source": [
        "LR_cate1.pred_test = LR_cate1.predict(features_scaled_test)"
      ],
      "metadata": {
        "id": "clorV2SNgYUI"
      },
      "execution_count": null,
      "outputs": []
    },
    {
      "cell_type": "code",
      "source": [
        "# # f1_score는 이진분류와 다진분류 모두 사용가능, 빅데이터 분석기사 시험에서의 정확도 분류 기준\n",
        "f1_LR_cate1_test = f1_score(y_test, LR_cate1.pred_test,average='macro')\n",
        "print(f1_LR_cate1_test)\n",
        "\n",
        "# # # 이진분류의 경우 빅데이터 분석기사 시험에서는 rou_auc를 더 많이 사용\n",
        "# # from sklearn.metrics import roc_auc_score\n",
        "# # roc_KN_cate1_test = roc_auc_score(Y_cate1_test, KN_cate1.pred_test)\n",
        "# # print(roc_KN_cate1_test)"
      ],
      "metadata": {
        "colab": {
          "base_uri": "https://localhost:8080/"
        },
        "outputId": "bbe05db9-4bb2-4693-a924-95e434f9dc4b",
        "id": "yv-frFtTgYUI"
      },
      "execution_count": null,
      "outputs": [
        {
          "output_type": "stream",
          "name": "stdout",
          "text": [
            "0.41054530130636324\n"
          ]
        }
      ]
    },
    {
      "cell_type": "code",
      "source": [
        "LR_cate1.pred_train = LR_cate1.predict(features_scaled_train)"
      ],
      "metadata": {
        "id": "YGoFSiXsgYUI"
      },
      "execution_count": null,
      "outputs": []
    },
    {
      "cell_type": "code",
      "source": [
        "f1_LR_cate1_train = f1_score(y_train, LR_cate1.pred_train,average='macro')\n",
        "print(f1_LR_cate1_train)"
      ],
      "metadata": {
        "colab": {
          "base_uri": "https://localhost:8080/"
        },
        "outputId": "c75d5a02-af72-4c2a-b496-9cf081510e1f",
        "id": "afucUi4OgYUI"
      },
      "execution_count": null,
      "outputs": [
        {
          "output_type": "stream",
          "name": "stdout",
          "text": [
            "0.54278724954535\n"
          ]
        }
      ]
    },
    {
      "cell_type": "markdown",
      "source": [
        "#### KNN"
      ],
      "metadata": {
        "id": "P7rYBSpKhOyL"
      }
    },
    {
      "cell_type": "code",
      "source": [
        "from sklearn.neighbors import KNeighborsClassifier # K-최근접 분류\n",
        "KN_cate1 = KNeighborsClassifier() # 기본치인 n_neighbors=5가 생략되어 있음"
      ],
      "metadata": {
        "id": "uXlPWg0shK-h"
      },
      "execution_count": null,
      "outputs": []
    },
    {
      "cell_type": "code",
      "source": [
        "KN_cate1.fit(features_scaled_train, y_train) # fit함수: 모델추정\n",
        "KN_cate1.score(features_scaled_train, y_train) # 분류된 모델의 정확도를 측정"
      ],
      "metadata": {
        "colab": {
          "base_uri": "https://localhost:8080/"
        },
        "id": "2fb7E7fJhbMZ",
        "outputId": "49558c84-e3d2-4082-bbfa-51a8174b98fb"
      },
      "execution_count": null,
      "outputs": [
        {
          "output_type": "stream",
          "name": "stderr",
          "text": [
            "/usr/local/lib/python3.8/dist-packages/sklearn/neighbors/_classification.py:198: DataConversionWarning: A column-vector y was passed when a 1d array was expected. Please change the shape of y to (n_samples,), for example using ravel().\n",
            "  return self._fit(X, y)\n"
          ]
        },
        {
          "output_type": "execute_result",
          "data": {
            "text/plain": [
              "0.7018469656992085"
            ]
          },
          "metadata": {},
          "execution_count": 53
        }
      ]
    },
    {
      "cell_type": "code",
      "source": [
        "KN_cate1.pred_test = KN_cate1.predict(features_scaled_test)"
      ],
      "metadata": {
        "id": "dkqxUUpJhyDw"
      },
      "execution_count": null,
      "outputs": []
    },
    {
      "cell_type": "code",
      "source": [
        "# f1_score는 이진분류와 다진분류 모두 사용가능, 빅데이터 분석기사 시험에서의 정확도 분류 기준\n",
        "f1_KN_cate1_test = f1_score(y_test, KN_cate1.pred_test,average='macro')\n",
        "print(f1_KN_cate1_test)\n",
        "\n",
        "# # 이진분류의 경우 빅데이터 분석기사 시험에서는 rou_auc를 더 많이 사용\n",
        "# from sklearn.metrics import roc_auc_score\n",
        "# roc_KN_cate1_test = roc_auc_score(target_test, KN_cate1.pred_test)\n",
        "# print(roc_KN_cate1_test)"
      ],
      "metadata": {
        "colab": {
          "base_uri": "https://localhost:8080/"
        },
        "outputId": "05d7c64d-cd9b-4452-9045-3142690e4325",
        "id": "n2dhSf4xhyDw"
      },
      "execution_count": null,
      "outputs": [
        {
          "output_type": "stream",
          "name": "stdout",
          "text": [
            "0.46046832051934417\n"
          ]
        }
      ]
    },
    {
      "cell_type": "code",
      "source": [
        "KN_cate1.pred_train = KN_cate1.predict(features_scaled_train)"
      ],
      "metadata": {
        "id": "BNSnCzmDhyDy"
      },
      "execution_count": null,
      "outputs": []
    },
    {
      "cell_type": "code",
      "source": [
        "f1_KN_cate1_train = f1_score(y_train, KN_cate1.pred_train,average='macro')\n",
        "print(f1_KN_cate1_train)"
      ],
      "metadata": {
        "colab": {
          "base_uri": "https://localhost:8080/"
        },
        "outputId": "618e89f3-72f6-494d-c5d4-29a357f33a7a",
        "id": "Ze3_1AaVhyDy"
      },
      "execution_count": null,
      "outputs": [
        {
          "output_type": "stream",
          "name": "stdout",
          "text": [
            "0.6411934752271493\n"
          ]
        }
      ]
    },
    {
      "cell_type": "markdown",
      "source": [
        "#### decision tree"
      ],
      "metadata": {
        "id": "_KJF9nOTctpg"
      }
    },
    {
      "cell_type": "code",
      "source": [
        "from sklearn.tree import DecisionTreeClassifier"
      ],
      "metadata": {
        "id": "wOOZt9djc9-X"
      },
      "execution_count": null,
      "outputs": []
    },
    {
      "cell_type": "code",
      "source": [
        "DT_cate1 = DecisionTreeClassifier() # ()안에 여러가지 옵션이 들어갈 수 있는데 기본옵션으로, n_neighbors = 3, weights = \"distance\"\n",
        "DT_cate1.fit(features_scaled_train, y_train)"
      ],
      "metadata": {
        "colab": {
          "base_uri": "https://localhost:8080/"
        },
        "outputId": "a535b994-a7ae-438c-85f9-f2be9a9dce6c",
        "id": "VveiTvCec9-X"
      },
      "execution_count": null,
      "outputs": [
        {
          "output_type": "execute_result",
          "data": {
            "text/plain": [
              "DecisionTreeClassifier()"
            ]
          },
          "metadata": {},
          "execution_count": 59
        }
      ]
    },
    {
      "cell_type": "code",
      "source": [
        "DT_cate1.pred_test = DT_cate1.predict(features_scaled_test)\n",
        "#DT_cate1.pred_test\n",
        "f1_DT_cate1_test=f1_score(y_test, DT_cate1.pred_test,average='macro')\n",
        "print(f1_DT_cate1_test)"
      ],
      "metadata": {
        "colab": {
          "base_uri": "https://localhost:8080/"
        },
        "outputId": "82ee0976-d5de-4c1f-d7ed-9dd37b1e9eea",
        "id": "NvFEmAcjc9-X"
      },
      "execution_count": null,
      "outputs": [
        {
          "output_type": "stream",
          "name": "stdout",
          "text": [
            "0.7133357266184591\n"
          ]
        }
      ]
    },
    {
      "cell_type": "code",
      "source": [
        "DT_cate1.pred_train = DT_cate1.predict(features_scaled_train)\n",
        "\n",
        "f1_DT_cate1_train=f1_score(y_train, DT_cate1.pred_train,average='macro')\n",
        "print(f1_DT_cate1_train)"
      ],
      "metadata": {
        "colab": {
          "base_uri": "https://localhost:8080/"
        },
        "outputId": "13ad7176-f2af-493e-a713-771e4abc0151",
        "id": "ccZ2lyk9c9-X"
      },
      "execution_count": null,
      "outputs": [
        {
          "output_type": "stream",
          "name": "stdout",
          "text": [
            "1.0\n"
          ]
        }
      ]
    },
    {
      "cell_type": "code",
      "source": [
        "cate1_models_train = [('Logistic regression', f1_LR_cate1_train),\n",
        "                      ('KNeighbors', f1_KN_cate1_train),\n",
        "                      ('Decision tree', f1_DT_cate1_train)]\n",
        "cate1_models_test = [('Logistic regression', f1_LR_cate1_test),\n",
        "                     ('KNeighbors', f1_KN_cate1_test),\n",
        "                     ('Decision tree', f1_DT_cate1_test)]"
      ],
      "metadata": {
        "id": "J-wJ1kGrU95O"
      },
      "execution_count": null,
      "outputs": []
    },
    {
      "cell_type": "code",
      "source": [
        "cate1_train_summary = pd.DataFrame(data = cate1_models_train, columns=['Model', 'f1-score'])\n",
        "cate1_train_summary.sort_values(by=['f1-score'], axis=0, ascending=False)"
      ],
      "metadata": {
        "colab": {
          "base_uri": "https://localhost:8080/",
          "height": 143
        },
        "id": "h3a_uUiLVMjf",
        "outputId": "96eb7228-d861-494f-d2bb-1ecc39727731"
      },
      "execution_count": null,
      "outputs": [
        {
          "output_type": "execute_result",
          "data": {
            "text/plain": [
              "                 Model  f1-score\n",
              "2        Decision tree     1.000\n",
              "1           KNeighbors     0.641\n",
              "0  Logistic regression     0.543"
            ],
            "text/html": [
              "\n",
              "  <div id=\"df-2a7435df-d94f-4371-9234-6174ca3a5f12\">\n",
              "    <div class=\"colab-df-container\">\n",
              "      <div>\n",
              "<style scoped>\n",
              "    .dataframe tbody tr th:only-of-type {\n",
              "        vertical-align: middle;\n",
              "    }\n",
              "\n",
              "    .dataframe tbody tr th {\n",
              "        vertical-align: top;\n",
              "    }\n",
              "\n",
              "    .dataframe thead th {\n",
              "        text-align: right;\n",
              "    }\n",
              "</style>\n",
              "<table border=\"1\" class=\"dataframe\">\n",
              "  <thead>\n",
              "    <tr style=\"text-align: right;\">\n",
              "      <th></th>\n",
              "      <th>Model</th>\n",
              "      <th>f1-score</th>\n",
              "    </tr>\n",
              "  </thead>\n",
              "  <tbody>\n",
              "    <tr>\n",
              "      <th>2</th>\n",
              "      <td>Decision tree</td>\n",
              "      <td>1.000</td>\n",
              "    </tr>\n",
              "    <tr>\n",
              "      <th>1</th>\n",
              "      <td>KNeighbors</td>\n",
              "      <td>0.641</td>\n",
              "    </tr>\n",
              "    <tr>\n",
              "      <th>0</th>\n",
              "      <td>Logistic regression</td>\n",
              "      <td>0.543</td>\n",
              "    </tr>\n",
              "  </tbody>\n",
              "</table>\n",
              "</div>\n",
              "      <button class=\"colab-df-convert\" onclick=\"convertToInteractive('df-2a7435df-d94f-4371-9234-6174ca3a5f12')\"\n",
              "              title=\"Convert this dataframe to an interactive table.\"\n",
              "              style=\"display:none;\">\n",
              "        \n",
              "  <svg xmlns=\"http://www.w3.org/2000/svg\" height=\"24px\"viewBox=\"0 0 24 24\"\n",
              "       width=\"24px\">\n",
              "    <path d=\"M0 0h24v24H0V0z\" fill=\"none\"/>\n",
              "    <path d=\"M18.56 5.44l.94 2.06.94-2.06 2.06-.94-2.06-.94-.94-2.06-.94 2.06-2.06.94zm-11 1L8.5 8.5l.94-2.06 2.06-.94-2.06-.94L8.5 2.5l-.94 2.06-2.06.94zm10 10l.94 2.06.94-2.06 2.06-.94-2.06-.94-.94-2.06-.94 2.06-2.06.94z\"/><path d=\"M17.41 7.96l-1.37-1.37c-.4-.4-.92-.59-1.43-.59-.52 0-1.04.2-1.43.59L10.3 9.45l-7.72 7.72c-.78.78-.78 2.05 0 2.83L4 21.41c.39.39.9.59 1.41.59.51 0 1.02-.2 1.41-.59l7.78-7.78 2.81-2.81c.8-.78.8-2.07 0-2.86zM5.41 20L4 18.59l7.72-7.72 1.47 1.35L5.41 20z\"/>\n",
              "  </svg>\n",
              "      </button>\n",
              "      \n",
              "  <style>\n",
              "    .colab-df-container {\n",
              "      display:flex;\n",
              "      flex-wrap:wrap;\n",
              "      gap: 12px;\n",
              "    }\n",
              "\n",
              "    .colab-df-convert {\n",
              "      background-color: #E8F0FE;\n",
              "      border: none;\n",
              "      border-radius: 50%;\n",
              "      cursor: pointer;\n",
              "      display: none;\n",
              "      fill: #1967D2;\n",
              "      height: 32px;\n",
              "      padding: 0 0 0 0;\n",
              "      width: 32px;\n",
              "    }\n",
              "\n",
              "    .colab-df-convert:hover {\n",
              "      background-color: #E2EBFA;\n",
              "      box-shadow: 0px 1px 2px rgba(60, 64, 67, 0.3), 0px 1px 3px 1px rgba(60, 64, 67, 0.15);\n",
              "      fill: #174EA6;\n",
              "    }\n",
              "\n",
              "    [theme=dark] .colab-df-convert {\n",
              "      background-color: #3B4455;\n",
              "      fill: #D2E3FC;\n",
              "    }\n",
              "\n",
              "    [theme=dark] .colab-df-convert:hover {\n",
              "      background-color: #434B5C;\n",
              "      box-shadow: 0px 1px 3px 1px rgba(0, 0, 0, 0.15);\n",
              "      filter: drop-shadow(0px 1px 2px rgba(0, 0, 0, 0.3));\n",
              "      fill: #FFFFFF;\n",
              "    }\n",
              "  </style>\n",
              "\n",
              "      <script>\n",
              "        const buttonEl =\n",
              "          document.querySelector('#df-2a7435df-d94f-4371-9234-6174ca3a5f12 button.colab-df-convert');\n",
              "        buttonEl.style.display =\n",
              "          google.colab.kernel.accessAllowed ? 'block' : 'none';\n",
              "\n",
              "        async function convertToInteractive(key) {\n",
              "          const element = document.querySelector('#df-2a7435df-d94f-4371-9234-6174ca3a5f12');\n",
              "          const dataTable =\n",
              "            await google.colab.kernel.invokeFunction('convertToInteractive',\n",
              "                                                     [key], {});\n",
              "          if (!dataTable) return;\n",
              "\n",
              "          const docLinkHtml = 'Like what you see? Visit the ' +\n",
              "            '<a target=\"_blank\" href=https://colab.research.google.com/notebooks/data_table.ipynb>data table notebook</a>'\n",
              "            + ' to learn more about interactive tables.';\n",
              "          element.innerHTML = '';\n",
              "          dataTable['output_type'] = 'display_data';\n",
              "          await google.colab.output.renderOutput(dataTable, element);\n",
              "          const docLink = document.createElement('div');\n",
              "          docLink.innerHTML = docLinkHtml;\n",
              "          element.appendChild(docLink);\n",
              "        }\n",
              "      </script>\n",
              "    </div>\n",
              "  </div>\n",
              "  "
            ]
          },
          "metadata": {},
          "execution_count": 63
        }
      ]
    },
    {
      "cell_type": "code",
      "source": [
        "cate1_test_summary = pd.DataFrame(data = cate1_models_test, columns=['Model', 'f1-score'])\n",
        "cate1_test_summary.sort_values(by=['f1-score'], axis=0, ascending=False)"
      ],
      "metadata": {
        "colab": {
          "base_uri": "https://localhost:8080/",
          "height": 143
        },
        "id": "os4aeD4RVYUW",
        "outputId": "4a8648a5-e37f-4eeb-f0bc-13976f7ffe82"
      },
      "execution_count": null,
      "outputs": [
        {
          "output_type": "execute_result",
          "data": {
            "text/plain": [
              "                 Model  f1-score\n",
              "2        Decision tree     0.713\n",
              "1           KNeighbors     0.460\n",
              "0  Logistic regression     0.411"
            ],
            "text/html": [
              "\n",
              "  <div id=\"df-d608ba04-451d-4dfc-8910-f24c1873554e\">\n",
              "    <div class=\"colab-df-container\">\n",
              "      <div>\n",
              "<style scoped>\n",
              "    .dataframe tbody tr th:only-of-type {\n",
              "        vertical-align: middle;\n",
              "    }\n",
              "\n",
              "    .dataframe tbody tr th {\n",
              "        vertical-align: top;\n",
              "    }\n",
              "\n",
              "    .dataframe thead th {\n",
              "        text-align: right;\n",
              "    }\n",
              "</style>\n",
              "<table border=\"1\" class=\"dataframe\">\n",
              "  <thead>\n",
              "    <tr style=\"text-align: right;\">\n",
              "      <th></th>\n",
              "      <th>Model</th>\n",
              "      <th>f1-score</th>\n",
              "    </tr>\n",
              "  </thead>\n",
              "  <tbody>\n",
              "    <tr>\n",
              "      <th>2</th>\n",
              "      <td>Decision tree</td>\n",
              "      <td>0.713</td>\n",
              "    </tr>\n",
              "    <tr>\n",
              "      <th>1</th>\n",
              "      <td>KNeighbors</td>\n",
              "      <td>0.460</td>\n",
              "    </tr>\n",
              "    <tr>\n",
              "      <th>0</th>\n",
              "      <td>Logistic regression</td>\n",
              "      <td>0.411</td>\n",
              "    </tr>\n",
              "  </tbody>\n",
              "</table>\n",
              "</div>\n",
              "      <button class=\"colab-df-convert\" onclick=\"convertToInteractive('df-d608ba04-451d-4dfc-8910-f24c1873554e')\"\n",
              "              title=\"Convert this dataframe to an interactive table.\"\n",
              "              style=\"display:none;\">\n",
              "        \n",
              "  <svg xmlns=\"http://www.w3.org/2000/svg\" height=\"24px\"viewBox=\"0 0 24 24\"\n",
              "       width=\"24px\">\n",
              "    <path d=\"M0 0h24v24H0V0z\" fill=\"none\"/>\n",
              "    <path d=\"M18.56 5.44l.94 2.06.94-2.06 2.06-.94-2.06-.94-.94-2.06-.94 2.06-2.06.94zm-11 1L8.5 8.5l.94-2.06 2.06-.94-2.06-.94L8.5 2.5l-.94 2.06-2.06.94zm10 10l.94 2.06.94-2.06 2.06-.94-2.06-.94-.94-2.06-.94 2.06-2.06.94z\"/><path d=\"M17.41 7.96l-1.37-1.37c-.4-.4-.92-.59-1.43-.59-.52 0-1.04.2-1.43.59L10.3 9.45l-7.72 7.72c-.78.78-.78 2.05 0 2.83L4 21.41c.39.39.9.59 1.41.59.51 0 1.02-.2 1.41-.59l7.78-7.78 2.81-2.81c.8-.78.8-2.07 0-2.86zM5.41 20L4 18.59l7.72-7.72 1.47 1.35L5.41 20z\"/>\n",
              "  </svg>\n",
              "      </button>\n",
              "      \n",
              "  <style>\n",
              "    .colab-df-container {\n",
              "      display:flex;\n",
              "      flex-wrap:wrap;\n",
              "      gap: 12px;\n",
              "    }\n",
              "\n",
              "    .colab-df-convert {\n",
              "      background-color: #E8F0FE;\n",
              "      border: none;\n",
              "      border-radius: 50%;\n",
              "      cursor: pointer;\n",
              "      display: none;\n",
              "      fill: #1967D2;\n",
              "      height: 32px;\n",
              "      padding: 0 0 0 0;\n",
              "      width: 32px;\n",
              "    }\n",
              "\n",
              "    .colab-df-convert:hover {\n",
              "      background-color: #E2EBFA;\n",
              "      box-shadow: 0px 1px 2px rgba(60, 64, 67, 0.3), 0px 1px 3px 1px rgba(60, 64, 67, 0.15);\n",
              "      fill: #174EA6;\n",
              "    }\n",
              "\n",
              "    [theme=dark] .colab-df-convert {\n",
              "      background-color: #3B4455;\n",
              "      fill: #D2E3FC;\n",
              "    }\n",
              "\n",
              "    [theme=dark] .colab-df-convert:hover {\n",
              "      background-color: #434B5C;\n",
              "      box-shadow: 0px 1px 3px 1px rgba(0, 0, 0, 0.15);\n",
              "      filter: drop-shadow(0px 1px 2px rgba(0, 0, 0, 0.3));\n",
              "      fill: #FFFFFF;\n",
              "    }\n",
              "  </style>\n",
              "\n",
              "      <script>\n",
              "        const buttonEl =\n",
              "          document.querySelector('#df-d608ba04-451d-4dfc-8910-f24c1873554e button.colab-df-convert');\n",
              "        buttonEl.style.display =\n",
              "          google.colab.kernel.accessAllowed ? 'block' : 'none';\n",
              "\n",
              "        async function convertToInteractive(key) {\n",
              "          const element = document.querySelector('#df-d608ba04-451d-4dfc-8910-f24c1873554e');\n",
              "          const dataTable =\n",
              "            await google.colab.kernel.invokeFunction('convertToInteractive',\n",
              "                                                     [key], {});\n",
              "          if (!dataTable) return;\n",
              "\n",
              "          const docLinkHtml = 'Like what you see? Visit the ' +\n",
              "            '<a target=\"_blank\" href=https://colab.research.google.com/notebooks/data_table.ipynb>data table notebook</a>'\n",
              "            + ' to learn more about interactive tables.';\n",
              "          element.innerHTML = '';\n",
              "          dataTable['output_type'] = 'display_data';\n",
              "          await google.colab.output.renderOutput(dataTable, element);\n",
              "          const docLink = document.createElement('div');\n",
              "          docLink.innerHTML = docLinkHtml;\n",
              "          element.appendChild(docLink);\n",
              "        }\n",
              "      </script>\n",
              "    </div>\n",
              "  </div>\n",
              "  "
            ]
          },
          "metadata": {},
          "execution_count": 64
        }
      ]
    },
    {
      "cell_type": "markdown",
      "source": [
        "#### Random forest"
      ],
      "metadata": {
        "id": "U_MigjFmxkqd"
      }
    },
    {
      "cell_type": "code",
      "source": [
        "from sklearn.ensemble import RandomForestClassifier"
      ],
      "metadata": {
        "id": "num01ZWdxkqd"
      },
      "execution_count": null,
      "outputs": []
    },
    {
      "cell_type": "code",
      "source": [
        "RF_cate1 = RandomForestClassifier() # ()안에 여러가지 옵션이 들어갈 수 있는데 기본옵션으로, n_neighbors = 3, weights = \"distance\"\n",
        "RF_cate1.fit(features_scaled_train, y_train)"
      ],
      "metadata": {
        "colab": {
          "base_uri": "https://localhost:8080/"
        },
        "outputId": "3640d3bb-278d-4739-dcda-1447d6711574",
        "id": "44ljJFaYxkqd"
      },
      "execution_count": null,
      "outputs": [
        {
          "output_type": "stream",
          "name": "stderr",
          "text": [
            "<ipython-input-66-97f760dfe983>:2: DataConversionWarning: A column-vector y was passed when a 1d array was expected. Please change the shape of y to (n_samples,), for example using ravel().\n",
            "  RF_cate1.fit(features_scaled_train, y_train)\n"
          ]
        },
        {
          "output_type": "execute_result",
          "data": {
            "text/plain": [
              "RandomForestClassifier()"
            ]
          },
          "metadata": {},
          "execution_count": 66
        }
      ]
    },
    {
      "cell_type": "code",
      "source": [
        "RF_cate1.pred_test = RF_cate1.predict(features_scaled_test)\n",
        "#DT_cate1.pred_test\n",
        "f1_RF_cate1_test=f1_score(y_test, RF_cate1.pred_test,average='macro')\n",
        "print(f1_RF_cate1_test)"
      ],
      "metadata": {
        "colab": {
          "base_uri": "https://localhost:8080/"
        },
        "outputId": "4bb3045f-29a5-4fb3-f508-f0332ad61eaf",
        "id": "izlmsv93xkqe"
      },
      "execution_count": null,
      "outputs": [
        {
          "output_type": "stream",
          "name": "stdout",
          "text": [
            "0.7401619433198381\n"
          ]
        }
      ]
    },
    {
      "cell_type": "code",
      "source": [
        "RF_cate1.pred_train = RF_cate1.predict(features_scaled_train)\n",
        "\n",
        "f1_RF_cate1_train=f1_score(y_train, RF_cate1.pred_train,average='macro')\n",
        "print(f1_RF_cate1_train)"
      ],
      "metadata": {
        "colab": {
          "base_uri": "https://localhost:8080/"
        },
        "outputId": "51015b7a-aaae-4a17-99fb-1d380ba07a4c",
        "id": "w-DhVPqkxkqe"
      },
      "execution_count": null,
      "outputs": [
        {
          "output_type": "stream",
          "name": "stdout",
          "text": [
            "1.0\n"
          ]
        }
      ]
    },
    {
      "cell_type": "markdown",
      "source": [
        "#### 정확도 분석결과 summary"
      ],
      "metadata": {
        "id": "xCG_ru0HyVPf"
      }
    },
    {
      "cell_type": "code",
      "source": [
        "cate1_models_train = [('Logistic regression', f1_LR_cate1_train),\n",
        "                      ('KNeighbors', f1_KN_cate1_train),\n",
        "                      ('Decision tree', f1_DT_cate1_train),\n",
        "                      ('Random forest', f1_RF_cate1_train)]\n",
        "cate1_models_test = [('Logistic regression', f1_LR_cate1_test),\n",
        "                     ('KNeighbors', f1_KN_cate1_test),\n",
        "                     ('Decision tree', f1_DT_cate1_test),\n",
        "                     ('Random forest', f1_RF_cate1_test)]"
      ],
      "metadata": {
        "id": "4y7MgSTKxkqe"
      },
      "execution_count": null,
      "outputs": []
    },
    {
      "cell_type": "code",
      "source": [
        "cate1_train_summary = pd.DataFrame(data = cate1_models_train, columns=['Model', 'f1-score'])\n",
        "cate1_train_summary.sort_values(by=['f1-score'], axis=0, ascending=False)"
      ],
      "metadata": {
        "colab": {
          "base_uri": "https://localhost:8080/",
          "height": 175
        },
        "outputId": "6c15abb1-065c-4a23-9cf3-9434377261c1",
        "id": "ru9RFZovxkqe"
      },
      "execution_count": null,
      "outputs": [
        {
          "output_type": "execute_result",
          "data": {
            "text/plain": [
              "                 Model  f1-score\n",
              "2        Decision tree     1.000\n",
              "3        Random forest     1.000\n",
              "1           KNeighbors     0.641\n",
              "0  Logistic regression     0.543"
            ],
            "text/html": [
              "\n",
              "  <div id=\"df-3e7e28da-7101-4239-8918-569ed6153d30\">\n",
              "    <div class=\"colab-df-container\">\n",
              "      <div>\n",
              "<style scoped>\n",
              "    .dataframe tbody tr th:only-of-type {\n",
              "        vertical-align: middle;\n",
              "    }\n",
              "\n",
              "    .dataframe tbody tr th {\n",
              "        vertical-align: top;\n",
              "    }\n",
              "\n",
              "    .dataframe thead th {\n",
              "        text-align: right;\n",
              "    }\n",
              "</style>\n",
              "<table border=\"1\" class=\"dataframe\">\n",
              "  <thead>\n",
              "    <tr style=\"text-align: right;\">\n",
              "      <th></th>\n",
              "      <th>Model</th>\n",
              "      <th>f1-score</th>\n",
              "    </tr>\n",
              "  </thead>\n",
              "  <tbody>\n",
              "    <tr>\n",
              "      <th>2</th>\n",
              "      <td>Decision tree</td>\n",
              "      <td>1.000</td>\n",
              "    </tr>\n",
              "    <tr>\n",
              "      <th>3</th>\n",
              "      <td>Random forest</td>\n",
              "      <td>1.000</td>\n",
              "    </tr>\n",
              "    <tr>\n",
              "      <th>1</th>\n",
              "      <td>KNeighbors</td>\n",
              "      <td>0.641</td>\n",
              "    </tr>\n",
              "    <tr>\n",
              "      <th>0</th>\n",
              "      <td>Logistic regression</td>\n",
              "      <td>0.543</td>\n",
              "    </tr>\n",
              "  </tbody>\n",
              "</table>\n",
              "</div>\n",
              "      <button class=\"colab-df-convert\" onclick=\"convertToInteractive('df-3e7e28da-7101-4239-8918-569ed6153d30')\"\n",
              "              title=\"Convert this dataframe to an interactive table.\"\n",
              "              style=\"display:none;\">\n",
              "        \n",
              "  <svg xmlns=\"http://www.w3.org/2000/svg\" height=\"24px\"viewBox=\"0 0 24 24\"\n",
              "       width=\"24px\">\n",
              "    <path d=\"M0 0h24v24H0V0z\" fill=\"none\"/>\n",
              "    <path d=\"M18.56 5.44l.94 2.06.94-2.06 2.06-.94-2.06-.94-.94-2.06-.94 2.06-2.06.94zm-11 1L8.5 8.5l.94-2.06 2.06-.94-2.06-.94L8.5 2.5l-.94 2.06-2.06.94zm10 10l.94 2.06.94-2.06 2.06-.94-2.06-.94-.94-2.06-.94 2.06-2.06.94z\"/><path d=\"M17.41 7.96l-1.37-1.37c-.4-.4-.92-.59-1.43-.59-.52 0-1.04.2-1.43.59L10.3 9.45l-7.72 7.72c-.78.78-.78 2.05 0 2.83L4 21.41c.39.39.9.59 1.41.59.51 0 1.02-.2 1.41-.59l7.78-7.78 2.81-2.81c.8-.78.8-2.07 0-2.86zM5.41 20L4 18.59l7.72-7.72 1.47 1.35L5.41 20z\"/>\n",
              "  </svg>\n",
              "      </button>\n",
              "      \n",
              "  <style>\n",
              "    .colab-df-container {\n",
              "      display:flex;\n",
              "      flex-wrap:wrap;\n",
              "      gap: 12px;\n",
              "    }\n",
              "\n",
              "    .colab-df-convert {\n",
              "      background-color: #E8F0FE;\n",
              "      border: none;\n",
              "      border-radius: 50%;\n",
              "      cursor: pointer;\n",
              "      display: none;\n",
              "      fill: #1967D2;\n",
              "      height: 32px;\n",
              "      padding: 0 0 0 0;\n",
              "      width: 32px;\n",
              "    }\n",
              "\n",
              "    .colab-df-convert:hover {\n",
              "      background-color: #E2EBFA;\n",
              "      box-shadow: 0px 1px 2px rgba(60, 64, 67, 0.3), 0px 1px 3px 1px rgba(60, 64, 67, 0.15);\n",
              "      fill: #174EA6;\n",
              "    }\n",
              "\n",
              "    [theme=dark] .colab-df-convert {\n",
              "      background-color: #3B4455;\n",
              "      fill: #D2E3FC;\n",
              "    }\n",
              "\n",
              "    [theme=dark] .colab-df-convert:hover {\n",
              "      background-color: #434B5C;\n",
              "      box-shadow: 0px 1px 3px 1px rgba(0, 0, 0, 0.15);\n",
              "      filter: drop-shadow(0px 1px 2px rgba(0, 0, 0, 0.3));\n",
              "      fill: #FFFFFF;\n",
              "    }\n",
              "  </style>\n",
              "\n",
              "      <script>\n",
              "        const buttonEl =\n",
              "          document.querySelector('#df-3e7e28da-7101-4239-8918-569ed6153d30 button.colab-df-convert');\n",
              "        buttonEl.style.display =\n",
              "          google.colab.kernel.accessAllowed ? 'block' : 'none';\n",
              "\n",
              "        async function convertToInteractive(key) {\n",
              "          const element = document.querySelector('#df-3e7e28da-7101-4239-8918-569ed6153d30');\n",
              "          const dataTable =\n",
              "            await google.colab.kernel.invokeFunction('convertToInteractive',\n",
              "                                                     [key], {});\n",
              "          if (!dataTable) return;\n",
              "\n",
              "          const docLinkHtml = 'Like what you see? Visit the ' +\n",
              "            '<a target=\"_blank\" href=https://colab.research.google.com/notebooks/data_table.ipynb>data table notebook</a>'\n",
              "            + ' to learn more about interactive tables.';\n",
              "          element.innerHTML = '';\n",
              "          dataTable['output_type'] = 'display_data';\n",
              "          await google.colab.output.renderOutput(dataTable, element);\n",
              "          const docLink = document.createElement('div');\n",
              "          docLink.innerHTML = docLinkHtml;\n",
              "          element.appendChild(docLink);\n",
              "        }\n",
              "      </script>\n",
              "    </div>\n",
              "  </div>\n",
              "  "
            ]
          },
          "metadata": {},
          "execution_count": 70
        }
      ]
    },
    {
      "cell_type": "code",
      "source": [
        "cate1_test_summary = pd.DataFrame(data = cate1_models_test, columns=['Model', 'f1-score'])\n",
        "cate1_test_summary.sort_values(by=['f1-score'], axis=0, ascending=False)"
      ],
      "metadata": {
        "colab": {
          "base_uri": "https://localhost:8080/",
          "height": 175
        },
        "outputId": "d9749a99-c242-4e17-dc87-15bf601f20dd",
        "id": "DXtRt8UExkqf"
      },
      "execution_count": null,
      "outputs": [
        {
          "output_type": "execute_result",
          "data": {
            "text/plain": [
              "                 Model  f1-score\n",
              "3        Random forest     0.740\n",
              "2        Decision tree     0.713\n",
              "1           KNeighbors     0.460\n",
              "0  Logistic regression     0.411"
            ],
            "text/html": [
              "\n",
              "  <div id=\"df-2b9d1616-87be-48b6-9f8d-658cf8d96988\">\n",
              "    <div class=\"colab-df-container\">\n",
              "      <div>\n",
              "<style scoped>\n",
              "    .dataframe tbody tr th:only-of-type {\n",
              "        vertical-align: middle;\n",
              "    }\n",
              "\n",
              "    .dataframe tbody tr th {\n",
              "        vertical-align: top;\n",
              "    }\n",
              "\n",
              "    .dataframe thead th {\n",
              "        text-align: right;\n",
              "    }\n",
              "</style>\n",
              "<table border=\"1\" class=\"dataframe\">\n",
              "  <thead>\n",
              "    <tr style=\"text-align: right;\">\n",
              "      <th></th>\n",
              "      <th>Model</th>\n",
              "      <th>f1-score</th>\n",
              "    </tr>\n",
              "  </thead>\n",
              "  <tbody>\n",
              "    <tr>\n",
              "      <th>3</th>\n",
              "      <td>Random forest</td>\n",
              "      <td>0.740</td>\n",
              "    </tr>\n",
              "    <tr>\n",
              "      <th>2</th>\n",
              "      <td>Decision tree</td>\n",
              "      <td>0.713</td>\n",
              "    </tr>\n",
              "    <tr>\n",
              "      <th>1</th>\n",
              "      <td>KNeighbors</td>\n",
              "      <td>0.460</td>\n",
              "    </tr>\n",
              "    <tr>\n",
              "      <th>0</th>\n",
              "      <td>Logistic regression</td>\n",
              "      <td>0.411</td>\n",
              "    </tr>\n",
              "  </tbody>\n",
              "</table>\n",
              "</div>\n",
              "      <button class=\"colab-df-convert\" onclick=\"convertToInteractive('df-2b9d1616-87be-48b6-9f8d-658cf8d96988')\"\n",
              "              title=\"Convert this dataframe to an interactive table.\"\n",
              "              style=\"display:none;\">\n",
              "        \n",
              "  <svg xmlns=\"http://www.w3.org/2000/svg\" height=\"24px\"viewBox=\"0 0 24 24\"\n",
              "       width=\"24px\">\n",
              "    <path d=\"M0 0h24v24H0V0z\" fill=\"none\"/>\n",
              "    <path d=\"M18.56 5.44l.94 2.06.94-2.06 2.06-.94-2.06-.94-.94-2.06-.94 2.06-2.06.94zm-11 1L8.5 8.5l.94-2.06 2.06-.94-2.06-.94L8.5 2.5l-.94 2.06-2.06.94zm10 10l.94 2.06.94-2.06 2.06-.94-2.06-.94-.94-2.06-.94 2.06-2.06.94z\"/><path d=\"M17.41 7.96l-1.37-1.37c-.4-.4-.92-.59-1.43-.59-.52 0-1.04.2-1.43.59L10.3 9.45l-7.72 7.72c-.78.78-.78 2.05 0 2.83L4 21.41c.39.39.9.59 1.41.59.51 0 1.02-.2 1.41-.59l7.78-7.78 2.81-2.81c.8-.78.8-2.07 0-2.86zM5.41 20L4 18.59l7.72-7.72 1.47 1.35L5.41 20z\"/>\n",
              "  </svg>\n",
              "      </button>\n",
              "      \n",
              "  <style>\n",
              "    .colab-df-container {\n",
              "      display:flex;\n",
              "      flex-wrap:wrap;\n",
              "      gap: 12px;\n",
              "    }\n",
              "\n",
              "    .colab-df-convert {\n",
              "      background-color: #E8F0FE;\n",
              "      border: none;\n",
              "      border-radius: 50%;\n",
              "      cursor: pointer;\n",
              "      display: none;\n",
              "      fill: #1967D2;\n",
              "      height: 32px;\n",
              "      padding: 0 0 0 0;\n",
              "      width: 32px;\n",
              "    }\n",
              "\n",
              "    .colab-df-convert:hover {\n",
              "      background-color: #E2EBFA;\n",
              "      box-shadow: 0px 1px 2px rgba(60, 64, 67, 0.3), 0px 1px 3px 1px rgba(60, 64, 67, 0.15);\n",
              "      fill: #174EA6;\n",
              "    }\n",
              "\n",
              "    [theme=dark] .colab-df-convert {\n",
              "      background-color: #3B4455;\n",
              "      fill: #D2E3FC;\n",
              "    }\n",
              "\n",
              "    [theme=dark] .colab-df-convert:hover {\n",
              "      background-color: #434B5C;\n",
              "      box-shadow: 0px 1px 3px 1px rgba(0, 0, 0, 0.15);\n",
              "      filter: drop-shadow(0px 1px 2px rgba(0, 0, 0, 0.3));\n",
              "      fill: #FFFFFF;\n",
              "    }\n",
              "  </style>\n",
              "\n",
              "      <script>\n",
              "        const buttonEl =\n",
              "          document.querySelector('#df-2b9d1616-87be-48b6-9f8d-658cf8d96988 button.colab-df-convert');\n",
              "        buttonEl.style.display =\n",
              "          google.colab.kernel.accessAllowed ? 'block' : 'none';\n",
              "\n",
              "        async function convertToInteractive(key) {\n",
              "          const element = document.querySelector('#df-2b9d1616-87be-48b6-9f8d-658cf8d96988');\n",
              "          const dataTable =\n",
              "            await google.colab.kernel.invokeFunction('convertToInteractive',\n",
              "                                                     [key], {});\n",
              "          if (!dataTable) return;\n",
              "\n",
              "          const docLinkHtml = 'Like what you see? Visit the ' +\n",
              "            '<a target=\"_blank\" href=https://colab.research.google.com/notebooks/data_table.ipynb>data table notebook</a>'\n",
              "            + ' to learn more about interactive tables.';\n",
              "          element.innerHTML = '';\n",
              "          dataTable['output_type'] = 'display_data';\n",
              "          await google.colab.output.renderOutput(dataTable, element);\n",
              "          const docLink = document.createElement('div');\n",
              "          docLink.innerHTML = docLinkHtml;\n",
              "          element.appendChild(docLink);\n",
              "        }\n",
              "      </script>\n",
              "    </div>\n",
              "  </div>\n",
              "  "
            ]
          },
          "metadata": {},
          "execution_count": 71
        }
      ]
    },
    {
      "cell_type": "markdown",
      "source": [
        "f1-score의 결과값으로는, Random forest가 약 74%, Decision tree가 약 71%, KNeighbors가 약 46%, Logistic regression이 약 41%의 예측 정확성을 보이고 있다."
      ],
      "metadata": {
        "id": "s19-oq84ScwH"
      }
    },
    {
      "cell_type": "markdown",
      "source": [
        "**참고 사이트**\n",
        "\n",
        "데이터 타입의 변환 :  https://kin.naver.com/qna/detail.nhn?d1id=1&dirId=10402&docId=379921126&qb=dGVzdDI=&enc=utf8&section=kin.qna&rank=628&search_sort=0&spq=0\n",
        "\n",
        "https://seong6496.tistory.com/134"
      ],
      "metadata": {
        "id": "xdKq8VuATRFM"
      }
    }
  ]
}
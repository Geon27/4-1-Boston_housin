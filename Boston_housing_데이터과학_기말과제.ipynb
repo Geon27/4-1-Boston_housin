{
  "nbformat": 4,
  "nbformat_minor": 0,
  "metadata": {
    "colab": {
      "provenance": [],
      "authorship_tag": "ABX9TyND1aD8kvvVwOCW4KS1erZ0",
      "include_colab_link": true
    },
    "kernelspec": {
      "name": "python3",
      "display_name": "Python 3"
    },
    "language_info": {
      "name": "python"
    }
  },
  "cells": [
    {
      "cell_type": "markdown",
      "metadata": {
        "id": "view-in-github",
        "colab_type": "text"
      },
      "source": [
        "<a href=\"https://colab.research.google.com/github/Geon27/4-1-Boston_housin/blob/main/Boston_housing_%EB%8D%B0%EC%9D%B4%ED%84%B0%EA%B3%BC%ED%95%99_%EA%B8%B0%EB%A7%90%EA%B3%BC%EC%A0%9C.ipynb\" target=\"_parent\"><img src=\"https://colab.research.google.com/assets/colab-badge.svg\" alt=\"Open In Colab\"/></a>"
      ]
    },
    {
      "cell_type": "markdown",
      "source": [
        "## 보스턴 주택 가격 예측(House Prices: Advanced Regression Techniques)\n"
      ],
      "metadata": {
        "id": "WlpLjBG2s4jg"
      }
    },
    {
      "cell_type": "code",
      "source": [
        "from google.colab import drive\n",
        "drive.mount('/content/drive')"
      ],
      "metadata": {
        "colab": {
          "base_uri": "https://localhost:8080/"
        },
        "id": "Qr9tbMAOxsen",
        "outputId": "b7bf2a78-9185-4233-8130-00a9478ba184"
      },
      "execution_count": 1,
      "outputs": [
        {
          "output_type": "stream",
          "name": "stdout",
          "text": [
            "Drive already mounted at /content/drive; to attempt to forcibly remount, call drive.mount(\"/content/drive\", force_remount=True).\n"
          ]
        }
      ]
    },
    {
      "cell_type": "markdown",
      "source": [
        "## 파이썬 패키지 로드\n"
      ],
      "metadata": {
        "id": "oi-Gn2E9x9Xp"
      }
    },
    {
      "cell_type": "code",
      "source": [
        "# !pip uninstall scipy -y\n",
        "# !pip uninstall pingouin -y\n",
        "!pip install pingouin\n",
        "# !pip install statsmodels==0.13.1\n",
        "!pip install sidetable\n",
        "!pip install sklearn-learn\n",
        "# !pip install researchpy \n",
        "# !pip install bioinfokit\n",
        "# !pip install sidetable\n"
      ],
      "metadata": {
        "colab": {
          "base_uri": "https://localhost:8080/"
        },
        "id": "qdkeRKOnxxqy",
        "outputId": "256a48f0-724c-4640-a70e-1643f4b14f6f"
      },
      "execution_count": 2,
      "outputs": [
        {
          "output_type": "stream",
          "name": "stdout",
          "text": [
            "Looking in indexes: https://pypi.org/simple, https://us-python.pkg.dev/colab-wheels/public/simple/\n",
            "Requirement already satisfied: pingouin in /usr/local/lib/python3.7/dist-packages (0.5.2)\n",
            "Requirement already satisfied: outdated in /usr/local/lib/python3.7/dist-packages (from pingouin) (0.2.2)\n",
            "Requirement already satisfied: pandas-flavor>=0.2.0 in /usr/local/lib/python3.7/dist-packages (from pingouin) (0.2.0)\n",
            "Requirement already satisfied: scikit-learn<1.1.0 in /usr/local/lib/python3.7/dist-packages (from pingouin) (1.0.2)\n",
            "Requirement already satisfied: matplotlib>=3.0.2 in /usr/local/lib/python3.7/dist-packages (from pingouin) (3.2.2)\n",
            "Requirement already satisfied: scipy>=1.7 in /usr/local/lib/python3.7/dist-packages (from pingouin) (1.7.3)\n",
            "Requirement already satisfied: tabulate in /usr/local/lib/python3.7/dist-packages (from pingouin) (0.8.10)\n",
            "Requirement already satisfied: pandas>=1.0 in /usr/local/lib/python3.7/dist-packages (from pingouin) (1.3.5)\n",
            "Requirement already satisfied: numpy>=1.19 in /usr/local/lib/python3.7/dist-packages (from pingouin) (1.21.6)\n",
            "Requirement already satisfied: statsmodels>=0.13 in /usr/local/lib/python3.7/dist-packages (from pingouin) (0.13.5)\n",
            "Requirement already satisfied: seaborn>=0.11 in /usr/local/lib/python3.7/dist-packages (from pingouin) (0.11.2)\n",
            "Requirement already satisfied: cycler>=0.10 in /usr/local/lib/python3.7/dist-packages (from matplotlib>=3.0.2->pingouin) (0.11.0)\n",
            "Requirement already satisfied: kiwisolver>=1.0.1 in /usr/local/lib/python3.7/dist-packages (from matplotlib>=3.0.2->pingouin) (1.4.4)\n",
            "Requirement already satisfied: pyparsing!=2.0.4,!=2.1.2,!=2.1.6,>=2.0.1 in /usr/local/lib/python3.7/dist-packages (from matplotlib>=3.0.2->pingouin) (3.0.9)\n",
            "Requirement already satisfied: python-dateutil>=2.1 in /usr/local/lib/python3.7/dist-packages (from matplotlib>=3.0.2->pingouin) (2.8.2)\n",
            "Requirement already satisfied: typing-extensions in /usr/local/lib/python3.7/dist-packages (from kiwisolver>=1.0.1->matplotlib>=3.0.2->pingouin) (4.1.1)\n",
            "Requirement already satisfied: pytz>=2017.3 in /usr/local/lib/python3.7/dist-packages (from pandas>=1.0->pingouin) (2022.6)\n",
            "Requirement already satisfied: xarray in /usr/local/lib/python3.7/dist-packages (from pandas-flavor>=0.2.0->pingouin) (0.20.2)\n",
            "Requirement already satisfied: six>=1.5 in /usr/local/lib/python3.7/dist-packages (from python-dateutil>=2.1->matplotlib>=3.0.2->pingouin) (1.15.0)\n",
            "Requirement already satisfied: joblib>=0.11 in /usr/local/lib/python3.7/dist-packages (from scikit-learn<1.1.0->pingouin) (1.2.0)\n",
            "Requirement already satisfied: threadpoolctl>=2.0.0 in /usr/local/lib/python3.7/dist-packages (from scikit-learn<1.1.0->pingouin) (3.1.0)\n",
            "Requirement already satisfied: packaging>=21.3 in /usr/local/lib/python3.7/dist-packages (from statsmodels>=0.13->pingouin) (21.3)\n",
            "Requirement already satisfied: patsy>=0.5.2 in /usr/local/lib/python3.7/dist-packages (from statsmodels>=0.13->pingouin) (0.5.3)\n",
            "Requirement already satisfied: requests in /usr/local/lib/python3.7/dist-packages (from outdated->pingouin) (2.23.0)\n",
            "Requirement already satisfied: littleutils in /usr/local/lib/python3.7/dist-packages (from outdated->pingouin) (0.2.2)\n",
            "Requirement already satisfied: setuptools>=44 in /usr/local/lib/python3.7/dist-packages (from outdated->pingouin) (57.4.0)\n",
            "Requirement already satisfied: urllib3!=1.25.0,!=1.25.1,<1.26,>=1.21.1 in /usr/local/lib/python3.7/dist-packages (from requests->outdated->pingouin) (1.24.3)\n",
            "Requirement already satisfied: chardet<4,>=3.0.2 in /usr/local/lib/python3.7/dist-packages (from requests->outdated->pingouin) (3.0.4)\n",
            "Requirement already satisfied: certifi>=2017.4.17 in /usr/local/lib/python3.7/dist-packages (from requests->outdated->pingouin) (2022.9.24)\n",
            "Requirement already satisfied: idna<3,>=2.5 in /usr/local/lib/python3.7/dist-packages (from requests->outdated->pingouin) (2.10)\n",
            "Requirement already satisfied: importlib-metadata in /usr/local/lib/python3.7/dist-packages (from xarray->pandas-flavor>=0.2.0->pingouin) (4.13.0)\n",
            "Requirement already satisfied: zipp>=0.5 in /usr/local/lib/python3.7/dist-packages (from importlib-metadata->xarray->pandas-flavor>=0.2.0->pingouin) (3.10.0)\n",
            "Looking in indexes: https://pypi.org/simple, https://us-python.pkg.dev/colab-wheels/public/simple/\n",
            "Requirement already satisfied: sidetable in /usr/local/lib/python3.7/dist-packages (0.9.1)\n",
            "Requirement already satisfied: pandas>=1.0 in /usr/local/lib/python3.7/dist-packages (from sidetable) (1.3.5)\n",
            "Requirement already satisfied: pytz>=2017.3 in /usr/local/lib/python3.7/dist-packages (from pandas>=1.0->sidetable) (2022.6)\n",
            "Requirement already satisfied: numpy>=1.17.3 in /usr/local/lib/python3.7/dist-packages (from pandas>=1.0->sidetable) (1.21.6)\n",
            "Requirement already satisfied: python-dateutil>=2.7.3 in /usr/local/lib/python3.7/dist-packages (from pandas>=1.0->sidetable) (2.8.2)\n",
            "Requirement already satisfied: six>=1.5 in /usr/local/lib/python3.7/dist-packages (from python-dateutil>=2.7.3->pandas>=1.0->sidetable) (1.15.0)\n",
            "Looking in indexes: https://pypi.org/simple, https://us-python.pkg.dev/colab-wheels/public/simple/\n",
            "\u001b[31mERROR: Could not find a version that satisfies the requirement sklearn-learn (from versions: none)\u001b[0m\n",
            "\u001b[31mERROR: No matching distribution found for sklearn-learn\u001b[0m\n"
          ]
        }
      ]
    },
    {
      "cell_type": "code",
      "source": [
        "import seaborn as sns\n",
        "import pandas as pd\n",
        "#import datatable as dt\n",
        "import scipy.stats as ss\n",
        "from sklearn import datasets\n",
        "import numpy\n",
        "import sidetable \n",
        "from scipy.stats import mode\n",
        "import matplotlib.pyplot as plt\n",
        "import numpy as np\n",
        "import scipy.stats as stats\n",
        "from statsmodels.formula.api import ols\n",
        "from statsmodels.stats.anova import anova_lm\n",
        "from statsmodels.stats.multicomp import pairwise_tukeyhsd\n",
        "import statsmodels.formula.api as smf\n",
        "pd.options.display.float_format = lambda x: f'{x:.3f}'\n",
        "#pd.reset_option('display.float_format')"
      ],
      "metadata": {
        "id": "wc104l0xyA-6"
      },
      "execution_count": 3,
      "outputs": []
    },
    {
      "cell_type": "markdown",
      "source": [
        "## 데이터 로드"
      ],
      "metadata": {
        "id": "yroumPSoyGaC"
      }
    },
    {
      "cell_type": "code",
      "source": [
        "##데이터 로드: 엑셀파일\n",
        "# 파일명: housing.csv\n",
        "Df = pd.read_csv('/content/drive/MyDrive/보스턴_데이터과학/housing.csv')"
      ],
      "metadata": {
        "id": "f_L7P4EpyA84"
      },
      "execution_count": 4,
      "outputs": []
    },
    {
      "cell_type": "markdown",
      "source": [
        "데이터 변수명만 확인 + 각 변수들의 설명"
      ],
      "metadata": {
        "id": "28dYwnDEyQQY"
      }
    },
    {
      "cell_type": "code",
      "source": [
        "#Df[1:1] #변수명만 추출\n",
        "Df.columns"
      ],
      "metadata": {
        "colab": {
          "base_uri": "https://localhost:8080/"
        },
        "id": "4QPMxqKmyTb8",
        "outputId": "bf9a13b8-ac60-49ff-b01c-0bb46b271477"
      },
      "execution_count": 5,
      "outputs": [
        {
          "output_type": "execute_result",
          "data": {
            "text/plain": [
              "Index(['CRIM', 'ZN', 'INDUS', 'CHAS', 'NOX', 'RM', 'AGE', 'DIS', 'RAD', 'TAX',\n",
              "       'PTRATIO', 'B', 'LSTAT', 'MEDV'],\n",
              "      dtype='object')"
            ]
          },
          "metadata": {},
          "execution_count": 5
        }
      ]
    },
    {
      "cell_type": "code",
      "source": [
        "Df_dt = pd.DataFrame(Df) # 데이터 한눈에 보기"
      ],
      "metadata": {
        "id": "iQsxZSJS8aoH"
      },
      "execution_count": 6,
      "outputs": []
    },
    {
      "cell_type": "code",
      "source": [
        "Df_dt"
      ],
      "metadata": {
        "colab": {
          "base_uri": "https://localhost:8080/",
          "height": 424
        },
        "id": "b9owEobD94gr",
        "outputId": "b7eb7eba-a741-4669-8ea2-5240941a5cf8"
      },
      "execution_count": 7,
      "outputs": [
        {
          "output_type": "execute_result",
          "data": {
            "text/plain": [
              "     CRIM     ZN  INDUS  CHAS   NOX    RM    AGE   DIS   RAD     TAX  PTRATIO  \\\n",
              "0   0.006 18.000  2.310 0.000 0.538 6.575 65.200 4.090 1.000 296.000   15.300   \n",
              "1   0.027  0.000  7.070 0.000 0.469 6.421 78.900 4.967 2.000 242.000   17.800   \n",
              "2   0.027  0.000  7.070 0.000 0.469 7.185 61.100 4.967 2.000 242.000   17.800   \n",
              "3   0.032  0.000  2.180 0.000 0.458 6.998 45.800 6.062 3.000 222.000   18.700   \n",
              "4   0.069  0.000  2.180 0.000 0.458 7.147 54.200 6.062 3.000 222.000   18.700   \n",
              "..    ...    ...    ...   ...   ...   ...    ...   ...   ...     ...      ...   \n",
              "501 0.063  0.000 11.930 0.000 0.573 6.593 69.100 2.479 1.000 273.000   21.000   \n",
              "502 0.045  0.000 11.930 0.000 0.573 6.120 76.700 2.288 1.000 273.000   21.000   \n",
              "503 0.061  0.000 11.930 0.000 0.573 6.976 91.000 2.167 1.000 273.000   21.000   \n",
              "504 0.110  0.000 11.930 0.000 0.573 6.794 89.300 2.389 1.000 273.000   21.000   \n",
              "505 0.047  0.000 11.930 0.000 0.573 6.030 80.800 2.505 1.000 273.000   21.000   \n",
              "\n",
              "          B  LSTAT   MEDV  \n",
              "0   396.900  4.980 24.000  \n",
              "1   396.900  9.140 21.600  \n",
              "2   392.830  4.030 34.700  \n",
              "3   394.630  2.940 33.400  \n",
              "4   396.900  5.330 36.200  \n",
              "..      ...    ...    ...  \n",
              "501 391.990  9.670 22.400  \n",
              "502 396.900  9.080 20.600  \n",
              "503 396.900  5.640 23.900  \n",
              "504 393.450  6.480 22.000  \n",
              "505 396.900  7.880 11.900  \n",
              "\n",
              "[506 rows x 14 columns]"
            ],
            "text/html": [
              "\n",
              "  <div id=\"df-64faa67b-710b-41c3-ba3a-2a565957e09e\">\n",
              "    <div class=\"colab-df-container\">\n",
              "      <div>\n",
              "<style scoped>\n",
              "    .dataframe tbody tr th:only-of-type {\n",
              "        vertical-align: middle;\n",
              "    }\n",
              "\n",
              "    .dataframe tbody tr th {\n",
              "        vertical-align: top;\n",
              "    }\n",
              "\n",
              "    .dataframe thead th {\n",
              "        text-align: right;\n",
              "    }\n",
              "</style>\n",
              "<table border=\"1\" class=\"dataframe\">\n",
              "  <thead>\n",
              "    <tr style=\"text-align: right;\">\n",
              "      <th></th>\n",
              "      <th>CRIM</th>\n",
              "      <th>ZN</th>\n",
              "      <th>INDUS</th>\n",
              "      <th>CHAS</th>\n",
              "      <th>NOX</th>\n",
              "      <th>RM</th>\n",
              "      <th>AGE</th>\n",
              "      <th>DIS</th>\n",
              "      <th>RAD</th>\n",
              "      <th>TAX</th>\n",
              "      <th>PTRATIO</th>\n",
              "      <th>B</th>\n",
              "      <th>LSTAT</th>\n",
              "      <th>MEDV</th>\n",
              "    </tr>\n",
              "  </thead>\n",
              "  <tbody>\n",
              "    <tr>\n",
              "      <th>0</th>\n",
              "      <td>0.006</td>\n",
              "      <td>18.000</td>\n",
              "      <td>2.310</td>\n",
              "      <td>0.000</td>\n",
              "      <td>0.538</td>\n",
              "      <td>6.575</td>\n",
              "      <td>65.200</td>\n",
              "      <td>4.090</td>\n",
              "      <td>1.000</td>\n",
              "      <td>296.000</td>\n",
              "      <td>15.300</td>\n",
              "      <td>396.900</td>\n",
              "      <td>4.980</td>\n",
              "      <td>24.000</td>\n",
              "    </tr>\n",
              "    <tr>\n",
              "      <th>1</th>\n",
              "      <td>0.027</td>\n",
              "      <td>0.000</td>\n",
              "      <td>7.070</td>\n",
              "      <td>0.000</td>\n",
              "      <td>0.469</td>\n",
              "      <td>6.421</td>\n",
              "      <td>78.900</td>\n",
              "      <td>4.967</td>\n",
              "      <td>2.000</td>\n",
              "      <td>242.000</td>\n",
              "      <td>17.800</td>\n",
              "      <td>396.900</td>\n",
              "      <td>9.140</td>\n",
              "      <td>21.600</td>\n",
              "    </tr>\n",
              "    <tr>\n",
              "      <th>2</th>\n",
              "      <td>0.027</td>\n",
              "      <td>0.000</td>\n",
              "      <td>7.070</td>\n",
              "      <td>0.000</td>\n",
              "      <td>0.469</td>\n",
              "      <td>7.185</td>\n",
              "      <td>61.100</td>\n",
              "      <td>4.967</td>\n",
              "      <td>2.000</td>\n",
              "      <td>242.000</td>\n",
              "      <td>17.800</td>\n",
              "      <td>392.830</td>\n",
              "      <td>4.030</td>\n",
              "      <td>34.700</td>\n",
              "    </tr>\n",
              "    <tr>\n",
              "      <th>3</th>\n",
              "      <td>0.032</td>\n",
              "      <td>0.000</td>\n",
              "      <td>2.180</td>\n",
              "      <td>0.000</td>\n",
              "      <td>0.458</td>\n",
              "      <td>6.998</td>\n",
              "      <td>45.800</td>\n",
              "      <td>6.062</td>\n",
              "      <td>3.000</td>\n",
              "      <td>222.000</td>\n",
              "      <td>18.700</td>\n",
              "      <td>394.630</td>\n",
              "      <td>2.940</td>\n",
              "      <td>33.400</td>\n",
              "    </tr>\n",
              "    <tr>\n",
              "      <th>4</th>\n",
              "      <td>0.069</td>\n",
              "      <td>0.000</td>\n",
              "      <td>2.180</td>\n",
              "      <td>0.000</td>\n",
              "      <td>0.458</td>\n",
              "      <td>7.147</td>\n",
              "      <td>54.200</td>\n",
              "      <td>6.062</td>\n",
              "      <td>3.000</td>\n",
              "      <td>222.000</td>\n",
              "      <td>18.700</td>\n",
              "      <td>396.900</td>\n",
              "      <td>5.330</td>\n",
              "      <td>36.200</td>\n",
              "    </tr>\n",
              "    <tr>\n",
              "      <th>...</th>\n",
              "      <td>...</td>\n",
              "      <td>...</td>\n",
              "      <td>...</td>\n",
              "      <td>...</td>\n",
              "      <td>...</td>\n",
              "      <td>...</td>\n",
              "      <td>...</td>\n",
              "      <td>...</td>\n",
              "      <td>...</td>\n",
              "      <td>...</td>\n",
              "      <td>...</td>\n",
              "      <td>...</td>\n",
              "      <td>...</td>\n",
              "      <td>...</td>\n",
              "    </tr>\n",
              "    <tr>\n",
              "      <th>501</th>\n",
              "      <td>0.063</td>\n",
              "      <td>0.000</td>\n",
              "      <td>11.930</td>\n",
              "      <td>0.000</td>\n",
              "      <td>0.573</td>\n",
              "      <td>6.593</td>\n",
              "      <td>69.100</td>\n",
              "      <td>2.479</td>\n",
              "      <td>1.000</td>\n",
              "      <td>273.000</td>\n",
              "      <td>21.000</td>\n",
              "      <td>391.990</td>\n",
              "      <td>9.670</td>\n",
              "      <td>22.400</td>\n",
              "    </tr>\n",
              "    <tr>\n",
              "      <th>502</th>\n",
              "      <td>0.045</td>\n",
              "      <td>0.000</td>\n",
              "      <td>11.930</td>\n",
              "      <td>0.000</td>\n",
              "      <td>0.573</td>\n",
              "      <td>6.120</td>\n",
              "      <td>76.700</td>\n",
              "      <td>2.288</td>\n",
              "      <td>1.000</td>\n",
              "      <td>273.000</td>\n",
              "      <td>21.000</td>\n",
              "      <td>396.900</td>\n",
              "      <td>9.080</td>\n",
              "      <td>20.600</td>\n",
              "    </tr>\n",
              "    <tr>\n",
              "      <th>503</th>\n",
              "      <td>0.061</td>\n",
              "      <td>0.000</td>\n",
              "      <td>11.930</td>\n",
              "      <td>0.000</td>\n",
              "      <td>0.573</td>\n",
              "      <td>6.976</td>\n",
              "      <td>91.000</td>\n",
              "      <td>2.167</td>\n",
              "      <td>1.000</td>\n",
              "      <td>273.000</td>\n",
              "      <td>21.000</td>\n",
              "      <td>396.900</td>\n",
              "      <td>5.640</td>\n",
              "      <td>23.900</td>\n",
              "    </tr>\n",
              "    <tr>\n",
              "      <th>504</th>\n",
              "      <td>0.110</td>\n",
              "      <td>0.000</td>\n",
              "      <td>11.930</td>\n",
              "      <td>0.000</td>\n",
              "      <td>0.573</td>\n",
              "      <td>6.794</td>\n",
              "      <td>89.300</td>\n",
              "      <td>2.389</td>\n",
              "      <td>1.000</td>\n",
              "      <td>273.000</td>\n",
              "      <td>21.000</td>\n",
              "      <td>393.450</td>\n",
              "      <td>6.480</td>\n",
              "      <td>22.000</td>\n",
              "    </tr>\n",
              "    <tr>\n",
              "      <th>505</th>\n",
              "      <td>0.047</td>\n",
              "      <td>0.000</td>\n",
              "      <td>11.930</td>\n",
              "      <td>0.000</td>\n",
              "      <td>0.573</td>\n",
              "      <td>6.030</td>\n",
              "      <td>80.800</td>\n",
              "      <td>2.505</td>\n",
              "      <td>1.000</td>\n",
              "      <td>273.000</td>\n",
              "      <td>21.000</td>\n",
              "      <td>396.900</td>\n",
              "      <td>7.880</td>\n",
              "      <td>11.900</td>\n",
              "    </tr>\n",
              "  </tbody>\n",
              "</table>\n",
              "<p>506 rows × 14 columns</p>\n",
              "</div>\n",
              "      <button class=\"colab-df-convert\" onclick=\"convertToInteractive('df-64faa67b-710b-41c3-ba3a-2a565957e09e')\"\n",
              "              title=\"Convert this dataframe to an interactive table.\"\n",
              "              style=\"display:none;\">\n",
              "        \n",
              "  <svg xmlns=\"http://www.w3.org/2000/svg\" height=\"24px\"viewBox=\"0 0 24 24\"\n",
              "       width=\"24px\">\n",
              "    <path d=\"M0 0h24v24H0V0z\" fill=\"none\"/>\n",
              "    <path d=\"M18.56 5.44l.94 2.06.94-2.06 2.06-.94-2.06-.94-.94-2.06-.94 2.06-2.06.94zm-11 1L8.5 8.5l.94-2.06 2.06-.94-2.06-.94L8.5 2.5l-.94 2.06-2.06.94zm10 10l.94 2.06.94-2.06 2.06-.94-2.06-.94-.94-2.06-.94 2.06-2.06.94z\"/><path d=\"M17.41 7.96l-1.37-1.37c-.4-.4-.92-.59-1.43-.59-.52 0-1.04.2-1.43.59L10.3 9.45l-7.72 7.72c-.78.78-.78 2.05 0 2.83L4 21.41c.39.39.9.59 1.41.59.51 0 1.02-.2 1.41-.59l7.78-7.78 2.81-2.81c.8-.78.8-2.07 0-2.86zM5.41 20L4 18.59l7.72-7.72 1.47 1.35L5.41 20z\"/>\n",
              "  </svg>\n",
              "      </button>\n",
              "      \n",
              "  <style>\n",
              "    .colab-df-container {\n",
              "      display:flex;\n",
              "      flex-wrap:wrap;\n",
              "      gap: 12px;\n",
              "    }\n",
              "\n",
              "    .colab-df-convert {\n",
              "      background-color: #E8F0FE;\n",
              "      border: none;\n",
              "      border-radius: 50%;\n",
              "      cursor: pointer;\n",
              "      display: none;\n",
              "      fill: #1967D2;\n",
              "      height: 32px;\n",
              "      padding: 0 0 0 0;\n",
              "      width: 32px;\n",
              "    }\n",
              "\n",
              "    .colab-df-convert:hover {\n",
              "      background-color: #E2EBFA;\n",
              "      box-shadow: 0px 1px 2px rgba(60, 64, 67, 0.3), 0px 1px 3px 1px rgba(60, 64, 67, 0.15);\n",
              "      fill: #174EA6;\n",
              "    }\n",
              "\n",
              "    [theme=dark] .colab-df-convert {\n",
              "      background-color: #3B4455;\n",
              "      fill: #D2E3FC;\n",
              "    }\n",
              "\n",
              "    [theme=dark] .colab-df-convert:hover {\n",
              "      background-color: #434B5C;\n",
              "      box-shadow: 0px 1px 3px 1px rgba(0, 0, 0, 0.15);\n",
              "      filter: drop-shadow(0px 1px 2px rgba(0, 0, 0, 0.3));\n",
              "      fill: #FFFFFF;\n",
              "    }\n",
              "  </style>\n",
              "\n",
              "      <script>\n",
              "        const buttonEl =\n",
              "          document.querySelector('#df-64faa67b-710b-41c3-ba3a-2a565957e09e button.colab-df-convert');\n",
              "        buttonEl.style.display =\n",
              "          google.colab.kernel.accessAllowed ? 'block' : 'none';\n",
              "\n",
              "        async function convertToInteractive(key) {\n",
              "          const element = document.querySelector('#df-64faa67b-710b-41c3-ba3a-2a565957e09e');\n",
              "          const dataTable =\n",
              "            await google.colab.kernel.invokeFunction('convertToInteractive',\n",
              "                                                     [key], {});\n",
              "          if (!dataTable) return;\n",
              "\n",
              "          const docLinkHtml = 'Like what you see? Visit the ' +\n",
              "            '<a target=\"_blank\" href=https://colab.research.google.com/notebooks/data_table.ipynb>data table notebook</a>'\n",
              "            + ' to learn more about interactive tables.';\n",
              "          element.innerHTML = '';\n",
              "          dataTable['output_type'] = 'display_data';\n",
              "          await google.colab.output.renderOutput(dataTable, element);\n",
              "          const docLink = document.createElement('div');\n",
              "          docLink.innerHTML = docLinkHtml;\n",
              "          element.appendChild(docLink);\n",
              "        }\n",
              "      </script>\n",
              "    </div>\n",
              "  </div>\n",
              "  "
            ]
          },
          "metadata": {},
          "execution_count": 7
        }
      ]
    },
    {
      "cell_type": "markdown",
      "source": [
        "![스크린샷 2022-11-17 오후 5.56.39.png](data:image/png;base64,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)"
      ],
      "metadata": {
        "id": "gouwJFSLyi3S"
      }
    },
    {
      "cell_type": "markdown",
      "source": [
        "**MEDV를 Target으로, 나머지 변수들을 feature로 설정**"
      ],
      "metadata": {
        "id": "qxpHnnYg0NI7"
      }
    },
    {
      "cell_type": "code",
      "source": [
        "target = Df_dt[['MEDV']]"
      ],
      "metadata": {
        "id": "g7t7dkyM2znJ"
      },
      "execution_count": 8,
      "outputs": []
    },
    {
      "cell_type": "code",
      "source": [
        "target"
      ],
      "metadata": {
        "colab": {
          "base_uri": "https://localhost:8080/",
          "height": 424
        },
        "id": "vd1hCX-W8HSS",
        "outputId": "c06161c3-8078-44a9-b32e-bea1e7629e7d"
      },
      "execution_count": 9,
      "outputs": [
        {
          "output_type": "execute_result",
          "data": {
            "text/plain": [
              "      MEDV\n",
              "0   24.000\n",
              "1   21.600\n",
              "2   34.700\n",
              "3   33.400\n",
              "4   36.200\n",
              "..     ...\n",
              "501 22.400\n",
              "502 20.600\n",
              "503 23.900\n",
              "504 22.000\n",
              "505 11.900\n",
              "\n",
              "[506 rows x 1 columns]"
            ],
            "text/html": [
              "\n",
              "  <div id=\"df-66a9a95c-7624-44de-8fa3-1e563e91aec5\">\n",
              "    <div class=\"colab-df-container\">\n",
              "      <div>\n",
              "<style scoped>\n",
              "    .dataframe tbody tr th:only-of-type {\n",
              "        vertical-align: middle;\n",
              "    }\n",
              "\n",
              "    .dataframe tbody tr th {\n",
              "        vertical-align: top;\n",
              "    }\n",
              "\n",
              "    .dataframe thead th {\n",
              "        text-align: right;\n",
              "    }\n",
              "</style>\n",
              "<table border=\"1\" class=\"dataframe\">\n",
              "  <thead>\n",
              "    <tr style=\"text-align: right;\">\n",
              "      <th></th>\n",
              "      <th>MEDV</th>\n",
              "    </tr>\n",
              "  </thead>\n",
              "  <tbody>\n",
              "    <tr>\n",
              "      <th>0</th>\n",
              "      <td>24.000</td>\n",
              "    </tr>\n",
              "    <tr>\n",
              "      <th>1</th>\n",
              "      <td>21.600</td>\n",
              "    </tr>\n",
              "    <tr>\n",
              "      <th>2</th>\n",
              "      <td>34.700</td>\n",
              "    </tr>\n",
              "    <tr>\n",
              "      <th>3</th>\n",
              "      <td>33.400</td>\n",
              "    </tr>\n",
              "    <tr>\n",
              "      <th>4</th>\n",
              "      <td>36.200</td>\n",
              "    </tr>\n",
              "    <tr>\n",
              "      <th>...</th>\n",
              "      <td>...</td>\n",
              "    </tr>\n",
              "    <tr>\n",
              "      <th>501</th>\n",
              "      <td>22.400</td>\n",
              "    </tr>\n",
              "    <tr>\n",
              "      <th>502</th>\n",
              "      <td>20.600</td>\n",
              "    </tr>\n",
              "    <tr>\n",
              "      <th>503</th>\n",
              "      <td>23.900</td>\n",
              "    </tr>\n",
              "    <tr>\n",
              "      <th>504</th>\n",
              "      <td>22.000</td>\n",
              "    </tr>\n",
              "    <tr>\n",
              "      <th>505</th>\n",
              "      <td>11.900</td>\n",
              "    </tr>\n",
              "  </tbody>\n",
              "</table>\n",
              "<p>506 rows × 1 columns</p>\n",
              "</div>\n",
              "      <button class=\"colab-df-convert\" onclick=\"convertToInteractive('df-66a9a95c-7624-44de-8fa3-1e563e91aec5')\"\n",
              "              title=\"Convert this dataframe to an interactive table.\"\n",
              "              style=\"display:none;\">\n",
              "        \n",
              "  <svg xmlns=\"http://www.w3.org/2000/svg\" height=\"24px\"viewBox=\"0 0 24 24\"\n",
              "       width=\"24px\">\n",
              "    <path d=\"M0 0h24v24H0V0z\" fill=\"none\"/>\n",
              "    <path d=\"M18.56 5.44l.94 2.06.94-2.06 2.06-.94-2.06-.94-.94-2.06-.94 2.06-2.06.94zm-11 1L8.5 8.5l.94-2.06 2.06-.94-2.06-.94L8.5 2.5l-.94 2.06-2.06.94zm10 10l.94 2.06.94-2.06 2.06-.94-2.06-.94-.94-2.06-.94 2.06-2.06.94z\"/><path d=\"M17.41 7.96l-1.37-1.37c-.4-.4-.92-.59-1.43-.59-.52 0-1.04.2-1.43.59L10.3 9.45l-7.72 7.72c-.78.78-.78 2.05 0 2.83L4 21.41c.39.39.9.59 1.41.59.51 0 1.02-.2 1.41-.59l7.78-7.78 2.81-2.81c.8-.78.8-2.07 0-2.86zM5.41 20L4 18.59l7.72-7.72 1.47 1.35L5.41 20z\"/>\n",
              "  </svg>\n",
              "      </button>\n",
              "      \n",
              "  <style>\n",
              "    .colab-df-container {\n",
              "      display:flex;\n",
              "      flex-wrap:wrap;\n",
              "      gap: 12px;\n",
              "    }\n",
              "\n",
              "    .colab-df-convert {\n",
              "      background-color: #E8F0FE;\n",
              "      border: none;\n",
              "      border-radius: 50%;\n",
              "      cursor: pointer;\n",
              "      display: none;\n",
              "      fill: #1967D2;\n",
              "      height: 32px;\n",
              "      padding: 0 0 0 0;\n",
              "      width: 32px;\n",
              "    }\n",
              "\n",
              "    .colab-df-convert:hover {\n",
              "      background-color: #E2EBFA;\n",
              "      box-shadow: 0px 1px 2px rgba(60, 64, 67, 0.3), 0px 1px 3px 1px rgba(60, 64, 67, 0.15);\n",
              "      fill: #174EA6;\n",
              "    }\n",
              "\n",
              "    [theme=dark] .colab-df-convert {\n",
              "      background-color: #3B4455;\n",
              "      fill: #D2E3FC;\n",
              "    }\n",
              "\n",
              "    [theme=dark] .colab-df-convert:hover {\n",
              "      background-color: #434B5C;\n",
              "      box-shadow: 0px 1px 3px 1px rgba(0, 0, 0, 0.15);\n",
              "      filter: drop-shadow(0px 1px 2px rgba(0, 0, 0, 0.3));\n",
              "      fill: #FFFFFF;\n",
              "    }\n",
              "  </style>\n",
              "\n",
              "      <script>\n",
              "        const buttonEl =\n",
              "          document.querySelector('#df-66a9a95c-7624-44de-8fa3-1e563e91aec5 button.colab-df-convert');\n",
              "        buttonEl.style.display =\n",
              "          google.colab.kernel.accessAllowed ? 'block' : 'none';\n",
              "\n",
              "        async function convertToInteractive(key) {\n",
              "          const element = document.querySelector('#df-66a9a95c-7624-44de-8fa3-1e563e91aec5');\n",
              "          const dataTable =\n",
              "            await google.colab.kernel.invokeFunction('convertToInteractive',\n",
              "                                                     [key], {});\n",
              "          if (!dataTable) return;\n",
              "\n",
              "          const docLinkHtml = 'Like what you see? Visit the ' +\n",
              "            '<a target=\"_blank\" href=https://colab.research.google.com/notebooks/data_table.ipynb>data table notebook</a>'\n",
              "            + ' to learn more about interactive tables.';\n",
              "          element.innerHTML = '';\n",
              "          dataTable['output_type'] = 'display_data';\n",
              "          await google.colab.output.renderOutput(dataTable, element);\n",
              "          const docLink = document.createElement('div');\n",
              "          docLink.innerHTML = docLinkHtml;\n",
              "          element.appendChild(docLink);\n",
              "        }\n",
              "      </script>\n",
              "    </div>\n",
              "  </div>\n",
              "  "
            ]
          },
          "metadata": {},
          "execution_count": 9
        }
      ]
    },
    {
      "cell_type": "code",
      "source": [
        "features = Df_dt[['CRIM','ZN', 'INDUS', 'CHAS', 'NOX', 'RM', 'AGE', 'DIS', 'RAD', 'TAX',\n",
        "       'PTRATIO', 'B', 'LSTAT']]\n",
        "features"
      ],
      "metadata": {
        "colab": {
          "base_uri": "https://localhost:8080/",
          "height": 424
        },
        "id": "0J5peDLP4_4S",
        "outputId": "0b797b79-dbc1-4935-ad92-b2cbc5e52572"
      },
      "execution_count": 10,
      "outputs": [
        {
          "output_type": "execute_result",
          "data": {
            "text/plain": [
              "     CRIM     ZN  INDUS  CHAS   NOX    RM    AGE   DIS   RAD     TAX  PTRATIO  \\\n",
              "0   0.006 18.000  2.310 0.000 0.538 6.575 65.200 4.090 1.000 296.000   15.300   \n",
              "1   0.027  0.000  7.070 0.000 0.469 6.421 78.900 4.967 2.000 242.000   17.800   \n",
              "2   0.027  0.000  7.070 0.000 0.469 7.185 61.100 4.967 2.000 242.000   17.800   \n",
              "3   0.032  0.000  2.180 0.000 0.458 6.998 45.800 6.062 3.000 222.000   18.700   \n",
              "4   0.069  0.000  2.180 0.000 0.458 7.147 54.200 6.062 3.000 222.000   18.700   \n",
              "..    ...    ...    ...   ...   ...   ...    ...   ...   ...     ...      ...   \n",
              "501 0.063  0.000 11.930 0.000 0.573 6.593 69.100 2.479 1.000 273.000   21.000   \n",
              "502 0.045  0.000 11.930 0.000 0.573 6.120 76.700 2.288 1.000 273.000   21.000   \n",
              "503 0.061  0.000 11.930 0.000 0.573 6.976 91.000 2.167 1.000 273.000   21.000   \n",
              "504 0.110  0.000 11.930 0.000 0.573 6.794 89.300 2.389 1.000 273.000   21.000   \n",
              "505 0.047  0.000 11.930 0.000 0.573 6.030 80.800 2.505 1.000 273.000   21.000   \n",
              "\n",
              "          B  LSTAT  \n",
              "0   396.900  4.980  \n",
              "1   396.900  9.140  \n",
              "2   392.830  4.030  \n",
              "3   394.630  2.940  \n",
              "4   396.900  5.330  \n",
              "..      ...    ...  \n",
              "501 391.990  9.670  \n",
              "502 396.900  9.080  \n",
              "503 396.900  5.640  \n",
              "504 393.450  6.480  \n",
              "505 396.900  7.880  \n",
              "\n",
              "[506 rows x 13 columns]"
            ],
            "text/html": [
              "\n",
              "  <div id=\"df-b20b9bca-543c-4979-bb49-9437b7333dbe\">\n",
              "    <div class=\"colab-df-container\">\n",
              "      <div>\n",
              "<style scoped>\n",
              "    .dataframe tbody tr th:only-of-type {\n",
              "        vertical-align: middle;\n",
              "    }\n",
              "\n",
              "    .dataframe tbody tr th {\n",
              "        vertical-align: top;\n",
              "    }\n",
              "\n",
              "    .dataframe thead th {\n",
              "        text-align: right;\n",
              "    }\n",
              "</style>\n",
              "<table border=\"1\" class=\"dataframe\">\n",
              "  <thead>\n",
              "    <tr style=\"text-align: right;\">\n",
              "      <th></th>\n",
              "      <th>CRIM</th>\n",
              "      <th>ZN</th>\n",
              "      <th>INDUS</th>\n",
              "      <th>CHAS</th>\n",
              "      <th>NOX</th>\n",
              "      <th>RM</th>\n",
              "      <th>AGE</th>\n",
              "      <th>DIS</th>\n",
              "      <th>RAD</th>\n",
              "      <th>TAX</th>\n",
              "      <th>PTRATIO</th>\n",
              "      <th>B</th>\n",
              "      <th>LSTAT</th>\n",
              "    </tr>\n",
              "  </thead>\n",
              "  <tbody>\n",
              "    <tr>\n",
              "      <th>0</th>\n",
              "      <td>0.006</td>\n",
              "      <td>18.000</td>\n",
              "      <td>2.310</td>\n",
              "      <td>0.000</td>\n",
              "      <td>0.538</td>\n",
              "      <td>6.575</td>\n",
              "      <td>65.200</td>\n",
              "      <td>4.090</td>\n",
              "      <td>1.000</td>\n",
              "      <td>296.000</td>\n",
              "      <td>15.300</td>\n",
              "      <td>396.900</td>\n",
              "      <td>4.980</td>\n",
              "    </tr>\n",
              "    <tr>\n",
              "      <th>1</th>\n",
              "      <td>0.027</td>\n",
              "      <td>0.000</td>\n",
              "      <td>7.070</td>\n",
              "      <td>0.000</td>\n",
              "      <td>0.469</td>\n",
              "      <td>6.421</td>\n",
              "      <td>78.900</td>\n",
              "      <td>4.967</td>\n",
              "      <td>2.000</td>\n",
              "      <td>242.000</td>\n",
              "      <td>17.800</td>\n",
              "      <td>396.900</td>\n",
              "      <td>9.140</td>\n",
              "    </tr>\n",
              "    <tr>\n",
              "      <th>2</th>\n",
              "      <td>0.027</td>\n",
              "      <td>0.000</td>\n",
              "      <td>7.070</td>\n",
              "      <td>0.000</td>\n",
              "      <td>0.469</td>\n",
              "      <td>7.185</td>\n",
              "      <td>61.100</td>\n",
              "      <td>4.967</td>\n",
              "      <td>2.000</td>\n",
              "      <td>242.000</td>\n",
              "      <td>17.800</td>\n",
              "      <td>392.830</td>\n",
              "      <td>4.030</td>\n",
              "    </tr>\n",
              "    <tr>\n",
              "      <th>3</th>\n",
              "      <td>0.032</td>\n",
              "      <td>0.000</td>\n",
              "      <td>2.180</td>\n",
              "      <td>0.000</td>\n",
              "      <td>0.458</td>\n",
              "      <td>6.998</td>\n",
              "      <td>45.800</td>\n",
              "      <td>6.062</td>\n",
              "      <td>3.000</td>\n",
              "      <td>222.000</td>\n",
              "      <td>18.700</td>\n",
              "      <td>394.630</td>\n",
              "      <td>2.940</td>\n",
              "    </tr>\n",
              "    <tr>\n",
              "      <th>4</th>\n",
              "      <td>0.069</td>\n",
              "      <td>0.000</td>\n",
              "      <td>2.180</td>\n",
              "      <td>0.000</td>\n",
              "      <td>0.458</td>\n",
              "      <td>7.147</td>\n",
              "      <td>54.200</td>\n",
              "      <td>6.062</td>\n",
              "      <td>3.000</td>\n",
              "      <td>222.000</td>\n",
              "      <td>18.700</td>\n",
              "      <td>396.900</td>\n",
              "      <td>5.330</td>\n",
              "    </tr>\n",
              "    <tr>\n",
              "      <th>...</th>\n",
              "      <td>...</td>\n",
              "      <td>...</td>\n",
              "      <td>...</td>\n",
              "      <td>...</td>\n",
              "      <td>...</td>\n",
              "      <td>...</td>\n",
              "      <td>...</td>\n",
              "      <td>...</td>\n",
              "      <td>...</td>\n",
              "      <td>...</td>\n",
              "      <td>...</td>\n",
              "      <td>...</td>\n",
              "      <td>...</td>\n",
              "    </tr>\n",
              "    <tr>\n",
              "      <th>501</th>\n",
              "      <td>0.063</td>\n",
              "      <td>0.000</td>\n",
              "      <td>11.930</td>\n",
              "      <td>0.000</td>\n",
              "      <td>0.573</td>\n",
              "      <td>6.593</td>\n",
              "      <td>69.100</td>\n",
              "      <td>2.479</td>\n",
              "      <td>1.000</td>\n",
              "      <td>273.000</td>\n",
              "      <td>21.000</td>\n",
              "      <td>391.990</td>\n",
              "      <td>9.670</td>\n",
              "    </tr>\n",
              "    <tr>\n",
              "      <th>502</th>\n",
              "      <td>0.045</td>\n",
              "      <td>0.000</td>\n",
              "      <td>11.930</td>\n",
              "      <td>0.000</td>\n",
              "      <td>0.573</td>\n",
              "      <td>6.120</td>\n",
              "      <td>76.700</td>\n",
              "      <td>2.288</td>\n",
              "      <td>1.000</td>\n",
              "      <td>273.000</td>\n",
              "      <td>21.000</td>\n",
              "      <td>396.900</td>\n",
              "      <td>9.080</td>\n",
              "    </tr>\n",
              "    <tr>\n",
              "      <th>503</th>\n",
              "      <td>0.061</td>\n",
              "      <td>0.000</td>\n",
              "      <td>11.930</td>\n",
              "      <td>0.000</td>\n",
              "      <td>0.573</td>\n",
              "      <td>6.976</td>\n",
              "      <td>91.000</td>\n",
              "      <td>2.167</td>\n",
              "      <td>1.000</td>\n",
              "      <td>273.000</td>\n",
              "      <td>21.000</td>\n",
              "      <td>396.900</td>\n",
              "      <td>5.640</td>\n",
              "    </tr>\n",
              "    <tr>\n",
              "      <th>504</th>\n",
              "      <td>0.110</td>\n",
              "      <td>0.000</td>\n",
              "      <td>11.930</td>\n",
              "      <td>0.000</td>\n",
              "      <td>0.573</td>\n",
              "      <td>6.794</td>\n",
              "      <td>89.300</td>\n",
              "      <td>2.389</td>\n",
              "      <td>1.000</td>\n",
              "      <td>273.000</td>\n",
              "      <td>21.000</td>\n",
              "      <td>393.450</td>\n",
              "      <td>6.480</td>\n",
              "    </tr>\n",
              "    <tr>\n",
              "      <th>505</th>\n",
              "      <td>0.047</td>\n",
              "      <td>0.000</td>\n",
              "      <td>11.930</td>\n",
              "      <td>0.000</td>\n",
              "      <td>0.573</td>\n",
              "      <td>6.030</td>\n",
              "      <td>80.800</td>\n",
              "      <td>2.505</td>\n",
              "      <td>1.000</td>\n",
              "      <td>273.000</td>\n",
              "      <td>21.000</td>\n",
              "      <td>396.900</td>\n",
              "      <td>7.880</td>\n",
              "    </tr>\n",
              "  </tbody>\n",
              "</table>\n",
              "<p>506 rows × 13 columns</p>\n",
              "</div>\n",
              "      <button class=\"colab-df-convert\" onclick=\"convertToInteractive('df-b20b9bca-543c-4979-bb49-9437b7333dbe')\"\n",
              "              title=\"Convert this dataframe to an interactive table.\"\n",
              "              style=\"display:none;\">\n",
              "        \n",
              "  <svg xmlns=\"http://www.w3.org/2000/svg\" height=\"24px\"viewBox=\"0 0 24 24\"\n",
              "       width=\"24px\">\n",
              "    <path d=\"M0 0h24v24H0V0z\" fill=\"none\"/>\n",
              "    <path d=\"M18.56 5.44l.94 2.06.94-2.06 2.06-.94-2.06-.94-.94-2.06-.94 2.06-2.06.94zm-11 1L8.5 8.5l.94-2.06 2.06-.94-2.06-.94L8.5 2.5l-.94 2.06-2.06.94zm10 10l.94 2.06.94-2.06 2.06-.94-2.06-.94-.94-2.06-.94 2.06-2.06.94z\"/><path d=\"M17.41 7.96l-1.37-1.37c-.4-.4-.92-.59-1.43-.59-.52 0-1.04.2-1.43.59L10.3 9.45l-7.72 7.72c-.78.78-.78 2.05 0 2.83L4 21.41c.39.39.9.59 1.41.59.51 0 1.02-.2 1.41-.59l7.78-7.78 2.81-2.81c.8-.78.8-2.07 0-2.86zM5.41 20L4 18.59l7.72-7.72 1.47 1.35L5.41 20z\"/>\n",
              "  </svg>\n",
              "      </button>\n",
              "      \n",
              "  <style>\n",
              "    .colab-df-container {\n",
              "      display:flex;\n",
              "      flex-wrap:wrap;\n",
              "      gap: 12px;\n",
              "    }\n",
              "\n",
              "    .colab-df-convert {\n",
              "      background-color: #E8F0FE;\n",
              "      border: none;\n",
              "      border-radius: 50%;\n",
              "      cursor: pointer;\n",
              "      display: none;\n",
              "      fill: #1967D2;\n",
              "      height: 32px;\n",
              "      padding: 0 0 0 0;\n",
              "      width: 32px;\n",
              "    }\n",
              "\n",
              "    .colab-df-convert:hover {\n",
              "      background-color: #E2EBFA;\n",
              "      box-shadow: 0px 1px 2px rgba(60, 64, 67, 0.3), 0px 1px 3px 1px rgba(60, 64, 67, 0.15);\n",
              "      fill: #174EA6;\n",
              "    }\n",
              "\n",
              "    [theme=dark] .colab-df-convert {\n",
              "      background-color: #3B4455;\n",
              "      fill: #D2E3FC;\n",
              "    }\n",
              "\n",
              "    [theme=dark] .colab-df-convert:hover {\n",
              "      background-color: #434B5C;\n",
              "      box-shadow: 0px 1px 3px 1px rgba(0, 0, 0, 0.15);\n",
              "      filter: drop-shadow(0px 1px 2px rgba(0, 0, 0, 0.3));\n",
              "      fill: #FFFFFF;\n",
              "    }\n",
              "  </style>\n",
              "\n",
              "      <script>\n",
              "        const buttonEl =\n",
              "          document.querySelector('#df-b20b9bca-543c-4979-bb49-9437b7333dbe button.colab-df-convert');\n",
              "        buttonEl.style.display =\n",
              "          google.colab.kernel.accessAllowed ? 'block' : 'none';\n",
              "\n",
              "        async function convertToInteractive(key) {\n",
              "          const element = document.querySelector('#df-b20b9bca-543c-4979-bb49-9437b7333dbe');\n",
              "          const dataTable =\n",
              "            await google.colab.kernel.invokeFunction('convertToInteractive',\n",
              "                                                     [key], {});\n",
              "          if (!dataTable) return;\n",
              "\n",
              "          const docLinkHtml = 'Like what you see? Visit the ' +\n",
              "            '<a target=\"_blank\" href=https://colab.research.google.com/notebooks/data_table.ipynb>data table notebook</a>'\n",
              "            + ' to learn more about interactive tables.';\n",
              "          element.innerHTML = '';\n",
              "          dataTable['output_type'] = 'display_data';\n",
              "          await google.colab.output.renderOutput(dataTable, element);\n",
              "          const docLink = document.createElement('div');\n",
              "          docLink.innerHTML = docLinkHtml;\n",
              "          element.appendChild(docLink);\n",
              "        }\n",
              "      </script>\n",
              "    </div>\n",
              "  </div>\n",
              "  "
            ]
          },
          "metadata": {},
          "execution_count": 10
        }
      ]
    },
    {
      "cell_type": "code",
      "source": [
        "# target = ohe.fit_transform(target[[col]])\n",
        "# features = ohe.fit_transform(features[[col]])"
      ],
      "metadata": {
        "id": "ki0JEGl4I7WO"
      },
      "execution_count": 11,
      "outputs": []
    },
    {
      "cell_type": "code",
      "source": [
        "# 데이터 로드 확인\n",
        "print(Df_dt.shape)            # 데이터의 가로세로수 확인\n",
        "print(Df_dt.head())           # 데이터 앞부분(5개)확인\n",
        "print(Df_dt.tail())           # 데이터 뒷부분(5개)확인"
      ],
      "metadata": {
        "colab": {
          "base_uri": "https://localhost:8080/"
        },
        "id": "kx-FYlqcyZ-M",
        "outputId": "fa053a5e-d596-4725-c43a-7cccf63dc162"
      },
      "execution_count": 12,
      "outputs": [
        {
          "output_type": "stream",
          "name": "stdout",
          "text": [
            "(506, 14)\n",
            "   CRIM     ZN  INDUS  CHAS   NOX    RM    AGE   DIS   RAD     TAX  PTRATIO  \\\n",
            "0 0.006 18.000  2.310 0.000 0.538 6.575 65.200 4.090 1.000 296.000   15.300   \n",
            "1 0.027  0.000  7.070 0.000 0.469 6.421 78.900 4.967 2.000 242.000   17.800   \n",
            "2 0.027  0.000  7.070 0.000 0.469 7.185 61.100 4.967 2.000 242.000   17.800   \n",
            "3 0.032  0.000  2.180 0.000 0.458 6.998 45.800 6.062 3.000 222.000   18.700   \n",
            "4 0.069  0.000  2.180 0.000 0.458 7.147 54.200 6.062 3.000 222.000   18.700   \n",
            "\n",
            "        B  LSTAT   MEDV  \n",
            "0 396.900  4.980 24.000  \n",
            "1 396.900  9.140 21.600  \n",
            "2 392.830  4.030 34.700  \n",
            "3 394.630  2.940 33.400  \n",
            "4 396.900  5.330 36.200  \n",
            "     CRIM    ZN  INDUS  CHAS   NOX    RM    AGE   DIS   RAD     TAX  PTRATIO  \\\n",
            "501 0.063 0.000 11.930 0.000 0.573 6.593 69.100 2.479 1.000 273.000   21.000   \n",
            "502 0.045 0.000 11.930 0.000 0.573 6.120 76.700 2.288 1.000 273.000   21.000   \n",
            "503 0.061 0.000 11.930 0.000 0.573 6.976 91.000 2.167 1.000 273.000   21.000   \n",
            "504 0.110 0.000 11.930 0.000 0.573 6.794 89.300 2.389 1.000 273.000   21.000   \n",
            "505 0.047 0.000 11.930 0.000 0.573 6.030 80.800 2.505 1.000 273.000   21.000   \n",
            "\n",
            "          B  LSTAT   MEDV  \n",
            "501 391.990  9.670 22.400  \n",
            "502 396.900  9.080 20.600  \n",
            "503 396.900  5.640 23.900  \n",
            "504 393.450  6.480 22.000  \n",
            "505 396.900  7.880 11.900  \n"
          ]
        }
      ]
    },
    {
      "cell_type": "code",
      "source": [
        "# 데이터의 결측치 확인\n",
        "Df_dt.isnull().sum()"
      ],
      "metadata": {
        "colab": {
          "base_uri": "https://localhost:8080/"
        },
        "id": "AVbCmvNx0sQH",
        "outputId": "17e1046c-2014-4f7e-89d5-a8bad0658793"
      },
      "execution_count": 13,
      "outputs": [
        {
          "output_type": "execute_result",
          "data": {
            "text/plain": [
              "CRIM       0\n",
              "ZN         0\n",
              "INDUS      0\n",
              "CHAS       0\n",
              "NOX        0\n",
              "RM         0\n",
              "AGE        0\n",
              "DIS        0\n",
              "RAD        0\n",
              "TAX        0\n",
              "PTRATIO    0\n",
              "B          0\n",
              "LSTAT      0\n",
              "MEDV       0\n",
              "dtype: int64"
            ]
          },
          "metadata": {},
          "execution_count": 13
        }
      ]
    },
    {
      "cell_type": "code",
      "source": [
        "Df_dt.info()"
      ],
      "metadata": {
        "id": "UlOAXYDL1TLu",
        "outputId": "224c973f-c349-4a91-91c5-7822f9234749",
        "colab": {
          "base_uri": "https://localhost:8080/"
        }
      },
      "execution_count": 14,
      "outputs": [
        {
          "output_type": "stream",
          "name": "stdout",
          "text": [
            "<class 'pandas.core.frame.DataFrame'>\n",
            "RangeIndex: 506 entries, 0 to 505\n",
            "Data columns (total 14 columns):\n",
            " #   Column   Non-Null Count  Dtype  \n",
            "---  ------   --------------  -----  \n",
            " 0   CRIM     506 non-null    float64\n",
            " 1   ZN       506 non-null    float64\n",
            " 2   INDUS    506 non-null    float64\n",
            " 3   CHAS     506 non-null    float64\n",
            " 4   NOX      506 non-null    float64\n",
            " 5   RM       506 non-null    float64\n",
            " 6   AGE      506 non-null    float64\n",
            " 7   DIS      506 non-null    float64\n",
            " 8   RAD      506 non-null    float64\n",
            " 9   TAX      506 non-null    float64\n",
            " 10  PTRATIO  506 non-null    float64\n",
            " 11  B        506 non-null    float64\n",
            " 12  LSTAT    506 non-null    float64\n",
            " 13  MEDV     506 non-null    float64\n",
            "dtypes: float64(14)\n",
            "memory usage: 55.5 KB\n"
          ]
        }
      ]
    },
    {
      "cell_type": "code",
      "source": [
        "Df_dt.astype('int')"
      ],
      "metadata": {
        "colab": {
          "base_uri": "https://localhost:8080/",
          "height": 424
        },
        "id": "wCPfe_pDA-1U",
        "outputId": "bdbf2bb6-86ee-462e-9c9c-379ac1628e04"
      },
      "execution_count": 15,
      "outputs": [
        {
          "output_type": "execute_result",
          "data": {
            "text/plain": [
              "     CRIM  ZN  INDUS  CHAS  NOX  RM  AGE  DIS  RAD  TAX  PTRATIO    B  LSTAT  \\\n",
              "0       0  18      2     0    0   6   65    4    1  296       15  396      4   \n",
              "1       0   0      7     0    0   6   78    4    2  242       17  396      9   \n",
              "2       0   0      7     0    0   7   61    4    2  242       17  392      4   \n",
              "3       0   0      2     0    0   6   45    6    3  222       18  394      2   \n",
              "4       0   0      2     0    0   7   54    6    3  222       18  396      5   \n",
              "..    ...  ..    ...   ...  ...  ..  ...  ...  ...  ...      ...  ...    ...   \n",
              "501     0   0     11     0    0   6   69    2    1  273       21  391      9   \n",
              "502     0   0     11     0    0   6   76    2    1  273       21  396      9   \n",
              "503     0   0     11     0    0   6   91    2    1  273       21  396      5   \n",
              "504     0   0     11     0    0   6   89    2    1  273       21  393      6   \n",
              "505     0   0     11     0    0   6   80    2    1  273       21  396      7   \n",
              "\n",
              "     MEDV  \n",
              "0      24  \n",
              "1      21  \n",
              "2      34  \n",
              "3      33  \n",
              "4      36  \n",
              "..    ...  \n",
              "501    22  \n",
              "502    20  \n",
              "503    23  \n",
              "504    22  \n",
              "505    11  \n",
              "\n",
              "[506 rows x 14 columns]"
            ],
            "text/html": [
              "\n",
              "  <div id=\"df-c406f964-de03-4c64-8d26-15c7f650cd03\">\n",
              "    <div class=\"colab-df-container\">\n",
              "      <div>\n",
              "<style scoped>\n",
              "    .dataframe tbody tr th:only-of-type {\n",
              "        vertical-align: middle;\n",
              "    }\n",
              "\n",
              "    .dataframe tbody tr th {\n",
              "        vertical-align: top;\n",
              "    }\n",
              "\n",
              "    .dataframe thead th {\n",
              "        text-align: right;\n",
              "    }\n",
              "</style>\n",
              "<table border=\"1\" class=\"dataframe\">\n",
              "  <thead>\n",
              "    <tr style=\"text-align: right;\">\n",
              "      <th></th>\n",
              "      <th>CRIM</th>\n",
              "      <th>ZN</th>\n",
              "      <th>INDUS</th>\n",
              "      <th>CHAS</th>\n",
              "      <th>NOX</th>\n",
              "      <th>RM</th>\n",
              "      <th>AGE</th>\n",
              "      <th>DIS</th>\n",
              "      <th>RAD</th>\n",
              "      <th>TAX</th>\n",
              "      <th>PTRATIO</th>\n",
              "      <th>B</th>\n",
              "      <th>LSTAT</th>\n",
              "      <th>MEDV</th>\n",
              "    </tr>\n",
              "  </thead>\n",
              "  <tbody>\n",
              "    <tr>\n",
              "      <th>0</th>\n",
              "      <td>0</td>\n",
              "      <td>18</td>\n",
              "      <td>2</td>\n",
              "      <td>0</td>\n",
              "      <td>0</td>\n",
              "      <td>6</td>\n",
              "      <td>65</td>\n",
              "      <td>4</td>\n",
              "      <td>1</td>\n",
              "      <td>296</td>\n",
              "      <td>15</td>\n",
              "      <td>396</td>\n",
              "      <td>4</td>\n",
              "      <td>24</td>\n",
              "    </tr>\n",
              "    <tr>\n",
              "      <th>1</th>\n",
              "      <td>0</td>\n",
              "      <td>0</td>\n",
              "      <td>7</td>\n",
              "      <td>0</td>\n",
              "      <td>0</td>\n",
              "      <td>6</td>\n",
              "      <td>78</td>\n",
              "      <td>4</td>\n",
              "      <td>2</td>\n",
              "      <td>242</td>\n",
              "      <td>17</td>\n",
              "      <td>396</td>\n",
              "      <td>9</td>\n",
              "      <td>21</td>\n",
              "    </tr>\n",
              "    <tr>\n",
              "      <th>2</th>\n",
              "      <td>0</td>\n",
              "      <td>0</td>\n",
              "      <td>7</td>\n",
              "      <td>0</td>\n",
              "      <td>0</td>\n",
              "      <td>7</td>\n",
              "      <td>61</td>\n",
              "      <td>4</td>\n",
              "      <td>2</td>\n",
              "      <td>242</td>\n",
              "      <td>17</td>\n",
              "      <td>392</td>\n",
              "      <td>4</td>\n",
              "      <td>34</td>\n",
              "    </tr>\n",
              "    <tr>\n",
              "      <th>3</th>\n",
              "      <td>0</td>\n",
              "      <td>0</td>\n",
              "      <td>2</td>\n",
              "      <td>0</td>\n",
              "      <td>0</td>\n",
              "      <td>6</td>\n",
              "      <td>45</td>\n",
              "      <td>6</td>\n",
              "      <td>3</td>\n",
              "      <td>222</td>\n",
              "      <td>18</td>\n",
              "      <td>394</td>\n",
              "      <td>2</td>\n",
              "      <td>33</td>\n",
              "    </tr>\n",
              "    <tr>\n",
              "      <th>4</th>\n",
              "      <td>0</td>\n",
              "      <td>0</td>\n",
              "      <td>2</td>\n",
              "      <td>0</td>\n",
              "      <td>0</td>\n",
              "      <td>7</td>\n",
              "      <td>54</td>\n",
              "      <td>6</td>\n",
              "      <td>3</td>\n",
              "      <td>222</td>\n",
              "      <td>18</td>\n",
              "      <td>396</td>\n",
              "      <td>5</td>\n",
              "      <td>36</td>\n",
              "    </tr>\n",
              "    <tr>\n",
              "      <th>...</th>\n",
              "      <td>...</td>\n",
              "      <td>...</td>\n",
              "      <td>...</td>\n",
              "      <td>...</td>\n",
              "      <td>...</td>\n",
              "      <td>...</td>\n",
              "      <td>...</td>\n",
              "      <td>...</td>\n",
              "      <td>...</td>\n",
              "      <td>...</td>\n",
              "      <td>...</td>\n",
              "      <td>...</td>\n",
              "      <td>...</td>\n",
              "      <td>...</td>\n",
              "    </tr>\n",
              "    <tr>\n",
              "      <th>501</th>\n",
              "      <td>0</td>\n",
              "      <td>0</td>\n",
              "      <td>11</td>\n",
              "      <td>0</td>\n",
              "      <td>0</td>\n",
              "      <td>6</td>\n",
              "      <td>69</td>\n",
              "      <td>2</td>\n",
              "      <td>1</td>\n",
              "      <td>273</td>\n",
              "      <td>21</td>\n",
              "      <td>391</td>\n",
              "      <td>9</td>\n",
              "      <td>22</td>\n",
              "    </tr>\n",
              "    <tr>\n",
              "      <th>502</th>\n",
              "      <td>0</td>\n",
              "      <td>0</td>\n",
              "      <td>11</td>\n",
              "      <td>0</td>\n",
              "      <td>0</td>\n",
              "      <td>6</td>\n",
              "      <td>76</td>\n",
              "      <td>2</td>\n",
              "      <td>1</td>\n",
              "      <td>273</td>\n",
              "      <td>21</td>\n",
              "      <td>396</td>\n",
              "      <td>9</td>\n",
              "      <td>20</td>\n",
              "    </tr>\n",
              "    <tr>\n",
              "      <th>503</th>\n",
              "      <td>0</td>\n",
              "      <td>0</td>\n",
              "      <td>11</td>\n",
              "      <td>0</td>\n",
              "      <td>0</td>\n",
              "      <td>6</td>\n",
              "      <td>91</td>\n",
              "      <td>2</td>\n",
              "      <td>1</td>\n",
              "      <td>273</td>\n",
              "      <td>21</td>\n",
              "      <td>396</td>\n",
              "      <td>5</td>\n",
              "      <td>23</td>\n",
              "    </tr>\n",
              "    <tr>\n",
              "      <th>504</th>\n",
              "      <td>0</td>\n",
              "      <td>0</td>\n",
              "      <td>11</td>\n",
              "      <td>0</td>\n",
              "      <td>0</td>\n",
              "      <td>6</td>\n",
              "      <td>89</td>\n",
              "      <td>2</td>\n",
              "      <td>1</td>\n",
              "      <td>273</td>\n",
              "      <td>21</td>\n",
              "      <td>393</td>\n",
              "      <td>6</td>\n",
              "      <td>22</td>\n",
              "    </tr>\n",
              "    <tr>\n",
              "      <th>505</th>\n",
              "      <td>0</td>\n",
              "      <td>0</td>\n",
              "      <td>11</td>\n",
              "      <td>0</td>\n",
              "      <td>0</td>\n",
              "      <td>6</td>\n",
              "      <td>80</td>\n",
              "      <td>2</td>\n",
              "      <td>1</td>\n",
              "      <td>273</td>\n",
              "      <td>21</td>\n",
              "      <td>396</td>\n",
              "      <td>7</td>\n",
              "      <td>11</td>\n",
              "    </tr>\n",
              "  </tbody>\n",
              "</table>\n",
              "<p>506 rows × 14 columns</p>\n",
              "</div>\n",
              "      <button class=\"colab-df-convert\" onclick=\"convertToInteractive('df-c406f964-de03-4c64-8d26-15c7f650cd03')\"\n",
              "              title=\"Convert this dataframe to an interactive table.\"\n",
              "              style=\"display:none;\">\n",
              "        \n",
              "  <svg xmlns=\"http://www.w3.org/2000/svg\" height=\"24px\"viewBox=\"0 0 24 24\"\n",
              "       width=\"24px\">\n",
              "    <path d=\"M0 0h24v24H0V0z\" fill=\"none\"/>\n",
              "    <path d=\"M18.56 5.44l.94 2.06.94-2.06 2.06-.94-2.06-.94-.94-2.06-.94 2.06-2.06.94zm-11 1L8.5 8.5l.94-2.06 2.06-.94-2.06-.94L8.5 2.5l-.94 2.06-2.06.94zm10 10l.94 2.06.94-2.06 2.06-.94-2.06-.94-.94-2.06-.94 2.06-2.06.94z\"/><path d=\"M17.41 7.96l-1.37-1.37c-.4-.4-.92-.59-1.43-.59-.52 0-1.04.2-1.43.59L10.3 9.45l-7.72 7.72c-.78.78-.78 2.05 0 2.83L4 21.41c.39.39.9.59 1.41.59.51 0 1.02-.2 1.41-.59l7.78-7.78 2.81-2.81c.8-.78.8-2.07 0-2.86zM5.41 20L4 18.59l7.72-7.72 1.47 1.35L5.41 20z\"/>\n",
              "  </svg>\n",
              "      </button>\n",
              "      \n",
              "  <style>\n",
              "    .colab-df-container {\n",
              "      display:flex;\n",
              "      flex-wrap:wrap;\n",
              "      gap: 12px;\n",
              "    }\n",
              "\n",
              "    .colab-df-convert {\n",
              "      background-color: #E8F0FE;\n",
              "      border: none;\n",
              "      border-radius: 50%;\n",
              "      cursor: pointer;\n",
              "      display: none;\n",
              "      fill: #1967D2;\n",
              "      height: 32px;\n",
              "      padding: 0 0 0 0;\n",
              "      width: 32px;\n",
              "    }\n",
              "\n",
              "    .colab-df-convert:hover {\n",
              "      background-color: #E2EBFA;\n",
              "      box-shadow: 0px 1px 2px rgba(60, 64, 67, 0.3), 0px 1px 3px 1px rgba(60, 64, 67, 0.15);\n",
              "      fill: #174EA6;\n",
              "    }\n",
              "\n",
              "    [theme=dark] .colab-df-convert {\n",
              "      background-color: #3B4455;\n",
              "      fill: #D2E3FC;\n",
              "    }\n",
              "\n",
              "    [theme=dark] .colab-df-convert:hover {\n",
              "      background-color: #434B5C;\n",
              "      box-shadow: 0px 1px 3px 1px rgba(0, 0, 0, 0.15);\n",
              "      filter: drop-shadow(0px 1px 2px rgba(0, 0, 0, 0.3));\n",
              "      fill: #FFFFFF;\n",
              "    }\n",
              "  </style>\n",
              "\n",
              "      <script>\n",
              "        const buttonEl =\n",
              "          document.querySelector('#df-c406f964-de03-4c64-8d26-15c7f650cd03 button.colab-df-convert');\n",
              "        buttonEl.style.display =\n",
              "          google.colab.kernel.accessAllowed ? 'block' : 'none';\n",
              "\n",
              "        async function convertToInteractive(key) {\n",
              "          const element = document.querySelector('#df-c406f964-de03-4c64-8d26-15c7f650cd03');\n",
              "          const dataTable =\n",
              "            await google.colab.kernel.invokeFunction('convertToInteractive',\n",
              "                                                     [key], {});\n",
              "          if (!dataTable) return;\n",
              "\n",
              "          const docLinkHtml = 'Like what you see? Visit the ' +\n",
              "            '<a target=\"_blank\" href=https://colab.research.google.com/notebooks/data_table.ipynb>data table notebook</a>'\n",
              "            + ' to learn more about interactive tables.';\n",
              "          element.innerHTML = '';\n",
              "          dataTable['output_type'] = 'display_data';\n",
              "          await google.colab.output.renderOutput(dataTable, element);\n",
              "          const docLink = document.createElement('div');\n",
              "          docLink.innerHTML = docLinkHtml;\n",
              "          element.appendChild(docLink);\n",
              "        }\n",
              "      </script>\n",
              "    </div>\n",
              "  </div>\n",
              "  "
            ]
          },
          "metadata": {},
          "execution_count": 15
        }
      ]
    },
    {
      "cell_type": "code",
      "source": [
        "# Df_dt = Df_dt.astype(dtype='int64')"
      ],
      "metadata": {
        "id": "ljGbP3ZbDL7r"
      },
      "execution_count": 16,
      "outputs": []
    },
    {
      "cell_type": "code",
      "source": [
        "Df_dt.info()"
      ],
      "metadata": {
        "colab": {
          "base_uri": "https://localhost:8080/"
        },
        "id": "TByup16DBHDl",
        "outputId": "16d4c010-ca3c-4308-e042-dae6c220b226"
      },
      "execution_count": 17,
      "outputs": [
        {
          "output_type": "stream",
          "name": "stdout",
          "text": [
            "<class 'pandas.core.frame.DataFrame'>\n",
            "RangeIndex: 506 entries, 0 to 505\n",
            "Data columns (total 14 columns):\n",
            " #   Column   Non-Null Count  Dtype  \n",
            "---  ------   --------------  -----  \n",
            " 0   CRIM     506 non-null    float64\n",
            " 1   ZN       506 non-null    float64\n",
            " 2   INDUS    506 non-null    float64\n",
            " 3   CHAS     506 non-null    float64\n",
            " 4   NOX      506 non-null    float64\n",
            " 5   RM       506 non-null    float64\n",
            " 6   AGE      506 non-null    float64\n",
            " 7   DIS      506 non-null    float64\n",
            " 8   RAD      506 non-null    float64\n",
            " 9   TAX      506 non-null    float64\n",
            " 10  PTRATIO  506 non-null    float64\n",
            " 11  B        506 non-null    float64\n",
            " 12  LSTAT    506 non-null    float64\n",
            " 13  MEDV     506 non-null    float64\n",
            "dtypes: float64(14)\n",
            "memory usage: 55.5 KB\n"
          ]
        }
      ]
    },
    {
      "cell_type": "markdown",
      "source": [
        "## 데이터의 표준화\n",
        "분석하는 feature들의 단위가 서로 다를 수 있으므로 단위를 표준화할 필요가 있는데 이를 표준화라고 함. 한편 표준화 방법에는 여러가지 있음. 여기서는 `StandardScaler : 각 특성의 평균을 0, 분산을 1로 변경하여 특성의 스케일을 맞춥니다.`를 사용함"
      ],
      "metadata": {
        "id": "cLo_hv_MQoa4"
      }
    },
    {
      "cell_type": "code",
      "source": [
        "#from sklearn.preprocessing import MinMafeaturescaler\n",
        "from sklearn.preprocessing import StandardScaler\n",
        "#scaler_minmax=MinMafeaturescaler()\n",
        "scaler_standard=StandardScaler()"
      ],
      "metadata": {
        "id": "796pXD0fQrgf"
      },
      "execution_count": 18,
      "outputs": []
    },
    {
      "cell_type": "code",
      "source": [
        "scaler_standard.fit(features)\n",
        "features_scaled=scaler_standard.transform(features)\n",
        "print(features_scaled.shape)\n",
        "print(features[:6])\n",
        "features_scaled[:6]"
      ],
      "metadata": {
        "colab": {
          "base_uri": "https://localhost:8080/"
        },
        "id": "r3-1HjMQQrec",
        "outputId": "a11fecc7-5c36-48e4-9bef-844b1a7f9d59"
      },
      "execution_count": 19,
      "outputs": [
        {
          "output_type": "stream",
          "name": "stdout",
          "text": [
            "(506, 13)\n",
            "   CRIM     ZN  INDUS  CHAS   NOX    RM    AGE   DIS   RAD     TAX  PTRATIO  \\\n",
            "0 0.006 18.000  2.310 0.000 0.538 6.575 65.200 4.090 1.000 296.000   15.300   \n",
            "1 0.027  0.000  7.070 0.000 0.469 6.421 78.900 4.967 2.000 242.000   17.800   \n",
            "2 0.027  0.000  7.070 0.000 0.469 7.185 61.100 4.967 2.000 242.000   17.800   \n",
            "3 0.032  0.000  2.180 0.000 0.458 6.998 45.800 6.062 3.000 222.000   18.700   \n",
            "4 0.069  0.000  2.180 0.000 0.458 7.147 54.200 6.062 3.000 222.000   18.700   \n",
            "5 0.030  0.000  2.180 0.000 0.458 6.430 58.700 6.062 3.000 222.000   18.700   \n",
            "\n",
            "        B  LSTAT  \n",
            "0 396.900  4.980  \n",
            "1 396.900  9.140  \n",
            "2 392.830  4.030  \n",
            "3 394.630  2.940  \n",
            "4 396.900  5.330  \n",
            "5 394.120  5.210  \n"
          ]
        },
        {
          "output_type": "execute_result",
          "data": {
            "text/plain": [
              "array([[-0.41978194,  0.28482986, -1.2879095 , -0.27259857, -0.14421743,\n",
              "         0.41367189, -0.12001342,  0.1402136 , -0.98284286, -0.66660821,\n",
              "        -1.45900038,  0.44105193, -1.0755623 ],\n",
              "       [-0.41733926, -0.48772236, -0.59338101, -0.27259857, -0.74026221,\n",
              "         0.19427445,  0.36716642,  0.55715988, -0.8678825 , -0.98732948,\n",
              "        -0.30309415,  0.44105193, -0.49243937],\n",
              "       [-0.41734159, -0.48772236, -0.59338101, -0.27259857, -0.74026221,\n",
              "         1.28271368, -0.26581176,  0.55715988, -0.8678825 , -0.98732948,\n",
              "        -0.30309415,  0.39642699, -1.2087274 ],\n",
              "       [-0.41675042, -0.48772236, -1.30687771, -0.27259857, -0.83528384,\n",
              "         1.01630251, -0.80988851,  1.07773662, -0.75292215, -1.10611514,\n",
              "         0.1130321 ,  0.41616284, -1.36151682],\n",
              "       [-0.41248185, -0.48772236, -1.30687771, -0.27259857, -0.83528384,\n",
              "         1.22857665, -0.51117971,  1.07773662, -0.75292215, -1.10611514,\n",
              "         0.1130321 ,  0.44105193, -1.02650148],\n",
              "       [-0.41704368, -0.48772236, -1.30687771, -0.27259857, -0.83528384,\n",
              "         0.20709638, -0.35115713,  1.07773662, -0.75292215, -1.10611514,\n",
              "         0.1130321 ,  0.41057102, -1.04332233]])"
            ]
          },
          "metadata": {},
          "execution_count": 19
        }
      ]
    },
    {
      "cell_type": "markdown",
      "source": [
        "## 훈련/테스트 셋 분류"
      ],
      "metadata": {
        "id": "euTY9W0Dy5Yx"
      }
    },
    {
      "cell_type": "markdown",
      "source": [
        "### 회귀분석용"
      ],
      "metadata": {
        "id": "cM5iEI6cUN1m"
      }
    },
    {
      "cell_type": "code",
      "source": [
        "# import the train-test split\n",
        "from sklearn.model_selection import train_test_split\n",
        "\n",
        "# divide into train and test sets\n",
        "features_scaled_train, features_scaled_test, target_train, target_test = train_test_split(features_scaled, target, random_state=42)#, test_size=0.2, stratify=y\n",
        "# 중요한 것은 42를 사용할 때마다 처음 분할 할 때 항상 동일한 출력을 얻는다\n",
        "# stratify=Y로 설정하면 나누어진 데이터셋들도 0과 1을 각각 25%, 75%로 유지한 채 분할된다\n",
        "# test_size : 테스트 데이터셋의 비율(float)이나 갯수(int) (default = 0.25)\n",
        "# test_size와 stratify는 필요한 옵션이지만 데이터가 적은 경우 에러가 발생될 수 있음"
      ],
      "metadata": {
        "id": "3ZzOQAbURbNL"
      },
      "execution_count": 20,
      "outputs": []
    },
    {
      "cell_type": "markdown",
      "source": [
        "X_scaled과 y에 대해 train_test_split을 실행하면 총 4개의 데이터셋(X_scaled_train, X_scaled_test, y_train, y_test) 생성됨"
      ],
      "metadata": {
        "id": "szoltMnqP8jA"
      }
    },
    {
      "cell_type": "code",
      "source": [
        "print(features_scaled_train[:6])\n",
        "print(target_train[:6])"
      ],
      "metadata": {
        "colab": {
          "base_uri": "https://localhost:8080/"
        },
        "id": "LZJ5g1OGnWs1",
        "outputId": "39e65fcb-679e-42c1-f309-4c52e9f3b3a2"
      },
      "execution_count": 21,
      "outputs": [
        {
          "output_type": "stream",
          "name": "stdout",
          "text": [
            "[[-0.40992396 -0.48772236 -1.2660231  -0.27259857 -0.57613394  1.23997392\n",
            "   0.84012202 -0.52026428 -0.75292215 -1.27835435 -0.30309415  0.41057102\n",
            "  -1.09799011]\n",
            " [-0.00913688 -0.48772236  1.2319449   3.66839786  2.73234648 -0.18895873\n",
            "   0.49874053 -0.97428934 -0.52300145 -0.03110494 -1.73641788 -2.94572872\n",
            "   0.33178248]\n",
            " [-0.41635358  0.370669   -1.13908197 -0.27259857 -0.96572262  2.18737194\n",
            "  -0.14490582  0.42766932 -0.52300145 -1.14175084 -1.64394538  0.33590374\n",
            "  -1.24657432]\n",
            " [-0.37544025 -0.48772236  2.11761463 -0.27259857  0.22723076 -0.95684976\n",
            "   0.96102797 -0.96872752 -0.8678825  -1.30805076  0.29797709  0.02868241\n",
            "   2.04750959]\n",
            " [-0.41269248 -0.48772236 -1.15221381 -0.27259857 -0.81800718  0.06890449\n",
            "  -1.82692087  0.67481374 -0.6379618   0.1292557  -0.71922039  0.203235\n",
            "  -0.74475218]\n",
            " [-0.26286427 -0.48772236 -0.43725801 -0.27259857 -0.14421743 -0.30293142\n",
            "   1.11749449  0.18061998 -0.6379618  -0.6012761   1.17646583  0.21990082\n",
            "   0.05423839]]\n",
            "      MEDV\n",
            "182 37.900\n",
            "155 15.600\n",
            "280 45.400\n",
            "126 15.700\n",
            "329 22.600\n",
            "31  14.500\n"
          ]
        }
      ]
    },
    {
      "cell_type": "code",
      "source": [
        "print(features_scaled_test[:6])\n",
        "print(target_test[:6])"
      ],
      "metadata": {
        "colab": {
          "base_uri": "https://localhost:8080/"
        },
        "id": "WXpWMNfLQ5jk",
        "outputId": "60b3c7ea-6c0a-40cf-923f-b5729d73273c"
      },
      "execution_count": 22,
      "outputs": [
        {
          "output_type": "stream",
          "name": "stdout",
          "text": [
            "[[-0.40983668 -0.48772236 -1.03402724 -0.27259857 -0.38609067  0.18715116\n",
            "   0.55208139 -0.54607682 -0.52300145 -0.66660821 -0.85792914  0.42570183\n",
            "  -0.50645674]\n",
            " [-0.41394931  1.22906036 -0.68968118  3.66839786 -0.93030547  0.67438443\n",
            "  -1.26861989  0.13431903 -0.6379618  -0.91605809 -0.39556665  0.44105193\n",
            "  -1.27881429]\n",
            " [-0.40821211 -0.48772236  2.42256516 -0.27259857  0.469104   -0.42972605\n",
            "   1.0748218  -0.91600909 -0.6379618   1.79819419  0.76033959  0.36660394\n",
            "   0.75931252]\n",
            " [-0.40985297 -0.48772236 -0.04768006 -0.27259857 -1.22400869 -0.31290404\n",
            "  -2.16119024  0.70937307 -0.6379618  -0.61315466  0.34421334  0.37537543\n",
            "  -0.99986846]\n",
            " [ 0.17184212 -0.48772236  1.01599907 -0.27259857  1.36749033  0.01761678\n",
            "   0.8258978  -0.67827698  1.66124525  1.53092646  0.80657583  0.31156286\n",
            "   0.64717349]\n",
            " [-0.40870204 -0.48772236  0.24705682 -0.27259857 -1.01668877 -0.00802708\n",
            "   0.2106999   0.12224465 -0.52300145 -0.06080135  0.1130321   0.18624024\n",
            "  -0.09574756]]\n",
            "      MEDV\n",
            "173 23.600\n",
            "274 32.400\n",
            "491 13.600\n",
            "72  22.800\n",
            "452 16.100\n",
            "76  20.000\n"
          ]
        }
      ]
    },
    {
      "cell_type": "code",
      "source": [
        "print(features_scaled_train.shape)\n",
        "print(target_train.shape)"
      ],
      "metadata": {
        "colab": {
          "base_uri": "https://localhost:8080/"
        },
        "id": "KY7TPFXdRCNg",
        "outputId": "313ec02b-0517-447d-e233-1ab1eb4d7c4c"
      },
      "execution_count": 23,
      "outputs": [
        {
          "output_type": "stream",
          "name": "stdout",
          "text": [
            "(379, 13)\n",
            "(379, 1)\n"
          ]
        }
      ]
    },
    {
      "cell_type": "code",
      "source": [
        "print(features_scaled_test.shape)\n",
        "print(target_test.shape)"
      ],
      "metadata": {
        "colab": {
          "base_uri": "https://localhost:8080/"
        },
        "id": "EqOAI7cyRMDw",
        "outputId": "e7009bdb-8eca-4ecf-e711-8dcb779a77be"
      },
      "execution_count": 24,
      "outputs": [
        {
          "output_type": "stream",
          "name": "stdout",
          "text": [
            "(127, 13)\n",
            "(127, 1)\n"
          ]
        }
      ]
    },
    {
      "cell_type": "markdown",
      "source": [
        "https://sonny-daily-story.tistory.com/61"
      ],
      "metadata": {
        "id": "AUX-622ZzDTQ"
      }
    },
    {
      "cell_type": "code",
      "source": [
        "# 2개의 행과 4개의 열을 가진 subplots를 이용. axs는 4x2개의 ax를 가짐.\n",
        "fig, axs = plt.subplots(figsize=(16,8) , ncols=4 , nrows=2)\n",
        "lm_features = ['RM','ZN','INDUS','NOX','AGE','PTRATIO','LSTAT','RAD']\n",
        "for i , feature in enumerate(lm_features):\n",
        "    row = int(i/4)\n",
        "    col = i%4\n",
        "    # 시본의 regplot을 이용해 산점도와 선형 회귀 직선을 함께 표현\n",
        "    sns.regplot(x=feature , y=target, data=Df_dt , ax=axs[row][col])"
      ],
      "metadata": {
        "colab": {
          "base_uri": "https://localhost:8080/",
          "height": 497
        },
        "id": "5XR_NeSCv38L",
        "outputId": "c6108b11-7a09-4ca9-fc0c-d479ce9e8246"
      },
      "execution_count": 29,
      "outputs": [
        {
          "output_type": "display_data",
          "data": {
            "text/plain": [
              "<Figure size 1152x576 with 8 Axes>"
            ],
            "image/png": "[encoded data removed]"
          },
          "metadata": {
            "needs_background": "light"
          }
        }
      ]
    },
    {
      "cell_type": "code",
      "source": [
        "from sklearn.model_selection import train_test_split\n",
        "from sklearn.linear_model import LinearRegression\n",
        "from sklearn.metrics import mean_squared_error , r2_score\n",
        "\n",
        "y_target = Df_dt[['MEDV']]\n",
        "X_data = Df_dt.drop(['MEDV'], axis=1,inplace=False)\n",
        "\n",
        "X_train , X_test , y_train , y_test = train_test_split(X_data , y_target ,test_size=0.3, random_state=156)\n",
        "\n",
        "# Linear Regression OLS로 학습/예측/평가 수행. \n",
        "lr = LinearRegression()\n",
        "lr.fit(X_train ,y_train )\n",
        "y_preds = lr.predict(X_test)\n",
        "mse = mean_squared_error(y_test, y_preds)\n",
        "rmse = np.sqrt(mse)\n",
        "\n",
        "print('MSE : {0:.3f} , RMSE : {1:.3F}'.format(mse , rmse))\n",
        "print('Variance score : {0:.3f}'.format(r2_score(y_test, y_preds)))"
      ],
      "metadata": {
        "colab": {
          "base_uri": "https://localhost:8080/"
        },
        "id": "EHaRVdI0xRjx",
        "outputId": "f50c3f7d-04c0-419e-dfc1-f0d233d10d2f"
      },
      "execution_count": 43,
      "outputs": [
        {
          "output_type": "stream",
          "name": "stdout",
          "text": [
            "MSE : 17.297 , RMSE : 4.159\n",
            "Variance score : 0.757\n"
          ]
        }
      ]
    },
    {
      "cell_type": "code",
      "source": [
        "print('절편 값:',lr.intercept_)\n",
        "print('회귀 계수값:', np.round(lr.coef_, 1))"
      ],
      "metadata": {
        "colab": {
          "base_uri": "https://localhost:8080/"
        },
        "id": "kLEl4w0hybqP",
        "outputId": "11b643ef-c684-4e57-a4c9-ff0d00c2f012"
      },
      "execution_count": 44,
      "outputs": [
        {
          "output_type": "stream",
          "name": "stdout",
          "text": [
            "절편 값: [40.99559517]\n",
            "회귀 계수값: [[ -0.1   0.1   0.    3.  -19.8   3.4   0.   -1.7   0.4  -0.   -0.9   0.\n",
            "   -0.6]]\n"
          ]
        }
      ]
    },
    {
      "cell_type": "code",
      "source": [
        "# # 회귀 계수를 큰 값 순으로 정렬하기 위해 Series로 생성. index가 컬럼명에 유의\n",
        "# coeff = pd.Series(data=np.round(lr.coef_, 1), index=X_data.columns)\n",
        "# coeff.sort_values(ascending=False)"
      ],
      "metadata": {
        "id": "Qa5x4IjFyehO"
      },
      "execution_count": 48,
      "outputs": []
    },
    {
      "cell_type": "code",
      "source": [
        "from sklearn.model_selection import cross_val_score\n",
        "\n",
        "y_target = Df_dt[['MEDV']]\n",
        "X_data = Df_dt.drop(['MEDV'], axis=1,inplace=False)\n",
        "lr = LinearRegression()\n",
        "\n",
        "# cross_val_score( )로 5 Fold 셋으로 MSE 를 구한 뒤 이를 기반으로 다시  RMSE 구함. \n",
        "neg_mse_scores = cross_val_score(lr, X_data, y_target, scoring=\"neg_mean_squared_error\", cv = 5)\n",
        "rmse_scores  = np.sqrt(-1 * neg_mse_scores)\n",
        "avg_rmse = np.mean(rmse_scores)\n",
        "\n",
        "# cross_val_score(scoring=\"neg_mean_squared_error\")로 반환된 값은 모두 음수 \n",
        "print(' 5 folds 의 개별 Negative MSE scores: ', np.round(neg_mse_scores, 2))\n",
        "print(' 5 folds 의 개별 RMSE scores : ', np.round(rmse_scores, 2))\n",
        "print(' 5 folds 의 평균 RMSE : {0:.3f} '.format(avg_rmse))"
      ],
      "metadata": {
        "colab": {
          "base_uri": "https://localhost:8080/"
        },
        "id": "AVAjPjOyy4YS",
        "outputId": "626f5498-8e7d-4679-a0ec-f6a044aea710"
      },
      "execution_count": 49,
      "outputs": [
        {
          "output_type": "stream",
          "name": "stdout",
          "text": [
            " 5 folds 의 개별 Negative MSE scores:  [-12.46 -26.05 -33.07 -80.76 -33.31]\n",
            " 5 folds 의 개별 RMSE scores :  [3.53 5.1  5.75 8.99 5.77]\n",
            " 5 folds 의 평균 RMSE : 5.829 \n"
          ]
        }
      ]
    }
  ]
}
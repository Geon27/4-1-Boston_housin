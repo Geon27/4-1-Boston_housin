{
  "nbformat": 4,
  "nbformat_minor": 0,
  "metadata": {
    "colab": {
      "provenance": [],
      "toc_visible": true,
      "collapsed_sections": [
        "mlmFBx-AgM9i",
        "P7rYBSpKhOyL",
        "_KJF9nOTctpg",
        "U_MigjFmxkqd"
      ],
      "include_colab_link": true
    },
    "kernelspec": {
      "name": "python3",
      "display_name": "Python 3"
    },
    "language_info": {
      "name": "python"
    }
  },
  "cells": [
    {
      "cell_type": "markdown",
      "metadata": {
        "id": "view-in-github",
        "colab_type": "text"
      },
      "source": [
        "<a href=\"https://colab.research.google.com/github/Geon27/4-1-Boston_housin/blob/main/%EB%B3%B4%EC%8A%A4%ED%84%B4_%EB%8D%B0%EC%9D%B4%ED%84%B0(1208)_%EC%A0%95%EB%A6%AC_%2B_%EC%B5%9C%EC%A2%85_%2B_f1_score_%EC%84%A4%EB%AA%85.ipynb\" target=\"_parent\"><img src=\"https://colab.research.google.com/assets/colab-badge.svg\" alt=\"Open In Colab\"/></a>"
      ]
    },
    {
      "cell_type": "markdown",
      "source": [
        "#Boston_housing Data를 활용한 집값 예측값 Model\n",
        "각 모델(Logistic regression, KNeighbors, Decision tree, Random forest)의 f1-score 를 확인하고, 예측 정확도를 확인해본다."
      ],
      "metadata": {
        "id": "p3xncMeZh-6a"
      }
    },
    {
      "cell_type": "markdown",
      "source": [
        "- 나의 구글 드라이브와 구글 코랩의 연결  \n",
        "- 이 과정(마운트)을 통해 나의 구글 드라이브내의 데이터를 구글 코랩에 로드하고 또한 분석된 내용을 저장하는것도 가능하게 됨"
      ],
      "metadata": {
        "id": "hYQvbyARtJVu"
      }
    },
    {
      "cell_type": "code",
      "source": [
        "#구글 드라이브 연동\n",
        "from google.colab import drive\n",
        "drive.mount('/content/drive') \n",
        "\n",
        "# 아래 출력되는 URL에 접속하여 이용 동의 후 생성되는 인증코드를 복사해서 붙여넣기"
      ],
      "metadata": {
        "id": "_bwuB0V6jjzE",
        "colab": {
          "base_uri": "https://localhost:8080/"
        },
        "outputId": "909a8271-4260-4646-ddc3-c599a666b353"
      },
      "execution_count": null,
      "outputs": [
        {
          "output_type": "stream",
          "name": "stdout",
          "text": [
            "Drive already mounted at /content/drive; to attempt to forcibly remount, call drive.mount(\"/content/drive\", force_remount=True).\n"
          ]
        }
      ]
    },
    {
      "cell_type": "markdown",
      "source": [
        "### 파이썬 패키지 설치"
      ],
      "metadata": {
        "id": "wbXaY_plBUuD"
      }
    },
    {
      "cell_type": "markdown",
      "source": [
        "패키지라 함은 메인엔진은 파이썬이 잘 구현될 수 있도록 지원해주는 체계로서 패키지안에 함수나 클래스 등이 포함되어 있음  \n",
        "패키지를 사용하려면 2단계(인스톨-로드)를 거치는데 로드는 매번 인스톨은 처음에 1회만 하면 되는데 구글 코랩에서는 단점으로서 클라우드 방식이므로 인스톨을 매번해주어야 하는 번거로움이 있음"
      ],
      "metadata": {
        "id": "188fgFdRuEAx"
      }
    },
    {
      "cell_type": "markdown",
      "source": [
        "#### 패키지 로드"
      ],
      "metadata": {
        "id": "tusPl0uwui-i"
      }
    },
    {
      "cell_type": "markdown",
      "source": [
        "아래 코드는 인스톨 코드이므로 후에 로드를 다시 해주어야 함  \n",
        "코랩에서는 다른 파이썬 IDE와 다르게 이미 필요한 패키지들이 설치되어 있어서 비교적 편리함  \n",
        "다만 어떤 패키지는 버전에 따라 상황이 달라질 수 있으므로 같은 패키지여도 필요한 버전을 추가로 설치해야 하는 경우도 발생될 수 있음"
      ],
      "metadata": {
        "id": "KtOt1GPHupR7"
      }
    },
    {
      "cell_type": "code",
      "source": [
        "# !pip uninstall scipy -y\n",
        "# !pip uninstall pingouin -y\n",
        "!pip install pingouin\n",
        "# !pip install statsmodels==0.13.1\n",
        "!pip install sidetable\n",
        "# !pip install researchpy \n",
        "# !pip install bioinfokit\n",
        "# !pip install sidetable\n"
      ],
      "metadata": {
        "id": "e-r7-1j5MchC",
        "colab": {
          "base_uri": "https://localhost:8080/"
        },
        "outputId": "2ac474ee-cc99-40f2-8ba1-a1e89d69877f"
      },
      "execution_count": null,
      "outputs": [
        {
          "output_type": "stream",
          "name": "stdout",
          "text": [
            "Looking in indexes: https://pypi.org/simple, https://us-python.pkg.dev/colab-wheels/public/simple/\n",
            "Requirement already satisfied: pingouin in /usr/local/lib/python3.8/dist-packages (0.5.2)\n",
            "Requirement already satisfied: pandas>=1.0 in /usr/local/lib/python3.8/dist-packages (from pingouin) (1.3.5)\n",
            "Requirement already satisfied: scikit-learn<1.1.0 in /usr/local/lib/python3.8/dist-packages (from pingouin) (1.0.2)\n",
            "Requirement already satisfied: tabulate in /usr/local/lib/python3.8/dist-packages (from pingouin) (0.8.10)\n",
            "Requirement already satisfied: statsmodels>=0.13 in /usr/local/lib/python3.8/dist-packages (from pingouin) (0.13.5)\n",
            "Requirement already satisfied: matplotlib>=3.0.2 in /usr/local/lib/python3.8/dist-packages (from pingouin) (3.2.2)\n",
            "Requirement already satisfied: seaborn>=0.11 in /usr/local/lib/python3.8/dist-packages (from pingouin) (0.11.2)\n",
            "Requirement already satisfied: scipy>=1.7 in /usr/local/lib/python3.8/dist-packages (from pingouin) (1.7.3)\n",
            "Requirement already satisfied: pandas-flavor>=0.2.0 in /usr/local/lib/python3.8/dist-packages (from pingouin) (0.3.0)\n",
            "Requirement already satisfied: outdated in /usr/local/lib/python3.8/dist-packages (from pingouin) (0.2.2)\n",
            "Requirement already satisfied: numpy>=1.19 in /usr/local/lib/python3.8/dist-packages (from pingouin) (1.21.6)\n",
            "Requirement already satisfied: pyparsing!=2.0.4,!=2.1.2,!=2.1.6,>=2.0.1 in /usr/local/lib/python3.8/dist-packages (from matplotlib>=3.0.2->pingouin) (3.0.9)\n",
            "Requirement already satisfied: kiwisolver>=1.0.1 in /usr/local/lib/python3.8/dist-packages (from matplotlib>=3.0.2->pingouin) (1.4.4)\n",
            "Requirement already satisfied: python-dateutil>=2.1 in /usr/local/lib/python3.8/dist-packages (from matplotlib>=3.0.2->pingouin) (2.8.2)\n",
            "Requirement already satisfied: cycler>=0.10 in /usr/local/lib/python3.8/dist-packages (from matplotlib>=3.0.2->pingouin) (0.11.0)\n",
            "Requirement already satisfied: pytz>=2017.3 in /usr/local/lib/python3.8/dist-packages (from pandas>=1.0->pingouin) (2022.6)\n",
            "Requirement already satisfied: lazy-loader==0.1rc2 in /usr/local/lib/python3.8/dist-packages (from pandas-flavor>=0.2.0->pingouin) (0.1rc2)\n",
            "Requirement already satisfied: xarray in /usr/local/lib/python3.8/dist-packages (from pandas-flavor>=0.2.0->pingouin) (0.20.2)\n",
            "Requirement already satisfied: six>=1.5 in /usr/local/lib/python3.8/dist-packages (from python-dateutil>=2.1->matplotlib>=3.0.2->pingouin) (1.15.0)\n",
            "Requirement already satisfied: threadpoolctl>=2.0.0 in /usr/local/lib/python3.8/dist-packages (from scikit-learn<1.1.0->pingouin) (3.1.0)\n",
            "Requirement already satisfied: joblib>=0.11 in /usr/local/lib/python3.8/dist-packages (from scikit-learn<1.1.0->pingouin) (1.2.0)\n",
            "Requirement already satisfied: packaging>=21.3 in /usr/local/lib/python3.8/dist-packages (from statsmodels>=0.13->pingouin) (21.3)\n",
            "Requirement already satisfied: patsy>=0.5.2 in /usr/local/lib/python3.8/dist-packages (from statsmodels>=0.13->pingouin) (0.5.3)\n",
            "Requirement already satisfied: littleutils in /usr/local/lib/python3.8/dist-packages (from outdated->pingouin) (0.2.2)\n",
            "Requirement already satisfied: setuptools>=44 in /usr/local/lib/python3.8/dist-packages (from outdated->pingouin) (57.4.0)\n",
            "Requirement already satisfied: requests in /usr/local/lib/python3.8/dist-packages (from outdated->pingouin) (2.23.0)\n",
            "Requirement already satisfied: idna<3,>=2.5 in /usr/local/lib/python3.8/dist-packages (from requests->outdated->pingouin) (2.10)\n",
            "Requirement already satisfied: chardet<4,>=3.0.2 in /usr/local/lib/python3.8/dist-packages (from requests->outdated->pingouin) (3.0.4)\n",
            "Requirement already satisfied: urllib3!=1.25.0,!=1.25.1,<1.26,>=1.21.1 in /usr/local/lib/python3.8/dist-packages (from requests->outdated->pingouin) (1.24.3)\n",
            "Requirement already satisfied: certifi>=2017.4.17 in /usr/local/lib/python3.8/dist-packages (from requests->outdated->pingouin) (2022.9.24)\n",
            "Looking in indexes: https://pypi.org/simple, https://us-python.pkg.dev/colab-wheels/public/simple/\n",
            "Requirement already satisfied: sidetable in /usr/local/lib/python3.8/dist-packages (0.9.1)\n",
            "Requirement already satisfied: pandas>=1.0 in /usr/local/lib/python3.8/dist-packages (from sidetable) (1.3.5)\n",
            "Requirement already satisfied: numpy>=1.17.3 in /usr/local/lib/python3.8/dist-packages (from pandas>=1.0->sidetable) (1.21.6)\n",
            "Requirement already satisfied: python-dateutil>=2.7.3 in /usr/local/lib/python3.8/dist-packages (from pandas>=1.0->sidetable) (2.8.2)\n",
            "Requirement already satisfied: pytz>=2017.3 in /usr/local/lib/python3.8/dist-packages (from pandas>=1.0->sidetable) (2022.6)\n",
            "Requirement already satisfied: six>=1.5 in /usr/local/lib/python3.8/dist-packages (from python-dateutil>=2.7.3->pandas>=1.0->sidetable) (1.15.0)\n"
          ]
        }
      ]
    },
    {
      "cell_type": "markdown",
      "source": [
        "패키지 인스톨 명령어 `\"!pip install 패키지이름\"`로 인스톨함"
      ],
      "metadata": {
        "id": "aNn_Lywn5MAb"
      }
    },
    {
      "cell_type": "markdown",
      "source": [
        "#### 패키지 로드"
      ],
      "metadata": {
        "id": "qUAyuxLBuxL7"
      }
    },
    {
      "cell_type": "code",
      "metadata": {
        "id": "HrjcaVJfFSIa"
      },
      "source": [
        "import seaborn as sns\n",
        "import pandas as pd\n",
        "#import datatable as dt\n",
        "import scipy.stats as ss\n",
        "from sklearn import datasets\n",
        "import numpy\n",
        "import sidetable \n",
        "from scipy.stats import mode\n",
        "import matplotlib.pyplot as plt\n",
        "import numpy as np\n",
        "import scipy.stats as stats\n",
        "from statsmodels.formula.api import ols\n",
        "from statsmodels.stats.anova import anova_lm\n",
        "from statsmodels.stats.multicomp import pairwise_tukeyhsd\n",
        "import statsmodels.formula.api as smf\n",
        "pd.options.display.float_format = lambda x: f'{x:.3f}'\n",
        "#pd.reset_option('display.float_format')"
      ],
      "execution_count": null,
      "outputs": []
    },
    {
      "cell_type": "markdown",
      "source": [
        "## 데이터로드"
      ],
      "metadata": {
        "id": "J1RK9sqaCcgN"
      }
    },
    {
      "cell_type": "markdown",
      "source": [
        "나의 구글 드라이브에서 원하는 데이터 파일을 찾아서(drive-My drive) 이에 대한 경로를 복사하여 아래 코드의 `' '`부분에 붙여 넣기  \n",
        "아래의 경로는 이전 사용자의 고유경로이므로 바로 실행하면 에러가 발생될 수 있음"
      ],
      "metadata": {
        "id": "s6wpfvVYvERQ"
      }
    },
    {
      "cell_type": "code",
      "source": [
        "##데이터 로드: 엑셀파일\n",
        "# 파일명: 관광수요_데이터_예제_R업로드_환경부.xlsx\n",
        "Df = pd.read_csv('/content/drive/MyDrive/보스턴_데이터과학/housing.csv')"
      ],
      "metadata": {
        "id": "9UxOCFJwCf08"
      },
      "execution_count": null,
      "outputs": []
    },
    {
      "cell_type": "code",
      "source": [
        "#Df[1:1] #변수명만 추출\n",
        "print(Df.columns); print(len(Df.columns))"
      ],
      "metadata": {
        "colab": {
          "base_uri": "https://localhost:8080/"
        },
        "id": "Uaz9eS0lzlkG",
        "outputId": "d849fa5c-3cc1-45a7-fba0-9d4904b2e0ba"
      },
      "execution_count": null,
      "outputs": [
        {
          "output_type": "stream",
          "name": "stdout",
          "text": [
            "Index(['CRIM', 'ZN', 'INDUS', 'CHAS', 'NOX', 'RM', 'AGE', 'DIS', 'RAD', 'TAX',\n",
            "       'PTRATIO', 'B', 'LSTAT', 'MEDV'],\n",
            "      dtype='object')\n",
            "14\n"
          ]
        }
      ]
    },
    {
      "cell_type": "code",
      "source": [
        "Df.info()"
      ],
      "metadata": {
        "colab": {
          "base_uri": "https://localhost:8080/"
        },
        "id": "_-l2nhT3j-1c",
        "outputId": "d9027922-ff1d-4342-8567-c3a6ed297f28"
      },
      "execution_count": null,
      "outputs": [
        {
          "output_type": "stream",
          "name": "stdout",
          "text": [
            "<class 'pandas.core.frame.DataFrame'>\n",
            "RangeIndex: 506 entries, 0 to 505\n",
            "Data columns (total 14 columns):\n",
            " #   Column   Non-Null Count  Dtype  \n",
            "---  ------   --------------  -----  \n",
            " 0   CRIM     506 non-null    float64\n",
            " 1   ZN       506 non-null    float64\n",
            " 2   INDUS    506 non-null    float64\n",
            " 3   CHAS     506 non-null    float64\n",
            " 4   NOX      506 non-null    float64\n",
            " 5   RM       506 non-null    float64\n",
            " 6   AGE      506 non-null    float64\n",
            " 7   DIS      506 non-null    float64\n",
            " 8   RAD      506 non-null    float64\n",
            " 9   TAX      506 non-null    float64\n",
            " 10  PTRATIO  506 non-null    float64\n",
            " 11  B        506 non-null    float64\n",
            " 12  LSTAT    506 non-null    float64\n",
            " 13  MEDV     506 non-null    float64\n",
            "dtypes: float64(14)\n",
            "memory usage: 55.5 KB\n"
          ]
        }
      ]
    },
    {
      "cell_type": "markdown",
      "source": [
        "데이터의 Type를 보게되면 전부 float(실수)형으로 되어있다."
      ],
      "metadata": {
        "id": "vb-MeMM_QdeU"
      }
    },
    {
      "cell_type": "code",
      "source": [
        "Df.shape"
      ],
      "metadata": {
        "colab": {
          "base_uri": "https://localhost:8080/"
        },
        "id": "g1NgAS98kLfU",
        "outputId": "da3f9cfc-685e-4fe5-82e7-e72d7769c8a8"
      },
      "execution_count": null,
      "outputs": [
        {
          "output_type": "execute_result",
          "data": {
            "text/plain": [
              "(506, 14)"
            ]
          },
          "metadata": {},
          "execution_count": 7
        }
      ]
    },
    {
      "cell_type": "code",
      "source": [
        "Df.head()"
      ],
      "metadata": {
        "colab": {
          "base_uri": "https://localhost:8080/",
          "height": 206
        },
        "id": "eiZgqbkrlmQp",
        "outputId": "ffc7bb3f-96b3-4175-d63c-4a560e529840"
      },
      "execution_count": null,
      "outputs": [
        {
          "output_type": "execute_result",
          "data": {
            "text/plain": [
              "   CRIM     ZN  INDUS  CHAS   NOX    RM    AGE   DIS   RAD     TAX  PTRATIO  \\\n",
              "0 0.006 18.000  2.310 0.000 0.538 6.575 65.200 4.090 1.000 296.000   15.300   \n",
              "1 0.027  0.000  7.070 0.000 0.469 6.421 78.900 4.967 2.000 242.000   17.800   \n",
              "2 0.027  0.000  7.070 0.000 0.469 7.185 61.100 4.967 2.000 242.000   17.800   \n",
              "3 0.032  0.000  2.180 0.000 0.458 6.998 45.800 6.062 3.000 222.000   18.700   \n",
              "4 0.069  0.000  2.180 0.000 0.458 7.147 54.200 6.062 3.000 222.000   18.700   \n",
              "\n",
              "        B  LSTAT   MEDV  \n",
              "0 396.900  4.980 24.000  \n",
              "1 396.900  9.140 21.600  \n",
              "2 392.830  4.030 34.700  \n",
              "3 394.630  2.940 33.400  \n",
              "4 396.900  5.330 36.200  "
            ],
            "text/html": [
              "\n",
              "  <div id=\"df-4531c422-a473-4249-bcd2-a58d5df10bb3\">\n",
              "    <div class=\"colab-df-container\">\n",
              "      <div>\n",
              "<style scoped>\n",
              "    .dataframe tbody tr th:only-of-type {\n",
              "        vertical-align: middle;\n",
              "    }\n",
              "\n",
              "    .dataframe tbody tr th {\n",
              "        vertical-align: top;\n",
              "    }\n",
              "\n",
              "    .dataframe thead th {\n",
              "        text-align: right;\n",
              "    }\n",
              "</style>\n",
              "<table border=\"1\" class=\"dataframe\">\n",
              "  <thead>\n",
              "    <tr style=\"text-align: right;\">\n",
              "      <th></th>\n",
              "      <th>CRIM</th>\n",
              "      <th>ZN</th>\n",
              "      <th>INDUS</th>\n",
              "      <th>CHAS</th>\n",
              "      <th>NOX</th>\n",
              "      <th>RM</th>\n",
              "      <th>AGE</th>\n",
              "      <th>DIS</th>\n",
              "      <th>RAD</th>\n",
              "      <th>TAX</th>\n",
              "      <th>PTRATIO</th>\n",
              "      <th>B</th>\n",
              "      <th>LSTAT</th>\n",
              "      <th>MEDV</th>\n",
              "    </tr>\n",
              "  </thead>\n",
              "  <tbody>\n",
              "    <tr>\n",
              "      <th>0</th>\n",
              "      <td>0.006</td>\n",
              "      <td>18.000</td>\n",
              "      <td>2.310</td>\n",
              "      <td>0.000</td>\n",
              "      <td>0.538</td>\n",
              "      <td>6.575</td>\n",
              "      <td>65.200</td>\n",
              "      <td>4.090</td>\n",
              "      <td>1.000</td>\n",
              "      <td>296.000</td>\n",
              "      <td>15.300</td>\n",
              "      <td>396.900</td>\n",
              "      <td>4.980</td>\n",
              "      <td>24.000</td>\n",
              "    </tr>\n",
              "    <tr>\n",
              "      <th>1</th>\n",
              "      <td>0.027</td>\n",
              "      <td>0.000</td>\n",
              "      <td>7.070</td>\n",
              "      <td>0.000</td>\n",
              "      <td>0.469</td>\n",
              "      <td>6.421</td>\n",
              "      <td>78.900</td>\n",
              "      <td>4.967</td>\n",
              "      <td>2.000</td>\n",
              "      <td>242.000</td>\n",
              "      <td>17.800</td>\n",
              "      <td>396.900</td>\n",
              "      <td>9.140</td>\n",
              "      <td>21.600</td>\n",
              "    </tr>\n",
              "    <tr>\n",
              "      <th>2</th>\n",
              "      <td>0.027</td>\n",
              "      <td>0.000</td>\n",
              "      <td>7.070</td>\n",
              "      <td>0.000</td>\n",
              "      <td>0.469</td>\n",
              "      <td>7.185</td>\n",
              "      <td>61.100</td>\n",
              "      <td>4.967</td>\n",
              "      <td>2.000</td>\n",
              "      <td>242.000</td>\n",
              "      <td>17.800</td>\n",
              "      <td>392.830</td>\n",
              "      <td>4.030</td>\n",
              "      <td>34.700</td>\n",
              "    </tr>\n",
              "    <tr>\n",
              "      <th>3</th>\n",
              "      <td>0.032</td>\n",
              "      <td>0.000</td>\n",
              "      <td>2.180</td>\n",
              "      <td>0.000</td>\n",
              "      <td>0.458</td>\n",
              "      <td>6.998</td>\n",
              "      <td>45.800</td>\n",
              "      <td>6.062</td>\n",
              "      <td>3.000</td>\n",
              "      <td>222.000</td>\n",
              "      <td>18.700</td>\n",
              "      <td>394.630</td>\n",
              "      <td>2.940</td>\n",
              "      <td>33.400</td>\n",
              "    </tr>\n",
              "    <tr>\n",
              "      <th>4</th>\n",
              "      <td>0.069</td>\n",
              "      <td>0.000</td>\n",
              "      <td>2.180</td>\n",
              "      <td>0.000</td>\n",
              "      <td>0.458</td>\n",
              "      <td>7.147</td>\n",
              "      <td>54.200</td>\n",
              "      <td>6.062</td>\n",
              "      <td>3.000</td>\n",
              "      <td>222.000</td>\n",
              "      <td>18.700</td>\n",
              "      <td>396.900</td>\n",
              "      <td>5.330</td>\n",
              "      <td>36.200</td>\n",
              "    </tr>\n",
              "  </tbody>\n",
              "</table>\n",
              "</div>\n",
              "      <button class=\"colab-df-convert\" onclick=\"convertToInteractive('df-4531c422-a473-4249-bcd2-a58d5df10bb3')\"\n",
              "              title=\"Convert this dataframe to an interactive table.\"\n",
              "              style=\"display:none;\">\n",
              "        \n",
              "  <svg xmlns=\"http://www.w3.org/2000/svg\" height=\"24px\"viewBox=\"0 0 24 24\"\n",
              "       width=\"24px\">\n",
              "    <path d=\"M0 0h24v24H0V0z\" fill=\"none\"/>\n",
              "    <path d=\"M18.56 5.44l.94 2.06.94-2.06 2.06-.94-2.06-.94-.94-2.06-.94 2.06-2.06.94zm-11 1L8.5 8.5l.94-2.06 2.06-.94-2.06-.94L8.5 2.5l-.94 2.06-2.06.94zm10 10l.94 2.06.94-2.06 2.06-.94-2.06-.94-.94-2.06-.94 2.06-2.06.94z\"/><path d=\"M17.41 7.96l-1.37-1.37c-.4-.4-.92-.59-1.43-.59-.52 0-1.04.2-1.43.59L10.3 9.45l-7.72 7.72c-.78.78-.78 2.05 0 2.83L4 21.41c.39.39.9.59 1.41.59.51 0 1.02-.2 1.41-.59l7.78-7.78 2.81-2.81c.8-.78.8-2.07 0-2.86zM5.41 20L4 18.59l7.72-7.72 1.47 1.35L5.41 20z\"/>\n",
              "  </svg>\n",
              "      </button>\n",
              "      \n",
              "  <style>\n",
              "    .colab-df-container {\n",
              "      display:flex;\n",
              "      flex-wrap:wrap;\n",
              "      gap: 12px;\n",
              "    }\n",
              "\n",
              "    .colab-df-convert {\n",
              "      background-color: #E8F0FE;\n",
              "      border: none;\n",
              "      border-radius: 50%;\n",
              "      cursor: pointer;\n",
              "      display: none;\n",
              "      fill: #1967D2;\n",
              "      height: 32px;\n",
              "      padding: 0 0 0 0;\n",
              "      width: 32px;\n",
              "    }\n",
              "\n",
              "    .colab-df-convert:hover {\n",
              "      background-color: #E2EBFA;\n",
              "      box-shadow: 0px 1px 2px rgba(60, 64, 67, 0.3), 0px 1px 3px 1px rgba(60, 64, 67, 0.15);\n",
              "      fill: #174EA6;\n",
              "    }\n",
              "\n",
              "    [theme=dark] .colab-df-convert {\n",
              "      background-color: #3B4455;\n",
              "      fill: #D2E3FC;\n",
              "    }\n",
              "\n",
              "    [theme=dark] .colab-df-convert:hover {\n",
              "      background-color: #434B5C;\n",
              "      box-shadow: 0px 1px 3px 1px rgba(0, 0, 0, 0.15);\n",
              "      filter: drop-shadow(0px 1px 2px rgba(0, 0, 0, 0.3));\n",
              "      fill: #FFFFFF;\n",
              "    }\n",
              "  </style>\n",
              "\n",
              "      <script>\n",
              "        const buttonEl =\n",
              "          document.querySelector('#df-4531c422-a473-4249-bcd2-a58d5df10bb3 button.colab-df-convert');\n",
              "        buttonEl.style.display =\n",
              "          google.colab.kernel.accessAllowed ? 'block' : 'none';\n",
              "\n",
              "        async function convertToInteractive(key) {\n",
              "          const element = document.querySelector('#df-4531c422-a473-4249-bcd2-a58d5df10bb3');\n",
              "          const dataTable =\n",
              "            await google.colab.kernel.invokeFunction('convertToInteractive',\n",
              "                                                     [key], {});\n",
              "          if (!dataTable) return;\n",
              "\n",
              "          const docLinkHtml = 'Like what you see? Visit the ' +\n",
              "            '<a target=\"_blank\" href=https://colab.research.google.com/notebooks/data_table.ipynb>data table notebook</a>'\n",
              "            + ' to learn more about interactive tables.';\n",
              "          element.innerHTML = '';\n",
              "          dataTable['output_type'] = 'display_data';\n",
              "          await google.colab.output.renderOutput(dataTable, element);\n",
              "          const docLink = document.createElement('div');\n",
              "          docLink.innerHTML = docLinkHtml;\n",
              "          element.appendChild(docLink);\n",
              "        }\n",
              "      </script>\n",
              "    </div>\n",
              "  </div>\n",
              "  "
            ]
          },
          "metadata": {},
          "execution_count": 8
        }
      ]
    },
    {
      "cell_type": "markdown",
      "source": [
        "## feature와 target의 구분"
      ],
      "metadata": {
        "id": "WA7ZuxOmjnBs"
      }
    },
    {
      "cell_type": "code",
      "source": [
        "# 컬럼명 수동지정\n",
        "features =['CRIM','ZN','INDUS','NOX','RM','AGE','DIS','RAD','TAX','PTRATIO','B','LSTAT']\n",
        "target = ['MEDV'] "
      ],
      "metadata": {
        "id": "JZBhNSnzkWWd"
      },
      "execution_count": null,
      "outputs": []
    },
    {
      "cell_type": "markdown",
      "source": [
        "위 데이터셋에서는 python_score에 영향을 주는 요인들로 CRIM, AGE, RM, NOX, TAX등의 다양한 변수들이 있는 것을 알 수 있음. 영향을 주는 것을 독립변수(양적변수)라 하고 영향을 받는 것을 종속변수(질적변수)라고 하는데 현 데이터에서는 종속변수를 'MEDV', 나머지 변수들을 독립변수로 지정한다."
      ],
      "metadata": {
        "id": "FeSW3O3_RCcp"
      }
    },
    {
      "cell_type": "markdown",
      "source": [
        "![스크린샷 2022-11-17 오후 5.56.39.png](data:image/png;base64,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)"
      ],
      "metadata": {
        "id": "3AYPY7_yjve6"
      }
    },
    {
      "cell_type": "code",
      "source": [
        "# 데이터 로드 확인\n",
        "print(Df.shape)            # 데이터의 가로세로수 확인\n",
        "print(Df.head())           # 데이터 앞부분(5개)확인\n",
        "print(Df.tail())           # 데이터 뒷부분(5개)확인"
      ],
      "metadata": {
        "colab": {
          "base_uri": "https://localhost:8080/"
        },
        "id": "SICQXQdgIcAB",
        "outputId": "0172a40e-68d7-43af-bdb3-08b78c809cea"
      },
      "execution_count": null,
      "outputs": [
        {
          "output_type": "stream",
          "name": "stdout",
          "text": [
            "(506, 14)\n",
            "   CRIM     ZN  INDUS  CHAS   NOX    RM    AGE   DIS   RAD     TAX  PTRATIO  \\\n",
            "0 0.006 18.000  2.310 0.000 0.538 6.575 65.200 4.090 1.000 296.000   15.300   \n",
            "1 0.027  0.000  7.070 0.000 0.469 6.421 78.900 4.967 2.000 242.000   17.800   \n",
            "2 0.027  0.000  7.070 0.000 0.469 7.185 61.100 4.967 2.000 242.000   17.800   \n",
            "3 0.032  0.000  2.180 0.000 0.458 6.998 45.800 6.062 3.000 222.000   18.700   \n",
            "4 0.069  0.000  2.180 0.000 0.458 7.147 54.200 6.062 3.000 222.000   18.700   \n",
            "\n",
            "        B  LSTAT   MEDV  \n",
            "0 396.900  4.980 24.000  \n",
            "1 396.900  9.140 21.600  \n",
            "2 392.830  4.030 34.700  \n",
            "3 394.630  2.940 33.400  \n",
            "4 396.900  5.330 36.200  \n",
            "     CRIM    ZN  INDUS  CHAS   NOX    RM    AGE   DIS   RAD     TAX  PTRATIO  \\\n",
            "501 0.063 0.000 11.930 0.000 0.573 6.593 69.100 2.479 1.000 273.000   21.000   \n",
            "502 0.045 0.000 11.930 0.000 0.573 6.120 76.700 2.288 1.000 273.000   21.000   \n",
            "503 0.061 0.000 11.930 0.000 0.573 6.976 91.000 2.167 1.000 273.000   21.000   \n",
            "504 0.110 0.000 11.930 0.000 0.573 6.794 89.300 2.389 1.000 273.000   21.000   \n",
            "505 0.047 0.000 11.930 0.000 0.573 6.030 80.800 2.505 1.000 273.000   21.000   \n",
            "\n",
            "          B  LSTAT   MEDV  \n",
            "501 391.990  9.670 22.400  \n",
            "502 396.900  9.080 20.600  \n",
            "503 396.900  5.640 23.900  \n",
            "504 393.450  6.480 22.000  \n",
            "505 396.900  7.880 11.900  \n"
          ]
        }
      ]
    },
    {
      "cell_type": "code",
      "source": [
        "Df_dt = pd.DataFrame(Df) # 데이터 한눈에 보기\n",
        "Df_dt.head(3)"
      ],
      "metadata": {
        "colab": {
          "base_uri": "https://localhost:8080/",
          "height": 143
        },
        "id": "0upSj1EpTQbR",
        "outputId": "25a06d74-3336-498e-bf61-f8c74598dd60"
      },
      "execution_count": null,
      "outputs": [
        {
          "output_type": "execute_result",
          "data": {
            "text/plain": [
              "   CRIM     ZN  INDUS  CHAS   NOX    RM    AGE   DIS   RAD     TAX  PTRATIO  \\\n",
              "0 0.006 18.000  2.310 0.000 0.538 6.575 65.200 4.090 1.000 296.000   15.300   \n",
              "1 0.027  0.000  7.070 0.000 0.469 6.421 78.900 4.967 2.000 242.000   17.800   \n",
              "2 0.027  0.000  7.070 0.000 0.469 7.185 61.100 4.967 2.000 242.000   17.800   \n",
              "\n",
              "        B  LSTAT   MEDV  \n",
              "0 396.900  4.980 24.000  \n",
              "1 396.900  9.140 21.600  \n",
              "2 392.830  4.030 34.700  "
            ],
            "text/html": [
              "\n",
              "  <div id=\"df-d1bdb5da-4952-4210-8f45-39b4a70f5ccf\">\n",
              "    <div class=\"colab-df-container\">\n",
              "      <div>\n",
              "<style scoped>\n",
              "    .dataframe tbody tr th:only-of-type {\n",
              "        vertical-align: middle;\n",
              "    }\n",
              "\n",
              "    .dataframe tbody tr th {\n",
              "        vertical-align: top;\n",
              "    }\n",
              "\n",
              "    .dataframe thead th {\n",
              "        text-align: right;\n",
              "    }\n",
              "</style>\n",
              "<table border=\"1\" class=\"dataframe\">\n",
              "  <thead>\n",
              "    <tr style=\"text-align: right;\">\n",
              "      <th></th>\n",
              "      <th>CRIM</th>\n",
              "      <th>ZN</th>\n",
              "      <th>INDUS</th>\n",
              "      <th>CHAS</th>\n",
              "      <th>NOX</th>\n",
              "      <th>RM</th>\n",
              "      <th>AGE</th>\n",
              "      <th>DIS</th>\n",
              "      <th>RAD</th>\n",
              "      <th>TAX</th>\n",
              "      <th>PTRATIO</th>\n",
              "      <th>B</th>\n",
              "      <th>LSTAT</th>\n",
              "      <th>MEDV</th>\n",
              "    </tr>\n",
              "  </thead>\n",
              "  <tbody>\n",
              "    <tr>\n",
              "      <th>0</th>\n",
              "      <td>0.006</td>\n",
              "      <td>18.000</td>\n",
              "      <td>2.310</td>\n",
              "      <td>0.000</td>\n",
              "      <td>0.538</td>\n",
              "      <td>6.575</td>\n",
              "      <td>65.200</td>\n",
              "      <td>4.090</td>\n",
              "      <td>1.000</td>\n",
              "      <td>296.000</td>\n",
              "      <td>15.300</td>\n",
              "      <td>396.900</td>\n",
              "      <td>4.980</td>\n",
              "      <td>24.000</td>\n",
              "    </tr>\n",
              "    <tr>\n",
              "      <th>1</th>\n",
              "      <td>0.027</td>\n",
              "      <td>0.000</td>\n",
              "      <td>7.070</td>\n",
              "      <td>0.000</td>\n",
              "      <td>0.469</td>\n",
              "      <td>6.421</td>\n",
              "      <td>78.900</td>\n",
              "      <td>4.967</td>\n",
              "      <td>2.000</td>\n",
              "      <td>242.000</td>\n",
              "      <td>17.800</td>\n",
              "      <td>396.900</td>\n",
              "      <td>9.140</td>\n",
              "      <td>21.600</td>\n",
              "    </tr>\n",
              "    <tr>\n",
              "      <th>2</th>\n",
              "      <td>0.027</td>\n",
              "      <td>0.000</td>\n",
              "      <td>7.070</td>\n",
              "      <td>0.000</td>\n",
              "      <td>0.469</td>\n",
              "      <td>7.185</td>\n",
              "      <td>61.100</td>\n",
              "      <td>4.967</td>\n",
              "      <td>2.000</td>\n",
              "      <td>242.000</td>\n",
              "      <td>17.800</td>\n",
              "      <td>392.830</td>\n",
              "      <td>4.030</td>\n",
              "      <td>34.700</td>\n",
              "    </tr>\n",
              "  </tbody>\n",
              "</table>\n",
              "</div>\n",
              "      <button class=\"colab-df-convert\" onclick=\"convertToInteractive('df-d1bdb5da-4952-4210-8f45-39b4a70f5ccf')\"\n",
              "              title=\"Convert this dataframe to an interactive table.\"\n",
              "              style=\"display:none;\">\n",
              "        \n",
              "  <svg xmlns=\"http://www.w3.org/2000/svg\" height=\"24px\"viewBox=\"0 0 24 24\"\n",
              "       width=\"24px\">\n",
              "    <path d=\"M0 0h24v24H0V0z\" fill=\"none\"/>\n",
              "    <path d=\"M18.56 5.44l.94 2.06.94-2.06 2.06-.94-2.06-.94-.94-2.06-.94 2.06-2.06.94zm-11 1L8.5 8.5l.94-2.06 2.06-.94-2.06-.94L8.5 2.5l-.94 2.06-2.06.94zm10 10l.94 2.06.94-2.06 2.06-.94-2.06-.94-.94-2.06-.94 2.06-2.06.94z\"/><path d=\"M17.41 7.96l-1.37-1.37c-.4-.4-.92-.59-1.43-.59-.52 0-1.04.2-1.43.59L10.3 9.45l-7.72 7.72c-.78.78-.78 2.05 0 2.83L4 21.41c.39.39.9.59 1.41.59.51 0 1.02-.2 1.41-.59l7.78-7.78 2.81-2.81c.8-.78.8-2.07 0-2.86zM5.41 20L4 18.59l7.72-7.72 1.47 1.35L5.41 20z\"/>\n",
              "  </svg>\n",
              "      </button>\n",
              "      \n",
              "  <style>\n",
              "    .colab-df-container {\n",
              "      display:flex;\n",
              "      flex-wrap:wrap;\n",
              "      gap: 12px;\n",
              "    }\n",
              "\n",
              "    .colab-df-convert {\n",
              "      background-color: #E8F0FE;\n",
              "      border: none;\n",
              "      border-radius: 50%;\n",
              "      cursor: pointer;\n",
              "      display: none;\n",
              "      fill: #1967D2;\n",
              "      height: 32px;\n",
              "      padding: 0 0 0 0;\n",
              "      width: 32px;\n",
              "    }\n",
              "\n",
              "    .colab-df-convert:hover {\n",
              "      background-color: #E2EBFA;\n",
              "      box-shadow: 0px 1px 2px rgba(60, 64, 67, 0.3), 0px 1px 3px 1px rgba(60, 64, 67, 0.15);\n",
              "      fill: #174EA6;\n",
              "    }\n",
              "\n",
              "    [theme=dark] .colab-df-convert {\n",
              "      background-color: #3B4455;\n",
              "      fill: #D2E3FC;\n",
              "    }\n",
              "\n",
              "    [theme=dark] .colab-df-convert:hover {\n",
              "      background-color: #434B5C;\n",
              "      box-shadow: 0px 1px 3px 1px rgba(0, 0, 0, 0.15);\n",
              "      filter: drop-shadow(0px 1px 2px rgba(0, 0, 0, 0.3));\n",
              "      fill: #FFFFFF;\n",
              "    }\n",
              "  </style>\n",
              "\n",
              "      <script>\n",
              "        const buttonEl =\n",
              "          document.querySelector('#df-d1bdb5da-4952-4210-8f45-39b4a70f5ccf button.colab-df-convert');\n",
              "        buttonEl.style.display =\n",
              "          google.colab.kernel.accessAllowed ? 'block' : 'none';\n",
              "\n",
              "        async function convertToInteractive(key) {\n",
              "          const element = document.querySelector('#df-d1bdb5da-4952-4210-8f45-39b4a70f5ccf');\n",
              "          const dataTable =\n",
              "            await google.colab.kernel.invokeFunction('convertToInteractive',\n",
              "                                                     [key], {});\n",
              "          if (!dataTable) return;\n",
              "\n",
              "          const docLinkHtml = 'Like what you see? Visit the ' +\n",
              "            '<a target=\"_blank\" href=https://colab.research.google.com/notebooks/data_table.ipynb>data table notebook</a>'\n",
              "            + ' to learn more about interactive tables.';\n",
              "          element.innerHTML = '';\n",
              "          dataTable['output_type'] = 'display_data';\n",
              "          await google.colab.output.renderOutput(dataTable, element);\n",
              "          const docLink = document.createElement('div');\n",
              "          docLink.innerHTML = docLinkHtml;\n",
              "          element.appendChild(docLink);\n",
              "        }\n",
              "      </script>\n",
              "    </div>\n",
              "  </div>\n",
              "  "
            ]
          },
          "metadata": {},
          "execution_count": 11
        }
      ]
    },
    {
      "cell_type": "code",
      "source": [
        "Df['INDUS'].value_counts()"
      ],
      "metadata": {
        "colab": {
          "base_uri": "https://localhost:8080/"
        },
        "id": "IRCOzZjqwwkE",
        "outputId": "cde0a509-ce96-4aac-c2b1-bc5d53497d61"
      },
      "execution_count": null,
      "outputs": [
        {
          "output_type": "execute_result",
          "data": {
            "text/plain": [
              "18.100    132\n",
              "19.580     30\n",
              "8.140      22\n",
              "6.200      18\n",
              "21.890     15\n",
              "         ... \n",
              "1.210       1\n",
              "1.380       1\n",
              "3.750       1\n",
              "0.460       1\n",
              "2.310       1\n",
              "Name: INDUS, Length: 76, dtype: int64"
            ]
          },
          "metadata": {},
          "execution_count": 12
        }
      ]
    },
    {
      "cell_type": "code",
      "source": [
        "# 문자형식으로 코딩된 질적변수를 더미변수로 코딩\n",
        "Df_dummy = pd.get_dummies(Df, drop_first=True) # 기준변수를 0으로 만들어줌\n",
        "Df_dummy.head()"
      ],
      "metadata": {
        "colab": {
          "base_uri": "https://localhost:8080/",
          "height": 206
        },
        "id": "DrVpz5ILtuN9",
        "outputId": "076c8cb6-a0c3-49ab-fb86-f7d6ba15cc47"
      },
      "execution_count": null,
      "outputs": [
        {
          "output_type": "execute_result",
          "data": {
            "text/plain": [
              "   CRIM     ZN  INDUS  CHAS   NOX    RM    AGE   DIS   RAD     TAX  PTRATIO  \\\n",
              "0 0.006 18.000  2.310 0.000 0.538 6.575 65.200 4.090 1.000 296.000   15.300   \n",
              "1 0.027  0.000  7.070 0.000 0.469 6.421 78.900 4.967 2.000 242.000   17.800   \n",
              "2 0.027  0.000  7.070 0.000 0.469 7.185 61.100 4.967 2.000 242.000   17.800   \n",
              "3 0.032  0.000  2.180 0.000 0.458 6.998 45.800 6.062 3.000 222.000   18.700   \n",
              "4 0.069  0.000  2.180 0.000 0.458 7.147 54.200 6.062 3.000 222.000   18.700   \n",
              "\n",
              "        B  LSTAT   MEDV  \n",
              "0 396.900  4.980 24.000  \n",
              "1 396.900  9.140 21.600  \n",
              "2 392.830  4.030 34.700  \n",
              "3 394.630  2.940 33.400  \n",
              "4 396.900  5.330 36.200  "
            ],
            "text/html": [
              "\n",
              "  <div id=\"df-82a4fc3d-243c-4cde-9504-08b14634fb99\">\n",
              "    <div class=\"colab-df-container\">\n",
              "      <div>\n",
              "<style scoped>\n",
              "    .dataframe tbody tr th:only-of-type {\n",
              "        vertical-align: middle;\n",
              "    }\n",
              "\n",
              "    .dataframe tbody tr th {\n",
              "        vertical-align: top;\n",
              "    }\n",
              "\n",
              "    .dataframe thead th {\n",
              "        text-align: right;\n",
              "    }\n",
              "</style>\n",
              "<table border=\"1\" class=\"dataframe\">\n",
              "  <thead>\n",
              "    <tr style=\"text-align: right;\">\n",
              "      <th></th>\n",
              "      <th>CRIM</th>\n",
              "      <th>ZN</th>\n",
              "      <th>INDUS</th>\n",
              "      <th>CHAS</th>\n",
              "      <th>NOX</th>\n",
              "      <th>RM</th>\n",
              "      <th>AGE</th>\n",
              "      <th>DIS</th>\n",
              "      <th>RAD</th>\n",
              "      <th>TAX</th>\n",
              "      <th>PTRATIO</th>\n",
              "      <th>B</th>\n",
              "      <th>LSTAT</th>\n",
              "      <th>MEDV</th>\n",
              "    </tr>\n",
              "  </thead>\n",
              "  <tbody>\n",
              "    <tr>\n",
              "      <th>0</th>\n",
              "      <td>0.006</td>\n",
              "      <td>18.000</td>\n",
              "      <td>2.310</td>\n",
              "      <td>0.000</td>\n",
              "      <td>0.538</td>\n",
              "      <td>6.575</td>\n",
              "      <td>65.200</td>\n",
              "      <td>4.090</td>\n",
              "      <td>1.000</td>\n",
              "      <td>296.000</td>\n",
              "      <td>15.300</td>\n",
              "      <td>396.900</td>\n",
              "      <td>4.980</td>\n",
              "      <td>24.000</td>\n",
              "    </tr>\n",
              "    <tr>\n",
              "      <th>1</th>\n",
              "      <td>0.027</td>\n",
              "      <td>0.000</td>\n",
              "      <td>7.070</td>\n",
              "      <td>0.000</td>\n",
              "      <td>0.469</td>\n",
              "      <td>6.421</td>\n",
              "      <td>78.900</td>\n",
              "      <td>4.967</td>\n",
              "      <td>2.000</td>\n",
              "      <td>242.000</td>\n",
              "      <td>17.800</td>\n",
              "      <td>396.900</td>\n",
              "      <td>9.140</td>\n",
              "      <td>21.600</td>\n",
              "    </tr>\n",
              "    <tr>\n",
              "      <th>2</th>\n",
              "      <td>0.027</td>\n",
              "      <td>0.000</td>\n",
              "      <td>7.070</td>\n",
              "      <td>0.000</td>\n",
              "      <td>0.469</td>\n",
              "      <td>7.185</td>\n",
              "      <td>61.100</td>\n",
              "      <td>4.967</td>\n",
              "      <td>2.000</td>\n",
              "      <td>242.000</td>\n",
              "      <td>17.800</td>\n",
              "      <td>392.830</td>\n",
              "      <td>4.030</td>\n",
              "      <td>34.700</td>\n",
              "    </tr>\n",
              "    <tr>\n",
              "      <th>3</th>\n",
              "      <td>0.032</td>\n",
              "      <td>0.000</td>\n",
              "      <td>2.180</td>\n",
              "      <td>0.000</td>\n",
              "      <td>0.458</td>\n",
              "      <td>6.998</td>\n",
              "      <td>45.800</td>\n",
              "      <td>6.062</td>\n",
              "      <td>3.000</td>\n",
              "      <td>222.000</td>\n",
              "      <td>18.700</td>\n",
              "      <td>394.630</td>\n",
              "      <td>2.940</td>\n",
              "      <td>33.400</td>\n",
              "    </tr>\n",
              "    <tr>\n",
              "      <th>4</th>\n",
              "      <td>0.069</td>\n",
              "      <td>0.000</td>\n",
              "      <td>2.180</td>\n",
              "      <td>0.000</td>\n",
              "      <td>0.458</td>\n",
              "      <td>7.147</td>\n",
              "      <td>54.200</td>\n",
              "      <td>6.062</td>\n",
              "      <td>3.000</td>\n",
              "      <td>222.000</td>\n",
              "      <td>18.700</td>\n",
              "      <td>396.900</td>\n",
              "      <td>5.330</td>\n",
              "      <td>36.200</td>\n",
              "    </tr>\n",
              "  </tbody>\n",
              "</table>\n",
              "</div>\n",
              "      <button class=\"colab-df-convert\" onclick=\"convertToInteractive('df-82a4fc3d-243c-4cde-9504-08b14634fb99')\"\n",
              "              title=\"Convert this dataframe to an interactive table.\"\n",
              "              style=\"display:none;\">\n",
              "        \n",
              "  <svg xmlns=\"http://www.w3.org/2000/svg\" height=\"24px\"viewBox=\"0 0 24 24\"\n",
              "       width=\"24px\">\n",
              "    <path d=\"M0 0h24v24H0V0z\" fill=\"none\"/>\n",
              "    <path d=\"M18.56 5.44l.94 2.06.94-2.06 2.06-.94-2.06-.94-.94-2.06-.94 2.06-2.06.94zm-11 1L8.5 8.5l.94-2.06 2.06-.94-2.06-.94L8.5 2.5l-.94 2.06-2.06.94zm10 10l.94 2.06.94-2.06 2.06-.94-2.06-.94-.94-2.06-.94 2.06-2.06.94z\"/><path d=\"M17.41 7.96l-1.37-1.37c-.4-.4-.92-.59-1.43-.59-.52 0-1.04.2-1.43.59L10.3 9.45l-7.72 7.72c-.78.78-.78 2.05 0 2.83L4 21.41c.39.39.9.59 1.41.59.51 0 1.02-.2 1.41-.59l7.78-7.78 2.81-2.81c.8-.78.8-2.07 0-2.86zM5.41 20L4 18.59l7.72-7.72 1.47 1.35L5.41 20z\"/>\n",
              "  </svg>\n",
              "      </button>\n",
              "      \n",
              "  <style>\n",
              "    .colab-df-container {\n",
              "      display:flex;\n",
              "      flex-wrap:wrap;\n",
              "      gap: 12px;\n",
              "    }\n",
              "\n",
              "    .colab-df-convert {\n",
              "      background-color: #E8F0FE;\n",
              "      border: none;\n",
              "      border-radius: 50%;\n",
              "      cursor: pointer;\n",
              "      display: none;\n",
              "      fill: #1967D2;\n",
              "      height: 32px;\n",
              "      padding: 0 0 0 0;\n",
              "      width: 32px;\n",
              "    }\n",
              "\n",
              "    .colab-df-convert:hover {\n",
              "      background-color: #E2EBFA;\n",
              "      box-shadow: 0px 1px 2px rgba(60, 64, 67, 0.3), 0px 1px 3px 1px rgba(60, 64, 67, 0.15);\n",
              "      fill: #174EA6;\n",
              "    }\n",
              "\n",
              "    [theme=dark] .colab-df-convert {\n",
              "      background-color: #3B4455;\n",
              "      fill: #D2E3FC;\n",
              "    }\n",
              "\n",
              "    [theme=dark] .colab-df-convert:hover {\n",
              "      background-color: #434B5C;\n",
              "      box-shadow: 0px 1px 3px 1px rgba(0, 0, 0, 0.15);\n",
              "      filter: drop-shadow(0px 1px 2px rgba(0, 0, 0, 0.3));\n",
              "      fill: #FFFFFF;\n",
              "    }\n",
              "  </style>\n",
              "\n",
              "      <script>\n",
              "        const buttonEl =\n",
              "          document.querySelector('#df-82a4fc3d-243c-4cde-9504-08b14634fb99 button.colab-df-convert');\n",
              "        buttonEl.style.display =\n",
              "          google.colab.kernel.accessAllowed ? 'block' : 'none';\n",
              "\n",
              "        async function convertToInteractive(key) {\n",
              "          const element = document.querySelector('#df-82a4fc3d-243c-4cde-9504-08b14634fb99');\n",
              "          const dataTable =\n",
              "            await google.colab.kernel.invokeFunction('convertToInteractive',\n",
              "                                                     [key], {});\n",
              "          if (!dataTable) return;\n",
              "\n",
              "          const docLinkHtml = 'Like what you see? Visit the ' +\n",
              "            '<a target=\"_blank\" href=https://colab.research.google.com/notebooks/data_table.ipynb>data table notebook</a>'\n",
              "            + ' to learn more about interactive tables.';\n",
              "          element.innerHTML = '';\n",
              "          dataTable['output_type'] = 'display_data';\n",
              "          await google.colab.output.renderOutput(dataTable, element);\n",
              "          const docLink = document.createElement('div');\n",
              "          docLink.innerHTML = docLinkHtml;\n",
              "          element.appendChild(docLink);\n",
              "        }\n",
              "      </script>\n",
              "    </div>\n",
              "  </div>\n",
              "  "
            ]
          },
          "metadata": {},
          "execution_count": 13
        }
      ]
    },
    {
      "cell_type": "code",
      "source": [
        "Df_dummy.columns"
      ],
      "metadata": {
        "colab": {
          "base_uri": "https://localhost:8080/"
        },
        "id": "b3ShBUqntwu8",
        "outputId": "5553c5b4-e9d6-4ee8-d044-1ac359bde7d3"
      },
      "execution_count": null,
      "outputs": [
        {
          "output_type": "execute_result",
          "data": {
            "text/plain": [
              "Index(['CRIM', 'ZN', 'INDUS', 'CHAS', 'NOX', 'RM', 'AGE', 'DIS', 'RAD', 'TAX',\n",
              "       'PTRATIO', 'B', 'LSTAT', 'MEDV'],\n",
              "      dtype='object')"
            ]
          },
          "metadata": {},
          "execution_count": 14
        }
      ]
    },
    {
      "cell_type": "code",
      "source": [
        "Df_dummy"
      ],
      "metadata": {
        "colab": {
          "base_uri": "https://localhost:8080/",
          "height": 424
        },
        "id": "gs0c-ty-u3F5",
        "outputId": "cca4a8af-a61e-4fdc-a02f-df214fff61f2"
      },
      "execution_count": null,
      "outputs": [
        {
          "output_type": "execute_result",
          "data": {
            "text/plain": [
              "     CRIM     ZN  INDUS  CHAS   NOX    RM    AGE   DIS   RAD     TAX  PTRATIO  \\\n",
              "0   0.006 18.000  2.310 0.000 0.538 6.575 65.200 4.090 1.000 296.000   15.300   \n",
              "1   0.027  0.000  7.070 0.000 0.469 6.421 78.900 4.967 2.000 242.000   17.800   \n",
              "2   0.027  0.000  7.070 0.000 0.469 7.185 61.100 4.967 2.000 242.000   17.800   \n",
              "3   0.032  0.000  2.180 0.000 0.458 6.998 45.800 6.062 3.000 222.000   18.700   \n",
              "4   0.069  0.000  2.180 0.000 0.458 7.147 54.200 6.062 3.000 222.000   18.700   \n",
              "..    ...    ...    ...   ...   ...   ...    ...   ...   ...     ...      ...   \n",
              "501 0.063  0.000 11.930 0.000 0.573 6.593 69.100 2.479 1.000 273.000   21.000   \n",
              "502 0.045  0.000 11.930 0.000 0.573 6.120 76.700 2.288 1.000 273.000   21.000   \n",
              "503 0.061  0.000 11.930 0.000 0.573 6.976 91.000 2.167 1.000 273.000   21.000   \n",
              "504 0.110  0.000 11.930 0.000 0.573 6.794 89.300 2.389 1.000 273.000   21.000   \n",
              "505 0.047  0.000 11.930 0.000 0.573 6.030 80.800 2.505 1.000 273.000   21.000   \n",
              "\n",
              "          B  LSTAT   MEDV  \n",
              "0   396.900  4.980 24.000  \n",
              "1   396.900  9.140 21.600  \n",
              "2   392.830  4.030 34.700  \n",
              "3   394.630  2.940 33.400  \n",
              "4   396.900  5.330 36.200  \n",
              "..      ...    ...    ...  \n",
              "501 391.990  9.670 22.400  \n",
              "502 396.900  9.080 20.600  \n",
              "503 396.900  5.640 23.900  \n",
              "504 393.450  6.480 22.000  \n",
              "505 396.900  7.880 11.900  \n",
              "\n",
              "[506 rows x 14 columns]"
            ],
            "text/html": [
              "\n",
              "  <div id=\"df-0938ef8b-898f-41ae-bb18-504939bb4487\">\n",
              "    <div class=\"colab-df-container\">\n",
              "      <div>\n",
              "<style scoped>\n",
              "    .dataframe tbody tr th:only-of-type {\n",
              "        vertical-align: middle;\n",
              "    }\n",
              "\n",
              "    .dataframe tbody tr th {\n",
              "        vertical-align: top;\n",
              "    }\n",
              "\n",
              "    .dataframe thead th {\n",
              "        text-align: right;\n",
              "    }\n",
              "</style>\n",
              "<table border=\"1\" class=\"dataframe\">\n",
              "  <thead>\n",
              "    <tr style=\"text-align: right;\">\n",
              "      <th></th>\n",
              "      <th>CRIM</th>\n",
              "      <th>ZN</th>\n",
              "      <th>INDUS</th>\n",
              "      <th>CHAS</th>\n",
              "      <th>NOX</th>\n",
              "      <th>RM</th>\n",
              "      <th>AGE</th>\n",
              "      <th>DIS</th>\n",
              "      <th>RAD</th>\n",
              "      <th>TAX</th>\n",
              "      <th>PTRATIO</th>\n",
              "      <th>B</th>\n",
              "      <th>LSTAT</th>\n",
              "      <th>MEDV</th>\n",
              "    </tr>\n",
              "  </thead>\n",
              "  <tbody>\n",
              "    <tr>\n",
              "      <th>0</th>\n",
              "      <td>0.006</td>\n",
              "      <td>18.000</td>\n",
              "      <td>2.310</td>\n",
              "      <td>0.000</td>\n",
              "      <td>0.538</td>\n",
              "      <td>6.575</td>\n",
              "      <td>65.200</td>\n",
              "      <td>4.090</td>\n",
              "      <td>1.000</td>\n",
              "      <td>296.000</td>\n",
              "      <td>15.300</td>\n",
              "      <td>396.900</td>\n",
              "      <td>4.980</td>\n",
              "      <td>24.000</td>\n",
              "    </tr>\n",
              "    <tr>\n",
              "      <th>1</th>\n",
              "      <td>0.027</td>\n",
              "      <td>0.000</td>\n",
              "      <td>7.070</td>\n",
              "      <td>0.000</td>\n",
              "      <td>0.469</td>\n",
              "      <td>6.421</td>\n",
              "      <td>78.900</td>\n",
              "      <td>4.967</td>\n",
              "      <td>2.000</td>\n",
              "      <td>242.000</td>\n",
              "      <td>17.800</td>\n",
              "      <td>396.900</td>\n",
              "      <td>9.140</td>\n",
              "      <td>21.600</td>\n",
              "    </tr>\n",
              "    <tr>\n",
              "      <th>2</th>\n",
              "      <td>0.027</td>\n",
              "      <td>0.000</td>\n",
              "      <td>7.070</td>\n",
              "      <td>0.000</td>\n",
              "      <td>0.469</td>\n",
              "      <td>7.185</td>\n",
              "      <td>61.100</td>\n",
              "      <td>4.967</td>\n",
              "      <td>2.000</td>\n",
              "      <td>242.000</td>\n",
              "      <td>17.800</td>\n",
              "      <td>392.830</td>\n",
              "      <td>4.030</td>\n",
              "      <td>34.700</td>\n",
              "    </tr>\n",
              "    <tr>\n",
              "      <th>3</th>\n",
              "      <td>0.032</td>\n",
              "      <td>0.000</td>\n",
              "      <td>2.180</td>\n",
              "      <td>0.000</td>\n",
              "      <td>0.458</td>\n",
              "      <td>6.998</td>\n",
              "      <td>45.800</td>\n",
              "      <td>6.062</td>\n",
              "      <td>3.000</td>\n",
              "      <td>222.000</td>\n",
              "      <td>18.700</td>\n",
              "      <td>394.630</td>\n",
              "      <td>2.940</td>\n",
              "      <td>33.400</td>\n",
              "    </tr>\n",
              "    <tr>\n",
              "      <th>4</th>\n",
              "      <td>0.069</td>\n",
              "      <td>0.000</td>\n",
              "      <td>2.180</td>\n",
              "      <td>0.000</td>\n",
              "      <td>0.458</td>\n",
              "      <td>7.147</td>\n",
              "      <td>54.200</td>\n",
              "      <td>6.062</td>\n",
              "      <td>3.000</td>\n",
              "      <td>222.000</td>\n",
              "      <td>18.700</td>\n",
              "      <td>396.900</td>\n",
              "      <td>5.330</td>\n",
              "      <td>36.200</td>\n",
              "    </tr>\n",
              "    <tr>\n",
              "      <th>...</th>\n",
              "      <td>...</td>\n",
              "      <td>...</td>\n",
              "      <td>...</td>\n",
              "      <td>...</td>\n",
              "      <td>...</td>\n",
              "      <td>...</td>\n",
              "      <td>...</td>\n",
              "      <td>...</td>\n",
              "      <td>...</td>\n",
              "      <td>...</td>\n",
              "      <td>...</td>\n",
              "      <td>...</td>\n",
              "      <td>...</td>\n",
              "      <td>...</td>\n",
              "    </tr>\n",
              "    <tr>\n",
              "      <th>501</th>\n",
              "      <td>0.063</td>\n",
              "      <td>0.000</td>\n",
              "      <td>11.930</td>\n",
              "      <td>0.000</td>\n",
              "      <td>0.573</td>\n",
              "      <td>6.593</td>\n",
              "      <td>69.100</td>\n",
              "      <td>2.479</td>\n",
              "      <td>1.000</td>\n",
              "      <td>273.000</td>\n",
              "      <td>21.000</td>\n",
              "      <td>391.990</td>\n",
              "      <td>9.670</td>\n",
              "      <td>22.400</td>\n",
              "    </tr>\n",
              "    <tr>\n",
              "      <th>502</th>\n",
              "      <td>0.045</td>\n",
              "      <td>0.000</td>\n",
              "      <td>11.930</td>\n",
              "      <td>0.000</td>\n",
              "      <td>0.573</td>\n",
              "      <td>6.120</td>\n",
              "      <td>76.700</td>\n",
              "      <td>2.288</td>\n",
              "      <td>1.000</td>\n",
              "      <td>273.000</td>\n",
              "      <td>21.000</td>\n",
              "      <td>396.900</td>\n",
              "      <td>9.080</td>\n",
              "      <td>20.600</td>\n",
              "    </tr>\n",
              "    <tr>\n",
              "      <th>503</th>\n",
              "      <td>0.061</td>\n",
              "      <td>0.000</td>\n",
              "      <td>11.930</td>\n",
              "      <td>0.000</td>\n",
              "      <td>0.573</td>\n",
              "      <td>6.976</td>\n",
              "      <td>91.000</td>\n",
              "      <td>2.167</td>\n",
              "      <td>1.000</td>\n",
              "      <td>273.000</td>\n",
              "      <td>21.000</td>\n",
              "      <td>396.900</td>\n",
              "      <td>5.640</td>\n",
              "      <td>23.900</td>\n",
              "    </tr>\n",
              "    <tr>\n",
              "      <th>504</th>\n",
              "      <td>0.110</td>\n",
              "      <td>0.000</td>\n",
              "      <td>11.930</td>\n",
              "      <td>0.000</td>\n",
              "      <td>0.573</td>\n",
              "      <td>6.794</td>\n",
              "      <td>89.300</td>\n",
              "      <td>2.389</td>\n",
              "      <td>1.000</td>\n",
              "      <td>273.000</td>\n",
              "      <td>21.000</td>\n",
              "      <td>393.450</td>\n",
              "      <td>6.480</td>\n",
              "      <td>22.000</td>\n",
              "    </tr>\n",
              "    <tr>\n",
              "      <th>505</th>\n",
              "      <td>0.047</td>\n",
              "      <td>0.000</td>\n",
              "      <td>11.930</td>\n",
              "      <td>0.000</td>\n",
              "      <td>0.573</td>\n",
              "      <td>6.030</td>\n",
              "      <td>80.800</td>\n",
              "      <td>2.505</td>\n",
              "      <td>1.000</td>\n",
              "      <td>273.000</td>\n",
              "      <td>21.000</td>\n",
              "      <td>396.900</td>\n",
              "      <td>7.880</td>\n",
              "      <td>11.900</td>\n",
              "    </tr>\n",
              "  </tbody>\n",
              "</table>\n",
              "<p>506 rows × 14 columns</p>\n",
              "</div>\n",
              "      <button class=\"colab-df-convert\" onclick=\"convertToInteractive('df-0938ef8b-898f-41ae-bb18-504939bb4487')\"\n",
              "              title=\"Convert this dataframe to an interactive table.\"\n",
              "              style=\"display:none;\">\n",
              "        \n",
              "  <svg xmlns=\"http://www.w3.org/2000/svg\" height=\"24px\"viewBox=\"0 0 24 24\"\n",
              "       width=\"24px\">\n",
              "    <path d=\"M0 0h24v24H0V0z\" fill=\"none\"/>\n",
              "    <path d=\"M18.56 5.44l.94 2.06.94-2.06 2.06-.94-2.06-.94-.94-2.06-.94 2.06-2.06.94zm-11 1L8.5 8.5l.94-2.06 2.06-.94-2.06-.94L8.5 2.5l-.94 2.06-2.06.94zm10 10l.94 2.06.94-2.06 2.06-.94-2.06-.94-.94-2.06-.94 2.06-2.06.94z\"/><path d=\"M17.41 7.96l-1.37-1.37c-.4-.4-.92-.59-1.43-.59-.52 0-1.04.2-1.43.59L10.3 9.45l-7.72 7.72c-.78.78-.78 2.05 0 2.83L4 21.41c.39.39.9.59 1.41.59.51 0 1.02-.2 1.41-.59l7.78-7.78 2.81-2.81c.8-.78.8-2.07 0-2.86zM5.41 20L4 18.59l7.72-7.72 1.47 1.35L5.41 20z\"/>\n",
              "  </svg>\n",
              "      </button>\n",
              "      \n",
              "  <style>\n",
              "    .colab-df-container {\n",
              "      display:flex;\n",
              "      flex-wrap:wrap;\n",
              "      gap: 12px;\n",
              "    }\n",
              "\n",
              "    .colab-df-convert {\n",
              "      background-color: #E8F0FE;\n",
              "      border: none;\n",
              "      border-radius: 50%;\n",
              "      cursor: pointer;\n",
              "      display: none;\n",
              "      fill: #1967D2;\n",
              "      height: 32px;\n",
              "      padding: 0 0 0 0;\n",
              "      width: 32px;\n",
              "    }\n",
              "\n",
              "    .colab-df-convert:hover {\n",
              "      background-color: #E2EBFA;\n",
              "      box-shadow: 0px 1px 2px rgba(60, 64, 67, 0.3), 0px 1px 3px 1px rgba(60, 64, 67, 0.15);\n",
              "      fill: #174EA6;\n",
              "    }\n",
              "\n",
              "    [theme=dark] .colab-df-convert {\n",
              "      background-color: #3B4455;\n",
              "      fill: #D2E3FC;\n",
              "    }\n",
              "\n",
              "    [theme=dark] .colab-df-convert:hover {\n",
              "      background-color: #434B5C;\n",
              "      box-shadow: 0px 1px 3px 1px rgba(0, 0, 0, 0.15);\n",
              "      filter: drop-shadow(0px 1px 2px rgba(0, 0, 0, 0.3));\n",
              "      fill: #FFFFFF;\n",
              "    }\n",
              "  </style>\n",
              "\n",
              "      <script>\n",
              "        const buttonEl =\n",
              "          document.querySelector('#df-0938ef8b-898f-41ae-bb18-504939bb4487 button.colab-df-convert');\n",
              "        buttonEl.style.display =\n",
              "          google.colab.kernel.accessAllowed ? 'block' : 'none';\n",
              "\n",
              "        async function convertToInteractive(key) {\n",
              "          const element = document.querySelector('#df-0938ef8b-898f-41ae-bb18-504939bb4487');\n",
              "          const dataTable =\n",
              "            await google.colab.kernel.invokeFunction('convertToInteractive',\n",
              "                                                     [key], {});\n",
              "          if (!dataTable) return;\n",
              "\n",
              "          const docLinkHtml = 'Like what you see? Visit the ' +\n",
              "            '<a target=\"_blank\" href=https://colab.research.google.com/notebooks/data_table.ipynb>data table notebook</a>'\n",
              "            + ' to learn more about interactive tables.';\n",
              "          element.innerHTML = '';\n",
              "          dataTable['output_type'] = 'display_data';\n",
              "          await google.colab.output.renderOutput(dataTable, element);\n",
              "          const docLink = document.createElement('div');\n",
              "          docLink.innerHTML = docLinkHtml;\n",
              "          element.appendChild(docLink);\n",
              "        }\n",
              "      </script>\n",
              "    </div>\n",
              "  </div>\n",
              "  "
            ]
          },
          "metadata": {},
          "execution_count": 15
        }
      ]
    },
    {
      "cell_type": "code",
      "source": [
        "target_dummy = Df_dummy.drop(['CRIM','ZN', 'INDUS', 'CHAS', 'NOX', 'RM', 'AGE', 'DIS', 'RAD', 'TAX',\n",
        "       'PTRATIO', 'B', 'LSTAT'], axis=1)"
      ],
      "metadata": {
        "id": "7XOC2O9RuisO"
      },
      "execution_count": null,
      "outputs": []
    },
    {
      "cell_type": "code",
      "source": [
        "target_dummy"
      ],
      "metadata": {
        "colab": {
          "base_uri": "https://localhost:8080/",
          "height": 424
        },
        "id": "kQxT4o7auBIU",
        "outputId": "1edbcc13-2175-4b19-d8e9-9e1d700c02a1"
      },
      "execution_count": null,
      "outputs": [
        {
          "output_type": "execute_result",
          "data": {
            "text/plain": [
              "      MEDV\n",
              "0   24.000\n",
              "1   21.600\n",
              "2   34.700\n",
              "3   33.400\n",
              "4   36.200\n",
              "..     ...\n",
              "501 22.400\n",
              "502 20.600\n",
              "503 23.900\n",
              "504 22.000\n",
              "505 11.900\n",
              "\n",
              "[506 rows x 1 columns]"
            ],
            "text/html": [
              "\n",
              "  <div id=\"df-971ad286-7a44-4bc2-af89-48aac77067b6\">\n",
              "    <div class=\"colab-df-container\">\n",
              "      <div>\n",
              "<style scoped>\n",
              "    .dataframe tbody tr th:only-of-type {\n",
              "        vertical-align: middle;\n",
              "    }\n",
              "\n",
              "    .dataframe tbody tr th {\n",
              "        vertical-align: top;\n",
              "    }\n",
              "\n",
              "    .dataframe thead th {\n",
              "        text-align: right;\n",
              "    }\n",
              "</style>\n",
              "<table border=\"1\" class=\"dataframe\">\n",
              "  <thead>\n",
              "    <tr style=\"text-align: right;\">\n",
              "      <th></th>\n",
              "      <th>MEDV</th>\n",
              "    </tr>\n",
              "  </thead>\n",
              "  <tbody>\n",
              "    <tr>\n",
              "      <th>0</th>\n",
              "      <td>24.000</td>\n",
              "    </tr>\n",
              "    <tr>\n",
              "      <th>1</th>\n",
              "      <td>21.600</td>\n",
              "    </tr>\n",
              "    <tr>\n",
              "      <th>2</th>\n",
              "      <td>34.700</td>\n",
              "    </tr>\n",
              "    <tr>\n",
              "      <th>3</th>\n",
              "      <td>33.400</td>\n",
              "    </tr>\n",
              "    <tr>\n",
              "      <th>4</th>\n",
              "      <td>36.200</td>\n",
              "    </tr>\n",
              "    <tr>\n",
              "      <th>...</th>\n",
              "      <td>...</td>\n",
              "    </tr>\n",
              "    <tr>\n",
              "      <th>501</th>\n",
              "      <td>22.400</td>\n",
              "    </tr>\n",
              "    <tr>\n",
              "      <th>502</th>\n",
              "      <td>20.600</td>\n",
              "    </tr>\n",
              "    <tr>\n",
              "      <th>503</th>\n",
              "      <td>23.900</td>\n",
              "    </tr>\n",
              "    <tr>\n",
              "      <th>504</th>\n",
              "      <td>22.000</td>\n",
              "    </tr>\n",
              "    <tr>\n",
              "      <th>505</th>\n",
              "      <td>11.900</td>\n",
              "    </tr>\n",
              "  </tbody>\n",
              "</table>\n",
              "<p>506 rows × 1 columns</p>\n",
              "</div>\n",
              "      <button class=\"colab-df-convert\" onclick=\"convertToInteractive('df-971ad286-7a44-4bc2-af89-48aac77067b6')\"\n",
              "              title=\"Convert this dataframe to an interactive table.\"\n",
              "              style=\"display:none;\">\n",
              "        \n",
              "  <svg xmlns=\"http://www.w3.org/2000/svg\" height=\"24px\"viewBox=\"0 0 24 24\"\n",
              "       width=\"24px\">\n",
              "    <path d=\"M0 0h24v24H0V0z\" fill=\"none\"/>\n",
              "    <path d=\"M18.56 5.44l.94 2.06.94-2.06 2.06-.94-2.06-.94-.94-2.06-.94 2.06-2.06.94zm-11 1L8.5 8.5l.94-2.06 2.06-.94-2.06-.94L8.5 2.5l-.94 2.06-2.06.94zm10 10l.94 2.06.94-2.06 2.06-.94-2.06-.94-.94-2.06-.94 2.06-2.06.94z\"/><path d=\"M17.41 7.96l-1.37-1.37c-.4-.4-.92-.59-1.43-.59-.52 0-1.04.2-1.43.59L10.3 9.45l-7.72 7.72c-.78.78-.78 2.05 0 2.83L4 21.41c.39.39.9.59 1.41.59.51 0 1.02-.2 1.41-.59l7.78-7.78 2.81-2.81c.8-.78.8-2.07 0-2.86zM5.41 20L4 18.59l7.72-7.72 1.47 1.35L5.41 20z\"/>\n",
              "  </svg>\n",
              "      </button>\n",
              "      \n",
              "  <style>\n",
              "    .colab-df-container {\n",
              "      display:flex;\n",
              "      flex-wrap:wrap;\n",
              "      gap: 12px;\n",
              "    }\n",
              "\n",
              "    .colab-df-convert {\n",
              "      background-color: #E8F0FE;\n",
              "      border: none;\n",
              "      border-radius: 50%;\n",
              "      cursor: pointer;\n",
              "      display: none;\n",
              "      fill: #1967D2;\n",
              "      height: 32px;\n",
              "      padding: 0 0 0 0;\n",
              "      width: 32px;\n",
              "    }\n",
              "\n",
              "    .colab-df-convert:hover {\n",
              "      background-color: #E2EBFA;\n",
              "      box-shadow: 0px 1px 2px rgba(60, 64, 67, 0.3), 0px 1px 3px 1px rgba(60, 64, 67, 0.15);\n",
              "      fill: #174EA6;\n",
              "    }\n",
              "\n",
              "    [theme=dark] .colab-df-convert {\n",
              "      background-color: #3B4455;\n",
              "      fill: #D2E3FC;\n",
              "    }\n",
              "\n",
              "    [theme=dark] .colab-df-convert:hover {\n",
              "      background-color: #434B5C;\n",
              "      box-shadow: 0px 1px 3px 1px rgba(0, 0, 0, 0.15);\n",
              "      filter: drop-shadow(0px 1px 2px rgba(0, 0, 0, 0.3));\n",
              "      fill: #FFFFFF;\n",
              "    }\n",
              "  </style>\n",
              "\n",
              "      <script>\n",
              "        const buttonEl =\n",
              "          document.querySelector('#df-971ad286-7a44-4bc2-af89-48aac77067b6 button.colab-df-convert');\n",
              "        buttonEl.style.display =\n",
              "          google.colab.kernel.accessAllowed ? 'block' : 'none';\n",
              "\n",
              "        async function convertToInteractive(key) {\n",
              "          const element = document.querySelector('#df-971ad286-7a44-4bc2-af89-48aac77067b6');\n",
              "          const dataTable =\n",
              "            await google.colab.kernel.invokeFunction('convertToInteractive',\n",
              "                                                     [key], {});\n",
              "          if (!dataTable) return;\n",
              "\n",
              "          const docLinkHtml = 'Like what you see? Visit the ' +\n",
              "            '<a target=\"_blank\" href=https://colab.research.google.com/notebooks/data_table.ipynb>data table notebook</a>'\n",
              "            + ' to learn more about interactive tables.';\n",
              "          element.innerHTML = '';\n",
              "          dataTable['output_type'] = 'display_data';\n",
              "          await google.colab.output.renderOutput(dataTable, element);\n",
              "          const docLink = document.createElement('div');\n",
              "          docLink.innerHTML = docLinkHtml;\n",
              "          element.appendChild(docLink);\n",
              "        }\n",
              "      </script>\n",
              "    </div>\n",
              "  </div>\n",
              "  "
            ]
          },
          "metadata": {},
          "execution_count": 17
        }
      ]
    },
    {
      "cell_type": "code",
      "source": [
        "feature_dummy = Df_dummy.drop(['MEDV'], axis=1)"
      ],
      "metadata": {
        "id": "3LK7XV3Kx405"
      },
      "execution_count": null,
      "outputs": []
    },
    {
      "cell_type": "code",
      "source": [
        "feature_dummy"
      ],
      "metadata": {
        "id": "Wp72wfGXx4tB",
        "colab": {
          "base_uri": "https://localhost:8080/",
          "height": 424
        },
        "outputId": "69d9b5dc-ec81-44fb-e759-f3e9a84aec1a"
      },
      "execution_count": null,
      "outputs": [
        {
          "output_type": "execute_result",
          "data": {
            "text/plain": [
              "     CRIM     ZN  INDUS  CHAS   NOX    RM    AGE   DIS   RAD     TAX  PTRATIO  \\\n",
              "0   0.006 18.000  2.310 0.000 0.538 6.575 65.200 4.090 1.000 296.000   15.300   \n",
              "1   0.027  0.000  7.070 0.000 0.469 6.421 78.900 4.967 2.000 242.000   17.800   \n",
              "2   0.027  0.000  7.070 0.000 0.469 7.185 61.100 4.967 2.000 242.000   17.800   \n",
              "3   0.032  0.000  2.180 0.000 0.458 6.998 45.800 6.062 3.000 222.000   18.700   \n",
              "4   0.069  0.000  2.180 0.000 0.458 7.147 54.200 6.062 3.000 222.000   18.700   \n",
              "..    ...    ...    ...   ...   ...   ...    ...   ...   ...     ...      ...   \n",
              "501 0.063  0.000 11.930 0.000 0.573 6.593 69.100 2.479 1.000 273.000   21.000   \n",
              "502 0.045  0.000 11.930 0.000 0.573 6.120 76.700 2.288 1.000 273.000   21.000   \n",
              "503 0.061  0.000 11.930 0.000 0.573 6.976 91.000 2.167 1.000 273.000   21.000   \n",
              "504 0.110  0.000 11.930 0.000 0.573 6.794 89.300 2.389 1.000 273.000   21.000   \n",
              "505 0.047  0.000 11.930 0.000 0.573 6.030 80.800 2.505 1.000 273.000   21.000   \n",
              "\n",
              "          B  LSTAT  \n",
              "0   396.900  4.980  \n",
              "1   396.900  9.140  \n",
              "2   392.830  4.030  \n",
              "3   394.630  2.940  \n",
              "4   396.900  5.330  \n",
              "..      ...    ...  \n",
              "501 391.990  9.670  \n",
              "502 396.900  9.080  \n",
              "503 396.900  5.640  \n",
              "504 393.450  6.480  \n",
              "505 396.900  7.880  \n",
              "\n",
              "[506 rows x 13 columns]"
            ],
            "text/html": [
              "\n",
              "  <div id=\"df-8a7f52a4-bff7-4950-a31b-4148e1c2a55f\">\n",
              "    <div class=\"colab-df-container\">\n",
              "      <div>\n",
              "<style scoped>\n",
              "    .dataframe tbody tr th:only-of-type {\n",
              "        vertical-align: middle;\n",
              "    }\n",
              "\n",
              "    .dataframe tbody tr th {\n",
              "        vertical-align: top;\n",
              "    }\n",
              "\n",
              "    .dataframe thead th {\n",
              "        text-align: right;\n",
              "    }\n",
              "</style>\n",
              "<table border=\"1\" class=\"dataframe\">\n",
              "  <thead>\n",
              "    <tr style=\"text-align: right;\">\n",
              "      <th></th>\n",
              "      <th>CRIM</th>\n",
              "      <th>ZN</th>\n",
              "      <th>INDUS</th>\n",
              "      <th>CHAS</th>\n",
              "      <th>NOX</th>\n",
              "      <th>RM</th>\n",
              "      <th>AGE</th>\n",
              "      <th>DIS</th>\n",
              "      <th>RAD</th>\n",
              "      <th>TAX</th>\n",
              "      <th>PTRATIO</th>\n",
              "      <th>B</th>\n",
              "      <th>LSTAT</th>\n",
              "    </tr>\n",
              "  </thead>\n",
              "  <tbody>\n",
              "    <tr>\n",
              "      <th>0</th>\n",
              "      <td>0.006</td>\n",
              "      <td>18.000</td>\n",
              "      <td>2.310</td>\n",
              "      <td>0.000</td>\n",
              "      <td>0.538</td>\n",
              "      <td>6.575</td>\n",
              "      <td>65.200</td>\n",
              "      <td>4.090</td>\n",
              "      <td>1.000</td>\n",
              "      <td>296.000</td>\n",
              "      <td>15.300</td>\n",
              "      <td>396.900</td>\n",
              "      <td>4.980</td>\n",
              "    </tr>\n",
              "    <tr>\n",
              "      <th>1</th>\n",
              "      <td>0.027</td>\n",
              "      <td>0.000</td>\n",
              "      <td>7.070</td>\n",
              "      <td>0.000</td>\n",
              "      <td>0.469</td>\n",
              "      <td>6.421</td>\n",
              "      <td>78.900</td>\n",
              "      <td>4.967</td>\n",
              "      <td>2.000</td>\n",
              "      <td>242.000</td>\n",
              "      <td>17.800</td>\n",
              "      <td>396.900</td>\n",
              "      <td>9.140</td>\n",
              "    </tr>\n",
              "    <tr>\n",
              "      <th>2</th>\n",
              "      <td>0.027</td>\n",
              "      <td>0.000</td>\n",
              "      <td>7.070</td>\n",
              "      <td>0.000</td>\n",
              "      <td>0.469</td>\n",
              "      <td>7.185</td>\n",
              "      <td>61.100</td>\n",
              "      <td>4.967</td>\n",
              "      <td>2.000</td>\n",
              "      <td>242.000</td>\n",
              "      <td>17.800</td>\n",
              "      <td>392.830</td>\n",
              "      <td>4.030</td>\n",
              "    </tr>\n",
              "    <tr>\n",
              "      <th>3</th>\n",
              "      <td>0.032</td>\n",
              "      <td>0.000</td>\n",
              "      <td>2.180</td>\n",
              "      <td>0.000</td>\n",
              "      <td>0.458</td>\n",
              "      <td>6.998</td>\n",
              "      <td>45.800</td>\n",
              "      <td>6.062</td>\n",
              "      <td>3.000</td>\n",
              "      <td>222.000</td>\n",
              "      <td>18.700</td>\n",
              "      <td>394.630</td>\n",
              "      <td>2.940</td>\n",
              "    </tr>\n",
              "    <tr>\n",
              "      <th>4</th>\n",
              "      <td>0.069</td>\n",
              "      <td>0.000</td>\n",
              "      <td>2.180</td>\n",
              "      <td>0.000</td>\n",
              "      <td>0.458</td>\n",
              "      <td>7.147</td>\n",
              "      <td>54.200</td>\n",
              "      <td>6.062</td>\n",
              "      <td>3.000</td>\n",
              "      <td>222.000</td>\n",
              "      <td>18.700</td>\n",
              "      <td>396.900</td>\n",
              "      <td>5.330</td>\n",
              "    </tr>\n",
              "    <tr>\n",
              "      <th>...</th>\n",
              "      <td>...</td>\n",
              "      <td>...</td>\n",
              "      <td>...</td>\n",
              "      <td>...</td>\n",
              "      <td>...</td>\n",
              "      <td>...</td>\n",
              "      <td>...</td>\n",
              "      <td>...</td>\n",
              "      <td>...</td>\n",
              "      <td>...</td>\n",
              "      <td>...</td>\n",
              "      <td>...</td>\n",
              "      <td>...</td>\n",
              "    </tr>\n",
              "    <tr>\n",
              "      <th>501</th>\n",
              "      <td>0.063</td>\n",
              "      <td>0.000</td>\n",
              "      <td>11.930</td>\n",
              "      <td>0.000</td>\n",
              "      <td>0.573</td>\n",
              "      <td>6.593</td>\n",
              "      <td>69.100</td>\n",
              "      <td>2.479</td>\n",
              "      <td>1.000</td>\n",
              "      <td>273.000</td>\n",
              "      <td>21.000</td>\n",
              "      <td>391.990</td>\n",
              "      <td>9.670</td>\n",
              "    </tr>\n",
              "    <tr>\n",
              "      <th>502</th>\n",
              "      <td>0.045</td>\n",
              "      <td>0.000</td>\n",
              "      <td>11.930</td>\n",
              "      <td>0.000</td>\n",
              "      <td>0.573</td>\n",
              "      <td>6.120</td>\n",
              "      <td>76.700</td>\n",
              "      <td>2.288</td>\n",
              "      <td>1.000</td>\n",
              "      <td>273.000</td>\n",
              "      <td>21.000</td>\n",
              "      <td>396.900</td>\n",
              "      <td>9.080</td>\n",
              "    </tr>\n",
              "    <tr>\n",
              "      <th>503</th>\n",
              "      <td>0.061</td>\n",
              "      <td>0.000</td>\n",
              "      <td>11.930</td>\n",
              "      <td>0.000</td>\n",
              "      <td>0.573</td>\n",
              "      <td>6.976</td>\n",
              "      <td>91.000</td>\n",
              "      <td>2.167</td>\n",
              "      <td>1.000</td>\n",
              "      <td>273.000</td>\n",
              "      <td>21.000</td>\n",
              "      <td>396.900</td>\n",
              "      <td>5.640</td>\n",
              "    </tr>\n",
              "    <tr>\n",
              "      <th>504</th>\n",
              "      <td>0.110</td>\n",
              "      <td>0.000</td>\n",
              "      <td>11.930</td>\n",
              "      <td>0.000</td>\n",
              "      <td>0.573</td>\n",
              "      <td>6.794</td>\n",
              "      <td>89.300</td>\n",
              "      <td>2.389</td>\n",
              "      <td>1.000</td>\n",
              "      <td>273.000</td>\n",
              "      <td>21.000</td>\n",
              "      <td>393.450</td>\n",
              "      <td>6.480</td>\n",
              "    </tr>\n",
              "    <tr>\n",
              "      <th>505</th>\n",
              "      <td>0.047</td>\n",
              "      <td>0.000</td>\n",
              "      <td>11.930</td>\n",
              "      <td>0.000</td>\n",
              "      <td>0.573</td>\n",
              "      <td>6.030</td>\n",
              "      <td>80.800</td>\n",
              "      <td>2.505</td>\n",
              "      <td>1.000</td>\n",
              "      <td>273.000</td>\n",
              "      <td>21.000</td>\n",
              "      <td>396.900</td>\n",
              "      <td>7.880</td>\n",
              "    </tr>\n",
              "  </tbody>\n",
              "</table>\n",
              "<p>506 rows × 13 columns</p>\n",
              "</div>\n",
              "      <button class=\"colab-df-convert\" onclick=\"convertToInteractive('df-8a7f52a4-bff7-4950-a31b-4148e1c2a55f')\"\n",
              "              title=\"Convert this dataframe to an interactive table.\"\n",
              "              style=\"display:none;\">\n",
              "        \n",
              "  <svg xmlns=\"http://www.w3.org/2000/svg\" height=\"24px\"viewBox=\"0 0 24 24\"\n",
              "       width=\"24px\">\n",
              "    <path d=\"M0 0h24v24H0V0z\" fill=\"none\"/>\n",
              "    <path d=\"M18.56 5.44l.94 2.06.94-2.06 2.06-.94-2.06-.94-.94-2.06-.94 2.06-2.06.94zm-11 1L8.5 8.5l.94-2.06 2.06-.94-2.06-.94L8.5 2.5l-.94 2.06-2.06.94zm10 10l.94 2.06.94-2.06 2.06-.94-2.06-.94-.94-2.06-.94 2.06-2.06.94z\"/><path d=\"M17.41 7.96l-1.37-1.37c-.4-.4-.92-.59-1.43-.59-.52 0-1.04.2-1.43.59L10.3 9.45l-7.72 7.72c-.78.78-.78 2.05 0 2.83L4 21.41c.39.39.9.59 1.41.59.51 0 1.02-.2 1.41-.59l7.78-7.78 2.81-2.81c.8-.78.8-2.07 0-2.86zM5.41 20L4 18.59l7.72-7.72 1.47 1.35L5.41 20z\"/>\n",
              "  </svg>\n",
              "      </button>\n",
              "      \n",
              "  <style>\n",
              "    .colab-df-container {\n",
              "      display:flex;\n",
              "      flex-wrap:wrap;\n",
              "      gap: 12px;\n",
              "    }\n",
              "\n",
              "    .colab-df-convert {\n",
              "      background-color: #E8F0FE;\n",
              "      border: none;\n",
              "      border-radius: 50%;\n",
              "      cursor: pointer;\n",
              "      display: none;\n",
              "      fill: #1967D2;\n",
              "      height: 32px;\n",
              "      padding: 0 0 0 0;\n",
              "      width: 32px;\n",
              "    }\n",
              "\n",
              "    .colab-df-convert:hover {\n",
              "      background-color: #E2EBFA;\n",
              "      box-shadow: 0px 1px 2px rgba(60, 64, 67, 0.3), 0px 1px 3px 1px rgba(60, 64, 67, 0.15);\n",
              "      fill: #174EA6;\n",
              "    }\n",
              "\n",
              "    [theme=dark] .colab-df-convert {\n",
              "      background-color: #3B4455;\n",
              "      fill: #D2E3FC;\n",
              "    }\n",
              "\n",
              "    [theme=dark] .colab-df-convert:hover {\n",
              "      background-color: #434B5C;\n",
              "      box-shadow: 0px 1px 3px 1px rgba(0, 0, 0, 0.15);\n",
              "      filter: drop-shadow(0px 1px 2px rgba(0, 0, 0, 0.3));\n",
              "      fill: #FFFFFF;\n",
              "    }\n",
              "  </style>\n",
              "\n",
              "      <script>\n",
              "        const buttonEl =\n",
              "          document.querySelector('#df-8a7f52a4-bff7-4950-a31b-4148e1c2a55f button.colab-df-convert');\n",
              "        buttonEl.style.display =\n",
              "          google.colab.kernel.accessAllowed ? 'block' : 'none';\n",
              "\n",
              "        async function convertToInteractive(key) {\n",
              "          const element = document.querySelector('#df-8a7f52a4-bff7-4950-a31b-4148e1c2a55f');\n",
              "          const dataTable =\n",
              "            await google.colab.kernel.invokeFunction('convertToInteractive',\n",
              "                                                     [key], {});\n",
              "          if (!dataTable) return;\n",
              "\n",
              "          const docLinkHtml = 'Like what you see? Visit the ' +\n",
              "            '<a target=\"_blank\" href=https://colab.research.google.com/notebooks/data_table.ipynb>data table notebook</a>'\n",
              "            + ' to learn more about interactive tables.';\n",
              "          element.innerHTML = '';\n",
              "          dataTable['output_type'] = 'display_data';\n",
              "          await google.colab.output.renderOutput(dataTable, element);\n",
              "          const docLink = document.createElement('div');\n",
              "          docLink.innerHTML = docLinkHtml;\n",
              "          element.appendChild(docLink);\n",
              "        }\n",
              "      </script>\n",
              "    </div>\n",
              "  </div>\n",
              "  "
            ]
          },
          "metadata": {},
          "execution_count": 19
        }
      ]
    },
    {
      "cell_type": "markdown",
      "source": [
        "### 양적변수 더미변수화"
      ],
      "metadata": {
        "id": "XN8TPAQ_JY96"
      }
    },
    {
      "cell_type": "code",
      "source": [
        "# # var_nums  = Dataset[['egion_tourist_num','region_price_index','population','average_income','average_transport_cost']]\n",
        "# #Ever_Married, Graduated, Profession, Spending_Score\n",
        "# cat_vars = Df[features] # 'name',\n",
        "# cat_vars\n",
        "cat_vars = Df[features] # 'name',\n",
        "cat_vars"
      ],
      "metadata": {
        "colab": {
          "base_uri": "https://localhost:8080/",
          "height": 424
        },
        "id": "7Cq1MdEYbiKE",
        "outputId": "7c597935-bfdc-428a-99d4-e0eec00589ae"
      },
      "execution_count": null,
      "outputs": [
        {
          "output_type": "execute_result",
          "data": {
            "text/plain": [
              "     CRIM     ZN  INDUS   NOX    RM    AGE   DIS   RAD     TAX  PTRATIO  \\\n",
              "0   0.006 18.000  2.310 0.538 6.575 65.200 4.090 1.000 296.000   15.300   \n",
              "1   0.027  0.000  7.070 0.469 6.421 78.900 4.967 2.000 242.000   17.800   \n",
              "2   0.027  0.000  7.070 0.469 7.185 61.100 4.967 2.000 242.000   17.800   \n",
              "3   0.032  0.000  2.180 0.458 6.998 45.800 6.062 3.000 222.000   18.700   \n",
              "4   0.069  0.000  2.180 0.458 7.147 54.200 6.062 3.000 222.000   18.700   \n",
              "..    ...    ...    ...   ...   ...    ...   ...   ...     ...      ...   \n",
              "501 0.063  0.000 11.930 0.573 6.593 69.100 2.479 1.000 273.000   21.000   \n",
              "502 0.045  0.000 11.930 0.573 6.120 76.700 2.288 1.000 273.000   21.000   \n",
              "503 0.061  0.000 11.930 0.573 6.976 91.000 2.167 1.000 273.000   21.000   \n",
              "504 0.110  0.000 11.930 0.573 6.794 89.300 2.389 1.000 273.000   21.000   \n",
              "505 0.047  0.000 11.930 0.573 6.030 80.800 2.505 1.000 273.000   21.000   \n",
              "\n",
              "          B  LSTAT  \n",
              "0   396.900  4.980  \n",
              "1   396.900  9.140  \n",
              "2   392.830  4.030  \n",
              "3   394.630  2.940  \n",
              "4   396.900  5.330  \n",
              "..      ...    ...  \n",
              "501 391.990  9.670  \n",
              "502 396.900  9.080  \n",
              "503 396.900  5.640  \n",
              "504 393.450  6.480  \n",
              "505 396.900  7.880  \n",
              "\n",
              "[506 rows x 12 columns]"
            ],
            "text/html": [
              "\n",
              "  <div id=\"df-18de771e-e5e4-4cee-9dd3-4d3947d9d3fd\">\n",
              "    <div class=\"colab-df-container\">\n",
              "      <div>\n",
              "<style scoped>\n",
              "    .dataframe tbody tr th:only-of-type {\n",
              "        vertical-align: middle;\n",
              "    }\n",
              "\n",
              "    .dataframe tbody tr th {\n",
              "        vertical-align: top;\n",
              "    }\n",
              "\n",
              "    .dataframe thead th {\n",
              "        text-align: right;\n",
              "    }\n",
              "</style>\n",
              "<table border=\"1\" class=\"dataframe\">\n",
              "  <thead>\n",
              "    <tr style=\"text-align: right;\">\n",
              "      <th></th>\n",
              "      <th>CRIM</th>\n",
              "      <th>ZN</th>\n",
              "      <th>INDUS</th>\n",
              "      <th>NOX</th>\n",
              "      <th>RM</th>\n",
              "      <th>AGE</th>\n",
              "      <th>DIS</th>\n",
              "      <th>RAD</th>\n",
              "      <th>TAX</th>\n",
              "      <th>PTRATIO</th>\n",
              "      <th>B</th>\n",
              "      <th>LSTAT</th>\n",
              "    </tr>\n",
              "  </thead>\n",
              "  <tbody>\n",
              "    <tr>\n",
              "      <th>0</th>\n",
              "      <td>0.006</td>\n",
              "      <td>18.000</td>\n",
              "      <td>2.310</td>\n",
              "      <td>0.538</td>\n",
              "      <td>6.575</td>\n",
              "      <td>65.200</td>\n",
              "      <td>4.090</td>\n",
              "      <td>1.000</td>\n",
              "      <td>296.000</td>\n",
              "      <td>15.300</td>\n",
              "      <td>396.900</td>\n",
              "      <td>4.980</td>\n",
              "    </tr>\n",
              "    <tr>\n",
              "      <th>1</th>\n",
              "      <td>0.027</td>\n",
              "      <td>0.000</td>\n",
              "      <td>7.070</td>\n",
              "      <td>0.469</td>\n",
              "      <td>6.421</td>\n",
              "      <td>78.900</td>\n",
              "      <td>4.967</td>\n",
              "      <td>2.000</td>\n",
              "      <td>242.000</td>\n",
              "      <td>17.800</td>\n",
              "      <td>396.900</td>\n",
              "      <td>9.140</td>\n",
              "    </tr>\n",
              "    <tr>\n",
              "      <th>2</th>\n",
              "      <td>0.027</td>\n",
              "      <td>0.000</td>\n",
              "      <td>7.070</td>\n",
              "      <td>0.469</td>\n",
              "      <td>7.185</td>\n",
              "      <td>61.100</td>\n",
              "      <td>4.967</td>\n",
              "      <td>2.000</td>\n",
              "      <td>242.000</td>\n",
              "      <td>17.800</td>\n",
              "      <td>392.830</td>\n",
              "      <td>4.030</td>\n",
              "    </tr>\n",
              "    <tr>\n",
              "      <th>3</th>\n",
              "      <td>0.032</td>\n",
              "      <td>0.000</td>\n",
              "      <td>2.180</td>\n",
              "      <td>0.458</td>\n",
              "      <td>6.998</td>\n",
              "      <td>45.800</td>\n",
              "      <td>6.062</td>\n",
              "      <td>3.000</td>\n",
              "      <td>222.000</td>\n",
              "      <td>18.700</td>\n",
              "      <td>394.630</td>\n",
              "      <td>2.940</td>\n",
              "    </tr>\n",
              "    <tr>\n",
              "      <th>4</th>\n",
              "      <td>0.069</td>\n",
              "      <td>0.000</td>\n",
              "      <td>2.180</td>\n",
              "      <td>0.458</td>\n",
              "      <td>7.147</td>\n",
              "      <td>54.200</td>\n",
              "      <td>6.062</td>\n",
              "      <td>3.000</td>\n",
              "      <td>222.000</td>\n",
              "      <td>18.700</td>\n",
              "      <td>396.900</td>\n",
              "      <td>5.330</td>\n",
              "    </tr>\n",
              "    <tr>\n",
              "      <th>...</th>\n",
              "      <td>...</td>\n",
              "      <td>...</td>\n",
              "      <td>...</td>\n",
              "      <td>...</td>\n",
              "      <td>...</td>\n",
              "      <td>...</td>\n",
              "      <td>...</td>\n",
              "      <td>...</td>\n",
              "      <td>...</td>\n",
              "      <td>...</td>\n",
              "      <td>...</td>\n",
              "      <td>...</td>\n",
              "    </tr>\n",
              "    <tr>\n",
              "      <th>501</th>\n",
              "      <td>0.063</td>\n",
              "      <td>0.000</td>\n",
              "      <td>11.930</td>\n",
              "      <td>0.573</td>\n",
              "      <td>6.593</td>\n",
              "      <td>69.100</td>\n",
              "      <td>2.479</td>\n",
              "      <td>1.000</td>\n",
              "      <td>273.000</td>\n",
              "      <td>21.000</td>\n",
              "      <td>391.990</td>\n",
              "      <td>9.670</td>\n",
              "    </tr>\n",
              "    <tr>\n",
              "      <th>502</th>\n",
              "      <td>0.045</td>\n",
              "      <td>0.000</td>\n",
              "      <td>11.930</td>\n",
              "      <td>0.573</td>\n",
              "      <td>6.120</td>\n",
              "      <td>76.700</td>\n",
              "      <td>2.288</td>\n",
              "      <td>1.000</td>\n",
              "      <td>273.000</td>\n",
              "      <td>21.000</td>\n",
              "      <td>396.900</td>\n",
              "      <td>9.080</td>\n",
              "    </tr>\n",
              "    <tr>\n",
              "      <th>503</th>\n",
              "      <td>0.061</td>\n",
              "      <td>0.000</td>\n",
              "      <td>11.930</td>\n",
              "      <td>0.573</td>\n",
              "      <td>6.976</td>\n",
              "      <td>91.000</td>\n",
              "      <td>2.167</td>\n",
              "      <td>1.000</td>\n",
              "      <td>273.000</td>\n",
              "      <td>21.000</td>\n",
              "      <td>396.900</td>\n",
              "      <td>5.640</td>\n",
              "    </tr>\n",
              "    <tr>\n",
              "      <th>504</th>\n",
              "      <td>0.110</td>\n",
              "      <td>0.000</td>\n",
              "      <td>11.930</td>\n",
              "      <td>0.573</td>\n",
              "      <td>6.794</td>\n",
              "      <td>89.300</td>\n",
              "      <td>2.389</td>\n",
              "      <td>1.000</td>\n",
              "      <td>273.000</td>\n",
              "      <td>21.000</td>\n",
              "      <td>393.450</td>\n",
              "      <td>6.480</td>\n",
              "    </tr>\n",
              "    <tr>\n",
              "      <th>505</th>\n",
              "      <td>0.047</td>\n",
              "      <td>0.000</td>\n",
              "      <td>11.930</td>\n",
              "      <td>0.573</td>\n",
              "      <td>6.030</td>\n",
              "      <td>80.800</td>\n",
              "      <td>2.505</td>\n",
              "      <td>1.000</td>\n",
              "      <td>273.000</td>\n",
              "      <td>21.000</td>\n",
              "      <td>396.900</td>\n",
              "      <td>7.880</td>\n",
              "    </tr>\n",
              "  </tbody>\n",
              "</table>\n",
              "<p>506 rows × 12 columns</p>\n",
              "</div>\n",
              "      <button class=\"colab-df-convert\" onclick=\"convertToInteractive('df-18de771e-e5e4-4cee-9dd3-4d3947d9d3fd')\"\n",
              "              title=\"Convert this dataframe to an interactive table.\"\n",
              "              style=\"display:none;\">\n",
              "        \n",
              "  <svg xmlns=\"http://www.w3.org/2000/svg\" height=\"24px\"viewBox=\"0 0 24 24\"\n",
              "       width=\"24px\">\n",
              "    <path d=\"M0 0h24v24H0V0z\" fill=\"none\"/>\n",
              "    <path d=\"M18.56 5.44l.94 2.06.94-2.06 2.06-.94-2.06-.94-.94-2.06-.94 2.06-2.06.94zm-11 1L8.5 8.5l.94-2.06 2.06-.94-2.06-.94L8.5 2.5l-.94 2.06-2.06.94zm10 10l.94 2.06.94-2.06 2.06-.94-2.06-.94-.94-2.06-.94 2.06-2.06.94z\"/><path d=\"M17.41 7.96l-1.37-1.37c-.4-.4-.92-.59-1.43-.59-.52 0-1.04.2-1.43.59L10.3 9.45l-7.72 7.72c-.78.78-.78 2.05 0 2.83L4 21.41c.39.39.9.59 1.41.59.51 0 1.02-.2 1.41-.59l7.78-7.78 2.81-2.81c.8-.78.8-2.07 0-2.86zM5.41 20L4 18.59l7.72-7.72 1.47 1.35L5.41 20z\"/>\n",
              "  </svg>\n",
              "      </button>\n",
              "      \n",
              "  <style>\n",
              "    .colab-df-container {\n",
              "      display:flex;\n",
              "      flex-wrap:wrap;\n",
              "      gap: 12px;\n",
              "    }\n",
              "\n",
              "    .colab-df-convert {\n",
              "      background-color: #E8F0FE;\n",
              "      border: none;\n",
              "      border-radius: 50%;\n",
              "      cursor: pointer;\n",
              "      display: none;\n",
              "      fill: #1967D2;\n",
              "      height: 32px;\n",
              "      padding: 0 0 0 0;\n",
              "      width: 32px;\n",
              "    }\n",
              "\n",
              "    .colab-df-convert:hover {\n",
              "      background-color: #E2EBFA;\n",
              "      box-shadow: 0px 1px 2px rgba(60, 64, 67, 0.3), 0px 1px 3px 1px rgba(60, 64, 67, 0.15);\n",
              "      fill: #174EA6;\n",
              "    }\n",
              "\n",
              "    [theme=dark] .colab-df-convert {\n",
              "      background-color: #3B4455;\n",
              "      fill: #D2E3FC;\n",
              "    }\n",
              "\n",
              "    [theme=dark] .colab-df-convert:hover {\n",
              "      background-color: #434B5C;\n",
              "      box-shadow: 0px 1px 3px 1px rgba(0, 0, 0, 0.15);\n",
              "      filter: drop-shadow(0px 1px 2px rgba(0, 0, 0, 0.3));\n",
              "      fill: #FFFFFF;\n",
              "    }\n",
              "  </style>\n",
              "\n",
              "      <script>\n",
              "        const buttonEl =\n",
              "          document.querySelector('#df-18de771e-e5e4-4cee-9dd3-4d3947d9d3fd button.colab-df-convert');\n",
              "        buttonEl.style.display =\n",
              "          google.colab.kernel.accessAllowed ? 'block' : 'none';\n",
              "\n",
              "        async function convertToInteractive(key) {\n",
              "          const element = document.querySelector('#df-18de771e-e5e4-4cee-9dd3-4d3947d9d3fd');\n",
              "          const dataTable =\n",
              "            await google.colab.kernel.invokeFunction('convertToInteractive',\n",
              "                                                     [key], {});\n",
              "          if (!dataTable) return;\n",
              "\n",
              "          const docLinkHtml = 'Like what you see? Visit the ' +\n",
              "            '<a target=\"_blank\" href=https://colab.research.google.com/notebooks/data_table.ipynb>data table notebook</a>'\n",
              "            + ' to learn more about interactive tables.';\n",
              "          element.innerHTML = '';\n",
              "          dataTable['output_type'] = 'display_data';\n",
              "          await google.colab.output.renderOutput(dataTable, element);\n",
              "          const docLink = document.createElement('div');\n",
              "          docLink.innerHTML = docLinkHtml;\n",
              "          element.appendChild(docLink);\n",
              "        }\n",
              "      </script>\n",
              "    </div>\n",
              "  </div>\n",
              "  "
            ]
          },
          "metadata": {},
          "execution_count": 20
        }
      ]
    },
    {
      "cell_type": "markdown",
      "source": [
        "변수들의 표준화\n",
        "\n",
        "```\n",
        "# 코드로 형식 지정됨\n",
        "```\n",
        "\n"
      ],
      "metadata": {
        "id": "rWcpM9fm8dLZ"
      }
    },
    {
      "cell_type": "code",
      "source": [
        "#from sklearn.preprocessing import MinMaxScaler\n",
        "from sklearn.preprocessing import StandardScaler\n",
        "#scaler_minmax=MinMaxScaler()\n",
        "scaler_standard=StandardScaler()"
      ],
      "metadata": {
        "id": "eYLOCwDh4WjR"
      },
      "execution_count": null,
      "outputs": []
    },
    {
      "cell_type": "code",
      "source": [
        "scaler_standard.fit(feature_dummy)\n",
        "features_scaled=scaler_standard.transform(feature_dummy)\n",
        "print(features_scaled.shape)\n",
        "print(feature_dummy[:6])\n",
        "features_scaled[:6]"
      ],
      "metadata": {
        "id": "XqWeb6gH4bML",
        "colab": {
          "base_uri": "https://localhost:8080/"
        },
        "outputId": "9fd025ba-259b-4469-e73e-4d841a51aef7"
      },
      "execution_count": null,
      "outputs": [
        {
          "output_type": "stream",
          "name": "stdout",
          "text": [
            "(506, 13)\n",
            "   CRIM     ZN  INDUS  CHAS   NOX    RM    AGE   DIS   RAD     TAX  PTRATIO  \\\n",
            "0 0.006 18.000  2.310 0.000 0.538 6.575 65.200 4.090 1.000 296.000   15.300   \n",
            "1 0.027  0.000  7.070 0.000 0.469 6.421 78.900 4.967 2.000 242.000   17.800   \n",
            "2 0.027  0.000  7.070 0.000 0.469 7.185 61.100 4.967 2.000 242.000   17.800   \n",
            "3 0.032  0.000  2.180 0.000 0.458 6.998 45.800 6.062 3.000 222.000   18.700   \n",
            "4 0.069  0.000  2.180 0.000 0.458 7.147 54.200 6.062 3.000 222.000   18.700   \n",
            "5 0.030  0.000  2.180 0.000 0.458 6.430 58.700 6.062 3.000 222.000   18.700   \n",
            "\n",
            "        B  LSTAT  \n",
            "0 396.900  4.980  \n",
            "1 396.900  9.140  \n",
            "2 392.830  4.030  \n",
            "3 394.630  2.940  \n",
            "4 396.900  5.330  \n",
            "5 394.120  5.210  \n"
          ]
        },
        {
          "output_type": "execute_result",
          "data": {
            "text/plain": [
              "array([[-0.41978194,  0.28482986, -1.2879095 , -0.27259857, -0.14421743,\n",
              "         0.41367189, -0.12001342,  0.1402136 , -0.98284286, -0.66660821,\n",
              "        -1.45900038,  0.44105193, -1.0755623 ],\n",
              "       [-0.41733926, -0.48772236, -0.59338101, -0.27259857, -0.74026221,\n",
              "         0.19427445,  0.36716642,  0.55715988, -0.8678825 , -0.98732948,\n",
              "        -0.30309415,  0.44105193, -0.49243937],\n",
              "       [-0.41734159, -0.48772236, -0.59338101, -0.27259857, -0.74026221,\n",
              "         1.28271368, -0.26581176,  0.55715988, -0.8678825 , -0.98732948,\n",
              "        -0.30309415,  0.39642699, -1.2087274 ],\n",
              "       [-0.41675042, -0.48772236, -1.30687771, -0.27259857, -0.83528384,\n",
              "         1.01630251, -0.80988851,  1.07773662, -0.75292215, -1.10611514,\n",
              "         0.1130321 ,  0.41616284, -1.36151682],\n",
              "       [-0.41248185, -0.48772236, -1.30687771, -0.27259857, -0.83528384,\n",
              "         1.22857665, -0.51117971,  1.07773662, -0.75292215, -1.10611514,\n",
              "         0.1130321 ,  0.44105193, -1.02650148],\n",
              "       [-0.41704368, -0.48772236, -1.30687771, -0.27259857, -0.83528384,\n",
              "         0.20709638, -0.35115713,  1.07773662, -0.75292215, -1.10611514,\n",
              "         0.1130321 ,  0.41057102, -1.04332233]])"
            ]
          },
          "metadata": {},
          "execution_count": 22
        }
      ]
    },
    {
      "cell_type": "markdown",
      "source": [
        "분석하는 feature들의 단위가 서로 다를 수 있으므로 단위를 표준화할 필요가 있는데 이를 표준화라고 함. 한편 표준화 방법에는 여러가지 있음. 여기서는 `StandardScaler : 각 특성의 평균을 0, 분산을 1로 변경하여 특성의 스케일을 맞춥니다.`를 사용함"
      ],
      "metadata": {
        "id": "N443EEs5W3xB"
      }
    },
    {
      "cell_type": "code",
      "source": [
        "feature_dummy = feature_dummy.astype(dtype='int32')"
      ],
      "metadata": {
        "id": "52SoenW-7J5J"
      },
      "execution_count": null,
      "outputs": []
    },
    {
      "cell_type": "code",
      "source": [
        "target_dummy = target_dummy.astype(dtype='int32')"
      ],
      "metadata": {
        "id": "RbQLmdzc8MeQ"
      },
      "execution_count": null,
      "outputs": []
    },
    {
      "cell_type": "markdown",
      "source": [
        "boston 데이터의 경우 모든 column가 float(실수) 타입으로 되어있다. float의 데이터 타입은 분석에 어려움이 발생하는데, 그러한 문제점을 해결하기 위해서는 모든 column을 int(정수)로 변환한다."
      ],
      "metadata": {
        "id": "Z3uYJ-oROJni"
      }
    },
    {
      "cell_type": "markdown",
      "source": [
        "## 훈련/테스트 셋 분류"
      ],
      "metadata": {
        "id": "VMkab7JsRY41"
      }
    },
    {
      "cell_type": "code",
      "source": [
        "# import the train-test split\n",
        "from sklearn.model_selection import train_test_split\n",
        "\n",
        "# divide into train and test sets\n",
        "features_scaled_train, features_scaled_test, target_train, target_test = train_test_split(feature_dummy, target_dummy, random_state=42)#, test_size=0.2, stratify=y\n",
        "# 중요한 것은 42를 사용할 때마다 처음 분할 할 때 항상 동일한 출력을 얻는다\n",
        "# stratify=Y로 설정하면 나누어진 데이터셋들도 0과 1을 각각 25%, 75%로 유지한 채 분할된다\n",
        "# test_size : 테스트 데이터셋의 비율(float)이나 갯수(int) (default = 0.25)\n",
        "# test_size와 stratify는 필요한 옵션이지만 데이터가 적은 경우 에러가 발생될 수 있음"
      ],
      "metadata": {
        "id": "3ZzOQAbURbNL"
      },
      "execution_count": null,
      "outputs": []
    },
    {
      "cell_type": "markdown",
      "source": [
        "X_scaled과 y에 대해 train_test_split을 실행하면 총 4개의 데이터셋\n",
        "\n",
        "(features_scaled_train, features_scaled_test, target_train, target_test)이 생성된다."
      ],
      "metadata": {
        "id": "szoltMnqP8jA"
      }
    },
    {
      "cell_type": "code",
      "source": [
        "print(features_scaled_train[:6])\n",
        "print(target_train[:6])\n",
        "#print(pd.concat(features_train[:6],target_train[:6]))"
      ],
      "metadata": {
        "colab": {
          "base_uri": "https://localhost:8080/"
        },
        "id": "LZJ5g1OGnWs1",
        "outputId": "e7699d2a-afc3-43c3-b16f-777fc6899ab4"
      },
      "execution_count": null,
      "outputs": [
        {
          "output_type": "stream",
          "name": "stdout",
          "text": [
            "     CRIM  ZN  INDUS  CHAS  NOX  RM  AGE  DIS  RAD  TAX  PTRATIO    B  LSTAT\n",
            "182     0   0      2     0    0   7   92    2    3  193       17  394      4\n",
            "155     3   0     19     1    0   6   82    1    5  403       14   88     15\n",
            "280     0  20      3     0    0   7   64    4    5  216       14  387      3\n",
            "126     0   0     25     0    0   5   95    1    2  188       19  359     27\n",
            "329     0   0      3     0    0   6   17    5    4  430       16  375      7\n",
            "31      1   0      8     0    0   6  100    4    4  307       21  376     13\n",
            "     MEDV\n",
            "182    37\n",
            "155    15\n",
            "280    45\n",
            "126    15\n",
            "329    22\n",
            "31     14\n"
          ]
        }
      ]
    },
    {
      "cell_type": "code",
      "source": [
        "print(features_scaled_test[:6])\n",
        "print(target_test[:6])"
      ],
      "metadata": {
        "colab": {
          "base_uri": "https://localhost:8080/"
        },
        "id": "WXpWMNfLQ5jk",
        "outputId": "b0d20939-aeee-4842-b56f-84950cb209de"
      },
      "execution_count": null,
      "outputs": [
        {
          "output_type": "stream",
          "name": "stdout",
          "text": [
            "     CRIM  ZN  INDUS  CHAS  NOX  RM  AGE  DIS  RAD  TAX  PTRATIO    B  LSTAT\n",
            "173     0   0      4     0    0   6   84    2    5  296       16  395      9\n",
            "274     0  40      6     1    0   6   32    4    4  254       17  396      3\n",
            "491     0   0     27     0    0   5   98    1    4  711       20  390     18\n",
            "72      0   0     10     0    0   6    7    5    4  305       19  390      5\n",
            "452     5   0     18     0    0   6   91    2   24  666       20  385     17\n",
            "76      0   0     12     0    0   6   74    4    5  398       18  373     11\n",
            "     MEDV\n",
            "173    23\n",
            "274    32\n",
            "491    13\n",
            "72     22\n",
            "452    16\n",
            "76     20\n"
          ]
        }
      ]
    },
    {
      "cell_type": "code",
      "source": [
        "print(features_scaled_train.shape)\n",
        "print(target_train.shape)"
      ],
      "metadata": {
        "colab": {
          "base_uri": "https://localhost:8080/"
        },
        "id": "KY7TPFXdRCNg",
        "outputId": "f8721957-ad02-4492-c9b4-437fbe5bdc09"
      },
      "execution_count": null,
      "outputs": [
        {
          "output_type": "stream",
          "name": "stdout",
          "text": [
            "(379, 13)\n",
            "(379, 1)\n"
          ]
        }
      ]
    },
    {
      "cell_type": "code",
      "source": [
        "print(features_scaled_test.shape)\n",
        "print(target_test.shape)"
      ],
      "metadata": {
        "colab": {
          "base_uri": "https://localhost:8080/"
        },
        "id": "EqOAI7cyRMDw",
        "outputId": "6461c1df-6f92-4145-d943-726f5122373b"
      },
      "execution_count": null,
      "outputs": [
        {
          "output_type": "stream",
          "name": "stdout",
          "text": [
            "(127, 13)\n",
            "(127, 1)\n"
          ]
        }
      ]
    },
    {
      "cell_type": "code",
      "source": [
        "y_train = target_train.apply(lambda x : round(x)) \n",
        "y_test = target_test.apply(lambda x : round(x))   \n",
        "\n",
        "y_train[(y_train>0) & (y_train<=10)] = 0     \n",
        "y_train[(y_train>10) & (y_train<=20)] = 1\n",
        "y_train[(y_train>20) & (y_train<=30)] = 2\n",
        "y_train[(y_train>30) & (y_train<=40)] = 3\n",
        "y_train[(y_train>40) & (y_train<=50)] = 4\n",
        "\n",
        "y_test[(y_test>0) & (y_test<=10)] = 0         \n",
        "y_test[(y_test>10) & (y_test<=20)] = 1\n",
        "y_test[(y_test>20) & (y_test<=30)] = 2\n",
        "y_test[(y_test>30) & (y_test<=40)] = 3\n",
        "y_test[(y_test>40) & (y_test<=50)] = 4"
      ],
      "metadata": {
        "id": "HHNo9f2I9HBq"
      },
      "execution_count": null,
      "outputs": []
    },
    {
      "cell_type": "markdown",
      "source": [
        "classification을 진행할때는 label이 int(정수) 타입이 되어야하는데, boston 데이터의 경우 모든 columns가 float(실수) 타입으로 되어있다. 그대로 진행하게된다면, **Unknown label type: 'continuous'** 이라는 에러가 발생하고,\n",
        "문제점을 해결하기 위해서는 모든 column을 int(정수)로 변환하면 되지만, 연속형 label이 너무 많아 정확한 예측이 어렵게된다. 따라서 예측값이 굉장히 낮게 나오는 문제가 발생한다. 이 문제를 해결하기 위해서는(모델의 예측성을 올리기 위해서는)Y축의 MEDV 값을 int형으로 변경한뒤, 다시 범주형으로 쪼개어 사용하여야 한다.\n",
        "\n",
        "Ex) 0-10은 1, 10-20은 2, 20-30은 3 과 같이 바꾸어야 조금이라도 더 정확한 모델이 나오게 된다."
      ],
      "metadata": {
        "id": "HZ0LepPe_yg0"
      }
    },
    {
      "cell_type": "markdown",
      "source": [
        "![스크린샷 2022-12-08 오전 12.08.49.png](data:image/png;base64,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)"
      ],
      "metadata": {
        "id": "8q3riQ0LImRO"
      }
    },
    {
      "cell_type": "markdown",
      "source": [
        "위의 경우가 모든 column을 int(정수)로 변환 후 바로 분석을 진행한 경우이며, 분석은 가능하지만 0~1 사이의 값이 도출되어야하는 f1-score값이 비 정상적으로 나오게 된다."
      ],
      "metadata": {
        "id": "xV1FoaayIq-q"
      }
    },
    {
      "cell_type": "markdown",
      "source": [
        "### 지도학습중 범주분류 예측"
      ],
      "metadata": {
        "id": "EjxAOGNvhISr"
      }
    },
    {
      "cell_type": "markdown",
      "source": [
        "#### 로지스틱 회귀분석"
      ],
      "metadata": {
        "id": "mlmFBx-AgM9i"
      }
    },
    {
      "cell_type": "code",
      "source": [
        "from sklearn.linear_model import LogisticRegression\n",
        "from sklearn.metrics import f1_score\n",
        "LR_cate1 = LogisticRegression() # 기본치인 n_neighbors=5가 생략되어 있음"
      ],
      "metadata": {
        "id": "WxjRwF3NgYUH"
      },
      "execution_count": null,
      "outputs": []
    },
    {
      "cell_type": "code",
      "source": [
        "LR_cate1.fit(features_scaled_train, y_train) # fit함수: 모델추정\n",
        "LR_cate1.score(features_scaled_train, y_train) # 분류된 모델의 정확도를 측정"
      ],
      "metadata": {
        "colab": {
          "base_uri": "https://localhost:8080/"
        },
        "outputId": "91a6b060-f5ac-4b98-90ba-48d8a6a90ffa",
        "id": "zPwVXnx6gYUI"
      },
      "execution_count": null,
      "outputs": [
        {
          "output_type": "stream",
          "name": "stderr",
          "text": [
            "/usr/local/lib/python3.8/dist-packages/sklearn/utils/validation.py:993: DataConversionWarning: A column-vector y was passed when a 1d array was expected. Please change the shape of y to (n_samples, ), for example using ravel().\n",
            "  y = column_or_1d(y, warn=True)\n",
            "/usr/local/lib/python3.8/dist-packages/sklearn/linear_model/_logistic.py:814: ConvergenceWarning: lbfgs failed to converge (status=1):\n",
            "STOP: TOTAL NO. of ITERATIONS REACHED LIMIT.\n",
            "\n",
            "Increase the number of iterations (max_iter) or scale the data as shown in:\n",
            "    https://scikit-learn.org/stable/modules/preprocessing.html\n",
            "Please also refer to the documentation for alternative solver options:\n",
            "    https://scikit-learn.org/stable/modules/linear_model.html#logistic-regression\n",
            "  n_iter_i = _check_optimize_result(\n"
          ]
        },
        {
          "output_type": "execute_result",
          "data": {
            "text/plain": [
              "0.6701846965699209"
            ]
          },
          "metadata": {},
          "execution_count": 32
        }
      ]
    },
    {
      "cell_type": "code",
      "source": [
        "LR_cate1.pred_test = LR_cate1.predict(features_scaled_test)"
      ],
      "metadata": {
        "id": "clorV2SNgYUI"
      },
      "execution_count": null,
      "outputs": []
    },
    {
      "cell_type": "code",
      "source": [
        "# # f1_score는 이진분류와 다진분류 모두 사용가능, 빅데이터 분석기사 시험에서의 정확도 분류 기준\n",
        "f1_LR_cate1_test = f1_score(y_test, LR_cate1.pred_test,average='macro')\n",
        "print(f1_LR_cate1_test)\n",
        "\n",
        "# # # 이진분류의 경우 빅데이터 분석기사 시험에서는 rou_auc를 더 많이 사용\n",
        "# # from sklearn.metrics import roc_auc_score\n",
        "# # roc_KN_cate1_test = roc_auc_score(Y_cate1_test, KN_cate1.pred_test)\n",
        "# # print(roc_KN_cate1_test)"
      ],
      "metadata": {
        "colab": {
          "base_uri": "https://localhost:8080/"
        },
        "outputId": "00e4f52d-885a-40dc-964c-fe2bf6c00769",
        "id": "yv-frFtTgYUI"
      },
      "execution_count": null,
      "outputs": [
        {
          "output_type": "stream",
          "name": "stdout",
          "text": [
            "0.41054530130636324\n"
          ]
        }
      ]
    },
    {
      "cell_type": "code",
      "source": [
        "LR_cate1.pred_train = LR_cate1.predict(features_scaled_train)"
      ],
      "metadata": {
        "id": "YGoFSiXsgYUI"
      },
      "execution_count": null,
      "outputs": []
    },
    {
      "cell_type": "code",
      "source": [
        "f1_LR_cate1_train = f1_score(y_train, LR_cate1.pred_train,average='macro')\n",
        "print(f1_LR_cate1_train)"
      ],
      "metadata": {
        "colab": {
          "base_uri": "https://localhost:8080/"
        },
        "outputId": "5f224549-4b63-42a4-9764-10efb704df6d",
        "id": "afucUi4OgYUI"
      },
      "execution_count": null,
      "outputs": [
        {
          "output_type": "stream",
          "name": "stdout",
          "text": [
            "0.54278724954535\n"
          ]
        }
      ]
    },
    {
      "cell_type": "markdown",
      "source": [
        "#### KNN"
      ],
      "metadata": {
        "id": "P7rYBSpKhOyL"
      }
    },
    {
      "cell_type": "code",
      "source": [
        "from sklearn.neighbors import KNeighborsClassifier # K-최근접 분류\n",
        "KN_cate1 = KNeighborsClassifier() # 기본치인 n_neighbors=5가 생략되어 있음"
      ],
      "metadata": {
        "id": "uXlPWg0shK-h"
      },
      "execution_count": null,
      "outputs": []
    },
    {
      "cell_type": "code",
      "source": [
        "KN_cate1.fit(features_scaled_train, y_train) # fit함수: 모델추정\n",
        "KN_cate1.score(features_scaled_train, y_train) # 분류된 모델의 정확도를 측정"
      ],
      "metadata": {
        "colab": {
          "base_uri": "https://localhost:8080/"
        },
        "id": "2fb7E7fJhbMZ",
        "outputId": "7d67a5b2-d1c7-4885-bd02-0cdcee1dbf31"
      },
      "execution_count": null,
      "outputs": [
        {
          "output_type": "stream",
          "name": "stderr",
          "text": [
            "/usr/local/lib/python3.8/dist-packages/sklearn/neighbors/_classification.py:198: DataConversionWarning: A column-vector y was passed when a 1d array was expected. Please change the shape of y to (n_samples,), for example using ravel().\n",
            "  return self._fit(X, y)\n"
          ]
        },
        {
          "output_type": "execute_result",
          "data": {
            "text/plain": [
              "0.7018469656992085"
            ]
          },
          "metadata": {},
          "execution_count": 38
        }
      ]
    },
    {
      "cell_type": "code",
      "source": [
        "KN_cate1.pred_test = KN_cate1.predict(features_scaled_test)"
      ],
      "metadata": {
        "id": "dkqxUUpJhyDw"
      },
      "execution_count": null,
      "outputs": []
    },
    {
      "cell_type": "code",
      "source": [
        "# f1_score는 이진분류와 다진분류 모두 사용가능, 빅데이터 분석기사 시험에서의 정확도 분류 기준\n",
        "f1_KN_cate1_test = f1_score(y_test, KN_cate1.pred_test,average='macro')\n",
        "print(f1_KN_cate1_test)\n",
        "\n",
        "# # 이진분류의 경우 빅데이터 분석기사 시험에서는 rou_auc를 더 많이 사용\n",
        "# from sklearn.metrics import roc_auc_score\n",
        "# roc_KN_cate1_test = roc_auc_score(target_test, KN_cate1.pred_test)\n",
        "# print(roc_KN_cate1_test)"
      ],
      "metadata": {
        "colab": {
          "base_uri": "https://localhost:8080/"
        },
        "outputId": "e5ec9dc1-43ae-44d4-dd7e-2f418bd6ace4",
        "id": "n2dhSf4xhyDw"
      },
      "execution_count": null,
      "outputs": [
        {
          "output_type": "stream",
          "name": "stdout",
          "text": [
            "0.46046832051934417\n"
          ]
        }
      ]
    },
    {
      "cell_type": "code",
      "source": [
        "KN_cate1.pred_train = KN_cate1.predict(features_scaled_train)"
      ],
      "metadata": {
        "id": "BNSnCzmDhyDy"
      },
      "execution_count": null,
      "outputs": []
    },
    {
      "cell_type": "code",
      "source": [
        "f1_KN_cate1_train = f1_score(y_train, KN_cate1.pred_train,average='macro')\n",
        "print(f1_KN_cate1_train)"
      ],
      "metadata": {
        "colab": {
          "base_uri": "https://localhost:8080/"
        },
        "outputId": "b9d1ea71-3c77-4804-dec4-9a199f61468f",
        "id": "Ze3_1AaVhyDy"
      },
      "execution_count": null,
      "outputs": [
        {
          "output_type": "stream",
          "name": "stdout",
          "text": [
            "0.6411934752271493\n"
          ]
        }
      ]
    },
    {
      "cell_type": "markdown",
      "source": [
        "#### decision tree"
      ],
      "metadata": {
        "id": "_KJF9nOTctpg"
      }
    },
    {
      "cell_type": "code",
      "source": [
        "from sklearn.tree import DecisionTreeClassifier"
      ],
      "metadata": {
        "id": "wOOZt9djc9-X"
      },
      "execution_count": null,
      "outputs": []
    },
    {
      "cell_type": "code",
      "source": [
        "DT_cate1 = DecisionTreeClassifier() # ()안에 여러가지 옵션이 들어갈 수 있는데 기본옵션으로, n_neighbors = 3, weights = \"distance\"\n",
        "DT_cate1.fit(features_scaled_train, y_train)"
      ],
      "metadata": {
        "colab": {
          "base_uri": "https://localhost:8080/"
        },
        "outputId": "ef3b6a60-abee-4d45-c751-6bbcd216ebe4",
        "id": "VveiTvCec9-X"
      },
      "execution_count": null,
      "outputs": [
        {
          "output_type": "execute_result",
          "data": {
            "text/plain": [
              "DecisionTreeClassifier()"
            ]
          },
          "metadata": {},
          "execution_count": 44
        }
      ]
    },
    {
      "cell_type": "code",
      "source": [
        "DT_cate1.pred_test = DT_cate1.predict(features_scaled_test)\n",
        "#DT_cate1.pred_test\n",
        "f1_DT_cate1_test=f1_score(y_test, DT_cate1.pred_test,average='macro')\n",
        "print(f1_DT_cate1_test)"
      ],
      "metadata": {
        "colab": {
          "base_uri": "https://localhost:8080/"
        },
        "outputId": "5608d5dd-02f6-472e-a87e-ab58afcb8916",
        "id": "NvFEmAcjc9-X"
      },
      "execution_count": null,
      "outputs": [
        {
          "output_type": "stream",
          "name": "stdout",
          "text": [
            "0.6559049999591209\n"
          ]
        }
      ]
    },
    {
      "cell_type": "code",
      "source": [
        "DT_cate1.pred_train = DT_cate1.predict(features_scaled_train)\n",
        "\n",
        "f1_DT_cate1_train=f1_score(y_train, DT_cate1.pred_train,average='macro')\n",
        "print(f1_DT_cate1_train)"
      ],
      "metadata": {
        "colab": {
          "base_uri": "https://localhost:8080/"
        },
        "outputId": "69a65a54-8e0f-4600-eadf-4bb61b49f0f2",
        "id": "ccZ2lyk9c9-X"
      },
      "execution_count": null,
      "outputs": [
        {
          "output_type": "stream",
          "name": "stdout",
          "text": [
            "1.0\n"
          ]
        }
      ]
    },
    {
      "cell_type": "code",
      "source": [
        "cate1_models_train = [('Logistic regression', f1_LR_cate1_train),\n",
        "                      ('KNeighbors', f1_KN_cate1_train),\n",
        "                      ('Decision tree', f1_DT_cate1_train)]\n",
        "cate1_models_test = [('Logistic regression', f1_LR_cate1_test),\n",
        "                     ('KNeighbors', f1_KN_cate1_test),\n",
        "                     ('Decision tree', f1_DT_cate1_test)]"
      ],
      "metadata": {
        "id": "J-wJ1kGrU95O"
      },
      "execution_count": null,
      "outputs": []
    },
    {
      "cell_type": "code",
      "source": [
        "cate1_train_summary = pd.DataFrame(data = cate1_models_train, columns=['Model', 'f1-score'])\n",
        "cate1_train_summary.sort_values(by=['f1-score'], axis=0, ascending=False)"
      ],
      "metadata": {
        "colab": {
          "base_uri": "https://localhost:8080/",
          "height": 143
        },
        "id": "h3a_uUiLVMjf",
        "outputId": "8adf8c88-d9a9-4559-a338-39621e3449ee"
      },
      "execution_count": null,
      "outputs": [
        {
          "output_type": "execute_result",
          "data": {
            "text/plain": [
              "                 Model  f1-score\n",
              "2        Decision tree     1.000\n",
              "1           KNeighbors     0.641\n",
              "0  Logistic regression     0.543"
            ],
            "text/html": [
              "\n",
              "  <div id=\"df-14619c10-1fe1-43d2-a506-668dc761f837\">\n",
              "    <div class=\"colab-df-container\">\n",
              "      <div>\n",
              "<style scoped>\n",
              "    .dataframe tbody tr th:only-of-type {\n",
              "        vertical-align: middle;\n",
              "    }\n",
              "\n",
              "    .dataframe tbody tr th {\n",
              "        vertical-align: top;\n",
              "    }\n",
              "\n",
              "    .dataframe thead th {\n",
              "        text-align: right;\n",
              "    }\n",
              "</style>\n",
              "<table border=\"1\" class=\"dataframe\">\n",
              "  <thead>\n",
              "    <tr style=\"text-align: right;\">\n",
              "      <th></th>\n",
              "      <th>Model</th>\n",
              "      <th>f1-score</th>\n",
              "    </tr>\n",
              "  </thead>\n",
              "  <tbody>\n",
              "    <tr>\n",
              "      <th>2</th>\n",
              "      <td>Decision tree</td>\n",
              "      <td>1.000</td>\n",
              "    </tr>\n",
              "    <tr>\n",
              "      <th>1</th>\n",
              "      <td>KNeighbors</td>\n",
              "      <td>0.641</td>\n",
              "    </tr>\n",
              "    <tr>\n",
              "      <th>0</th>\n",
              "      <td>Logistic regression</td>\n",
              "      <td>0.543</td>\n",
              "    </tr>\n",
              "  </tbody>\n",
              "</table>\n",
              "</div>\n",
              "      <button class=\"colab-df-convert\" onclick=\"convertToInteractive('df-14619c10-1fe1-43d2-a506-668dc761f837')\"\n",
              "              title=\"Convert this dataframe to an interactive table.\"\n",
              "              style=\"display:none;\">\n",
              "        \n",
              "  <svg xmlns=\"http://www.w3.org/2000/svg\" height=\"24px\"viewBox=\"0 0 24 24\"\n",
              "       width=\"24px\">\n",
              "    <path d=\"M0 0h24v24H0V0z\" fill=\"none\"/>\n",
              "    <path d=\"M18.56 5.44l.94 2.06.94-2.06 2.06-.94-2.06-.94-.94-2.06-.94 2.06-2.06.94zm-11 1L8.5 8.5l.94-2.06 2.06-.94-2.06-.94L8.5 2.5l-.94 2.06-2.06.94zm10 10l.94 2.06.94-2.06 2.06-.94-2.06-.94-.94-2.06-.94 2.06-2.06.94z\"/><path d=\"M17.41 7.96l-1.37-1.37c-.4-.4-.92-.59-1.43-.59-.52 0-1.04.2-1.43.59L10.3 9.45l-7.72 7.72c-.78.78-.78 2.05 0 2.83L4 21.41c.39.39.9.59 1.41.59.51 0 1.02-.2 1.41-.59l7.78-7.78 2.81-2.81c.8-.78.8-2.07 0-2.86zM5.41 20L4 18.59l7.72-7.72 1.47 1.35L5.41 20z\"/>\n",
              "  </svg>\n",
              "      </button>\n",
              "      \n",
              "  <style>\n",
              "    .colab-df-container {\n",
              "      display:flex;\n",
              "      flex-wrap:wrap;\n",
              "      gap: 12px;\n",
              "    }\n",
              "\n",
              "    .colab-df-convert {\n",
              "      background-color: #E8F0FE;\n",
              "      border: none;\n",
              "      border-radius: 50%;\n",
              "      cursor: pointer;\n",
              "      display: none;\n",
              "      fill: #1967D2;\n",
              "      height: 32px;\n",
              "      padding: 0 0 0 0;\n",
              "      width: 32px;\n",
              "    }\n",
              "\n",
              "    .colab-df-convert:hover {\n",
              "      background-color: #E2EBFA;\n",
              "      box-shadow: 0px 1px 2px rgba(60, 64, 67, 0.3), 0px 1px 3px 1px rgba(60, 64, 67, 0.15);\n",
              "      fill: #174EA6;\n",
              "    }\n",
              "\n",
              "    [theme=dark] .colab-df-convert {\n",
              "      background-color: #3B4455;\n",
              "      fill: #D2E3FC;\n",
              "    }\n",
              "\n",
              "    [theme=dark] .colab-df-convert:hover {\n",
              "      background-color: #434B5C;\n",
              "      box-shadow: 0px 1px 3px 1px rgba(0, 0, 0, 0.15);\n",
              "      filter: drop-shadow(0px 1px 2px rgba(0, 0, 0, 0.3));\n",
              "      fill: #FFFFFF;\n",
              "    }\n",
              "  </style>\n",
              "\n",
              "      <script>\n",
              "        const buttonEl =\n",
              "          document.querySelector('#df-14619c10-1fe1-43d2-a506-668dc761f837 button.colab-df-convert');\n",
              "        buttonEl.style.display =\n",
              "          google.colab.kernel.accessAllowed ? 'block' : 'none';\n",
              "\n",
              "        async function convertToInteractive(key) {\n",
              "          const element = document.querySelector('#df-14619c10-1fe1-43d2-a506-668dc761f837');\n",
              "          const dataTable =\n",
              "            await google.colab.kernel.invokeFunction('convertToInteractive',\n",
              "                                                     [key], {});\n",
              "          if (!dataTable) return;\n",
              "\n",
              "          const docLinkHtml = 'Like what you see? Visit the ' +\n",
              "            '<a target=\"_blank\" href=https://colab.research.google.com/notebooks/data_table.ipynb>data table notebook</a>'\n",
              "            + ' to learn more about interactive tables.';\n",
              "          element.innerHTML = '';\n",
              "          dataTable['output_type'] = 'display_data';\n",
              "          await google.colab.output.renderOutput(dataTable, element);\n",
              "          const docLink = document.createElement('div');\n",
              "          docLink.innerHTML = docLinkHtml;\n",
              "          element.appendChild(docLink);\n",
              "        }\n",
              "      </script>\n",
              "    </div>\n",
              "  </div>\n",
              "  "
            ]
          },
          "metadata": {},
          "execution_count": 48
        }
      ]
    },
    {
      "cell_type": "code",
      "source": [
        "cate1_test_summary = pd.DataFrame(data = cate1_models_test, columns=['Model', 'f1-score'])\n",
        "cate1_test_summary.sort_values(by=['f1-score'], axis=0, ascending=False)"
      ],
      "metadata": {
        "colab": {
          "base_uri": "https://localhost:8080/",
          "height": 143
        },
        "id": "os4aeD4RVYUW",
        "outputId": "80e7564a-1d4b-4901-c76b-b3a6cf8b2667"
      },
      "execution_count": null,
      "outputs": [
        {
          "output_type": "execute_result",
          "data": {
            "text/plain": [
              "                 Model  f1-score\n",
              "2        Decision tree     0.656\n",
              "1           KNeighbors     0.460\n",
              "0  Logistic regression     0.411"
            ],
            "text/html": [
              "\n",
              "  <div id=\"df-a5fdca0c-7610-45df-849e-f32f434b70e1\">\n",
              "    <div class=\"colab-df-container\">\n",
              "      <div>\n",
              "<style scoped>\n",
              "    .dataframe tbody tr th:only-of-type {\n",
              "        vertical-align: middle;\n",
              "    }\n",
              "\n",
              "    .dataframe tbody tr th {\n",
              "        vertical-align: top;\n",
              "    }\n",
              "\n",
              "    .dataframe thead th {\n",
              "        text-align: right;\n",
              "    }\n",
              "</style>\n",
              "<table border=\"1\" class=\"dataframe\">\n",
              "  <thead>\n",
              "    <tr style=\"text-align: right;\">\n",
              "      <th></th>\n",
              "      <th>Model</th>\n",
              "      <th>f1-score</th>\n",
              "    </tr>\n",
              "  </thead>\n",
              "  <tbody>\n",
              "    <tr>\n",
              "      <th>2</th>\n",
              "      <td>Decision tree</td>\n",
              "      <td>0.656</td>\n",
              "    </tr>\n",
              "    <tr>\n",
              "      <th>1</th>\n",
              "      <td>KNeighbors</td>\n",
              "      <td>0.460</td>\n",
              "    </tr>\n",
              "    <tr>\n",
              "      <th>0</th>\n",
              "      <td>Logistic regression</td>\n",
              "      <td>0.411</td>\n",
              "    </tr>\n",
              "  </tbody>\n",
              "</table>\n",
              "</div>\n",
              "      <button class=\"colab-df-convert\" onclick=\"convertToInteractive('df-a5fdca0c-7610-45df-849e-f32f434b70e1')\"\n",
              "              title=\"Convert this dataframe to an interactive table.\"\n",
              "              style=\"display:none;\">\n",
              "        \n",
              "  <svg xmlns=\"http://www.w3.org/2000/svg\" height=\"24px\"viewBox=\"0 0 24 24\"\n",
              "       width=\"24px\">\n",
              "    <path d=\"M0 0h24v24H0V0z\" fill=\"none\"/>\n",
              "    <path d=\"M18.56 5.44l.94 2.06.94-2.06 2.06-.94-2.06-.94-.94-2.06-.94 2.06-2.06.94zm-11 1L8.5 8.5l.94-2.06 2.06-.94-2.06-.94L8.5 2.5l-.94 2.06-2.06.94zm10 10l.94 2.06.94-2.06 2.06-.94-2.06-.94-.94-2.06-.94 2.06-2.06.94z\"/><path d=\"M17.41 7.96l-1.37-1.37c-.4-.4-.92-.59-1.43-.59-.52 0-1.04.2-1.43.59L10.3 9.45l-7.72 7.72c-.78.78-.78 2.05 0 2.83L4 21.41c.39.39.9.59 1.41.59.51 0 1.02-.2 1.41-.59l7.78-7.78 2.81-2.81c.8-.78.8-2.07 0-2.86zM5.41 20L4 18.59l7.72-7.72 1.47 1.35L5.41 20z\"/>\n",
              "  </svg>\n",
              "      </button>\n",
              "      \n",
              "  <style>\n",
              "    .colab-df-container {\n",
              "      display:flex;\n",
              "      flex-wrap:wrap;\n",
              "      gap: 12px;\n",
              "    }\n",
              "\n",
              "    .colab-df-convert {\n",
              "      background-color: #E8F0FE;\n",
              "      border: none;\n",
              "      border-radius: 50%;\n",
              "      cursor: pointer;\n",
              "      display: none;\n",
              "      fill: #1967D2;\n",
              "      height: 32px;\n",
              "      padding: 0 0 0 0;\n",
              "      width: 32px;\n",
              "    }\n",
              "\n",
              "    .colab-df-convert:hover {\n",
              "      background-color: #E2EBFA;\n",
              "      box-shadow: 0px 1px 2px rgba(60, 64, 67, 0.3), 0px 1px 3px 1px rgba(60, 64, 67, 0.15);\n",
              "      fill: #174EA6;\n",
              "    }\n",
              "\n",
              "    [theme=dark] .colab-df-convert {\n",
              "      background-color: #3B4455;\n",
              "      fill: #D2E3FC;\n",
              "    }\n",
              "\n",
              "    [theme=dark] .colab-df-convert:hover {\n",
              "      background-color: #434B5C;\n",
              "      box-shadow: 0px 1px 3px 1px rgba(0, 0, 0, 0.15);\n",
              "      filter: drop-shadow(0px 1px 2px rgba(0, 0, 0, 0.3));\n",
              "      fill: #FFFFFF;\n",
              "    }\n",
              "  </style>\n",
              "\n",
              "      <script>\n",
              "        const buttonEl =\n",
              "          document.querySelector('#df-a5fdca0c-7610-45df-849e-f32f434b70e1 button.colab-df-convert');\n",
              "        buttonEl.style.display =\n",
              "          google.colab.kernel.accessAllowed ? 'block' : 'none';\n",
              "\n",
              "        async function convertToInteractive(key) {\n",
              "          const element = document.querySelector('#df-a5fdca0c-7610-45df-849e-f32f434b70e1');\n",
              "          const dataTable =\n",
              "            await google.colab.kernel.invokeFunction('convertToInteractive',\n",
              "                                                     [key], {});\n",
              "          if (!dataTable) return;\n",
              "\n",
              "          const docLinkHtml = 'Like what you see? Visit the ' +\n",
              "            '<a target=\"_blank\" href=https://colab.research.google.com/notebooks/data_table.ipynb>data table notebook</a>'\n",
              "            + ' to learn more about interactive tables.';\n",
              "          element.innerHTML = '';\n",
              "          dataTable['output_type'] = 'display_data';\n",
              "          await google.colab.output.renderOutput(dataTable, element);\n",
              "          const docLink = document.createElement('div');\n",
              "          docLink.innerHTML = docLinkHtml;\n",
              "          element.appendChild(docLink);\n",
              "        }\n",
              "      </script>\n",
              "    </div>\n",
              "  </div>\n",
              "  "
            ]
          },
          "metadata": {},
          "execution_count": 49
        }
      ]
    },
    {
      "cell_type": "markdown",
      "source": [
        "#### Random forest"
      ],
      "metadata": {
        "id": "U_MigjFmxkqd"
      }
    },
    {
      "cell_type": "code",
      "source": [
        "from sklearn.ensemble import RandomForestClassifier"
      ],
      "metadata": {
        "id": "num01ZWdxkqd"
      },
      "execution_count": null,
      "outputs": []
    },
    {
      "cell_type": "code",
      "source": [
        "RF_cate1 = RandomForestClassifier() # ()안에 여러가지 옵션이 들어갈 수 있는데 기본옵션으로, n_neighbors = 3, weights = \"distance\"\n",
        "RF_cate1.fit(features_scaled_train, y_train)"
      ],
      "metadata": {
        "colab": {
          "base_uri": "https://localhost:8080/"
        },
        "outputId": "9ed8462e-8d38-435e-ca90-41adf752ed36",
        "id": "44ljJFaYxkqd"
      },
      "execution_count": null,
      "outputs": [
        {
          "output_type": "stream",
          "name": "stderr",
          "text": [
            "<ipython-input-51-97f760dfe983>:2: DataConversionWarning: A column-vector y was passed when a 1d array was expected. Please change the shape of y to (n_samples,), for example using ravel().\n",
            "  RF_cate1.fit(features_scaled_train, y_train)\n"
          ]
        },
        {
          "output_type": "execute_result",
          "data": {
            "text/plain": [
              "RandomForestClassifier()"
            ]
          },
          "metadata": {},
          "execution_count": 51
        }
      ]
    },
    {
      "cell_type": "code",
      "source": [
        "RF_cate1.pred_test = RF_cate1.predict(features_scaled_test)\n",
        "#DT_cate1.pred_test\n",
        "f1_RF_cate1_test=f1_score(y_test, RF_cate1.pred_test,average='macro')\n",
        "print(f1_RF_cate1_test)"
      ],
      "metadata": {
        "colab": {
          "base_uri": "https://localhost:8080/"
        },
        "outputId": "2778c6d6-e799-4c68-def2-1fe82ea87989",
        "id": "izlmsv93xkqe"
      },
      "execution_count": null,
      "outputs": [
        {
          "output_type": "stream",
          "name": "stdout",
          "text": [
            "0.7294429576766776\n"
          ]
        }
      ]
    },
    {
      "cell_type": "code",
      "source": [
        "RF_cate1.pred_train = RF_cate1.predict(features_scaled_train)\n",
        "\n",
        "f1_RF_cate1_train=f1_score(y_train, RF_cate1.pred_train,average='macro')\n",
        "print(f1_RF_cate1_train)"
      ],
      "metadata": {
        "colab": {
          "base_uri": "https://localhost:8080/"
        },
        "outputId": "7329898d-0a3b-4710-806f-b84840b7decc",
        "id": "w-DhVPqkxkqe"
      },
      "execution_count": null,
      "outputs": [
        {
          "output_type": "stream",
          "name": "stdout",
          "text": [
            "1.0\n"
          ]
        }
      ]
    },
    {
      "cell_type": "markdown",
      "source": [
        "#### 정확도 분석결과 summary"
      ],
      "metadata": {
        "id": "xCG_ru0HyVPf"
      }
    },
    {
      "cell_type": "code",
      "source": [
        "cate1_models_train = [('Logistic regression', f1_LR_cate1_train),\n",
        "                      ('KNeighbors', f1_KN_cate1_train),\n",
        "                      ('Decision tree', f1_DT_cate1_train),\n",
        "                      ('Random forest', f1_RF_cate1_train)]\n",
        "cate1_models_test = [('Logistic regression', f1_LR_cate1_test),\n",
        "                     ('KNeighbors', f1_KN_cate1_test),\n",
        "                     ('Decision tree', f1_DT_cate1_test),\n",
        "                     ('Random forest', f1_RF_cate1_test)]"
      ],
      "metadata": {
        "id": "4y7MgSTKxkqe"
      },
      "execution_count": null,
      "outputs": []
    },
    {
      "cell_type": "code",
      "source": [
        "cate1_train_summary = pd.DataFrame(data = cate1_models_train, columns=['Model', 'f1-score'])\n",
        "cate1_train_summary.sort_values(by=['f1-score'], axis=0, ascending=False)"
      ],
      "metadata": {
        "colab": {
          "base_uri": "https://localhost:8080/",
          "height": 175
        },
        "outputId": "c1fe9e55-7159-4b7c-8dc9-38c04f9e3772",
        "id": "ru9RFZovxkqe"
      },
      "execution_count": null,
      "outputs": [
        {
          "output_type": "execute_result",
          "data": {
            "text/plain": [
              "                 Model  f1-score\n",
              "2        Decision tree     1.000\n",
              "3        Random forest     1.000\n",
              "1           KNeighbors     0.641\n",
              "0  Logistic regression     0.543"
            ],
            "text/html": [
              "\n",
              "  <div id=\"df-48e5fb28-e36b-4d49-86e4-40db7e2c5c52\">\n",
              "    <div class=\"colab-df-container\">\n",
              "      <div>\n",
              "<style scoped>\n",
              "    .dataframe tbody tr th:only-of-type {\n",
              "        vertical-align: middle;\n",
              "    }\n",
              "\n",
              "    .dataframe tbody tr th {\n",
              "        vertical-align: top;\n",
              "    }\n",
              "\n",
              "    .dataframe thead th {\n",
              "        text-align: right;\n",
              "    }\n",
              "</style>\n",
              "<table border=\"1\" class=\"dataframe\">\n",
              "  <thead>\n",
              "    <tr style=\"text-align: right;\">\n",
              "      <th></th>\n",
              "      <th>Model</th>\n",
              "      <th>f1-score</th>\n",
              "    </tr>\n",
              "  </thead>\n",
              "  <tbody>\n",
              "    <tr>\n",
              "      <th>2</th>\n",
              "      <td>Decision tree</td>\n",
              "      <td>1.000</td>\n",
              "    </tr>\n",
              "    <tr>\n",
              "      <th>3</th>\n",
              "      <td>Random forest</td>\n",
              "      <td>1.000</td>\n",
              "    </tr>\n",
              "    <tr>\n",
              "      <th>1</th>\n",
              "      <td>KNeighbors</td>\n",
              "      <td>0.641</td>\n",
              "    </tr>\n",
              "    <tr>\n",
              "      <th>0</th>\n",
              "      <td>Logistic regression</td>\n",
              "      <td>0.543</td>\n",
              "    </tr>\n",
              "  </tbody>\n",
              "</table>\n",
              "</div>\n",
              "      <button class=\"colab-df-convert\" onclick=\"convertToInteractive('df-48e5fb28-e36b-4d49-86e4-40db7e2c5c52')\"\n",
              "              title=\"Convert this dataframe to an interactive table.\"\n",
              "              style=\"display:none;\">\n",
              "        \n",
              "  <svg xmlns=\"http://www.w3.org/2000/svg\" height=\"24px\"viewBox=\"0 0 24 24\"\n",
              "       width=\"24px\">\n",
              "    <path d=\"M0 0h24v24H0V0z\" fill=\"none\"/>\n",
              "    <path d=\"M18.56 5.44l.94 2.06.94-2.06 2.06-.94-2.06-.94-.94-2.06-.94 2.06-2.06.94zm-11 1L8.5 8.5l.94-2.06 2.06-.94-2.06-.94L8.5 2.5l-.94 2.06-2.06.94zm10 10l.94 2.06.94-2.06 2.06-.94-2.06-.94-.94-2.06-.94 2.06-2.06.94z\"/><path d=\"M17.41 7.96l-1.37-1.37c-.4-.4-.92-.59-1.43-.59-.52 0-1.04.2-1.43.59L10.3 9.45l-7.72 7.72c-.78.78-.78 2.05 0 2.83L4 21.41c.39.39.9.59 1.41.59.51 0 1.02-.2 1.41-.59l7.78-7.78 2.81-2.81c.8-.78.8-2.07 0-2.86zM5.41 20L4 18.59l7.72-7.72 1.47 1.35L5.41 20z\"/>\n",
              "  </svg>\n",
              "      </button>\n",
              "      \n",
              "  <style>\n",
              "    .colab-df-container {\n",
              "      display:flex;\n",
              "      flex-wrap:wrap;\n",
              "      gap: 12px;\n",
              "    }\n",
              "\n",
              "    .colab-df-convert {\n",
              "      background-color: #E8F0FE;\n",
              "      border: none;\n",
              "      border-radius: 50%;\n",
              "      cursor: pointer;\n",
              "      display: none;\n",
              "      fill: #1967D2;\n",
              "      height: 32px;\n",
              "      padding: 0 0 0 0;\n",
              "      width: 32px;\n",
              "    }\n",
              "\n",
              "    .colab-df-convert:hover {\n",
              "      background-color: #E2EBFA;\n",
              "      box-shadow: 0px 1px 2px rgba(60, 64, 67, 0.3), 0px 1px 3px 1px rgba(60, 64, 67, 0.15);\n",
              "      fill: #174EA6;\n",
              "    }\n",
              "\n",
              "    [theme=dark] .colab-df-convert {\n",
              "      background-color: #3B4455;\n",
              "      fill: #D2E3FC;\n",
              "    }\n",
              "\n",
              "    [theme=dark] .colab-df-convert:hover {\n",
              "      background-color: #434B5C;\n",
              "      box-shadow: 0px 1px 3px 1px rgba(0, 0, 0, 0.15);\n",
              "      filter: drop-shadow(0px 1px 2px rgba(0, 0, 0, 0.3));\n",
              "      fill: #FFFFFF;\n",
              "    }\n",
              "  </style>\n",
              "\n",
              "      <script>\n",
              "        const buttonEl =\n",
              "          document.querySelector('#df-48e5fb28-e36b-4d49-86e4-40db7e2c5c52 button.colab-df-convert');\n",
              "        buttonEl.style.display =\n",
              "          google.colab.kernel.accessAllowed ? 'block' : 'none';\n",
              "\n",
              "        async function convertToInteractive(key) {\n",
              "          const element = document.querySelector('#df-48e5fb28-e36b-4d49-86e4-40db7e2c5c52');\n",
              "          const dataTable =\n",
              "            await google.colab.kernel.invokeFunction('convertToInteractive',\n",
              "                                                     [key], {});\n",
              "          if (!dataTable) return;\n",
              "\n",
              "          const docLinkHtml = 'Like what you see? Visit the ' +\n",
              "            '<a target=\"_blank\" href=https://colab.research.google.com/notebooks/data_table.ipynb>data table notebook</a>'\n",
              "            + ' to learn more about interactive tables.';\n",
              "          element.innerHTML = '';\n",
              "          dataTable['output_type'] = 'display_data';\n",
              "          await google.colab.output.renderOutput(dataTable, element);\n",
              "          const docLink = document.createElement('div');\n",
              "          docLink.innerHTML = docLinkHtml;\n",
              "          element.appendChild(docLink);\n",
              "        }\n",
              "      </script>\n",
              "    </div>\n",
              "  </div>\n",
              "  "
            ]
          },
          "metadata": {},
          "execution_count": 55
        }
      ]
    },
    {
      "cell_type": "code",
      "source": [
        "cate1_test_summary = pd.DataFrame(data = cate1_models_test, columns=['Model', 'f1-score'])\n",
        "cate1_test_summary.sort_values(by=['f1-score'], axis=0, ascending=False)"
      ],
      "metadata": {
        "colab": {
          "base_uri": "https://localhost:8080/",
          "height": 175
        },
        "outputId": "47af71e8-a3c3-41ed-c85a-2bfed65c8de6",
        "id": "DXtRt8UExkqf"
      },
      "execution_count": null,
      "outputs": [
        {
          "output_type": "execute_result",
          "data": {
            "text/plain": [
              "                 Model  f1-score\n",
              "3        Random forest     0.729\n",
              "2        Decision tree     0.656\n",
              "1           KNeighbors     0.460\n",
              "0  Logistic regression     0.411"
            ],
            "text/html": [
              "\n",
              "  <div id=\"df-8bebfdc7-eda6-4d68-9e4b-1570123c7fbb\">\n",
              "    <div class=\"colab-df-container\">\n",
              "      <div>\n",
              "<style scoped>\n",
              "    .dataframe tbody tr th:only-of-type {\n",
              "        vertical-align: middle;\n",
              "    }\n",
              "\n",
              "    .dataframe tbody tr th {\n",
              "        vertical-align: top;\n",
              "    }\n",
              "\n",
              "    .dataframe thead th {\n",
              "        text-align: right;\n",
              "    }\n",
              "</style>\n",
              "<table border=\"1\" class=\"dataframe\">\n",
              "  <thead>\n",
              "    <tr style=\"text-align: right;\">\n",
              "      <th></th>\n",
              "      <th>Model</th>\n",
              "      <th>f1-score</th>\n",
              "    </tr>\n",
              "  </thead>\n",
              "  <tbody>\n",
              "    <tr>\n",
              "      <th>3</th>\n",
              "      <td>Random forest</td>\n",
              "      <td>0.729</td>\n",
              "    </tr>\n",
              "    <tr>\n",
              "      <th>2</th>\n",
              "      <td>Decision tree</td>\n",
              "      <td>0.656</td>\n",
              "    </tr>\n",
              "    <tr>\n",
              "      <th>1</th>\n",
              "      <td>KNeighbors</td>\n",
              "      <td>0.460</td>\n",
              "    </tr>\n",
              "    <tr>\n",
              "      <th>0</th>\n",
              "      <td>Logistic regression</td>\n",
              "      <td>0.411</td>\n",
              "    </tr>\n",
              "  </tbody>\n",
              "</table>\n",
              "</div>\n",
              "      <button class=\"colab-df-convert\" onclick=\"convertToInteractive('df-8bebfdc7-eda6-4d68-9e4b-1570123c7fbb')\"\n",
              "              title=\"Convert this dataframe to an interactive table.\"\n",
              "              style=\"display:none;\">\n",
              "        \n",
              "  <svg xmlns=\"http://www.w3.org/2000/svg\" height=\"24px\"viewBox=\"0 0 24 24\"\n",
              "       width=\"24px\">\n",
              "    <path d=\"M0 0h24v24H0V0z\" fill=\"none\"/>\n",
              "    <path d=\"M18.56 5.44l.94 2.06.94-2.06 2.06-.94-2.06-.94-.94-2.06-.94 2.06-2.06.94zm-11 1L8.5 8.5l.94-2.06 2.06-.94-2.06-.94L8.5 2.5l-.94 2.06-2.06.94zm10 10l.94 2.06.94-2.06 2.06-.94-2.06-.94-.94-2.06-.94 2.06-2.06.94z\"/><path d=\"M17.41 7.96l-1.37-1.37c-.4-.4-.92-.59-1.43-.59-.52 0-1.04.2-1.43.59L10.3 9.45l-7.72 7.72c-.78.78-.78 2.05 0 2.83L4 21.41c.39.39.9.59 1.41.59.51 0 1.02-.2 1.41-.59l7.78-7.78 2.81-2.81c.8-.78.8-2.07 0-2.86zM5.41 20L4 18.59l7.72-7.72 1.47 1.35L5.41 20z\"/>\n",
              "  </svg>\n",
              "      </button>\n",
              "      \n",
              "  <style>\n",
              "    .colab-df-container {\n",
              "      display:flex;\n",
              "      flex-wrap:wrap;\n",
              "      gap: 12px;\n",
              "    }\n",
              "\n",
              "    .colab-df-convert {\n",
              "      background-color: #E8F0FE;\n",
              "      border: none;\n",
              "      border-radius: 50%;\n",
              "      cursor: pointer;\n",
              "      display: none;\n",
              "      fill: #1967D2;\n",
              "      height: 32px;\n",
              "      padding: 0 0 0 0;\n",
              "      width: 32px;\n",
              "    }\n",
              "\n",
              "    .colab-df-convert:hover {\n",
              "      background-color: #E2EBFA;\n",
              "      box-shadow: 0px 1px 2px rgba(60, 64, 67, 0.3), 0px 1px 3px 1px rgba(60, 64, 67, 0.15);\n",
              "      fill: #174EA6;\n",
              "    }\n",
              "\n",
              "    [theme=dark] .colab-df-convert {\n",
              "      background-color: #3B4455;\n",
              "      fill: #D2E3FC;\n",
              "    }\n",
              "\n",
              "    [theme=dark] .colab-df-convert:hover {\n",
              "      background-color: #434B5C;\n",
              "      box-shadow: 0px 1px 3px 1px rgba(0, 0, 0, 0.15);\n",
              "      filter: drop-shadow(0px 1px 2px rgba(0, 0, 0, 0.3));\n",
              "      fill: #FFFFFF;\n",
              "    }\n",
              "  </style>\n",
              "\n",
              "      <script>\n",
              "        const buttonEl =\n",
              "          document.querySelector('#df-8bebfdc7-eda6-4d68-9e4b-1570123c7fbb button.colab-df-convert');\n",
              "        buttonEl.style.display =\n",
              "          google.colab.kernel.accessAllowed ? 'block' : 'none';\n",
              "\n",
              "        async function convertToInteractive(key) {\n",
              "          const element = document.querySelector('#df-8bebfdc7-eda6-4d68-9e4b-1570123c7fbb');\n",
              "          const dataTable =\n",
              "            await google.colab.kernel.invokeFunction('convertToInteractive',\n",
              "                                                     [key], {});\n",
              "          if (!dataTable) return;\n",
              "\n",
              "          const docLinkHtml = 'Like what you see? Visit the ' +\n",
              "            '<a target=\"_blank\" href=https://colab.research.google.com/notebooks/data_table.ipynb>data table notebook</a>'\n",
              "            + ' to learn more about interactive tables.';\n",
              "          element.innerHTML = '';\n",
              "          dataTable['output_type'] = 'display_data';\n",
              "          await google.colab.output.renderOutput(dataTable, element);\n",
              "          const docLink = document.createElement('div');\n",
              "          docLink.innerHTML = docLinkHtml;\n",
              "          element.appendChild(docLink);\n",
              "        }\n",
              "      </script>\n",
              "    </div>\n",
              "  </div>\n",
              "  "
            ]
          },
          "metadata": {},
          "execution_count": 56
        }
      ]
    },
    {
      "cell_type": "markdown",
      "source": [
        "f1-score의 결과값으로는, Random forest가 약 76%, Decision tree가 약 70%, KNeighbors가 약 46%, Logistic regression이 약 41%의 예측 정확성을 보이고 있다."
      ],
      "metadata": {
        "id": "s19-oq84ScwH"
      }
    },
    {
      "cell_type": "markdown",
      "source": [
        "### F1-Score란?"
      ],
      "metadata": {
        "id": "paDrb4Qp2dzY"
      }
    },
    {
      "cell_type": "markdown",
      "source": [
        "**참고 사이트**\n",
        "\n",
        "데이터 타입의 변환 :  https://kin.naver.com/qna/detail.nhn?d1id=1&dirId=10402&docId=379921126&qb=dGVzdDI=&enc=utf8&section=kin.qna&rank=628&search_sort=0&spq=0\n",
        "\n",
        "https://seong6496.tistory.com/134"
      ],
      "metadata": {
        "id": "xdKq8VuATRFM"
      }
    }
  ]
}
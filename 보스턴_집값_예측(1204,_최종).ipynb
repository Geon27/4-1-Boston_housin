{
  "nbformat": 4,
  "nbformat_minor": 0,
  "metadata": {
    "colab": {
      "provenance": [],
      "collapsed_sections": [
        "oiG7Zl5E44tz"
      ],
      "include_colab_link": true
    },
    "kernelspec": {
      "name": "python3",
      "display_name": "Python 3"
    },
    "language_info": {
      "name": "python"
    }
  },
  "cells": [
    {
      "cell_type": "markdown",
      "metadata": {
        "id": "view-in-github",
        "colab_type": "text"
      },
      "source": [
        "<a href=\"https://colab.research.google.com/github/Geon27/4-1-Boston_housin/blob/main/%EB%B3%B4%EC%8A%A4%ED%84%B4_%EC%A7%91%EA%B0%92_%EC%98%88%EC%B8%A1(1204%2C_%EC%B5%9C%EC%A2%85).ipynb\" target=\"_parent\"><img src=\"https://colab.research.google.com/assets/colab-badge.svg\" alt=\"Open In Colab\"/></a>"
      ]
    },
    {
      "cell_type": "markdown",
      "source": [
        "#Boston_housing Data를 활용한 집값 예측 Model\n",
        "\n",
        "**MAE(Mean Absolute Error)**, \n",
        "**MSE(Mean Squared Error)**, \n",
        "**RMSE(Root Mean Squared Error)** 를 중심으로"
      ],
      "metadata": {
        "id": "p3xncMeZh-6a"
      }
    },
    {
      "cell_type": "markdown",
      "source": [
        "- 나의 구글 드라이브와 구글 코랩의 연결  \n",
        "- 이 과정(마운트)을 통해 나의 구글 드라이브내의 데이터를 구글 코랩에 로드하고 또한 분석된 내용을 저장하는것도 가능하게 됨"
      ],
      "metadata": {
        "id": "hYQvbyARtJVu"
      }
    },
    {
      "cell_type": "code",
      "source": [
        "#구글 드라이브 연동\n",
        "from google.colab import drive\n",
        "drive.mount('/content/drive')\n",
        "\n",
        "# 아래 출력되는 URL에 접속하여 이용 동의 후 생성되는 인증코드를 복사해서 붙여넣기"
      ],
      "metadata": {
        "id": "_bwuB0V6jjzE",
        "colab": {
          "base_uri": "https://localhost:8080/"
        },
        "outputId": "6c5ef800-5df1-455b-e127-99206b34ca2b"
      },
      "execution_count": null,
      "outputs": [
        {
          "output_type": "stream",
          "name": "stdout",
          "text": [
            "Mounted at /content/drive\n"
          ]
        }
      ]
    },
    {
      "cell_type": "markdown",
      "source": [
        "### 파이썬 패키지 설치"
      ],
      "metadata": {
        "id": "wbXaY_plBUuD"
      }
    },
    {
      "cell_type": "markdown",
      "source": [
        "패키지라 함은 메인엔진은 파이썬이 잘 구현될 수 있도록 지원해주는 체계로서 패키지안에 함수나 클래스 등이 포함되어 있음  \n",
        "패키지를 사용하려면 2단계(인스톨-로드)를 거치는데 로드는 매번 인스톨은 처음에 1회만 하면 되는데 구글 코랩에서는 단점으로서 클라우드 방식이므로 인스톨을 매번해주어야 하는 번거로움이 있음"
      ],
      "metadata": {
        "id": "188fgFdRuEAx"
      }
    },
    {
      "cell_type": "markdown",
      "source": [
        "#### 패키지 로드"
      ],
      "metadata": {
        "id": "tusPl0uwui-i"
      }
    },
    {
      "cell_type": "markdown",
      "source": [
        "아래 코드는 인스톨 코드이므로 후에 로드를 다시 해주어야 함  \n",
        "코랩에서는 다른 파이썬 IDE와 다르게 이미 필요한 패키지들이 설치되어 있어서 비교적 편리함  \n",
        "다만 어떤 패키지는 버전에 따라 상황이 달라질 수 있으므로 같은 패키지여도 필요한 버전을 추가로 설치해야 하는 경우도 발생될 수 있음"
      ],
      "metadata": {
        "id": "KtOt1GPHupR7"
      }
    },
    {
      "cell_type": "code",
      "source": [
        "# !pip uninstall scipy -y\n",
        "# !pip uninstall pingouin -y\n",
        "!pip install pingouin\n",
        "# !pip install statsmodels==0.13.1\n",
        "!pip install sidetable\n",
        "# !pip install researchpy \n",
        "# !pip install bioinfokit\n",
        "# !pip install sidetable\n"
      ],
      "metadata": {
        "id": "e-r7-1j5MchC",
        "colab": {
          "base_uri": "https://localhost:8080/"
        },
        "outputId": "b95fdb15-ad62-4c48-ba49-5177bc13424d"
      },
      "execution_count": null,
      "outputs": [
        {
          "output_type": "stream",
          "name": "stdout",
          "text": [
            "Looking in indexes: https://pypi.org/simple, https://us-python.pkg.dev/colab-wheels/public/simple/\n",
            "Collecting pingouin\n",
            "  Downloading pingouin-0.5.2.tar.gz (185 kB)\n",
            "\u001b[K     |████████████████████████████████| 185 kB 5.1 MB/s \n",
            "\u001b[?25hRequirement already satisfied: numpy>=1.19 in /usr/local/lib/python3.8/dist-packages (from pingouin) (1.21.6)\n",
            "Requirement already satisfied: scipy>=1.7 in /usr/local/lib/python3.8/dist-packages (from pingouin) (1.7.3)\n",
            "Requirement already satisfied: pandas>=1.0 in /usr/local/lib/python3.8/dist-packages (from pingouin) (1.3.5)\n",
            "Requirement already satisfied: matplotlib>=3.0.2 in /usr/local/lib/python3.8/dist-packages (from pingouin) (3.2.2)\n",
            "Requirement already satisfied: seaborn>=0.11 in /usr/local/lib/python3.8/dist-packages (from pingouin) (0.11.2)\n",
            "Collecting statsmodels>=0.13\n",
            "  Downloading statsmodels-0.13.5-cp38-cp38-manylinux_2_17_x86_64.manylinux2014_x86_64.whl (9.9 MB)\n",
            "\u001b[K     |████████████████████████████████| 9.9 MB 54.9 MB/s \n",
            "\u001b[?25hRequirement already satisfied: scikit-learn<1.1.0 in /usr/local/lib/python3.8/dist-packages (from pingouin) (1.0.2)\n",
            "Collecting pandas_flavor>=0.2.0\n",
            "  Downloading pandas_flavor-0.3.0-py3-none-any.whl (6.3 kB)\n",
            "Collecting outdated\n",
            "  Downloading outdated-0.2.2-py2.py3-none-any.whl (7.5 kB)\n",
            "Requirement already satisfied: tabulate in /usr/local/lib/python3.8/dist-packages (from pingouin) (0.8.10)\n",
            "Requirement already satisfied: kiwisolver>=1.0.1 in /usr/local/lib/python3.8/dist-packages (from matplotlib>=3.0.2->pingouin) (1.4.4)\n",
            "Requirement already satisfied: cycler>=0.10 in /usr/local/lib/python3.8/dist-packages (from matplotlib>=3.0.2->pingouin) (0.11.0)\n",
            "Requirement already satisfied: python-dateutil>=2.1 in /usr/local/lib/python3.8/dist-packages (from matplotlib>=3.0.2->pingouin) (2.8.2)\n",
            "Requirement already satisfied: pyparsing!=2.0.4,!=2.1.2,!=2.1.6,>=2.0.1 in /usr/local/lib/python3.8/dist-packages (from matplotlib>=3.0.2->pingouin) (3.0.9)\n",
            "Requirement already satisfied: pytz>=2017.3 in /usr/local/lib/python3.8/dist-packages (from pandas>=1.0->pingouin) (2022.6)\n",
            "Collecting lazy-loader==0.1rc2\n",
            "  Downloading lazy_loader-0.1rc2-py3-none-any.whl (5.1 kB)\n",
            "Requirement already satisfied: xarray in /usr/local/lib/python3.8/dist-packages (from pandas_flavor>=0.2.0->pingouin) (0.20.2)\n",
            "Requirement already satisfied: six>=1.5 in /usr/local/lib/python3.8/dist-packages (from python-dateutil>=2.1->matplotlib>=3.0.2->pingouin) (1.15.0)\n",
            "Requirement already satisfied: joblib>=0.11 in /usr/local/lib/python3.8/dist-packages (from scikit-learn<1.1.0->pingouin) (1.2.0)\n",
            "Requirement already satisfied: threadpoolctl>=2.0.0 in /usr/local/lib/python3.8/dist-packages (from scikit-learn<1.1.0->pingouin) (3.1.0)\n",
            "Requirement already satisfied: packaging>=21.3 in /usr/local/lib/python3.8/dist-packages (from statsmodels>=0.13->pingouin) (21.3)\n",
            "Requirement already satisfied: patsy>=0.5.2 in /usr/local/lib/python3.8/dist-packages (from statsmodels>=0.13->pingouin) (0.5.3)\n",
            "Requirement already satisfied: setuptools>=44 in /usr/local/lib/python3.8/dist-packages (from outdated->pingouin) (57.4.0)\n",
            "Collecting littleutils\n",
            "  Downloading littleutils-0.2.2.tar.gz (6.6 kB)\n",
            "Requirement already satisfied: requests in /usr/local/lib/python3.8/dist-packages (from outdated->pingouin) (2.23.0)\n",
            "Requirement already satisfied: urllib3!=1.25.0,!=1.25.1,<1.26,>=1.21.1 in /usr/local/lib/python3.8/dist-packages (from requests->outdated->pingouin) (1.24.3)\n",
            "Requirement already satisfied: certifi>=2017.4.17 in /usr/local/lib/python3.8/dist-packages (from requests->outdated->pingouin) (2022.9.24)\n",
            "Requirement already satisfied: chardet<4,>=3.0.2 in /usr/local/lib/python3.8/dist-packages (from requests->outdated->pingouin) (3.0.4)\n",
            "Requirement already satisfied: idna<3,>=2.5 in /usr/local/lib/python3.8/dist-packages (from requests->outdated->pingouin) (2.10)\n",
            "Building wheels for collected packages: pingouin, littleutils\n",
            "  Building wheel for pingouin (setup.py) ... \u001b[?25l\u001b[?25hdone\n",
            "  Created wheel for pingouin: filename=pingouin-0.5.2-py3-none-any.whl size=196208 sha256=5e3d1313c9d86ae230e6db690fe78d229d52b28f4056e7686ca9da244a6f066a\n",
            "  Stored in directory: /root/.cache/pip/wheels/75/b0/89/f6866fc5accea9bec04f4c9f2a242520d6e8e7b8fcf89e139c\n",
            "  Building wheel for littleutils (setup.py) ... \u001b[?25l\u001b[?25hdone\n",
            "  Created wheel for littleutils: filename=littleutils-0.2.2-py3-none-any.whl size=7047 sha256=a63f69701e2caca644ebc867867ace7594911034d9267431ba9c33984d7febb0\n",
            "  Stored in directory: /root/.cache/pip/wheels/6a/33/c4/0ef84d7f5568c2823e3d63a6e08988852fb9e4bc822034870a\n",
            "Successfully built pingouin littleutils\n",
            "Installing collected packages: littleutils, lazy-loader, statsmodels, pandas-flavor, outdated, pingouin\n",
            "  Attempting uninstall: statsmodels\n",
            "    Found existing installation: statsmodels 0.12.2\n",
            "    Uninstalling statsmodels-0.12.2:\n",
            "      Successfully uninstalled statsmodels-0.12.2\n",
            "Successfully installed lazy-loader-0.1rc2 littleutils-0.2.2 outdated-0.2.2 pandas-flavor-0.3.0 pingouin-0.5.2 statsmodels-0.13.5\n",
            "Looking in indexes: https://pypi.org/simple, https://us-python.pkg.dev/colab-wheels/public/simple/\n",
            "Collecting sidetable\n",
            "  Downloading sidetable-0.9.1-py3-none-any.whl (19 kB)\n",
            "Requirement already satisfied: pandas>=1.0 in /usr/local/lib/python3.8/dist-packages (from sidetable) (1.3.5)\n",
            "Requirement already satisfied: pytz>=2017.3 in /usr/local/lib/python3.8/dist-packages (from pandas>=1.0->sidetable) (2022.6)\n",
            "Requirement already satisfied: python-dateutil>=2.7.3 in /usr/local/lib/python3.8/dist-packages (from pandas>=1.0->sidetable) (2.8.2)\n",
            "Requirement already satisfied: numpy>=1.17.3 in /usr/local/lib/python3.8/dist-packages (from pandas>=1.0->sidetable) (1.21.6)\n",
            "Requirement already satisfied: six>=1.5 in /usr/local/lib/python3.8/dist-packages (from python-dateutil>=2.7.3->pandas>=1.0->sidetable) (1.15.0)\n",
            "Installing collected packages: sidetable\n",
            "Successfully installed sidetable-0.9.1\n"
          ]
        }
      ]
    },
    {
      "cell_type": "markdown",
      "source": [
        "패키지 인스톨 명령어 `\"!pip install 패키지이름\"`로 인스톨함"
      ],
      "metadata": {
        "id": "aNn_Lywn5MAb"
      }
    },
    {
      "cell_type": "markdown",
      "source": [
        "#### 패키지 로드"
      ],
      "metadata": {
        "id": "qUAyuxLBuxL7"
      }
    },
    {
      "cell_type": "code",
      "metadata": {
        "id": "HrjcaVJfFSIa"
      },
      "source": [
        "import seaborn as sns\n",
        "import pandas as pd\n",
        "#import datatable as dt\n",
        "import scipy.stats as ss\n",
        "from sklearn import datasets\n",
        "import numpy\n",
        "import sidetable \n",
        "from scipy.stats import mode\n",
        "import matplotlib.pyplot as plt\n",
        "import numpy as np\n",
        "import scipy.stats as stats\n",
        "from statsmodels.formula.api import ols\n",
        "from statsmodels.stats.anova import anova_lm\n",
        "from statsmodels.stats.multicomp import pairwise_tukeyhsd\n",
        "import statsmodels.formula.api as smf\n",
        "pd.options.display.float_format = lambda x: f'{x:.3f}'\n",
        "#pd.reset_option('display.float_format')"
      ],
      "execution_count": null,
      "outputs": []
    },
    {
      "cell_type": "markdown",
      "source": [
        "## 데이터로드"
      ],
      "metadata": {
        "id": "J1RK9sqaCcgN"
      }
    },
    {
      "cell_type": "markdown",
      "source": [
        "바로 아래의 R버전은 파이썬과 대칭되어 동일한 명령을 R에서 수행할때의 코드이므로 참고하기 바람"
      ],
      "metadata": {
        "id": "BZ4v5dxCyMa8"
      }
    },
    {
      "cell_type": "code",
      "source": [
        "# #R버전\n",
        "# # 데이터 로드: 엑셀파일\n",
        "# # file.choose()\n",
        "# Dataset <- read.xlsx(“경로”, sheet = 1) # 파일명: 관광수요_데이터_예제_R업로드_환경부.xlsx\n",
        "\n",
        "# # 데이터 로드 확인\n",
        "# dim(Dataset)                       # 데이터의 가로세로수 확인\n",
        "# head(Dataset)                      # 데이터 앞부분(6개)확인\n",
        "# names(Dataset)                     # 데이터셋내의 변수명 확인\n",
        "# datatable(Dataset)                  # html형태로 데이터 로드 상태 확인\n"
      ],
      "metadata": {
        "id": "FG1P6JZwyLvI"
      },
      "execution_count": null,
      "outputs": []
    },
    {
      "cell_type": "markdown",
      "source": [
        "나의 구글 드라이브에서 원하는 데이터 파일을 찾아서(drive-My drive) 이에 대한 경로를 복사하여 아래 코드의 `' '`부분에 붙여 넣기  \n",
        "아래의 경로는 이전 사용자의 고유경로이므로 바로 실행하면 에러가 발생될 수 있음"
      ],
      "metadata": {
        "id": "s6wpfvVYvERQ"
      }
    },
    {
      "cell_type": "code",
      "source": [
        "##데이터 로드: 엑셀파일\n",
        "# 파일명: housing.csv\n",
        "Df = pd.read_csv('/content/drive/MyDrive/보스턴_데이터과학/housing.csv')"
      ],
      "metadata": {
        "id": "9UxOCFJwCf08"
      },
      "execution_count": null,
      "outputs": []
    },
    {
      "cell_type": "code",
      "source": [
        "#Df[1:1] #변수명만 추출\n",
        "Df.columns"
      ],
      "metadata": {
        "colab": {
          "base_uri": "https://localhost:8080/"
        },
        "id": "Uaz9eS0lzlkG",
        "outputId": "f0d2ae23-5703-442e-ab3f-520caf2c2ff7"
      },
      "execution_count": null,
      "outputs": [
        {
          "output_type": "execute_result",
          "data": {
            "text/plain": [
              "Index(['CRIM', 'ZN', 'INDUS', 'CHAS', 'NOX', 'RM', 'AGE', 'DIS', 'RAD', 'TAX',\n",
              "       'PTRATIO', 'B', 'LSTAT', 'MEDV'],\n",
              "      dtype='object')"
            ]
          },
          "metadata": {},
          "execution_count": 6
        }
      ]
    },
    {
      "cell_type": "markdown",
      "source": [
        "![KakaoTalk_20221121_144213141.png](data:image/png;base64,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)"
      ],
      "metadata": {
        "id": "JTeE77X50xL1"
      }
    },
    {
      "cell_type": "markdown",
      "source": [
        "인덱싱이라고 해서 데이터의 일부분을 가져오고자 하는 경우 사용하는데 `:`을 기준으로 왼쪽이 행, 오른쪽이 열이 됨"
      ],
      "metadata": {
        "id": "4CPeEwZSHss0"
      }
    },
    {
      "cell_type": "code",
      "source": [
        "# 데이터 로드 확인\n",
        "print(Df.shape)            # 데이터의 가로세로수 확인\n",
        "print(Df.head())           # 데이터 앞부분(5개)확인\n",
        "print(Df.tail())           # 데이터 뒷부분(5개)확인"
      ],
      "metadata": {
        "colab": {
          "base_uri": "https://localhost:8080/"
        },
        "id": "SICQXQdgIcAB",
        "outputId": "6ae1cf23-d141-45e1-b7c6-618bfb23f085"
      },
      "execution_count": null,
      "outputs": [
        {
          "output_type": "stream",
          "name": "stdout",
          "text": [
            "(506, 14)\n",
            "   CRIM     ZN  INDUS  CHAS   NOX    RM    AGE   DIS   RAD     TAX  PTRATIO  \\\n",
            "0 0.006 18.000  2.310 0.000 0.538 6.575 65.200 4.090 1.000 296.000   15.300   \n",
            "1 0.027  0.000  7.070 0.000 0.469 6.421 78.900 4.967 2.000 242.000   17.800   \n",
            "2 0.027  0.000  7.070 0.000 0.469 7.185 61.100 4.967 2.000 242.000   17.800   \n",
            "3 0.032  0.000  2.180 0.000 0.458 6.998 45.800 6.062 3.000 222.000   18.700   \n",
            "4 0.069  0.000  2.180 0.000 0.458 7.147 54.200 6.062 3.000 222.000   18.700   \n",
            "\n",
            "        B  LSTAT   MEDV  \n",
            "0 396.900  4.980 24.000  \n",
            "1 396.900  9.140 21.600  \n",
            "2 392.830  4.030 34.700  \n",
            "3 394.630  2.940 33.400  \n",
            "4 396.900  5.330 36.200  \n",
            "     CRIM    ZN  INDUS  CHAS   NOX    RM    AGE   DIS   RAD     TAX  PTRATIO  \\\n",
            "501 0.063 0.000 11.930 0.000 0.573 6.593 69.100 2.479 1.000 273.000   21.000   \n",
            "502 0.045 0.000 11.930 0.000 0.573 6.120 76.700 2.288 1.000 273.000   21.000   \n",
            "503 0.061 0.000 11.930 0.000 0.573 6.976 91.000 2.167 1.000 273.000   21.000   \n",
            "504 0.110 0.000 11.930 0.000 0.573 6.794 89.300 2.389 1.000 273.000   21.000   \n",
            "505 0.047 0.000 11.930 0.000 0.573 6.030 80.800 2.505 1.000 273.000   21.000   \n",
            "\n",
            "          B  LSTAT   MEDV  \n",
            "501 391.990  9.670 22.400  \n",
            "502 396.900  9.080 20.600  \n",
            "503 396.900  5.640 23.900  \n",
            "504 393.450  6.480 22.000  \n",
            "505 396.900  7.880 11.900  \n"
          ]
        }
      ]
    },
    {
      "cell_type": "code",
      "source": [
        "Df = pd.DataFrame(Df) # 데이터 한눈에 보기\n",
        "Df.head(3)"
      ],
      "metadata": {
        "colab": {
          "base_uri": "https://localhost:8080/",
          "height": 143
        },
        "id": "0upSj1EpTQbR",
        "outputId": "9e47acd0-c9d5-40e4-b047-a88cbc2a3c86"
      },
      "execution_count": null,
      "outputs": [
        {
          "output_type": "execute_result",
          "data": {
            "text/plain": [
              "   CRIM     ZN  INDUS  CHAS   NOX    RM    AGE   DIS   RAD     TAX  PTRATIO  \\\n",
              "0 0.006 18.000  2.310 0.000 0.538 6.575 65.200 4.090 1.000 296.000   15.300   \n",
              "1 0.027  0.000  7.070 0.000 0.469 6.421 78.900 4.967 2.000 242.000   17.800   \n",
              "2 0.027  0.000  7.070 0.000 0.469 7.185 61.100 4.967 2.000 242.000   17.800   \n",
              "\n",
              "        B  LSTAT   MEDV  \n",
              "0 396.900  4.980 24.000  \n",
              "1 396.900  9.140 21.600  \n",
              "2 392.830  4.030 34.700  "
            ],
            "text/html": [
              "\n",
              "  <div id=\"df-18433899-4e4a-42b8-941c-787b5b312252\">\n",
              "    <div class=\"colab-df-container\">\n",
              "      <div>\n",
              "<style scoped>\n",
              "    .dataframe tbody tr th:only-of-type {\n",
              "        vertical-align: middle;\n",
              "    }\n",
              "\n",
              "    .dataframe tbody tr th {\n",
              "        vertical-align: top;\n",
              "    }\n",
              "\n",
              "    .dataframe thead th {\n",
              "        text-align: right;\n",
              "    }\n",
              "</style>\n",
              "<table border=\"1\" class=\"dataframe\">\n",
              "  <thead>\n",
              "    <tr style=\"text-align: right;\">\n",
              "      <th></th>\n",
              "      <th>CRIM</th>\n",
              "      <th>ZN</th>\n",
              "      <th>INDUS</th>\n",
              "      <th>CHAS</th>\n",
              "      <th>NOX</th>\n",
              "      <th>RM</th>\n",
              "      <th>AGE</th>\n",
              "      <th>DIS</th>\n",
              "      <th>RAD</th>\n",
              "      <th>TAX</th>\n",
              "      <th>PTRATIO</th>\n",
              "      <th>B</th>\n",
              "      <th>LSTAT</th>\n",
              "      <th>MEDV</th>\n",
              "    </tr>\n",
              "  </thead>\n",
              "  <tbody>\n",
              "    <tr>\n",
              "      <th>0</th>\n",
              "      <td>0.006</td>\n",
              "      <td>18.000</td>\n",
              "      <td>2.310</td>\n",
              "      <td>0.000</td>\n",
              "      <td>0.538</td>\n",
              "      <td>6.575</td>\n",
              "      <td>65.200</td>\n",
              "      <td>4.090</td>\n",
              "      <td>1.000</td>\n",
              "      <td>296.000</td>\n",
              "      <td>15.300</td>\n",
              "      <td>396.900</td>\n",
              "      <td>4.980</td>\n",
              "      <td>24.000</td>\n",
              "    </tr>\n",
              "    <tr>\n",
              "      <th>1</th>\n",
              "      <td>0.027</td>\n",
              "      <td>0.000</td>\n",
              "      <td>7.070</td>\n",
              "      <td>0.000</td>\n",
              "      <td>0.469</td>\n",
              "      <td>6.421</td>\n",
              "      <td>78.900</td>\n",
              "      <td>4.967</td>\n",
              "      <td>2.000</td>\n",
              "      <td>242.000</td>\n",
              "      <td>17.800</td>\n",
              "      <td>396.900</td>\n",
              "      <td>9.140</td>\n",
              "      <td>21.600</td>\n",
              "    </tr>\n",
              "    <tr>\n",
              "      <th>2</th>\n",
              "      <td>0.027</td>\n",
              "      <td>0.000</td>\n",
              "      <td>7.070</td>\n",
              "      <td>0.000</td>\n",
              "      <td>0.469</td>\n",
              "      <td>7.185</td>\n",
              "      <td>61.100</td>\n",
              "      <td>4.967</td>\n",
              "      <td>2.000</td>\n",
              "      <td>242.000</td>\n",
              "      <td>17.800</td>\n",
              "      <td>392.830</td>\n",
              "      <td>4.030</td>\n",
              "      <td>34.700</td>\n",
              "    </tr>\n",
              "  </tbody>\n",
              "</table>\n",
              "</div>\n",
              "      <button class=\"colab-df-convert\" onclick=\"convertToInteractive('df-18433899-4e4a-42b8-941c-787b5b312252')\"\n",
              "              title=\"Convert this dataframe to an interactive table.\"\n",
              "              style=\"display:none;\">\n",
              "        \n",
              "  <svg xmlns=\"http://www.w3.org/2000/svg\" height=\"24px\"viewBox=\"0 0 24 24\"\n",
              "       width=\"24px\">\n",
              "    <path d=\"M0 0h24v24H0V0z\" fill=\"none\"/>\n",
              "    <path d=\"M18.56 5.44l.94 2.06.94-2.06 2.06-.94-2.06-.94-.94-2.06-.94 2.06-2.06.94zm-11 1L8.5 8.5l.94-2.06 2.06-.94-2.06-.94L8.5 2.5l-.94 2.06-2.06.94zm10 10l.94 2.06.94-2.06 2.06-.94-2.06-.94-.94-2.06-.94 2.06-2.06.94z\"/><path d=\"M17.41 7.96l-1.37-1.37c-.4-.4-.92-.59-1.43-.59-.52 0-1.04.2-1.43.59L10.3 9.45l-7.72 7.72c-.78.78-.78 2.05 0 2.83L4 21.41c.39.39.9.59 1.41.59.51 0 1.02-.2 1.41-.59l7.78-7.78 2.81-2.81c.8-.78.8-2.07 0-2.86zM5.41 20L4 18.59l7.72-7.72 1.47 1.35L5.41 20z\"/>\n",
              "  </svg>\n",
              "      </button>\n",
              "      \n",
              "  <style>\n",
              "    .colab-df-container {\n",
              "      display:flex;\n",
              "      flex-wrap:wrap;\n",
              "      gap: 12px;\n",
              "    }\n",
              "\n",
              "    .colab-df-convert {\n",
              "      background-color: #E8F0FE;\n",
              "      border: none;\n",
              "      border-radius: 50%;\n",
              "      cursor: pointer;\n",
              "      display: none;\n",
              "      fill: #1967D2;\n",
              "      height: 32px;\n",
              "      padding: 0 0 0 0;\n",
              "      width: 32px;\n",
              "    }\n",
              "\n",
              "    .colab-df-convert:hover {\n",
              "      background-color: #E2EBFA;\n",
              "      box-shadow: 0px 1px 2px rgba(60, 64, 67, 0.3), 0px 1px 3px 1px rgba(60, 64, 67, 0.15);\n",
              "      fill: #174EA6;\n",
              "    }\n",
              "\n",
              "    [theme=dark] .colab-df-convert {\n",
              "      background-color: #3B4455;\n",
              "      fill: #D2E3FC;\n",
              "    }\n",
              "\n",
              "    [theme=dark] .colab-df-convert:hover {\n",
              "      background-color: #434B5C;\n",
              "      box-shadow: 0px 1px 3px 1px rgba(0, 0, 0, 0.15);\n",
              "      filter: drop-shadow(0px 1px 2px rgba(0, 0, 0, 0.3));\n",
              "      fill: #FFFFFF;\n",
              "    }\n",
              "  </style>\n",
              "\n",
              "      <script>\n",
              "        const buttonEl =\n",
              "          document.querySelector('#df-18433899-4e4a-42b8-941c-787b5b312252 button.colab-df-convert');\n",
              "        buttonEl.style.display =\n",
              "          google.colab.kernel.accessAllowed ? 'block' : 'none';\n",
              "\n",
              "        async function convertToInteractive(key) {\n",
              "          const element = document.querySelector('#df-18433899-4e4a-42b8-941c-787b5b312252');\n",
              "          const dataTable =\n",
              "            await google.colab.kernel.invokeFunction('convertToInteractive',\n",
              "                                                     [key], {});\n",
              "          if (!dataTable) return;\n",
              "\n",
              "          const docLinkHtml = 'Like what you see? Visit the ' +\n",
              "            '<a target=\"_blank\" href=https://colab.research.google.com/notebooks/data_table.ipynb>data table notebook</a>'\n",
              "            + ' to learn more about interactive tables.';\n",
              "          element.innerHTML = '';\n",
              "          dataTable['output_type'] = 'display_data';\n",
              "          await google.colab.output.renderOutput(dataTable, element);\n",
              "          const docLink = document.createElement('div');\n",
              "          docLink.innerHTML = docLinkHtml;\n",
              "          element.appendChild(docLink);\n",
              "        }\n",
              "      </script>\n",
              "    </div>\n",
              "  </div>\n",
              "  "
            ]
          },
          "metadata": {},
          "execution_count": 8
        }
      ]
    },
    {
      "cell_type": "code",
      "source": [
        "Df['TAX'].value_counts()"
      ],
      "metadata": {
        "colab": {
          "base_uri": "https://localhost:8080/"
        },
        "id": "IRCOzZjqwwkE",
        "outputId": "02f79764-b862-40eb-bc1b-d04ae8d6a222"
      },
      "execution_count": null,
      "outputs": [
        {
          "output_type": "execute_result",
          "data": {
            "text/plain": [
              "666.000    132\n",
              "307.000     40\n",
              "403.000     30\n",
              "437.000     15\n",
              "304.000     14\n",
              "          ... \n",
              "285.000      1\n",
              "198.000      1\n",
              "256.000      1\n",
              "244.000      1\n",
              "313.000      1\n",
              "Name: TAX, Length: 66, dtype: int64"
            ]
          },
          "metadata": {},
          "execution_count": 9
        }
      ]
    },
    {
      "cell_type": "markdown",
      "source": [
        "위 데이터셋에서는 python_score에 영향을 주는 요인들로 CRIM, AGE, RM, NOX, TAX등의 다양한 변수들이 있는 것을 알 수 있음. 영향을 주는 것을 독립변수(양적변수)라 하고 영향을 받는 것을 종속변수(질적변수)라고 하는데 현 데이터에서는 종속변수를 'MEDV', 나머지 변수들을 독립변수로 지정한다."
      ],
      "metadata": {
        "id": "leKoeHg3Iaur"
      }
    },
    {
      "cell_type": "markdown",
      "source": [
        "### 질적 target에 대한 탐색적 분석"
      ],
      "metadata": {
        "id": "v4PIBs0gJEYG"
      }
    },
    {
      "cell_type": "code",
      "source": [
        "Df['MEDV'].value_counts()"
      ],
      "metadata": {
        "colab": {
          "base_uri": "https://localhost:8080/"
        },
        "id": "SkvOZXyuTKy_",
        "outputId": "d20c4e5d-d22c-47bc-9f50-0e4fe6e0f36c"
      },
      "execution_count": null,
      "outputs": [
        {
          "output_type": "execute_result",
          "data": {
            "text/plain": [
              "50.000    16\n",
              "25.000     8\n",
              "22.000     7\n",
              "21.700     7\n",
              "23.100     7\n",
              "          ..\n",
              "32.900     1\n",
              "34.600     1\n",
              "30.300     1\n",
              "33.300     1\n",
              "8.100      1\n",
              "Name: MEDV, Length: 229, dtype: int64"
            ]
          },
          "metadata": {},
          "execution_count": 10
        }
      ]
    },
    {
      "cell_type": "code",
      "source": [
        "import sidetable as stb\n",
        "Df.stb.freq(['MEDV'])"
      ],
      "metadata": {
        "colab": {
          "base_uri": "https://localhost:8080/",
          "height": 424
        },
        "id": "8saPeT0JUtl3",
        "outputId": "c87e085a-1112-44e3-e577-c60aa3108a65"
      },
      "execution_count": null,
      "outputs": [
        {
          "output_type": "execute_result",
          "data": {
            "text/plain": [
              "      MEDV  count  percent  cumulative_count  cumulative_percent\n",
              "0   50.000     16    3.162                16               3.162\n",
              "1   25.000      8    1.581                24               4.743\n",
              "2   23.100      7    1.383                31               6.126\n",
              "3   22.000      7    1.383                38               7.510\n",
              "4   21.700      7    1.383                45               8.893\n",
              "..     ...    ...      ...               ...                 ...\n",
              "224  8.100      1    0.198               502              99.209\n",
              "225  7.500      1    0.198               503              99.407\n",
              "226  7.400      1    0.198               504              99.605\n",
              "227  6.300      1    0.198               505              99.802\n",
              "228  5.600      1    0.198               506             100.000\n",
              "\n",
              "[229 rows x 5 columns]"
            ],
            "text/html": [
              "\n",
              "  <div id=\"df-64a4ef85-7926-4dfe-af90-638a607573fd\">\n",
              "    <div class=\"colab-df-container\">\n",
              "      <div>\n",
              "<style scoped>\n",
              "    .dataframe tbody tr th:only-of-type {\n",
              "        vertical-align: middle;\n",
              "    }\n",
              "\n",
              "    .dataframe tbody tr th {\n",
              "        vertical-align: top;\n",
              "    }\n",
              "\n",
              "    .dataframe thead th {\n",
              "        text-align: right;\n",
              "    }\n",
              "</style>\n",
              "<table border=\"1\" class=\"dataframe\">\n",
              "  <thead>\n",
              "    <tr style=\"text-align: right;\">\n",
              "      <th></th>\n",
              "      <th>MEDV</th>\n",
              "      <th>count</th>\n",
              "      <th>percent</th>\n",
              "      <th>cumulative_count</th>\n",
              "      <th>cumulative_percent</th>\n",
              "    </tr>\n",
              "  </thead>\n",
              "  <tbody>\n",
              "    <tr>\n",
              "      <th>0</th>\n",
              "      <td>50.000</td>\n",
              "      <td>16</td>\n",
              "      <td>3.162</td>\n",
              "      <td>16</td>\n",
              "      <td>3.162</td>\n",
              "    </tr>\n",
              "    <tr>\n",
              "      <th>1</th>\n",
              "      <td>25.000</td>\n",
              "      <td>8</td>\n",
              "      <td>1.581</td>\n",
              "      <td>24</td>\n",
              "      <td>4.743</td>\n",
              "    </tr>\n",
              "    <tr>\n",
              "      <th>2</th>\n",
              "      <td>23.100</td>\n",
              "      <td>7</td>\n",
              "      <td>1.383</td>\n",
              "      <td>31</td>\n",
              "      <td>6.126</td>\n",
              "    </tr>\n",
              "    <tr>\n",
              "      <th>3</th>\n",
              "      <td>22.000</td>\n",
              "      <td>7</td>\n",
              "      <td>1.383</td>\n",
              "      <td>38</td>\n",
              "      <td>7.510</td>\n",
              "    </tr>\n",
              "    <tr>\n",
              "      <th>4</th>\n",
              "      <td>21.700</td>\n",
              "      <td>7</td>\n",
              "      <td>1.383</td>\n",
              "      <td>45</td>\n",
              "      <td>8.893</td>\n",
              "    </tr>\n",
              "    <tr>\n",
              "      <th>...</th>\n",
              "      <td>...</td>\n",
              "      <td>...</td>\n",
              "      <td>...</td>\n",
              "      <td>...</td>\n",
              "      <td>...</td>\n",
              "    </tr>\n",
              "    <tr>\n",
              "      <th>224</th>\n",
              "      <td>8.100</td>\n",
              "      <td>1</td>\n",
              "      <td>0.198</td>\n",
              "      <td>502</td>\n",
              "      <td>99.209</td>\n",
              "    </tr>\n",
              "    <tr>\n",
              "      <th>225</th>\n",
              "      <td>7.500</td>\n",
              "      <td>1</td>\n",
              "      <td>0.198</td>\n",
              "      <td>503</td>\n",
              "      <td>99.407</td>\n",
              "    </tr>\n",
              "    <tr>\n",
              "      <th>226</th>\n",
              "      <td>7.400</td>\n",
              "      <td>1</td>\n",
              "      <td>0.198</td>\n",
              "      <td>504</td>\n",
              "      <td>99.605</td>\n",
              "    </tr>\n",
              "    <tr>\n",
              "      <th>227</th>\n",
              "      <td>6.300</td>\n",
              "      <td>1</td>\n",
              "      <td>0.198</td>\n",
              "      <td>505</td>\n",
              "      <td>99.802</td>\n",
              "    </tr>\n",
              "    <tr>\n",
              "      <th>228</th>\n",
              "      <td>5.600</td>\n",
              "      <td>1</td>\n",
              "      <td>0.198</td>\n",
              "      <td>506</td>\n",
              "      <td>100.000</td>\n",
              "    </tr>\n",
              "  </tbody>\n",
              "</table>\n",
              "<p>229 rows × 5 columns</p>\n",
              "</div>\n",
              "      <button class=\"colab-df-convert\" onclick=\"convertToInteractive('df-64a4ef85-7926-4dfe-af90-638a607573fd')\"\n",
              "              title=\"Convert this dataframe to an interactive table.\"\n",
              "              style=\"display:none;\">\n",
              "        \n",
              "  <svg xmlns=\"http://www.w3.org/2000/svg\" height=\"24px\"viewBox=\"0 0 24 24\"\n",
              "       width=\"24px\">\n",
              "    <path d=\"M0 0h24v24H0V0z\" fill=\"none\"/>\n",
              "    <path d=\"M18.56 5.44l.94 2.06.94-2.06 2.06-.94-2.06-.94-.94-2.06-.94 2.06-2.06.94zm-11 1L8.5 8.5l.94-2.06 2.06-.94-2.06-.94L8.5 2.5l-.94 2.06-2.06.94zm10 10l.94 2.06.94-2.06 2.06-.94-2.06-.94-.94-2.06-.94 2.06-2.06.94z\"/><path d=\"M17.41 7.96l-1.37-1.37c-.4-.4-.92-.59-1.43-.59-.52 0-1.04.2-1.43.59L10.3 9.45l-7.72 7.72c-.78.78-.78 2.05 0 2.83L4 21.41c.39.39.9.59 1.41.59.51 0 1.02-.2 1.41-.59l7.78-7.78 2.81-2.81c.8-.78.8-2.07 0-2.86zM5.41 20L4 18.59l7.72-7.72 1.47 1.35L5.41 20z\"/>\n",
              "  </svg>\n",
              "      </button>\n",
              "      \n",
              "  <style>\n",
              "    .colab-df-container {\n",
              "      display:flex;\n",
              "      flex-wrap:wrap;\n",
              "      gap: 12px;\n",
              "    }\n",
              "\n",
              "    .colab-df-convert {\n",
              "      background-color: #E8F0FE;\n",
              "      border: none;\n",
              "      border-radius: 50%;\n",
              "      cursor: pointer;\n",
              "      display: none;\n",
              "      fill: #1967D2;\n",
              "      height: 32px;\n",
              "      padding: 0 0 0 0;\n",
              "      width: 32px;\n",
              "    }\n",
              "\n",
              "    .colab-df-convert:hover {\n",
              "      background-color: #E2EBFA;\n",
              "      box-shadow: 0px 1px 2px rgba(60, 64, 67, 0.3), 0px 1px 3px 1px rgba(60, 64, 67, 0.15);\n",
              "      fill: #174EA6;\n",
              "    }\n",
              "\n",
              "    [theme=dark] .colab-df-convert {\n",
              "      background-color: #3B4455;\n",
              "      fill: #D2E3FC;\n",
              "    }\n",
              "\n",
              "    [theme=dark] .colab-df-convert:hover {\n",
              "      background-color: #434B5C;\n",
              "      box-shadow: 0px 1px 3px 1px rgba(0, 0, 0, 0.15);\n",
              "      filter: drop-shadow(0px 1px 2px rgba(0, 0, 0, 0.3));\n",
              "      fill: #FFFFFF;\n",
              "    }\n",
              "  </style>\n",
              "\n",
              "      <script>\n",
              "        const buttonEl =\n",
              "          document.querySelector('#df-64a4ef85-7926-4dfe-af90-638a607573fd button.colab-df-convert');\n",
              "        buttonEl.style.display =\n",
              "          google.colab.kernel.accessAllowed ? 'block' : 'none';\n",
              "\n",
              "        async function convertToInteractive(key) {\n",
              "          const element = document.querySelector('#df-64a4ef85-7926-4dfe-af90-638a607573fd');\n",
              "          const dataTable =\n",
              "            await google.colab.kernel.invokeFunction('convertToInteractive',\n",
              "                                                     [key], {});\n",
              "          if (!dataTable) return;\n",
              "\n",
              "          const docLinkHtml = 'Like what you see? Visit the ' +\n",
              "            '<a target=\"_blank\" href=https://colab.research.google.com/notebooks/data_table.ipynb>data table notebook</a>'\n",
              "            + ' to learn more about interactive tables.';\n",
              "          element.innerHTML = '';\n",
              "          dataTable['output_type'] = 'display_data';\n",
              "          await google.colab.output.renderOutput(dataTable, element);\n",
              "          const docLink = document.createElement('div');\n",
              "          docLink.innerHTML = docLinkHtml;\n",
              "          element.appendChild(docLink);\n",
              "        }\n",
              "      </script>\n",
              "    </div>\n",
              "  </div>\n",
              "  "
            ]
          },
          "metadata": {},
          "execution_count": 11
        }
      ]
    },
    {
      "cell_type": "markdown",
      "source": [
        "###여러변수의 기술통계분석: 양적변수"
      ],
      "metadata": {
        "id": "u3bVGElq8miv"
      }
    },
    {
      "cell_type": "code",
      "source": [
        "#양적변수들을 num_vars로 설정\n",
        "num_vars = Df[['CRIM','ZN','INDUS','NOX','RM','AGE','DIS','RAD','TAX','PTRATIO','B','LSTAT']]"
      ],
      "metadata": {
        "id": "YvTp3whJ-vyT"
      },
      "execution_count": null,
      "outputs": []
    },
    {
      "cell_type": "code",
      "source": [
        "#여러변수에 대한 평균\n",
        "vars_mean = numpy.mean(num_vars) \n",
        "round(vars_mean,3) #소수점 3자리 반올림"
      ],
      "metadata": {
        "colab": {
          "base_uri": "https://localhost:8080/"
        },
        "id": "0-dVN2Uj80Ty",
        "outputId": "a84226d5-b8b5-4292-c9a1-6a79ed16a5f9"
      },
      "execution_count": null,
      "outputs": [
        {
          "output_type": "execute_result",
          "data": {
            "text/plain": [
              "CRIM        3.614\n",
              "ZN         11.364\n",
              "INDUS      11.137\n",
              "NOX         0.555\n",
              "RM          6.285\n",
              "AGE        68.575\n",
              "DIS         3.795\n",
              "RAD         9.549\n",
              "TAX       408.237\n",
              "PTRATIO    18.456\n",
              "B         356.674\n",
              "LSTAT      12.653\n",
              "dtype: float64"
            ]
          },
          "metadata": {},
          "execution_count": 13
        }
      ]
    },
    {
      "cell_type": "code",
      "source": [
        "# 중앙값\n",
        "#target_vars.target_vars()\n",
        "vars_median = numpy.median(num_vars, axis=0)\n",
        "#vars_median = target_vars.apply(numpy.median(target_vars), axis=1)\n",
        "vars_median\n",
        "#round(vars_median,3) #소수점 3자리 반올림"
      ],
      "metadata": {
        "colab": {
          "base_uri": "https://localhost:8080/"
        },
        "id": "pV0LcHD9ZFBt",
        "outputId": "af9e7594-4739-43c0-fd50-a7b48a254bf4"
      },
      "execution_count": null,
      "outputs": [
        {
          "output_type": "execute_result",
          "data": {
            "text/plain": [
              "array([2.56510e-01, 0.00000e+00, 9.69000e+00, 5.38000e-01, 6.20850e+00,\n",
              "       7.75000e+01, 3.20745e+00, 5.00000e+00, 3.30000e+02, 1.90500e+01,\n",
              "       3.91440e+02, 1.13600e+01])"
            ]
          },
          "metadata": {},
          "execution_count": 14
        }
      ]
    },
    {
      "cell_type": "code",
      "source": [
        "Df_sub = num_vars.describe()\n",
        "Df_sub"
      ],
      "metadata": {
        "colab": {
          "base_uri": "https://localhost:8080/",
          "height": 300
        },
        "id": "x7zNpbZYZsc_",
        "outputId": "79772cfd-c7ec-484f-b162-85b10090b14f"
      },
      "execution_count": null,
      "outputs": [
        {
          "output_type": "execute_result",
          "data": {
            "text/plain": [
              "         CRIM      ZN   INDUS     NOX      RM     AGE     DIS     RAD     TAX  \\\n",
              "count 506.000 506.000 506.000 506.000 506.000 506.000 506.000 506.000 506.000   \n",
              "mean    3.614  11.364  11.137   0.555   6.285  68.575   3.795   9.549 408.237   \n",
              "std     8.602  23.322   6.860   0.116   0.703  28.149   2.106   8.707 168.537   \n",
              "min     0.006   0.000   0.460   0.385   3.561   2.900   1.130   1.000 187.000   \n",
              "25%     0.082   0.000   5.190   0.449   5.885  45.025   2.100   4.000 279.000   \n",
              "50%     0.257   0.000   9.690   0.538   6.208  77.500   3.207   5.000 330.000   \n",
              "75%     3.677  12.500  18.100   0.624   6.623  94.075   5.188  24.000 666.000   \n",
              "max    88.976 100.000  27.740   0.871   8.780 100.000  12.127  24.000 711.000   \n",
              "\n",
              "       PTRATIO       B   LSTAT  \n",
              "count  506.000 506.000 506.000  \n",
              "mean    18.456 356.674  12.653  \n",
              "std      2.165  91.295   7.141  \n",
              "min     12.600   0.320   1.730  \n",
              "25%     17.400 375.377   6.950  \n",
              "50%     19.050 391.440  11.360  \n",
              "75%     20.200 396.225  16.955  \n",
              "max     22.000 396.900  37.970  "
            ],
            "text/html": [
              "\n",
              "  <div id=\"df-2f304248-4d2e-4e13-9d40-e43affe7927b\">\n",
              "    <div class=\"colab-df-container\">\n",
              "      <div>\n",
              "<style scoped>\n",
              "    .dataframe tbody tr th:only-of-type {\n",
              "        vertical-align: middle;\n",
              "    }\n",
              "\n",
              "    .dataframe tbody tr th {\n",
              "        vertical-align: top;\n",
              "    }\n",
              "\n",
              "    .dataframe thead th {\n",
              "        text-align: right;\n",
              "    }\n",
              "</style>\n",
              "<table border=\"1\" class=\"dataframe\">\n",
              "  <thead>\n",
              "    <tr style=\"text-align: right;\">\n",
              "      <th></th>\n",
              "      <th>CRIM</th>\n",
              "      <th>ZN</th>\n",
              "      <th>INDUS</th>\n",
              "      <th>NOX</th>\n",
              "      <th>RM</th>\n",
              "      <th>AGE</th>\n",
              "      <th>DIS</th>\n",
              "      <th>RAD</th>\n",
              "      <th>TAX</th>\n",
              "      <th>PTRATIO</th>\n",
              "      <th>B</th>\n",
              "      <th>LSTAT</th>\n",
              "    </tr>\n",
              "  </thead>\n",
              "  <tbody>\n",
              "    <tr>\n",
              "      <th>count</th>\n",
              "      <td>506.000</td>\n",
              "      <td>506.000</td>\n",
              "      <td>506.000</td>\n",
              "      <td>506.000</td>\n",
              "      <td>506.000</td>\n",
              "      <td>506.000</td>\n",
              "      <td>506.000</td>\n",
              "      <td>506.000</td>\n",
              "      <td>506.000</td>\n",
              "      <td>506.000</td>\n",
              "      <td>506.000</td>\n",
              "      <td>506.000</td>\n",
              "    </tr>\n",
              "    <tr>\n",
              "      <th>mean</th>\n",
              "      <td>3.614</td>\n",
              "      <td>11.364</td>\n",
              "      <td>11.137</td>\n",
              "      <td>0.555</td>\n",
              "      <td>6.285</td>\n",
              "      <td>68.575</td>\n",
              "      <td>3.795</td>\n",
              "      <td>9.549</td>\n",
              "      <td>408.237</td>\n",
              "      <td>18.456</td>\n",
              "      <td>356.674</td>\n",
              "      <td>12.653</td>\n",
              "    </tr>\n",
              "    <tr>\n",
              "      <th>std</th>\n",
              "      <td>8.602</td>\n",
              "      <td>23.322</td>\n",
              "      <td>6.860</td>\n",
              "      <td>0.116</td>\n",
              "      <td>0.703</td>\n",
              "      <td>28.149</td>\n",
              "      <td>2.106</td>\n",
              "      <td>8.707</td>\n",
              "      <td>168.537</td>\n",
              "      <td>2.165</td>\n",
              "      <td>91.295</td>\n",
              "      <td>7.141</td>\n",
              "    </tr>\n",
              "    <tr>\n",
              "      <th>min</th>\n",
              "      <td>0.006</td>\n",
              "      <td>0.000</td>\n",
              "      <td>0.460</td>\n",
              "      <td>0.385</td>\n",
              "      <td>3.561</td>\n",
              "      <td>2.900</td>\n",
              "      <td>1.130</td>\n",
              "      <td>1.000</td>\n",
              "      <td>187.000</td>\n",
              "      <td>12.600</td>\n",
              "      <td>0.320</td>\n",
              "      <td>1.730</td>\n",
              "    </tr>\n",
              "    <tr>\n",
              "      <th>25%</th>\n",
              "      <td>0.082</td>\n",
              "      <td>0.000</td>\n",
              "      <td>5.190</td>\n",
              "      <td>0.449</td>\n",
              "      <td>5.885</td>\n",
              "      <td>45.025</td>\n",
              "      <td>2.100</td>\n",
              "      <td>4.000</td>\n",
              "      <td>279.000</td>\n",
              "      <td>17.400</td>\n",
              "      <td>375.377</td>\n",
              "      <td>6.950</td>\n",
              "    </tr>\n",
              "    <tr>\n",
              "      <th>50%</th>\n",
              "      <td>0.257</td>\n",
              "      <td>0.000</td>\n",
              "      <td>9.690</td>\n",
              "      <td>0.538</td>\n",
              "      <td>6.208</td>\n",
              "      <td>77.500</td>\n",
              "      <td>3.207</td>\n",
              "      <td>5.000</td>\n",
              "      <td>330.000</td>\n",
              "      <td>19.050</td>\n",
              "      <td>391.440</td>\n",
              "      <td>11.360</td>\n",
              "    </tr>\n",
              "    <tr>\n",
              "      <th>75%</th>\n",
              "      <td>3.677</td>\n",
              "      <td>12.500</td>\n",
              "      <td>18.100</td>\n",
              "      <td>0.624</td>\n",
              "      <td>6.623</td>\n",
              "      <td>94.075</td>\n",
              "      <td>5.188</td>\n",
              "      <td>24.000</td>\n",
              "      <td>666.000</td>\n",
              "      <td>20.200</td>\n",
              "      <td>396.225</td>\n",
              "      <td>16.955</td>\n",
              "    </tr>\n",
              "    <tr>\n",
              "      <th>max</th>\n",
              "      <td>88.976</td>\n",
              "      <td>100.000</td>\n",
              "      <td>27.740</td>\n",
              "      <td>0.871</td>\n",
              "      <td>8.780</td>\n",
              "      <td>100.000</td>\n",
              "      <td>12.127</td>\n",
              "      <td>24.000</td>\n",
              "      <td>711.000</td>\n",
              "      <td>22.000</td>\n",
              "      <td>396.900</td>\n",
              "      <td>37.970</td>\n",
              "    </tr>\n",
              "  </tbody>\n",
              "</table>\n",
              "</div>\n",
              "      <button class=\"colab-df-convert\" onclick=\"convertToInteractive('df-2f304248-4d2e-4e13-9d40-e43affe7927b')\"\n",
              "              title=\"Convert this dataframe to an interactive table.\"\n",
              "              style=\"display:none;\">\n",
              "        \n",
              "  <svg xmlns=\"http://www.w3.org/2000/svg\" height=\"24px\"viewBox=\"0 0 24 24\"\n",
              "       width=\"24px\">\n",
              "    <path d=\"M0 0h24v24H0V0z\" fill=\"none\"/>\n",
              "    <path d=\"M18.56 5.44l.94 2.06.94-2.06 2.06-.94-2.06-.94-.94-2.06-.94 2.06-2.06.94zm-11 1L8.5 8.5l.94-2.06 2.06-.94-2.06-.94L8.5 2.5l-.94 2.06-2.06.94zm10 10l.94 2.06.94-2.06 2.06-.94-2.06-.94-.94-2.06-.94 2.06-2.06.94z\"/><path d=\"M17.41 7.96l-1.37-1.37c-.4-.4-.92-.59-1.43-.59-.52 0-1.04.2-1.43.59L10.3 9.45l-7.72 7.72c-.78.78-.78 2.05 0 2.83L4 21.41c.39.39.9.59 1.41.59.51 0 1.02-.2 1.41-.59l7.78-7.78 2.81-2.81c.8-.78.8-2.07 0-2.86zM5.41 20L4 18.59l7.72-7.72 1.47 1.35L5.41 20z\"/>\n",
              "  </svg>\n",
              "      </button>\n",
              "      \n",
              "  <style>\n",
              "    .colab-df-container {\n",
              "      display:flex;\n",
              "      flex-wrap:wrap;\n",
              "      gap: 12px;\n",
              "    }\n",
              "\n",
              "    .colab-df-convert {\n",
              "      background-color: #E8F0FE;\n",
              "      border: none;\n",
              "      border-radius: 50%;\n",
              "      cursor: pointer;\n",
              "      display: none;\n",
              "      fill: #1967D2;\n",
              "      height: 32px;\n",
              "      padding: 0 0 0 0;\n",
              "      width: 32px;\n",
              "    }\n",
              "\n",
              "    .colab-df-convert:hover {\n",
              "      background-color: #E2EBFA;\n",
              "      box-shadow: 0px 1px 2px rgba(60, 64, 67, 0.3), 0px 1px 3px 1px rgba(60, 64, 67, 0.15);\n",
              "      fill: #174EA6;\n",
              "    }\n",
              "\n",
              "    [theme=dark] .colab-df-convert {\n",
              "      background-color: #3B4455;\n",
              "      fill: #D2E3FC;\n",
              "    }\n",
              "\n",
              "    [theme=dark] .colab-df-convert:hover {\n",
              "      background-color: #434B5C;\n",
              "      box-shadow: 0px 1px 3px 1px rgba(0, 0, 0, 0.15);\n",
              "      filter: drop-shadow(0px 1px 2px rgba(0, 0, 0, 0.3));\n",
              "      fill: #FFFFFF;\n",
              "    }\n",
              "  </style>\n",
              "\n",
              "      <script>\n",
              "        const buttonEl =\n",
              "          document.querySelector('#df-2f304248-4d2e-4e13-9d40-e43affe7927b button.colab-df-convert');\n",
              "        buttonEl.style.display =\n",
              "          google.colab.kernel.accessAllowed ? 'block' : 'none';\n",
              "\n",
              "        async function convertToInteractive(key) {\n",
              "          const element = document.querySelector('#df-2f304248-4d2e-4e13-9d40-e43affe7927b');\n",
              "          const dataTable =\n",
              "            await google.colab.kernel.invokeFunction('convertToInteractive',\n",
              "                                                     [key], {});\n",
              "          if (!dataTable) return;\n",
              "\n",
              "          const docLinkHtml = 'Like what you see? Visit the ' +\n",
              "            '<a target=\"_blank\" href=https://colab.research.google.com/notebooks/data_table.ipynb>data table notebook</a>'\n",
              "            + ' to learn more about interactive tables.';\n",
              "          element.innerHTML = '';\n",
              "          dataTable['output_type'] = 'display_data';\n",
              "          await google.colab.output.renderOutput(dataTable, element);\n",
              "          const docLink = document.createElement('div');\n",
              "          docLink.innerHTML = docLinkHtml;\n",
              "          element.appendChild(docLink);\n",
              "        }\n",
              "      </script>\n",
              "    </div>\n",
              "  </div>\n",
              "  "
            ]
          },
          "metadata": {},
          "execution_count": 15
        }
      ]
    },
    {
      "cell_type": "code",
      "source": [
        "Df.info() #데이터정보확인"
      ],
      "metadata": {
        "colab": {
          "base_uri": "https://localhost:8080/"
        },
        "id": "eh8SWrlkabdA",
        "outputId": "e5638b31-3b7d-4322-f362-7895e808fa5f"
      },
      "execution_count": null,
      "outputs": [
        {
          "output_type": "stream",
          "name": "stdout",
          "text": [
            "<class 'pandas.core.frame.DataFrame'>\n",
            "RangeIndex: 506 entries, 0 to 505\n",
            "Data columns (total 14 columns):\n",
            " #   Column   Non-Null Count  Dtype  \n",
            "---  ------   --------------  -----  \n",
            " 0   CRIM     506 non-null    float64\n",
            " 1   ZN       506 non-null    float64\n",
            " 2   INDUS    506 non-null    float64\n",
            " 3   CHAS     506 non-null    float64\n",
            " 4   NOX      506 non-null    float64\n",
            " 5   RM       506 non-null    float64\n",
            " 6   AGE      506 non-null    float64\n",
            " 7   DIS      506 non-null    float64\n",
            " 8   RAD      506 non-null    float64\n",
            " 9   TAX      506 non-null    float64\n",
            " 10  PTRATIO  506 non-null    float64\n",
            " 11  B        506 non-null    float64\n",
            " 12  LSTAT    506 non-null    float64\n",
            " 13  MEDV     506 non-null    float64\n",
            "dtypes: float64(14)\n",
            "memory usage: 55.5 KB\n"
          ]
        }
      ]
    },
    {
      "cell_type": "markdown",
      "source": [
        "### 질적변수에 대한 탐색적 분석"
      ],
      "metadata": {
        "id": "XN8TPAQ_JY96"
      }
    },
    {
      "cell_type": "code",
      "source": [
        "var_cate  = Df[[\"CHAS\"]]\n",
        "var_cate"
      ],
      "metadata": {
        "colab": {
          "base_uri": "https://localhost:8080/",
          "height": 424
        },
        "id": "7Cq1MdEYbiKE",
        "outputId": "77a3b660-5933-44ac-ff84-923c95d758f5"
      },
      "execution_count": null,
      "outputs": [
        {
          "output_type": "execute_result",
          "data": {
            "text/plain": [
              "     CHAS\n",
              "0   0.000\n",
              "1   0.000\n",
              "2   0.000\n",
              "3   0.000\n",
              "4   0.000\n",
              "..    ...\n",
              "501 0.000\n",
              "502 0.000\n",
              "503 0.000\n",
              "504 0.000\n",
              "505 0.000\n",
              "\n",
              "[506 rows x 1 columns]"
            ],
            "text/html": [
              "\n",
              "  <div id=\"df-ce4a74d5-b2a8-44de-985f-0d4d31210560\">\n",
              "    <div class=\"colab-df-container\">\n",
              "      <div>\n",
              "<style scoped>\n",
              "    .dataframe tbody tr th:only-of-type {\n",
              "        vertical-align: middle;\n",
              "    }\n",
              "\n",
              "    .dataframe tbody tr th {\n",
              "        vertical-align: top;\n",
              "    }\n",
              "\n",
              "    .dataframe thead th {\n",
              "        text-align: right;\n",
              "    }\n",
              "</style>\n",
              "<table border=\"1\" class=\"dataframe\">\n",
              "  <thead>\n",
              "    <tr style=\"text-align: right;\">\n",
              "      <th></th>\n",
              "      <th>CHAS</th>\n",
              "    </tr>\n",
              "  </thead>\n",
              "  <tbody>\n",
              "    <tr>\n",
              "      <th>0</th>\n",
              "      <td>0.000</td>\n",
              "    </tr>\n",
              "    <tr>\n",
              "      <th>1</th>\n",
              "      <td>0.000</td>\n",
              "    </tr>\n",
              "    <tr>\n",
              "      <th>2</th>\n",
              "      <td>0.000</td>\n",
              "    </tr>\n",
              "    <tr>\n",
              "      <th>3</th>\n",
              "      <td>0.000</td>\n",
              "    </tr>\n",
              "    <tr>\n",
              "      <th>4</th>\n",
              "      <td>0.000</td>\n",
              "    </tr>\n",
              "    <tr>\n",
              "      <th>...</th>\n",
              "      <td>...</td>\n",
              "    </tr>\n",
              "    <tr>\n",
              "      <th>501</th>\n",
              "      <td>0.000</td>\n",
              "    </tr>\n",
              "    <tr>\n",
              "      <th>502</th>\n",
              "      <td>0.000</td>\n",
              "    </tr>\n",
              "    <tr>\n",
              "      <th>503</th>\n",
              "      <td>0.000</td>\n",
              "    </tr>\n",
              "    <tr>\n",
              "      <th>504</th>\n",
              "      <td>0.000</td>\n",
              "    </tr>\n",
              "    <tr>\n",
              "      <th>505</th>\n",
              "      <td>0.000</td>\n",
              "    </tr>\n",
              "  </tbody>\n",
              "</table>\n",
              "<p>506 rows × 1 columns</p>\n",
              "</div>\n",
              "      <button class=\"colab-df-convert\" onclick=\"convertToInteractive('df-ce4a74d5-b2a8-44de-985f-0d4d31210560')\"\n",
              "              title=\"Convert this dataframe to an interactive table.\"\n",
              "              style=\"display:none;\">\n",
              "        \n",
              "  <svg xmlns=\"http://www.w3.org/2000/svg\" height=\"24px\"viewBox=\"0 0 24 24\"\n",
              "       width=\"24px\">\n",
              "    <path d=\"M0 0h24v24H0V0z\" fill=\"none\"/>\n",
              "    <path d=\"M18.56 5.44l.94 2.06.94-2.06 2.06-.94-2.06-.94-.94-2.06-.94 2.06-2.06.94zm-11 1L8.5 8.5l.94-2.06 2.06-.94-2.06-.94L8.5 2.5l-.94 2.06-2.06.94zm10 10l.94 2.06.94-2.06 2.06-.94-2.06-.94-.94-2.06-.94 2.06-2.06.94z\"/><path d=\"M17.41 7.96l-1.37-1.37c-.4-.4-.92-.59-1.43-.59-.52 0-1.04.2-1.43.59L10.3 9.45l-7.72 7.72c-.78.78-.78 2.05 0 2.83L4 21.41c.39.39.9.59 1.41.59.51 0 1.02-.2 1.41-.59l7.78-7.78 2.81-2.81c.8-.78.8-2.07 0-2.86zM5.41 20L4 18.59l7.72-7.72 1.47 1.35L5.41 20z\"/>\n",
              "  </svg>\n",
              "      </button>\n",
              "      \n",
              "  <style>\n",
              "    .colab-df-container {\n",
              "      display:flex;\n",
              "      flex-wrap:wrap;\n",
              "      gap: 12px;\n",
              "    }\n",
              "\n",
              "    .colab-df-convert {\n",
              "      background-color: #E8F0FE;\n",
              "      border: none;\n",
              "      border-radius: 50%;\n",
              "      cursor: pointer;\n",
              "      display: none;\n",
              "      fill: #1967D2;\n",
              "      height: 32px;\n",
              "      padding: 0 0 0 0;\n",
              "      width: 32px;\n",
              "    }\n",
              "\n",
              "    .colab-df-convert:hover {\n",
              "      background-color: #E2EBFA;\n",
              "      box-shadow: 0px 1px 2px rgba(60, 64, 67, 0.3), 0px 1px 3px 1px rgba(60, 64, 67, 0.15);\n",
              "      fill: #174EA6;\n",
              "    }\n",
              "\n",
              "    [theme=dark] .colab-df-convert {\n",
              "      background-color: #3B4455;\n",
              "      fill: #D2E3FC;\n",
              "    }\n",
              "\n",
              "    [theme=dark] .colab-df-convert:hover {\n",
              "      background-color: #434B5C;\n",
              "      box-shadow: 0px 1px 3px 1px rgba(0, 0, 0, 0.15);\n",
              "      filter: drop-shadow(0px 1px 2px rgba(0, 0, 0, 0.3));\n",
              "      fill: #FFFFFF;\n",
              "    }\n",
              "  </style>\n",
              "\n",
              "      <script>\n",
              "        const buttonEl =\n",
              "          document.querySelector('#df-ce4a74d5-b2a8-44de-985f-0d4d31210560 button.colab-df-convert');\n",
              "        buttonEl.style.display =\n",
              "          google.colab.kernel.accessAllowed ? 'block' : 'none';\n",
              "\n",
              "        async function convertToInteractive(key) {\n",
              "          const element = document.querySelector('#df-ce4a74d5-b2a8-44de-985f-0d4d31210560');\n",
              "          const dataTable =\n",
              "            await google.colab.kernel.invokeFunction('convertToInteractive',\n",
              "                                                     [key], {});\n",
              "          if (!dataTable) return;\n",
              "\n",
              "          const docLinkHtml = 'Like what you see? Visit the ' +\n",
              "            '<a target=\"_blank\" href=https://colab.research.google.com/notebooks/data_table.ipynb>data table notebook</a>'\n",
              "            + ' to learn more about interactive tables.';\n",
              "          element.innerHTML = '';\n",
              "          dataTable['output_type'] = 'display_data';\n",
              "          await google.colab.output.renderOutput(dataTable, element);\n",
              "          const docLink = document.createElement('div');\n",
              "          docLink.innerHTML = docLinkHtml;\n",
              "          element.appendChild(docLink);\n",
              "        }\n",
              "      </script>\n",
              "    </div>\n",
              "  </div>\n",
              "  "
            ]
          },
          "metadata": {},
          "execution_count": 17
        }
      ]
    },
    {
      "cell_type": "code",
      "source": [
        "import sidetable as stb\n",
        "for col in var_cate:\n",
        "  print(var_cate.stb.freq([col]))"
      ],
      "metadata": {
        "colab": {
          "base_uri": "https://localhost:8080/"
        },
        "id": "5I2G3N06J2zh",
        "outputId": "5c7b6f1a-12fe-44c8-db17-7746321cd64b"
      },
      "execution_count": null,
      "outputs": [
        {
          "output_type": "stream",
          "name": "stdout",
          "text": [
            "   CHAS  count  percent  cumulative_count  cumulative_percent\n",
            "0 0.000    471   93.083               471              93.083\n",
            "1 1.000     35    6.917               506             100.000\n"
          ]
        }
      ]
    },
    {
      "cell_type": "code",
      "source": [
        "import matplotlib.pyplot as plt \n",
        "plt.rcParams['figure.figsize'] = [12, 8]\n",
        "# Pie chart\n",
        "Df['CHAS'].value_counts().plot.pie(autopct='%1.1f%%')\n",
        "plt.show()"
      ],
      "metadata": {
        "colab": {
          "base_uri": "https://localhost:8080/",
          "height": 466
        },
        "id": "aztD8VlWKdrd",
        "outputId": "0b7b988c-aed3-4d51-cc82-d503878d20e7"
      },
      "execution_count": null,
      "outputs": [
        {
          "output_type": "display_data",
          "data": {
            "text/plain": [
              "<Figure size 864x576 with 1 Axes>"
            ],
            "image/png": "[encoded data removed]"
          },
          "metadata": {}
        }
      ]
    },
    {
      "cell_type": "code",
      "source": [
        "#문자형식으로 코딩된 질적변수를 더미변수로 코딩\n",
        "Df_dummy = pd.get_dummies(Df, drop_first=True) # 기준변수를 0으로 만들어줌\n",
        "Df_dummy.head()"
      ],
      "metadata": {
        "colab": {
          "base_uri": "https://localhost:8080/",
          "height": 206
        },
        "id": "qpBHm0wo3d5y",
        "outputId": "161f3a56-52cb-4941-ed94-3a6e24f69735"
      },
      "execution_count": null,
      "outputs": [
        {
          "output_type": "execute_result",
          "data": {
            "text/plain": [
              "   CRIM     ZN  INDUS  CHAS   NOX    RM    AGE   DIS   RAD     TAX  PTRATIO  \\\n",
              "0 0.006 18.000  2.310 0.000 0.538 6.575 65.200 4.090 1.000 296.000   15.300   \n",
              "1 0.027  0.000  7.070 0.000 0.469 6.421 78.900 4.967 2.000 242.000   17.800   \n",
              "2 0.027  0.000  7.070 0.000 0.469 7.185 61.100 4.967 2.000 242.000   17.800   \n",
              "3 0.032  0.000  2.180 0.000 0.458 6.998 45.800 6.062 3.000 222.000   18.700   \n",
              "4 0.069  0.000  2.180 0.000 0.458 7.147 54.200 6.062 3.000 222.000   18.700   \n",
              "\n",
              "        B  LSTAT   MEDV  \n",
              "0 396.900  4.980 24.000  \n",
              "1 396.900  9.140 21.600  \n",
              "2 392.830  4.030 34.700  \n",
              "3 394.630  2.940 33.400  \n",
              "4 396.900  5.330 36.200  "
            ],
            "text/html": [
              "\n",
              "  <div id=\"df-1c893cae-f665-4690-af4f-8d7019200afa\">\n",
              "    <div class=\"colab-df-container\">\n",
              "      <div>\n",
              "<style scoped>\n",
              "    .dataframe tbody tr th:only-of-type {\n",
              "        vertical-align: middle;\n",
              "    }\n",
              "\n",
              "    .dataframe tbody tr th {\n",
              "        vertical-align: top;\n",
              "    }\n",
              "\n",
              "    .dataframe thead th {\n",
              "        text-align: right;\n",
              "    }\n",
              "</style>\n",
              "<table border=\"1\" class=\"dataframe\">\n",
              "  <thead>\n",
              "    <tr style=\"text-align: right;\">\n",
              "      <th></th>\n",
              "      <th>CRIM</th>\n",
              "      <th>ZN</th>\n",
              "      <th>INDUS</th>\n",
              "      <th>CHAS</th>\n",
              "      <th>NOX</th>\n",
              "      <th>RM</th>\n",
              "      <th>AGE</th>\n",
              "      <th>DIS</th>\n",
              "      <th>RAD</th>\n",
              "      <th>TAX</th>\n",
              "      <th>PTRATIO</th>\n",
              "      <th>B</th>\n",
              "      <th>LSTAT</th>\n",
              "      <th>MEDV</th>\n",
              "    </tr>\n",
              "  </thead>\n",
              "  <tbody>\n",
              "    <tr>\n",
              "      <th>0</th>\n",
              "      <td>0.006</td>\n",
              "      <td>18.000</td>\n",
              "      <td>2.310</td>\n",
              "      <td>0.000</td>\n",
              "      <td>0.538</td>\n",
              "      <td>6.575</td>\n",
              "      <td>65.200</td>\n",
              "      <td>4.090</td>\n",
              "      <td>1.000</td>\n",
              "      <td>296.000</td>\n",
              "      <td>15.300</td>\n",
              "      <td>396.900</td>\n",
              "      <td>4.980</td>\n",
              "      <td>24.000</td>\n",
              "    </tr>\n",
              "    <tr>\n",
              "      <th>1</th>\n",
              "      <td>0.027</td>\n",
              "      <td>0.000</td>\n",
              "      <td>7.070</td>\n",
              "      <td>0.000</td>\n",
              "      <td>0.469</td>\n",
              "      <td>6.421</td>\n",
              "      <td>78.900</td>\n",
              "      <td>4.967</td>\n",
              "      <td>2.000</td>\n",
              "      <td>242.000</td>\n",
              "      <td>17.800</td>\n",
              "      <td>396.900</td>\n",
              "      <td>9.140</td>\n",
              "      <td>21.600</td>\n",
              "    </tr>\n",
              "    <tr>\n",
              "      <th>2</th>\n",
              "      <td>0.027</td>\n",
              "      <td>0.000</td>\n",
              "      <td>7.070</td>\n",
              "      <td>0.000</td>\n",
              "      <td>0.469</td>\n",
              "      <td>7.185</td>\n",
              "      <td>61.100</td>\n",
              "      <td>4.967</td>\n",
              "      <td>2.000</td>\n",
              "      <td>242.000</td>\n",
              "      <td>17.800</td>\n",
              "      <td>392.830</td>\n",
              "      <td>4.030</td>\n",
              "      <td>34.700</td>\n",
              "    </tr>\n",
              "    <tr>\n",
              "      <th>3</th>\n",
              "      <td>0.032</td>\n",
              "      <td>0.000</td>\n",
              "      <td>2.180</td>\n",
              "      <td>0.000</td>\n",
              "      <td>0.458</td>\n",
              "      <td>6.998</td>\n",
              "      <td>45.800</td>\n",
              "      <td>6.062</td>\n",
              "      <td>3.000</td>\n",
              "      <td>222.000</td>\n",
              "      <td>18.700</td>\n",
              "      <td>394.630</td>\n",
              "      <td>2.940</td>\n",
              "      <td>33.400</td>\n",
              "    </tr>\n",
              "    <tr>\n",
              "      <th>4</th>\n",
              "      <td>0.069</td>\n",
              "      <td>0.000</td>\n",
              "      <td>2.180</td>\n",
              "      <td>0.000</td>\n",
              "      <td>0.458</td>\n",
              "      <td>7.147</td>\n",
              "      <td>54.200</td>\n",
              "      <td>6.062</td>\n",
              "      <td>3.000</td>\n",
              "      <td>222.000</td>\n",
              "      <td>18.700</td>\n",
              "      <td>396.900</td>\n",
              "      <td>5.330</td>\n",
              "      <td>36.200</td>\n",
              "    </tr>\n",
              "  </tbody>\n",
              "</table>\n",
              "</div>\n",
              "      <button class=\"colab-df-convert\" onclick=\"convertToInteractive('df-1c893cae-f665-4690-af4f-8d7019200afa')\"\n",
              "              title=\"Convert this dataframe to an interactive table.\"\n",
              "              style=\"display:none;\">\n",
              "        \n",
              "  <svg xmlns=\"http://www.w3.org/2000/svg\" height=\"24px\"viewBox=\"0 0 24 24\"\n",
              "       width=\"24px\">\n",
              "    <path d=\"M0 0h24v24H0V0z\" fill=\"none\"/>\n",
              "    <path d=\"M18.56 5.44l.94 2.06.94-2.06 2.06-.94-2.06-.94-.94-2.06-.94 2.06-2.06.94zm-11 1L8.5 8.5l.94-2.06 2.06-.94-2.06-.94L8.5 2.5l-.94 2.06-2.06.94zm10 10l.94 2.06.94-2.06 2.06-.94-2.06-.94-.94-2.06-.94 2.06-2.06.94z\"/><path d=\"M17.41 7.96l-1.37-1.37c-.4-.4-.92-.59-1.43-.59-.52 0-1.04.2-1.43.59L10.3 9.45l-7.72 7.72c-.78.78-.78 2.05 0 2.83L4 21.41c.39.39.9.59 1.41.59.51 0 1.02-.2 1.41-.59l7.78-7.78 2.81-2.81c.8-.78.8-2.07 0-2.86zM5.41 20L4 18.59l7.72-7.72 1.47 1.35L5.41 20z\"/>\n",
              "  </svg>\n",
              "      </button>\n",
              "      \n",
              "  <style>\n",
              "    .colab-df-container {\n",
              "      display:flex;\n",
              "      flex-wrap:wrap;\n",
              "      gap: 12px;\n",
              "    }\n",
              "\n",
              "    .colab-df-convert {\n",
              "      background-color: #E8F0FE;\n",
              "      border: none;\n",
              "      border-radius: 50%;\n",
              "      cursor: pointer;\n",
              "      display: none;\n",
              "      fill: #1967D2;\n",
              "      height: 32px;\n",
              "      padding: 0 0 0 0;\n",
              "      width: 32px;\n",
              "    }\n",
              "\n",
              "    .colab-df-convert:hover {\n",
              "      background-color: #E2EBFA;\n",
              "      box-shadow: 0px 1px 2px rgba(60, 64, 67, 0.3), 0px 1px 3px 1px rgba(60, 64, 67, 0.15);\n",
              "      fill: #174EA6;\n",
              "    }\n",
              "\n",
              "    [theme=dark] .colab-df-convert {\n",
              "      background-color: #3B4455;\n",
              "      fill: #D2E3FC;\n",
              "    }\n",
              "\n",
              "    [theme=dark] .colab-df-convert:hover {\n",
              "      background-color: #434B5C;\n",
              "      box-shadow: 0px 1px 3px 1px rgba(0, 0, 0, 0.15);\n",
              "      filter: drop-shadow(0px 1px 2px rgba(0, 0, 0, 0.3));\n",
              "      fill: #FFFFFF;\n",
              "    }\n",
              "  </style>\n",
              "\n",
              "      <script>\n",
              "        const buttonEl =\n",
              "          document.querySelector('#df-1c893cae-f665-4690-af4f-8d7019200afa button.colab-df-convert');\n",
              "        buttonEl.style.display =\n",
              "          google.colab.kernel.accessAllowed ? 'block' : 'none';\n",
              "\n",
              "        async function convertToInteractive(key) {\n",
              "          const element = document.querySelector('#df-1c893cae-f665-4690-af4f-8d7019200afa');\n",
              "          const dataTable =\n",
              "            await google.colab.kernel.invokeFunction('convertToInteractive',\n",
              "                                                     [key], {});\n",
              "          if (!dataTable) return;\n",
              "\n",
              "          const docLinkHtml = 'Like what you see? Visit the ' +\n",
              "            '<a target=\"_blank\" href=https://colab.research.google.com/notebooks/data_table.ipynb>data table notebook</a>'\n",
              "            + ' to learn more about interactive tables.';\n",
              "          element.innerHTML = '';\n",
              "          dataTable['output_type'] = 'display_data';\n",
              "          await google.colab.output.renderOutput(dataTable, element);\n",
              "          const docLink = document.createElement('div');\n",
              "          docLink.innerHTML = docLinkHtml;\n",
              "          element.appendChild(docLink);\n",
              "        }\n",
              "      </script>\n",
              "    </div>\n",
              "  </div>\n",
              "  "
            ]
          },
          "metadata": {},
          "execution_count": 20
        }
      ]
    },
    {
      "cell_type": "code",
      "source": [
        "Df_dummy.columns"
      ],
      "metadata": {
        "colab": {
          "base_uri": "https://localhost:8080/"
        },
        "id": "JuzC3t8JYMOu",
        "outputId": "b240989d-0e0d-4b69-b0e3-0bb86f9b2298"
      },
      "execution_count": null,
      "outputs": [
        {
          "output_type": "execute_result",
          "data": {
            "text/plain": [
              "Index(['CRIM', 'ZN', 'INDUS', 'CHAS', 'NOX', 'RM', 'AGE', 'DIS', 'RAD', 'TAX',\n",
              "       'PTRATIO', 'B', 'LSTAT', 'MEDV'],\n",
              "      dtype='object')"
            ]
          },
          "metadata": {},
          "execution_count": 21
        }
      ]
    },
    {
      "cell_type": "code",
      "source": [
        "target = Df_dummy['MEDV']"
      ],
      "metadata": {
        "id": "rjDrKkTm4i6D"
      },
      "execution_count": null,
      "outputs": []
    },
    {
      "cell_type": "code",
      "source": [
        "target"
      ],
      "metadata": {
        "id": "PJ6UZLLt6x54",
        "colab": {
          "base_uri": "https://localhost:8080/"
        },
        "outputId": "4d4cad9a-e5cc-4e6f-9384-b70cc1dcf210"
      },
      "execution_count": null,
      "outputs": [
        {
          "output_type": "execute_result",
          "data": {
            "text/plain": [
              "0     24.000\n",
              "1     21.600\n",
              "2     34.700\n",
              "3     33.400\n",
              "4     36.200\n",
              "       ...  \n",
              "501   22.400\n",
              "502   20.600\n",
              "503   23.900\n",
              "504   22.000\n",
              "505   11.900\n",
              "Name: MEDV, Length: 506, dtype: float64"
            ]
          },
          "metadata": {},
          "execution_count": 23
        }
      ]
    },
    {
      "cell_type": "code",
      "source": [
        "features = Df_dummy.drop(['MEDV'], axis = 1) # 여러개의 열을 삭제할 때\n",
        "features"
      ],
      "metadata": {
        "colab": {
          "base_uri": "https://localhost:8080/",
          "height": 424
        },
        "id": "AlupvVPf6uTC",
        "outputId": "a5f6f296-4a4c-4127-be37-46d57dd5e2e0"
      },
      "execution_count": null,
      "outputs": [
        {
          "output_type": "execute_result",
          "data": {
            "text/plain": [
              "     CRIM     ZN  INDUS  CHAS   NOX    RM    AGE   DIS   RAD     TAX  PTRATIO  \\\n",
              "0   0.006 18.000  2.310 0.000 0.538 6.575 65.200 4.090 1.000 296.000   15.300   \n",
              "1   0.027  0.000  7.070 0.000 0.469 6.421 78.900 4.967 2.000 242.000   17.800   \n",
              "2   0.027  0.000  7.070 0.000 0.469 7.185 61.100 4.967 2.000 242.000   17.800   \n",
              "3   0.032  0.000  2.180 0.000 0.458 6.998 45.800 6.062 3.000 222.000   18.700   \n",
              "4   0.069  0.000  2.180 0.000 0.458 7.147 54.200 6.062 3.000 222.000   18.700   \n",
              "..    ...    ...    ...   ...   ...   ...    ...   ...   ...     ...      ...   \n",
              "501 0.063  0.000 11.930 0.000 0.573 6.593 69.100 2.479 1.000 273.000   21.000   \n",
              "502 0.045  0.000 11.930 0.000 0.573 6.120 76.700 2.288 1.000 273.000   21.000   \n",
              "503 0.061  0.000 11.930 0.000 0.573 6.976 91.000 2.167 1.000 273.000   21.000   \n",
              "504 0.110  0.000 11.930 0.000 0.573 6.794 89.300 2.389 1.000 273.000   21.000   \n",
              "505 0.047  0.000 11.930 0.000 0.573 6.030 80.800 2.505 1.000 273.000   21.000   \n",
              "\n",
              "          B  LSTAT  \n",
              "0   396.900  4.980  \n",
              "1   396.900  9.140  \n",
              "2   392.830  4.030  \n",
              "3   394.630  2.940  \n",
              "4   396.900  5.330  \n",
              "..      ...    ...  \n",
              "501 391.990  9.670  \n",
              "502 396.900  9.080  \n",
              "503 396.900  5.640  \n",
              "504 393.450  6.480  \n",
              "505 396.900  7.880  \n",
              "\n",
              "[506 rows x 13 columns]"
            ],
            "text/html": [
              "\n",
              "  <div id=\"df-ae71c6fe-dbc9-4de6-95d1-77003196b6ac\">\n",
              "    <div class=\"colab-df-container\">\n",
              "      <div>\n",
              "<style scoped>\n",
              "    .dataframe tbody tr th:only-of-type {\n",
              "        vertical-align: middle;\n",
              "    }\n",
              "\n",
              "    .dataframe tbody tr th {\n",
              "        vertical-align: top;\n",
              "    }\n",
              "\n",
              "    .dataframe thead th {\n",
              "        text-align: right;\n",
              "    }\n",
              "</style>\n",
              "<table border=\"1\" class=\"dataframe\">\n",
              "  <thead>\n",
              "    <tr style=\"text-align: right;\">\n",
              "      <th></th>\n",
              "      <th>CRIM</th>\n",
              "      <th>ZN</th>\n",
              "      <th>INDUS</th>\n",
              "      <th>CHAS</th>\n",
              "      <th>NOX</th>\n",
              "      <th>RM</th>\n",
              "      <th>AGE</th>\n",
              "      <th>DIS</th>\n",
              "      <th>RAD</th>\n",
              "      <th>TAX</th>\n",
              "      <th>PTRATIO</th>\n",
              "      <th>B</th>\n",
              "      <th>LSTAT</th>\n",
              "    </tr>\n",
              "  </thead>\n",
              "  <tbody>\n",
              "    <tr>\n",
              "      <th>0</th>\n",
              "      <td>0.006</td>\n",
              "      <td>18.000</td>\n",
              "      <td>2.310</td>\n",
              "      <td>0.000</td>\n",
              "      <td>0.538</td>\n",
              "      <td>6.575</td>\n",
              "      <td>65.200</td>\n",
              "      <td>4.090</td>\n",
              "      <td>1.000</td>\n",
              "      <td>296.000</td>\n",
              "      <td>15.300</td>\n",
              "      <td>396.900</td>\n",
              "      <td>4.980</td>\n",
              "    </tr>\n",
              "    <tr>\n",
              "      <th>1</th>\n",
              "      <td>0.027</td>\n",
              "      <td>0.000</td>\n",
              "      <td>7.070</td>\n",
              "      <td>0.000</td>\n",
              "      <td>0.469</td>\n",
              "      <td>6.421</td>\n",
              "      <td>78.900</td>\n",
              "      <td>4.967</td>\n",
              "      <td>2.000</td>\n",
              "      <td>242.000</td>\n",
              "      <td>17.800</td>\n",
              "      <td>396.900</td>\n",
              "      <td>9.140</td>\n",
              "    </tr>\n",
              "    <tr>\n",
              "      <th>2</th>\n",
              "      <td>0.027</td>\n",
              "      <td>0.000</td>\n",
              "      <td>7.070</td>\n",
              "      <td>0.000</td>\n",
              "      <td>0.469</td>\n",
              "      <td>7.185</td>\n",
              "      <td>61.100</td>\n",
              "      <td>4.967</td>\n",
              "      <td>2.000</td>\n",
              "      <td>242.000</td>\n",
              "      <td>17.800</td>\n",
              "      <td>392.830</td>\n",
              "      <td>4.030</td>\n",
              "    </tr>\n",
              "    <tr>\n",
              "      <th>3</th>\n",
              "      <td>0.032</td>\n",
              "      <td>0.000</td>\n",
              "      <td>2.180</td>\n",
              "      <td>0.000</td>\n",
              "      <td>0.458</td>\n",
              "      <td>6.998</td>\n",
              "      <td>45.800</td>\n",
              "      <td>6.062</td>\n",
              "      <td>3.000</td>\n",
              "      <td>222.000</td>\n",
              "      <td>18.700</td>\n",
              "      <td>394.630</td>\n",
              "      <td>2.940</td>\n",
              "    </tr>\n",
              "    <tr>\n",
              "      <th>4</th>\n",
              "      <td>0.069</td>\n",
              "      <td>0.000</td>\n",
              "      <td>2.180</td>\n",
              "      <td>0.000</td>\n",
              "      <td>0.458</td>\n",
              "      <td>7.147</td>\n",
              "      <td>54.200</td>\n",
              "      <td>6.062</td>\n",
              "      <td>3.000</td>\n",
              "      <td>222.000</td>\n",
              "      <td>18.700</td>\n",
              "      <td>396.900</td>\n",
              "      <td>5.330</td>\n",
              "    </tr>\n",
              "    <tr>\n",
              "      <th>...</th>\n",
              "      <td>...</td>\n",
              "      <td>...</td>\n",
              "      <td>...</td>\n",
              "      <td>...</td>\n",
              "      <td>...</td>\n",
              "      <td>...</td>\n",
              "      <td>...</td>\n",
              "      <td>...</td>\n",
              "      <td>...</td>\n",
              "      <td>...</td>\n",
              "      <td>...</td>\n",
              "      <td>...</td>\n",
              "      <td>...</td>\n",
              "    </tr>\n",
              "    <tr>\n",
              "      <th>501</th>\n",
              "      <td>0.063</td>\n",
              "      <td>0.000</td>\n",
              "      <td>11.930</td>\n",
              "      <td>0.000</td>\n",
              "      <td>0.573</td>\n",
              "      <td>6.593</td>\n",
              "      <td>69.100</td>\n",
              "      <td>2.479</td>\n",
              "      <td>1.000</td>\n",
              "      <td>273.000</td>\n",
              "      <td>21.000</td>\n",
              "      <td>391.990</td>\n",
              "      <td>9.670</td>\n",
              "    </tr>\n",
              "    <tr>\n",
              "      <th>502</th>\n",
              "      <td>0.045</td>\n",
              "      <td>0.000</td>\n",
              "      <td>11.930</td>\n",
              "      <td>0.000</td>\n",
              "      <td>0.573</td>\n",
              "      <td>6.120</td>\n",
              "      <td>76.700</td>\n",
              "      <td>2.288</td>\n",
              "      <td>1.000</td>\n",
              "      <td>273.000</td>\n",
              "      <td>21.000</td>\n",
              "      <td>396.900</td>\n",
              "      <td>9.080</td>\n",
              "    </tr>\n",
              "    <tr>\n",
              "      <th>503</th>\n",
              "      <td>0.061</td>\n",
              "      <td>0.000</td>\n",
              "      <td>11.930</td>\n",
              "      <td>0.000</td>\n",
              "      <td>0.573</td>\n",
              "      <td>6.976</td>\n",
              "      <td>91.000</td>\n",
              "      <td>2.167</td>\n",
              "      <td>1.000</td>\n",
              "      <td>273.000</td>\n",
              "      <td>21.000</td>\n",
              "      <td>396.900</td>\n",
              "      <td>5.640</td>\n",
              "    </tr>\n",
              "    <tr>\n",
              "      <th>504</th>\n",
              "      <td>0.110</td>\n",
              "      <td>0.000</td>\n",
              "      <td>11.930</td>\n",
              "      <td>0.000</td>\n",
              "      <td>0.573</td>\n",
              "      <td>6.794</td>\n",
              "      <td>89.300</td>\n",
              "      <td>2.389</td>\n",
              "      <td>1.000</td>\n",
              "      <td>273.000</td>\n",
              "      <td>21.000</td>\n",
              "      <td>393.450</td>\n",
              "      <td>6.480</td>\n",
              "    </tr>\n",
              "    <tr>\n",
              "      <th>505</th>\n",
              "      <td>0.047</td>\n",
              "      <td>0.000</td>\n",
              "      <td>11.930</td>\n",
              "      <td>0.000</td>\n",
              "      <td>0.573</td>\n",
              "      <td>6.030</td>\n",
              "      <td>80.800</td>\n",
              "      <td>2.505</td>\n",
              "      <td>1.000</td>\n",
              "      <td>273.000</td>\n",
              "      <td>21.000</td>\n",
              "      <td>396.900</td>\n",
              "      <td>7.880</td>\n",
              "    </tr>\n",
              "  </tbody>\n",
              "</table>\n",
              "<p>506 rows × 13 columns</p>\n",
              "</div>\n",
              "      <button class=\"colab-df-convert\" onclick=\"convertToInteractive('df-ae71c6fe-dbc9-4de6-95d1-77003196b6ac')\"\n",
              "              title=\"Convert this dataframe to an interactive table.\"\n",
              "              style=\"display:none;\">\n",
              "        \n",
              "  <svg xmlns=\"http://www.w3.org/2000/svg\" height=\"24px\"viewBox=\"0 0 24 24\"\n",
              "       width=\"24px\">\n",
              "    <path d=\"M0 0h24v24H0V0z\" fill=\"none\"/>\n",
              "    <path d=\"M18.56 5.44l.94 2.06.94-2.06 2.06-.94-2.06-.94-.94-2.06-.94 2.06-2.06.94zm-11 1L8.5 8.5l.94-2.06 2.06-.94-2.06-.94L8.5 2.5l-.94 2.06-2.06.94zm10 10l.94 2.06.94-2.06 2.06-.94-2.06-.94-.94-2.06-.94 2.06-2.06.94z\"/><path d=\"M17.41 7.96l-1.37-1.37c-.4-.4-.92-.59-1.43-.59-.52 0-1.04.2-1.43.59L10.3 9.45l-7.72 7.72c-.78.78-.78 2.05 0 2.83L4 21.41c.39.39.9.59 1.41.59.51 0 1.02-.2 1.41-.59l7.78-7.78 2.81-2.81c.8-.78.8-2.07 0-2.86zM5.41 20L4 18.59l7.72-7.72 1.47 1.35L5.41 20z\"/>\n",
              "  </svg>\n",
              "      </button>\n",
              "      \n",
              "  <style>\n",
              "    .colab-df-container {\n",
              "      display:flex;\n",
              "      flex-wrap:wrap;\n",
              "      gap: 12px;\n",
              "    }\n",
              "\n",
              "    .colab-df-convert {\n",
              "      background-color: #E8F0FE;\n",
              "      border: none;\n",
              "      border-radius: 50%;\n",
              "      cursor: pointer;\n",
              "      display: none;\n",
              "      fill: #1967D2;\n",
              "      height: 32px;\n",
              "      padding: 0 0 0 0;\n",
              "      width: 32px;\n",
              "    }\n",
              "\n",
              "    .colab-df-convert:hover {\n",
              "      background-color: #E2EBFA;\n",
              "      box-shadow: 0px 1px 2px rgba(60, 64, 67, 0.3), 0px 1px 3px 1px rgba(60, 64, 67, 0.15);\n",
              "      fill: #174EA6;\n",
              "    }\n",
              "\n",
              "    [theme=dark] .colab-df-convert {\n",
              "      background-color: #3B4455;\n",
              "      fill: #D2E3FC;\n",
              "    }\n",
              "\n",
              "    [theme=dark] .colab-df-convert:hover {\n",
              "      background-color: #434B5C;\n",
              "      box-shadow: 0px 1px 3px 1px rgba(0, 0, 0, 0.15);\n",
              "      filter: drop-shadow(0px 1px 2px rgba(0, 0, 0, 0.3));\n",
              "      fill: #FFFFFF;\n",
              "    }\n",
              "  </style>\n",
              "\n",
              "      <script>\n",
              "        const buttonEl =\n",
              "          document.querySelector('#df-ae71c6fe-dbc9-4de6-95d1-77003196b6ac button.colab-df-convert');\n",
              "        buttonEl.style.display =\n",
              "          google.colab.kernel.accessAllowed ? 'block' : 'none';\n",
              "\n",
              "        async function convertToInteractive(key) {\n",
              "          const element = document.querySelector('#df-ae71c6fe-dbc9-4de6-95d1-77003196b6ac');\n",
              "          const dataTable =\n",
              "            await google.colab.kernel.invokeFunction('convertToInteractive',\n",
              "                                                     [key], {});\n",
              "          if (!dataTable) return;\n",
              "\n",
              "          const docLinkHtml = 'Like what you see? Visit the ' +\n",
              "            '<a target=\"_blank\" href=https://colab.research.google.com/notebooks/data_table.ipynb>data table notebook</a>'\n",
              "            + ' to learn more about interactive tables.';\n",
              "          element.innerHTML = '';\n",
              "          dataTable['output_type'] = 'display_data';\n",
              "          await google.colab.output.renderOutput(dataTable, element);\n",
              "          const docLink = document.createElement('div');\n",
              "          docLink.innerHTML = docLinkHtml;\n",
              "          element.appendChild(docLink);\n",
              "        }\n",
              "      </script>\n",
              "    </div>\n",
              "  </div>\n",
              "  "
            ]
          },
          "metadata": {},
          "execution_count": 24
        }
      ]
    },
    {
      "cell_type": "code",
      "source": [
        "print(features)"
      ],
      "metadata": {
        "id": "uB7vlQTb6Bnl",
        "colab": {
          "base_uri": "https://localhost:8080/"
        },
        "outputId": "c2ed8c71-e765-4846-efb9-137c506bdacd"
      },
      "execution_count": null,
      "outputs": [
        {
          "output_type": "stream",
          "name": "stdout",
          "text": [
            "     CRIM     ZN  INDUS  CHAS   NOX    RM    AGE   DIS   RAD     TAX  PTRATIO  \\\n",
            "0   0.006 18.000  2.310 0.000 0.538 6.575 65.200 4.090 1.000 296.000   15.300   \n",
            "1   0.027  0.000  7.070 0.000 0.469 6.421 78.900 4.967 2.000 242.000   17.800   \n",
            "2   0.027  0.000  7.070 0.000 0.469 7.185 61.100 4.967 2.000 242.000   17.800   \n",
            "3   0.032  0.000  2.180 0.000 0.458 6.998 45.800 6.062 3.000 222.000   18.700   \n",
            "4   0.069  0.000  2.180 0.000 0.458 7.147 54.200 6.062 3.000 222.000   18.700   \n",
            "..    ...    ...    ...   ...   ...   ...    ...   ...   ...     ...      ...   \n",
            "501 0.063  0.000 11.930 0.000 0.573 6.593 69.100 2.479 1.000 273.000   21.000   \n",
            "502 0.045  0.000 11.930 0.000 0.573 6.120 76.700 2.288 1.000 273.000   21.000   \n",
            "503 0.061  0.000 11.930 0.000 0.573 6.976 91.000 2.167 1.000 273.000   21.000   \n",
            "504 0.110  0.000 11.930 0.000 0.573 6.794 89.300 2.389 1.000 273.000   21.000   \n",
            "505 0.047  0.000 11.930 0.000 0.573 6.030 80.800 2.505 1.000 273.000   21.000   \n",
            "\n",
            "          B  LSTAT  \n",
            "0   396.900  4.980  \n",
            "1   396.900  9.140  \n",
            "2   392.830  4.030  \n",
            "3   394.630  2.940  \n",
            "4   396.900  5.330  \n",
            "..      ...    ...  \n",
            "501 391.990  9.670  \n",
            "502 396.900  9.080  \n",
            "503 396.900  5.640  \n",
            "504 393.450  6.480  \n",
            "505 396.900  7.880  \n",
            "\n",
            "[506 rows x 13 columns]\n"
          ]
        }
      ]
    },
    {
      "cell_type": "markdown",
      "source": [
        "### 변수들의 표준화  \n",
        "참고사이트: https://jimmy-ai.tistory.com/139"
      ],
      "metadata": {
        "id": "Piv7d8g99B9p"
      }
    },
    {
      "cell_type": "code",
      "source": [
        "#from sklearn.preprocessing import MinMaxScaler\n",
        "from sklearn.preprocessing import StandardScaler\n",
        "#scaler_minmax=MinMaxScaler()\n",
        "scaler_standard=StandardScaler()"
      ],
      "metadata": {
        "id": "eYLOCwDh4WjR"
      },
      "execution_count": null,
      "outputs": []
    },
    {
      "cell_type": "code",
      "source": [
        "scaler_standard.fit(features)\n",
        "features_scaled=scaler_standard.transform(features)\n",
        "print(features_scaled.shape)"
      ],
      "metadata": {
        "id": "XqWeb6gH4bML",
        "colab": {
          "base_uri": "https://localhost:8080/"
        },
        "outputId": "0f76df8a-57db-4398-a39f-4b26538e3bd9"
      },
      "execution_count": null,
      "outputs": [
        {
          "output_type": "stream",
          "name": "stdout",
          "text": [
            "(506, 13)\n"
          ]
        }
      ]
    },
    {
      "cell_type": "code",
      "source": [
        "print(features.head())\n",
        "features_scaled"
      ],
      "metadata": {
        "colab": {
          "base_uri": "https://localhost:8080/"
        },
        "id": "SLG5rPNaVVzO",
        "outputId": "221ea05d-285e-452f-8631-71abe56d0d72"
      },
      "execution_count": null,
      "outputs": [
        {
          "output_type": "stream",
          "name": "stdout",
          "text": [
            "   CRIM     ZN  INDUS  CHAS   NOX    RM    AGE   DIS   RAD     TAX  PTRATIO  \\\n",
            "0 0.006 18.000  2.310 0.000 0.538 6.575 65.200 4.090 1.000 296.000   15.300   \n",
            "1 0.027  0.000  7.070 0.000 0.469 6.421 78.900 4.967 2.000 242.000   17.800   \n",
            "2 0.027  0.000  7.070 0.000 0.469 7.185 61.100 4.967 2.000 242.000   17.800   \n",
            "3 0.032  0.000  2.180 0.000 0.458 6.998 45.800 6.062 3.000 222.000   18.700   \n",
            "4 0.069  0.000  2.180 0.000 0.458 7.147 54.200 6.062 3.000 222.000   18.700   \n",
            "\n",
            "        B  LSTAT  \n",
            "0 396.900  4.980  \n",
            "1 396.900  9.140  \n",
            "2 392.830  4.030  \n",
            "3 394.630  2.940  \n",
            "4 396.900  5.330  \n"
          ]
        },
        {
          "output_type": "execute_result",
          "data": {
            "text/plain": [
              "array([[-0.41978194,  0.28482986, -1.2879095 , ..., -1.45900038,\n",
              "         0.44105193, -1.0755623 ],\n",
              "       [-0.41733926, -0.48772236, -0.59338101, ..., -0.30309415,\n",
              "         0.44105193, -0.49243937],\n",
              "       [-0.41734159, -0.48772236, -0.59338101, ..., -0.30309415,\n",
              "         0.39642699, -1.2087274 ],\n",
              "       ...,\n",
              "       [-0.41344658, -0.48772236,  0.11573841, ...,  1.17646583,\n",
              "         0.44105193, -0.98304761],\n",
              "       [-0.40776407, -0.48772236,  0.11573841, ...,  1.17646583,\n",
              "         0.4032249 , -0.86530163],\n",
              "       [-0.41500016, -0.48772236,  0.11573841, ...,  1.17646583,\n",
              "         0.44105193, -0.66905833]])"
            ]
          },
          "metadata": {},
          "execution_count": 28
        }
      ]
    },
    {
      "cell_type": "markdown",
      "source": [
        "분석하는 feature들의 단위가 서로 다를 수 있으므로 단위를 표준화할 필요가 있는데 이를 표준화라고 함. 한편 표준화 방법에는 여러가지 있음. 여기서는 `StandardScaler : 각 특성의 평균을 0, 분산을 1로 변경하여 특성의 스케일을 맞춥니다.`를 사용함"
      ],
      "metadata": {
        "id": "N443EEs5W3xB"
      }
    },
    {
      "cell_type": "markdown",
      "source": [
        "### 회귀분석용"
      ],
      "metadata": {
        "id": "cM5iEI6cUN1m"
      }
    },
    {
      "cell_type": "code",
      "source": [
        "# import the train-test split\n",
        "from sklearn.model_selection import train_test_split\n",
        "\n",
        "# divide into train and test sets\n",
        "features_scaled_train, features_scaled_test, target_train, target_test = train_test_split(features_scaled, target, random_state=42)#, test_size=0.2, stratify=y\n",
        "# 중요한 것은 42를 사용할 때마다 처음 분할 할 때 항상 동일한 출력을 얻는다\n",
        "# stratify=Y로 설정하면 나누어진 데이터셋들도 0과 1을 각각 25%, 75%로 유지한 채 분할된다\n",
        "# test_size : 테스트 데이터셋의 비율(float)이나 갯수(int) (default = 0.25)\n",
        "# test_size와 stratify는 필요한 옵션이지만 데이터가 적은 경우 에러가 발생될 수 있음"
      ],
      "metadata": {
        "id": "3ZzOQAbURbNL"
      },
      "execution_count": null,
      "outputs": []
    },
    {
      "cell_type": "markdown",
      "source": [
        "X_scaled과 y에 대해 train_test_split을 실행하면 총 4개의 데이터셋(features_scaled_train, features_scaled_test, target_train, target_test)을 생성한다."
      ],
      "metadata": {
        "id": "szoltMnqP8jA"
      }
    },
    {
      "cell_type": "code",
      "source": [
        "print(features_scaled_train[:6])\n",
        "print(target_train[:6])"
      ],
      "metadata": {
        "id": "LZJ5g1OGnWs1",
        "colab": {
          "base_uri": "https://localhost:8080/"
        },
        "outputId": "9eb56e12-636a-4e0a-d24e-bb18d5b3307a"
      },
      "execution_count": null,
      "outputs": [
        {
          "output_type": "stream",
          "name": "stdout",
          "text": [
            "[[-0.40992396 -0.48772236 -1.2660231  -0.27259857 -0.57613394  1.23997392\n",
            "   0.84012202 -0.52026428 -0.75292215 -1.27835435 -0.30309415  0.41057102\n",
            "  -1.09799011]\n",
            " [-0.00913688 -0.48772236  1.2319449   3.66839786  2.73234648 -0.18895873\n",
            "   0.49874053 -0.97428934 -0.52300145 -0.03110494 -1.73641788 -2.94572872\n",
            "   0.33178248]\n",
            " [-0.41635358  0.370669   -1.13908197 -0.27259857 -0.96572262  2.18737194\n",
            "  -0.14490582  0.42766932 -0.52300145 -1.14175084 -1.64394538  0.33590374\n",
            "  -1.24657432]\n",
            " [-0.37544025 -0.48772236  2.11761463 -0.27259857  0.22723076 -0.95684976\n",
            "   0.96102797 -0.96872752 -0.8678825  -1.30805076  0.29797709  0.02868241\n",
            "   2.04750959]\n",
            " [-0.41269248 -0.48772236 -1.15221381 -0.27259857 -0.81800718  0.06890449\n",
            "  -1.82692087  0.67481374 -0.6379618   0.1292557  -0.71922039  0.203235\n",
            "  -0.74475218]\n",
            " [-0.26286427 -0.48772236 -0.43725801 -0.27259857 -0.14421743 -0.30293142\n",
            "   1.11749449  0.18061998 -0.6379618  -0.6012761   1.17646583  0.21990082\n",
            "   0.05423839]]\n",
            "182   37.900\n",
            "155   15.600\n",
            "280   45.400\n",
            "126   15.700\n",
            "329   22.600\n",
            "31    14.500\n",
            "Name: MEDV, dtype: float64\n"
          ]
        }
      ]
    },
    {
      "cell_type": "code",
      "source": [
        "print(features_scaled_test[:6])\n",
        "print(target_test[:6])"
      ],
      "metadata": {
        "id": "WXpWMNfLQ5jk",
        "colab": {
          "base_uri": "https://localhost:8080/"
        },
        "outputId": "6f05f7cd-5533-40b1-91b3-3c59f12263ff"
      },
      "execution_count": null,
      "outputs": [
        {
          "output_type": "stream",
          "name": "stdout",
          "text": [
            "[[-0.40983668 -0.48772236 -1.03402724 -0.27259857 -0.38609067  0.18715116\n",
            "   0.55208139 -0.54607682 -0.52300145 -0.66660821 -0.85792914  0.42570183\n",
            "  -0.50645674]\n",
            " [-0.41394931  1.22906036 -0.68968118  3.66839786 -0.93030547  0.67438443\n",
            "  -1.26861989  0.13431903 -0.6379618  -0.91605809 -0.39556665  0.44105193\n",
            "  -1.27881429]\n",
            " [-0.40821211 -0.48772236  2.42256516 -0.27259857  0.469104   -0.42972605\n",
            "   1.0748218  -0.91600909 -0.6379618   1.79819419  0.76033959  0.36660394\n",
            "   0.75931252]\n",
            " [-0.40985297 -0.48772236 -0.04768006 -0.27259857 -1.22400869 -0.31290404\n",
            "  -2.16119024  0.70937307 -0.6379618  -0.61315466  0.34421334  0.37537543\n",
            "  -0.99986846]\n",
            " [ 0.17184212 -0.48772236  1.01599907 -0.27259857  1.36749033  0.01761678\n",
            "   0.8258978  -0.67827698  1.66124525  1.53092646  0.80657583  0.31156286\n",
            "   0.64717349]\n",
            " [-0.40870204 -0.48772236  0.24705682 -0.27259857 -1.01668877 -0.00802708\n",
            "   0.2106999   0.12224465 -0.52300145 -0.06080135  0.1130321   0.18624024\n",
            "  -0.09574756]]\n",
            "173   23.600\n",
            "274   32.400\n",
            "491   13.600\n",
            "72    22.800\n",
            "452   16.100\n",
            "76    20.000\n",
            "Name: MEDV, dtype: float64\n"
          ]
        }
      ]
    },
    {
      "cell_type": "code",
      "source": [
        "print(features_scaled_train.shape)\n",
        "print(target_train.shape)"
      ],
      "metadata": {
        "id": "KY7TPFXdRCNg",
        "colab": {
          "base_uri": "https://localhost:8080/"
        },
        "outputId": "60e0d75b-ce1a-4dac-8c02-a2271b3b4f4b"
      },
      "execution_count": null,
      "outputs": [
        {
          "output_type": "stream",
          "name": "stdout",
          "text": [
            "(379, 13)\n",
            "(379,)\n"
          ]
        }
      ]
    },
    {
      "cell_type": "code",
      "source": [
        "print(features_scaled_test.shape)\n",
        "print(target_test.shape)"
      ],
      "metadata": {
        "id": "EqOAI7cyRMDw",
        "colab": {
          "base_uri": "https://localhost:8080/"
        },
        "outputId": "1a394ab8-bd8f-455c-a989-f0ec9c66e3f5"
      },
      "execution_count": null,
      "outputs": [
        {
          "output_type": "stream",
          "name": "stdout",
          "text": [
            "(127, 13)\n",
            "(127,)\n"
          ]
        }
      ]
    },
    {
      "cell_type": "markdown",
      "source": [
        "### 지도학습중 수치예측"
      ],
      "metadata": {
        "id": "3s17CprhaCkE"
      }
    },
    {
      "cell_type": "markdown",
      "source": [
        "#### Linear Regression"
      ],
      "metadata": {
        "id": "lmeSGYgiheyv"
      }
    },
    {
      "cell_type": "code",
      "source": [
        "from sklearn.linear_model import LinearRegression\n",
        "from sklearn.metrics import r2_score # 클수록 정확도가 높다는 의미\n",
        "from sklearn.metrics import mean_squared_error # 작을수록 정확도가 높다는 의미\n",
        "\n",
        "def MAPE(y_test, y_pred):\n",
        "\treturn np.mean(np.abs((y_test - y_pred) / y_test)) * 100 "
      ],
      "metadata": {
        "id": "jGvFt950hnJ-"
      },
      "execution_count": null,
      "outputs": []
    },
    {
      "cell_type": "code",
      "source": [
        "LR_reg = LinearRegression() # ()안에 여러가지 옵션이 들어갈 수 있는데 기본옵션으로, n_neighbors = 3, weights = \"distance\"\n",
        "LR_reg.fit(features_scaled_train, target_train)"
      ],
      "metadata": {
        "colab": {
          "base_uri": "https://localhost:8080/"
        },
        "outputId": "74379cf8-cceb-46a0-ff95-04b12ea3b96a",
        "id": "CRgbxZe_hnJ-"
      },
      "execution_count": null,
      "outputs": [
        {
          "output_type": "execute_result",
          "data": {
            "text/plain": [
              "LinearRegression()"
            ]
          },
          "metadata": {},
          "execution_count": 35
        }
      ]
    },
    {
      "cell_type": "code",
      "source": [
        "LR_reg.pred_test = LR_reg.predict(features_scaled_test)\n",
        "\n",
        "\n",
        "MAPE_LR_reg_test=MAPE(target_test, LR_reg.pred_test)\n",
        "print(MAPE_LR_reg_test)"
      ],
      "metadata": {
        "colab": {
          "base_uri": "https://localhost:8080/"
        },
        "outputId": "33fdcf9b-bb05-49e2-97a0-19b430b86147",
        "id": "55_htrUahnJ-"
      },
      "execution_count": null,
      "outputs": [
        {
          "output_type": "stream",
          "name": "stdout",
          "text": [
            "16.199174591632605\n"
          ]
        }
      ]
    },
    {
      "cell_type": "code",
      "source": [
        "LR_reg.pred_train = LR_reg.predict(features_scaled_train)\n",
        "\n",
        "MAPE_LR_reg_train=MAPE(target_train, LR_reg.pred_train)\n",
        "print(MAPE_LR_reg_train)"
      ],
      "metadata": {
        "colab": {
          "base_uri": "https://localhost:8080/"
        },
        "outputId": "de2cce4b-bc4c-4896-c4a5-6861d2371610",
        "id": "Rx6ANwgbhnJ_"
      },
      "execution_count": null,
      "outputs": [
        {
          "output_type": "stream",
          "name": "stdout",
          "text": [
            "16.70388020068276\n"
          ]
        }
      ]
    },
    {
      "cell_type": "markdown",
      "source": [
        "####  K-최근접법: 예측, https://hleecaster.com/ml-knn-regression-example/"
      ],
      "metadata": {
        "id": "qs6k-pTXKdbK"
      }
    },
    {
      "cell_type": "code",
      "source": [
        "from sklearn.neighbors import KNeighborsRegressor"
      ],
      "metadata": {
        "id": "-sxkid8PvEr2"
      },
      "execution_count": null,
      "outputs": []
    },
    {
      "cell_type": "code",
      "source": [
        "KN_reg = KNeighborsRegressor() # ()안에 여러가지 옵션이 들어갈 수 있는데 기본옵션으로, n_neighbors = 3, weights = \"distance\""
      ],
      "metadata": {
        "id": "yIdcXv4evEhi"
      },
      "execution_count": null,
      "outputs": []
    },
    {
      "cell_type": "code",
      "source": [
        "KN_reg.fit(features_scaled_train, target_train)\n",
        "KN_reg.score(features_scaled_train, target_train) # 분류된 모델의 정확도를 측정"
      ],
      "metadata": {
        "id": "CPPqE8wWvEUo",
        "colab": {
          "base_uri": "https://localhost:8080/"
        },
        "outputId": "1fd4e188-2a92-479a-863a-4df36e54be02"
      },
      "execution_count": null,
      "outputs": [
        {
          "output_type": "execute_result",
          "data": {
            "text/plain": [
              "0.8495556978626857"
            ]
          },
          "metadata": {},
          "execution_count": 40
        }
      ]
    },
    {
      "cell_type": "code",
      "source": [
        "#k최근접법으로 변수들을 통해 target의 위치 예측\n",
        "KN_reg.predict([[0.7842, 0, 8.14, 0, 0.538, 5.99, 81.7, 4.2579, 4, 307, 21, 386.75, 14.67]]) # 주어진 포인트에 대한 실제 예측값 도출"
      ],
      "metadata": {
        "colab": {
          "base_uri": "https://localhost:8080/"
        },
        "id": "O6dmERU4Ll2i",
        "outputId": "505c0b55-a624-46d7-b569-61485e2b58ef"
      },
      "execution_count": null,
      "outputs": [
        {
          "output_type": "execute_result",
          "data": {
            "text/plain": [
              "array([13.7])"
            ]
          },
          "metadata": {},
          "execution_count": 41
        }
      ]
    },
    {
      "cell_type": "markdown",
      "source": [
        "모델개발은 train set으로 했는데 test set에도 잘 적용되는지를 살펴보려면..."
      ],
      "metadata": {
        "id": "EpzuAK30blvL"
      }
    },
    {
      "cell_type": "markdown",
      "source": [
        "수치예측의 다양한 모델적합도 기준에서 MAPE를 권장함\n",
        "https://www.researchgate.net/figure/nterpretation-of-typical-MAPE-values_tbl1_257812432"
      ],
      "metadata": {
        "id": "h0lGv3-uglv_"
      }
    },
    {
      "cell_type": "code",
      "source": [
        "KN_reg.pred_test = KN_reg.predict(features_scaled_test)"
      ],
      "metadata": {
        "id": "iyUmaZeObbWZ"
      },
      "execution_count": null,
      "outputs": []
    },
    {
      "cell_type": "code",
      "source": [
        "MAPE_KN_reg_test=MAPE(target_test, KN_reg.pred_test)\n",
        "print(MAPE_KN_reg_test)"
      ],
      "metadata": {
        "colab": {
          "base_uri": "https://localhost:8080/"
        },
        "id": "oyOOzWyVbTkp",
        "outputId": "e84323c1-1919-4b21-96f5-1e6a153b8f26"
      },
      "execution_count": null,
      "outputs": [
        {
          "output_type": "stream",
          "name": "stdout",
          "text": [
            "12.119806744180075\n"
          ]
        }
      ]
    },
    {
      "cell_type": "code",
      "source": [
        "KN_reg.pred_train = KN_reg.predict(features_scaled_train)"
      ],
      "metadata": {
        "id": "TFc4vUdYcG3u"
      },
      "execution_count": null,
      "outputs": []
    },
    {
      "cell_type": "code",
      "source": [
        "KN_reg.pred_train = KN_reg.predict(features_scaled_train)\n",
        "\n",
        "MAPE_KN_reg_train=MAPE(target_train, KN_reg.pred_train)\n",
        "print(MAPE_KN_reg_train)"
      ],
      "metadata": {
        "colab": {
          "base_uri": "https://localhost:8080/"
        },
        "outputId": "7e426088-c0e4-43c7-8d0b-6b6584f45b27",
        "id": "X4h53l_ocG3u"
      },
      "execution_count": null,
      "outputs": [
        {
          "output_type": "stream",
          "name": "stdout",
          "text": [
            "10.87778697486949\n"
          ]
        }
      ]
    },
    {
      "cell_type": "markdown",
      "source": [
        "#### decision tree"
      ],
      "metadata": {
        "id": "HWmru2aHV1BY"
      }
    },
    {
      "cell_type": "code",
      "source": [
        "from sklearn.tree import DecisionTreeRegressor"
      ],
      "metadata": {
        "id": "3vPafTfwWNCQ"
      },
      "execution_count": null,
      "outputs": []
    },
    {
      "cell_type": "code",
      "source": [
        "DT_reg = DecisionTreeRegressor() # ()안에 여러가지 옵션이 들어갈 수 있는데 기본옵션으로, n_neighbors = 3, weights = \"distance\"\n",
        "DT_reg.fit(features_scaled_train, target_train)"
      ],
      "metadata": {
        "colab": {
          "base_uri": "https://localhost:8080/"
        },
        "id": "zUvVZ4uxWNCQ",
        "outputId": "95666a74-f65d-4029-949e-08ec5e268bb4"
      },
      "execution_count": null,
      "outputs": [
        {
          "output_type": "execute_result",
          "data": {
            "text/plain": [
              "DecisionTreeRegressor()"
            ]
          },
          "metadata": {},
          "execution_count": 47
        }
      ]
    },
    {
      "cell_type": "code",
      "source": [
        "DT_reg.pred_test = DT_reg.predict(features_scaled_test)\n",
        "print(DT_reg.pred_test)\n",
        "MAPE_DT_reg_test=MAPE(target_test, DT_reg.pred_test)\n",
        "print(MAPE_DT_reg_test)"
      ],
      "metadata": {
        "colab": {
          "base_uri": "https://localhost:8080/"
        },
        "outputId": "8f9ab03e-778a-4d70-cb97-352e0c741301",
        "id": "kAKHCzuHWQ2I"
      },
      "execution_count": null,
      "outputs": [
        {
          "output_type": "stream",
          "name": "stdout",
          "text": [
            "[18.5 32.  15.2 23.7 19.1 20.5 19.3 17.8 21.6 21.2 19.5 19.5  8.5 20.5\n",
            " 16.2 25.  20.5  7.2 50.  16.7 22.6 22.6 15.6 22.8 13.1 14.9 24.5 13.5\n",
            " 17.8 24.5 19.5 23.3 50.  21.9 13.5 15.6 33.  19.  21.7 24.7 19.8 28.4\n",
            " 50.  16.2 22.9 13.1 15.6 23.7 19.1 32.5 22.9 36.1 19.4 28.4 44.8 22.2\n",
            " 13.1 22.8 19.8 23.1 24.5 33.4 29.4 18.4 28.  14.3 15.4 23.2 22.8 19.\n",
            " 21.7 28.7  8.4 22.9 26.4  5.6 20.4 44.  13.1  8.1 22.  10.2 18.7  7.2\n",
            " 20.3 30.1 14.1 23.1 23.2 18.  22.6  8.5 19.2 18.5 24.3 18.2 50.  16.3\n",
            " 13.5 16.3 17.5 26.4 10.2 20.4 18.7 19.  19.6 23.  20.6 24.1  7.2 16.3\n",
            " 23.2 29.6 29.6 14.6 50.  14.8 19.3 22.3 16.2 23.7  8.5 21.2 23.7 23.1\n",
            " 24.4]\n",
            "14.827420662971717\n"
          ]
        }
      ]
    },
    {
      "cell_type": "code",
      "source": [
        "DT_reg.pred_train = DT_reg.predict(features_scaled_train)\n",
        "\n",
        "MAPE_DT_reg_train=MAPE(target_train, DT_reg.pred_train)\n",
        "print(MAPE_DT_reg_train)"
      ],
      "metadata": {
        "colab": {
          "base_uri": "https://localhost:8080/"
        },
        "outputId": "4db9f6ab-06a7-43e3-bab2-38556cefd7f3",
        "id": "I5iKoJBAWQ2I"
      },
      "execution_count": null,
      "outputs": [
        {
          "output_type": "stream",
          "name": "stdout",
          "text": [
            "0.0\n"
          ]
        }
      ]
    },
    {
      "cell_type": "markdown",
      "source": [
        "#### Random forest"
      ],
      "metadata": {
        "id": "76IQ0paMytxS"
      }
    },
    {
      "cell_type": "code",
      "source": [
        "from sklearn.ensemble import RandomForestRegressor"
      ],
      "metadata": {
        "id": "33u_tTR7ytxT"
      },
      "execution_count": null,
      "outputs": []
    },
    {
      "cell_type": "code",
      "source": [
        "RF_reg = RandomForestRegressor() # ()안에 여러가지 옵션이 들어갈 수 있는데 기본옵션으로, n_neighbors = 3, weights = \"distance\"\n",
        "RF_reg.fit(features_scaled_train, target_train)"
      ],
      "metadata": {
        "colab": {
          "base_uri": "https://localhost:8080/"
        },
        "outputId": "87283e7c-2075-45e6-c501-2121de90b7e2",
        "id": "A5kUgzuzytxU"
      },
      "execution_count": null,
      "outputs": [
        {
          "output_type": "execute_result",
          "data": {
            "text/plain": [
              "RandomForestRegressor()"
            ]
          },
          "metadata": {},
          "execution_count": 51
        }
      ]
    },
    {
      "cell_type": "code",
      "source": [
        "#RF_reg.pred_test.fit(features_scaled_test.reshape(-1, 1), target_test)"
      ],
      "metadata": {
        "id": "cA9FUUF84o9A"
      },
      "execution_count": null,
      "outputs": []
    },
    {
      "cell_type": "code",
      "source": [
        "RF_reg.pred_test = RF_reg.predict(features_scaled_test)\n",
        "print(RF_reg.pred_test)\n",
        "\n",
        "MAPE_RF_reg_test=MAPE(target_test, RF_reg.pred_test)\n",
        "print(MAPE_RF_reg_test)"
      ],
      "metadata": {
        "colab": {
          "base_uri": "https://localhost:8080/"
        },
        "outputId": "4e33a985-24fa-4426-f42a-c3228dfdec46",
        "id": "B0ZYN54xytxV"
      },
      "execution_count": null,
      "outputs": [
        {
          "output_type": "stream",
          "name": "stdout",
          "text": [
            "[22.824 31.264 16.939 23.935 17.175 21.145 19.582 15.728 21.246 20.91\n",
            " 20.272 19.776  8.153 21.466 19.005 25.385 19.593  8.135 45.993 15.028\n",
            " 24.084 23.541 14.709 23.779 14.707 14.85  21.55  13.787 19.041 20.8\n",
            " 19.925 23.177 32.323 20.311 14.653 16.048 34.954 19.379 20.924 23.959\n",
            " 19.779 29.572 45.558 19.602 22.597 13.943 15.3   24.141 18.504 28.499\n",
            " 21.788 33.677 17.118 26.316 45.966 22.315 15.903 32.568 22.257 20.888\n",
            " 25.289 33.727 29.101 18.52  27.244 16.459 13.382 22.958 29.179 16.572\n",
            " 20.432 28.732 10.337 21.538 21.984  6.904 20.106 46.033 11.312 12.891\n",
            " 21.604 11.388 19.845  9.024 20.894 26.544 15.544 23.44  23.795 17.534\n",
            " 22.035  7.974 19.209 18.796 23.389 19.579 40.831 11.437 12.892 11.709\n",
            " 20.259 23.543 13.316 20.167 21.474 12.661 18.883 24.692 20.397 23.453\n",
            "  8.838 14.862 22.753 24.395 31.771 14.186 42.189 16.333 19.635 23.777\n",
            " 19.418 24.11   7.816 21.029 24.685 22.022 24.197]\n",
            "11.355026203466778\n"
          ]
        }
      ]
    },
    {
      "cell_type": "code",
      "source": [
        "RF_reg.pred_train = RF_reg.predict(features_scaled_train)\n",
        "\n",
        "MAPE_RF_reg_train=MAPE(target_train, DT_reg.pred_train)\n",
        "print(MAPE_RF_reg_train)"
      ],
      "metadata": {
        "colab": {
          "base_uri": "https://localhost:8080/"
        },
        "id": "SXmmkpfN4zep",
        "outputId": "52070c89-3ac5-408c-acd7-4af8d82a833e"
      },
      "execution_count": null,
      "outputs": [
        {
          "output_type": "stream",
          "name": "stdout",
          "text": [
            "0.0\n"
          ]
        }
      ]
    },
    {
      "cell_type": "code",
      "source": [
        "MAPE_DT_reg_test=MAPE(target_test, RF_reg.pred_test)\n",
        "print(MAPE_RF_reg_test)"
      ],
      "metadata": {
        "colab": {
          "base_uri": "https://localhost:8080/"
        },
        "id": "zAmSvMRx3XoS",
        "outputId": "c3d43079-1b36-459b-d99f-d7fa37a97090"
      },
      "execution_count": null,
      "outputs": [
        {
          "output_type": "stream",
          "name": "stdout",
          "text": [
            "11.355026203466778\n"
          ]
        }
      ]
    },
    {
      "cell_type": "markdown",
      "source": [
        "#### 정확도 분석결과 summary"
      ],
      "metadata": {
        "id": "IGGn1vTAV6BB"
      }
    },
    {
      "cell_type": "code",
      "source": [
        "reg_models_train = [('Linear regression', MAPE_LR_reg_train),\n",
        "                    ('KNeighbors', MAPE_KN_reg_train),\n",
        "                    ('Decision tree', MAPE_DT_reg_train),\n",
        "                    ('Random Forest', MAPE_RF_reg_train)]\n",
        "reg_models_test = [('Linear regression', MAPE_LR_reg_test),\n",
        "                   ('KNeighbors', MAPE_KN_reg_test),\n",
        "                   ('Decision tree', MAPE_DT_reg_test),\n",
        "                   ('Random Forest', MAPE_RF_reg_test)]"
      ],
      "metadata": {
        "id": "1S36OwlRT0Ke"
      },
      "execution_count": null,
      "outputs": []
    },
    {
      "cell_type": "code",
      "source": [
        "reg_train_summary = pd.DataFrame(data = reg_models_train, columns=['Model', 'f1-score'])\n",
        "reg_train_summary.sort_values(by=['f1-score'], axis=0, ascending=False)"
      ],
      "metadata": {
        "colab": {
          "base_uri": "https://localhost:8080/",
          "height": 175
        },
        "id": "DlskCrzBUSXX",
        "outputId": "665839ae-6ca5-4ef0-972c-912207ff9d53"
      },
      "execution_count": null,
      "outputs": [
        {
          "output_type": "execute_result",
          "data": {
            "text/plain": [
              "               Model  f1-score\n",
              "0  Linear regression    16.704\n",
              "1         KNeighbors    10.878\n",
              "2      Decision tree     0.000\n",
              "3      Random Forest     0.000"
            ],
            "text/html": [
              "\n",
              "  <div id=\"df-8551c3a2-74d4-4ace-86a8-affaf87e95cc\">\n",
              "    <div class=\"colab-df-container\">\n",
              "      <div>\n",
              "<style scoped>\n",
              "    .dataframe tbody tr th:only-of-type {\n",
              "        vertical-align: middle;\n",
              "    }\n",
              "\n",
              "    .dataframe tbody tr th {\n",
              "        vertical-align: top;\n",
              "    }\n",
              "\n",
              "    .dataframe thead th {\n",
              "        text-align: right;\n",
              "    }\n",
              "</style>\n",
              "<table border=\"1\" class=\"dataframe\">\n",
              "  <thead>\n",
              "    <tr style=\"text-align: right;\">\n",
              "      <th></th>\n",
              "      <th>Model</th>\n",
              "      <th>f1-score</th>\n",
              "    </tr>\n",
              "  </thead>\n",
              "  <tbody>\n",
              "    <tr>\n",
              "      <th>0</th>\n",
              "      <td>Linear regression</td>\n",
              "      <td>16.704</td>\n",
              "    </tr>\n",
              "    <tr>\n",
              "      <th>1</th>\n",
              "      <td>KNeighbors</td>\n",
              "      <td>10.878</td>\n",
              "    </tr>\n",
              "    <tr>\n",
              "      <th>2</th>\n",
              "      <td>Decision tree</td>\n",
              "      <td>0.000</td>\n",
              "    </tr>\n",
              "    <tr>\n",
              "      <th>3</th>\n",
              "      <td>Random Forest</td>\n",
              "      <td>0.000</td>\n",
              "    </tr>\n",
              "  </tbody>\n",
              "</table>\n",
              "</div>\n",
              "      <button class=\"colab-df-convert\" onclick=\"convertToInteractive('df-8551c3a2-74d4-4ace-86a8-affaf87e95cc')\"\n",
              "              title=\"Convert this dataframe to an interactive table.\"\n",
              "              style=\"display:none;\">\n",
              "        \n",
              "  <svg xmlns=\"http://www.w3.org/2000/svg\" height=\"24px\"viewBox=\"0 0 24 24\"\n",
              "       width=\"24px\">\n",
              "    <path d=\"M0 0h24v24H0V0z\" fill=\"none\"/>\n",
              "    <path d=\"M18.56 5.44l.94 2.06.94-2.06 2.06-.94-2.06-.94-.94-2.06-.94 2.06-2.06.94zm-11 1L8.5 8.5l.94-2.06 2.06-.94-2.06-.94L8.5 2.5l-.94 2.06-2.06.94zm10 10l.94 2.06.94-2.06 2.06-.94-2.06-.94-.94-2.06-.94 2.06-2.06.94z\"/><path d=\"M17.41 7.96l-1.37-1.37c-.4-.4-.92-.59-1.43-.59-.52 0-1.04.2-1.43.59L10.3 9.45l-7.72 7.72c-.78.78-.78 2.05 0 2.83L4 21.41c.39.39.9.59 1.41.59.51 0 1.02-.2 1.41-.59l7.78-7.78 2.81-2.81c.8-.78.8-2.07 0-2.86zM5.41 20L4 18.59l7.72-7.72 1.47 1.35L5.41 20z\"/>\n",
              "  </svg>\n",
              "      </button>\n",
              "      \n",
              "  <style>\n",
              "    .colab-df-container {\n",
              "      display:flex;\n",
              "      flex-wrap:wrap;\n",
              "      gap: 12px;\n",
              "    }\n",
              "\n",
              "    .colab-df-convert {\n",
              "      background-color: #E8F0FE;\n",
              "      border: none;\n",
              "      border-radius: 50%;\n",
              "      cursor: pointer;\n",
              "      display: none;\n",
              "      fill: #1967D2;\n",
              "      height: 32px;\n",
              "      padding: 0 0 0 0;\n",
              "      width: 32px;\n",
              "    }\n",
              "\n",
              "    .colab-df-convert:hover {\n",
              "      background-color: #E2EBFA;\n",
              "      box-shadow: 0px 1px 2px rgba(60, 64, 67, 0.3), 0px 1px 3px 1px rgba(60, 64, 67, 0.15);\n",
              "      fill: #174EA6;\n",
              "    }\n",
              "\n",
              "    [theme=dark] .colab-df-convert {\n",
              "      background-color: #3B4455;\n",
              "      fill: #D2E3FC;\n",
              "    }\n",
              "\n",
              "    [theme=dark] .colab-df-convert:hover {\n",
              "      background-color: #434B5C;\n",
              "      box-shadow: 0px 1px 3px 1px rgba(0, 0, 0, 0.15);\n",
              "      filter: drop-shadow(0px 1px 2px rgba(0, 0, 0, 0.3));\n",
              "      fill: #FFFFFF;\n",
              "    }\n",
              "  </style>\n",
              "\n",
              "      <script>\n",
              "        const buttonEl =\n",
              "          document.querySelector('#df-8551c3a2-74d4-4ace-86a8-affaf87e95cc button.colab-df-convert');\n",
              "        buttonEl.style.display =\n",
              "          google.colab.kernel.accessAllowed ? 'block' : 'none';\n",
              "\n",
              "        async function convertToInteractive(key) {\n",
              "          const element = document.querySelector('#df-8551c3a2-74d4-4ace-86a8-affaf87e95cc');\n",
              "          const dataTable =\n",
              "            await google.colab.kernel.invokeFunction('convertToInteractive',\n",
              "                                                     [key], {});\n",
              "          if (!dataTable) return;\n",
              "\n",
              "          const docLinkHtml = 'Like what you see? Visit the ' +\n",
              "            '<a target=\"_blank\" href=https://colab.research.google.com/notebooks/data_table.ipynb>data table notebook</a>'\n",
              "            + ' to learn more about interactive tables.';\n",
              "          element.innerHTML = '';\n",
              "          dataTable['output_type'] = 'display_data';\n",
              "          await google.colab.output.renderOutput(dataTable, element);\n",
              "          const docLink = document.createElement('div');\n",
              "          docLink.innerHTML = docLinkHtml;\n",
              "          element.appendChild(docLink);\n",
              "        }\n",
              "      </script>\n",
              "    </div>\n",
              "  </div>\n",
              "  "
            ]
          },
          "metadata": {},
          "execution_count": 75
        }
      ]
    },
    {
      "cell_type": "code",
      "source": [
        "reg_test_summary = pd.DataFrame(data = reg_models_test, columns=['Model', 'f1-score'])\n",
        "reg_test_summary.sort_values(by=['f1-score'], axis=0, ascending=False)"
      ],
      "metadata": {
        "colab": {
          "base_uri": "https://localhost:8080/",
          "height": 175
        },
        "id": "v4GCNoeaUoB-",
        "outputId": "98a6795a-08bb-4de2-cc89-e9cf6c3b5713"
      },
      "execution_count": null,
      "outputs": [
        {
          "output_type": "execute_result",
          "data": {
            "text/plain": [
              "               Model  f1-score\n",
              "0  Linear regression    16.199\n",
              "1         KNeighbors    12.120\n",
              "2      Decision tree    11.355\n",
              "3      Random Forest    11.355"
            ],
            "text/html": [
              "\n",
              "  <div id=\"df-5882f3c4-9568-4aa8-9547-5746c9e5738c\">\n",
              "    <div class=\"colab-df-container\">\n",
              "      <div>\n",
              "<style scoped>\n",
              "    .dataframe tbody tr th:only-of-type {\n",
              "        vertical-align: middle;\n",
              "    }\n",
              "\n",
              "    .dataframe tbody tr th {\n",
              "        vertical-align: top;\n",
              "    }\n",
              "\n",
              "    .dataframe thead th {\n",
              "        text-align: right;\n",
              "    }\n",
              "</style>\n",
              "<table border=\"1\" class=\"dataframe\">\n",
              "  <thead>\n",
              "    <tr style=\"text-align: right;\">\n",
              "      <th></th>\n",
              "      <th>Model</th>\n",
              "      <th>f1-score</th>\n",
              "    </tr>\n",
              "  </thead>\n",
              "  <tbody>\n",
              "    <tr>\n",
              "      <th>0</th>\n",
              "      <td>Linear regression</td>\n",
              "      <td>16.199</td>\n",
              "    </tr>\n",
              "    <tr>\n",
              "      <th>1</th>\n",
              "      <td>KNeighbors</td>\n",
              "      <td>12.120</td>\n",
              "    </tr>\n",
              "    <tr>\n",
              "      <th>2</th>\n",
              "      <td>Decision tree</td>\n",
              "      <td>11.355</td>\n",
              "    </tr>\n",
              "    <tr>\n",
              "      <th>3</th>\n",
              "      <td>Random Forest</td>\n",
              "      <td>11.355</td>\n",
              "    </tr>\n",
              "  </tbody>\n",
              "</table>\n",
              "</div>\n",
              "      <button class=\"colab-df-convert\" onclick=\"convertToInteractive('df-5882f3c4-9568-4aa8-9547-5746c9e5738c')\"\n",
              "              title=\"Convert this dataframe to an interactive table.\"\n",
              "              style=\"display:none;\">\n",
              "        \n",
              "  <svg xmlns=\"http://www.w3.org/2000/svg\" height=\"24px\"viewBox=\"0 0 24 24\"\n",
              "       width=\"24px\">\n",
              "    <path d=\"M0 0h24v24H0V0z\" fill=\"none\"/>\n",
              "    <path d=\"M18.56 5.44l.94 2.06.94-2.06 2.06-.94-2.06-.94-.94-2.06-.94 2.06-2.06.94zm-11 1L8.5 8.5l.94-2.06 2.06-.94-2.06-.94L8.5 2.5l-.94 2.06-2.06.94zm10 10l.94 2.06.94-2.06 2.06-.94-2.06-.94-.94-2.06-.94 2.06-2.06.94z\"/><path d=\"M17.41 7.96l-1.37-1.37c-.4-.4-.92-.59-1.43-.59-.52 0-1.04.2-1.43.59L10.3 9.45l-7.72 7.72c-.78.78-.78 2.05 0 2.83L4 21.41c.39.39.9.59 1.41.59.51 0 1.02-.2 1.41-.59l7.78-7.78 2.81-2.81c.8-.78.8-2.07 0-2.86zM5.41 20L4 18.59l7.72-7.72 1.47 1.35L5.41 20z\"/>\n",
              "  </svg>\n",
              "      </button>\n",
              "      \n",
              "  <style>\n",
              "    .colab-df-container {\n",
              "      display:flex;\n",
              "      flex-wrap:wrap;\n",
              "      gap: 12px;\n",
              "    }\n",
              "\n",
              "    .colab-df-convert {\n",
              "      background-color: #E8F0FE;\n",
              "      border: none;\n",
              "      border-radius: 50%;\n",
              "      cursor: pointer;\n",
              "      display: none;\n",
              "      fill: #1967D2;\n",
              "      height: 32px;\n",
              "      padding: 0 0 0 0;\n",
              "      width: 32px;\n",
              "    }\n",
              "\n",
              "    .colab-df-convert:hover {\n",
              "      background-color: #E2EBFA;\n",
              "      box-shadow: 0px 1px 2px rgba(60, 64, 67, 0.3), 0px 1px 3px 1px rgba(60, 64, 67, 0.15);\n",
              "      fill: #174EA6;\n",
              "    }\n",
              "\n",
              "    [theme=dark] .colab-df-convert {\n",
              "      background-color: #3B4455;\n",
              "      fill: #D2E3FC;\n",
              "    }\n",
              "\n",
              "    [theme=dark] .colab-df-convert:hover {\n",
              "      background-color: #434B5C;\n",
              "      box-shadow: 0px 1px 3px 1px rgba(0, 0, 0, 0.15);\n",
              "      filter: drop-shadow(0px 1px 2px rgba(0, 0, 0, 0.3));\n",
              "      fill: #FFFFFF;\n",
              "    }\n",
              "  </style>\n",
              "\n",
              "      <script>\n",
              "        const buttonEl =\n",
              "          document.querySelector('#df-5882f3c4-9568-4aa8-9547-5746c9e5738c button.colab-df-convert');\n",
              "        buttonEl.style.display =\n",
              "          google.colab.kernel.accessAllowed ? 'block' : 'none';\n",
              "\n",
              "        async function convertToInteractive(key) {\n",
              "          const element = document.querySelector('#df-5882f3c4-9568-4aa8-9547-5746c9e5738c');\n",
              "          const dataTable =\n",
              "            await google.colab.kernel.invokeFunction('convertToInteractive',\n",
              "                                                     [key], {});\n",
              "          if (!dataTable) return;\n",
              "\n",
              "          const docLinkHtml = 'Like what you see? Visit the ' +\n",
              "            '<a target=\"_blank\" href=https://colab.research.google.com/notebooks/data_table.ipynb>data table notebook</a>'\n",
              "            + ' to learn more about interactive tables.';\n",
              "          element.innerHTML = '';\n",
              "          dataTable['output_type'] = 'display_data';\n",
              "          await google.colab.output.renderOutput(dataTable, element);\n",
              "          const docLink = document.createElement('div');\n",
              "          docLink.innerHTML = docLinkHtml;\n",
              "          element.appendChild(docLink);\n",
              "        }\n",
              "      </script>\n",
              "    </div>\n",
              "  </div>\n",
              "  "
            ]
          },
          "metadata": {},
          "execution_count": 76
        }
      ]
    },
    {
      "cell_type": "markdown",
      "source": [
        "Boston 데이터의 경우 f1-Score로 표현하는것 보다는 MAE, MSE, RMSE로 표현하는것이 적합함\n",
        "\n",
        "위의 4가지 Model(Linear regression, KNeighbors, Decision tree\t, Random Forest\t)중 Linear regression의 결과값이 가장 좋으므로, Linear regression을 활용하여 좀 더 나은 모델을 만들어 본다."
      ],
      "metadata": {
        "id": "di5wQuiQdo7g"
      }
    },
    {
      "cell_type": "markdown",
      "source": [
        "### 구분\t설명\n",
        "MAE(Mean Absolute Error)\t실제값과 예측값의 차이, 잔차의 절대값을 평균한 값\n",
        "\n",
        "MSE(Mean Squared Error)\t실제값과 예측값의 차이\n",
        "잔차의 제곱을 평균한 값\n",
        "\n",
        "RMSE(Root Mean Squared Error)\tMSE의 제곱근\n"
      ],
      "metadata": {
        "id": "oiG7Zl5E44tz"
      }
    },
    {
      "cell_type": "markdown",
      "source": [
        "### Linear regression 심화\n",
        "참고사이트: https://liz09045.tistory.com/95, https://velog.io/@wltn39/%EB%B3%B4%EC%8A%A4%ED%84%B4-%EC%A3%BC%ED%83%9D%EA%B0%80%EA%B2%A9-%EC%98%88%EC%B8%A1\n",
        " - 싸이킷런의 선형회귀분석을 이용\n",
        " - 사용된 데이터는 위의 보스턴 데이터와 동일\n",
        " - features(x축)에는 'RM', 'ZN', 'INDUS', 'NOX', 'AGE', 'PTRATIO', 'LSTAT', 'RAD'를, Target(y축)에는'MEDV'가 적용됨."
      ],
      "metadata": {
        "id": "1YvgIK54_sci"
      }
    },
    {
      "cell_type": "markdown",
      "source": [
        "**MSE 표현**"
      ],
      "metadata": {
        "id": "YEjnmoeT2Wo1"
      }
    },
    {
      "cell_type": "code",
      "source": [
        "#상관관계 행렬\n",
        "Df_corr=Df.corr()\n",
        "#히트맵\n",
        "plt.figure(figsize=(10,10))\n",
        "sns.set(font_scale=0.8)\n",
        "sns.heatmap(Df_corr, annot=True, cbar=False)\n",
        "plt.show()"
      ],
      "metadata": {
        "colab": {
          "base_uri": "https://localhost:8080/",
          "height": 593
        },
        "id": "RMW2wGwX28fn",
        "outputId": "8da927d4-5507-4a91-beae-fd240aaa44c8"
      },
      "execution_count": null,
      "outputs": [
        {
          "output_type": "display_data",
          "data": {
            "text/plain": [
              "<Figure size 720x720 with 1 Axes>"
            ],
            "image/png": "[encoded data removed]"
          },
          "metadata": {
            "needs_background": "light"
          }
        }
      ]
    },
    {
      "cell_type": "code",
      "source": [
        "# Target 변수와 상관관계가 높은 순으로 출력\n",
        "corr_order=Df.corr().loc[:'LSTAT', 'MEDV'].abs().sort_values(ascending=False)\n",
        "corr_order"
      ],
      "metadata": {
        "colab": {
          "base_uri": "https://localhost:8080/"
        },
        "id": "yGVdL5gr3V25",
        "outputId": "4e9eee07-f0fd-4146-891b-4f8a2a047718"
      },
      "execution_count": null,
      "outputs": [
        {
          "output_type": "execute_result",
          "data": {
            "text/plain": [
              "LSTAT     0.738\n",
              "RM        0.695\n",
              "PTRATIO   0.508\n",
              "INDUS     0.484\n",
              "TAX       0.469\n",
              "NOX       0.427\n",
              "CRIM      0.388\n",
              "RAD       0.382\n",
              "AGE       0.377\n",
              "ZN        0.360\n",
              "B         0.333\n",
              "DIS       0.250\n",
              "CHAS      0.175\n",
              "Name: MEDV, dtype: float64"
            ]
          },
          "metadata": {},
          "execution_count": 60
        }
      ]
    },
    {
      "cell_type": "code",
      "source": [
        "#시각화로 분석할 피처 선택 추출\n",
        "plot_cols=['MEDV', 'LSTAT', 'RM', 'PTRATIO', 'INDUS']\n",
        "plot_Df=Df.loc[:, plot_cols]\n",
        "plot_Df.head()"
      ],
      "metadata": {
        "colab": {
          "base_uri": "https://localhost:8080/",
          "height": 206
        },
        "id": "uoIwroa43-w_",
        "outputId": "42205ab8-d276-497d-d276-0fee6e865e9e"
      },
      "execution_count": null,
      "outputs": [
        {
          "output_type": "execute_result",
          "data": {
            "text/plain": [
              "    MEDV  LSTAT    RM  PTRATIO  INDUS\n",
              "0 24.000  4.980 6.575   15.300  2.310\n",
              "1 21.600  9.140 6.421   17.800  7.070\n",
              "2 34.700  4.030 7.185   17.800  7.070\n",
              "3 33.400  2.940 6.998   18.700  2.180\n",
              "4 36.200  5.330 7.147   18.700  2.180"
            ],
            "text/html": [
              "\n",
              "  <div id=\"df-9f89d460-8143-4321-9f3c-985b6b3f9009\">\n",
              "    <div class=\"colab-df-container\">\n",
              "      <div>\n",
              "<style scoped>\n",
              "    .dataframe tbody tr th:only-of-type {\n",
              "        vertical-align: middle;\n",
              "    }\n",
              "\n",
              "    .dataframe tbody tr th {\n",
              "        vertical-align: top;\n",
              "    }\n",
              "\n",
              "    .dataframe thead th {\n",
              "        text-align: right;\n",
              "    }\n",
              "</style>\n",
              "<table border=\"1\" class=\"dataframe\">\n",
              "  <thead>\n",
              "    <tr style=\"text-align: right;\">\n",
              "      <th></th>\n",
              "      <th>MEDV</th>\n",
              "      <th>LSTAT</th>\n",
              "      <th>RM</th>\n",
              "      <th>PTRATIO</th>\n",
              "      <th>INDUS</th>\n",
              "    </tr>\n",
              "  </thead>\n",
              "  <tbody>\n",
              "    <tr>\n",
              "      <th>0</th>\n",
              "      <td>24.000</td>\n",
              "      <td>4.980</td>\n",
              "      <td>6.575</td>\n",
              "      <td>15.300</td>\n",
              "      <td>2.310</td>\n",
              "    </tr>\n",
              "    <tr>\n",
              "      <th>1</th>\n",
              "      <td>21.600</td>\n",
              "      <td>9.140</td>\n",
              "      <td>6.421</td>\n",
              "      <td>17.800</td>\n",
              "      <td>7.070</td>\n",
              "    </tr>\n",
              "    <tr>\n",
              "      <th>2</th>\n",
              "      <td>34.700</td>\n",
              "      <td>4.030</td>\n",
              "      <td>7.185</td>\n",
              "      <td>17.800</td>\n",
              "      <td>7.070</td>\n",
              "    </tr>\n",
              "    <tr>\n",
              "      <th>3</th>\n",
              "      <td>33.400</td>\n",
              "      <td>2.940</td>\n",
              "      <td>6.998</td>\n",
              "      <td>18.700</td>\n",
              "      <td>2.180</td>\n",
              "    </tr>\n",
              "    <tr>\n",
              "      <th>4</th>\n",
              "      <td>36.200</td>\n",
              "      <td>5.330</td>\n",
              "      <td>7.147</td>\n",
              "      <td>18.700</td>\n",
              "      <td>2.180</td>\n",
              "    </tr>\n",
              "  </tbody>\n",
              "</table>\n",
              "</div>\n",
              "      <button class=\"colab-df-convert\" onclick=\"convertToInteractive('df-9f89d460-8143-4321-9f3c-985b6b3f9009')\"\n",
              "              title=\"Convert this dataframe to an interactive table.\"\n",
              "              style=\"display:none;\">\n",
              "        \n",
              "  <svg xmlns=\"http://www.w3.org/2000/svg\" height=\"24px\"viewBox=\"0 0 24 24\"\n",
              "       width=\"24px\">\n",
              "    <path d=\"M0 0h24v24H0V0z\" fill=\"none\"/>\n",
              "    <path d=\"M18.56 5.44l.94 2.06.94-2.06 2.06-.94-2.06-.94-.94-2.06-.94 2.06-2.06.94zm-11 1L8.5 8.5l.94-2.06 2.06-.94-2.06-.94L8.5 2.5l-.94 2.06-2.06.94zm10 10l.94 2.06.94-2.06 2.06-.94-2.06-.94-.94-2.06-.94 2.06-2.06.94z\"/><path d=\"M17.41 7.96l-1.37-1.37c-.4-.4-.92-.59-1.43-.59-.52 0-1.04.2-1.43.59L10.3 9.45l-7.72 7.72c-.78.78-.78 2.05 0 2.83L4 21.41c.39.39.9.59 1.41.59.51 0 1.02-.2 1.41-.59l7.78-7.78 2.81-2.81c.8-.78.8-2.07 0-2.86zM5.41 20L4 18.59l7.72-7.72 1.47 1.35L5.41 20z\"/>\n",
              "  </svg>\n",
              "      </button>\n",
              "      \n",
              "  <style>\n",
              "    .colab-df-container {\n",
              "      display:flex;\n",
              "      flex-wrap:wrap;\n",
              "      gap: 12px;\n",
              "    }\n",
              "\n",
              "    .colab-df-convert {\n",
              "      background-color: #E8F0FE;\n",
              "      border: none;\n",
              "      border-radius: 50%;\n",
              "      cursor: pointer;\n",
              "      display: none;\n",
              "      fill: #1967D2;\n",
              "      height: 32px;\n",
              "      padding: 0 0 0 0;\n",
              "      width: 32px;\n",
              "    }\n",
              "\n",
              "    .colab-df-convert:hover {\n",
              "      background-color: #E2EBFA;\n",
              "      box-shadow: 0px 1px 2px rgba(60, 64, 67, 0.3), 0px 1px 3px 1px rgba(60, 64, 67, 0.15);\n",
              "      fill: #174EA6;\n",
              "    }\n",
              "\n",
              "    [theme=dark] .colab-df-convert {\n",
              "      background-color: #3B4455;\n",
              "      fill: #D2E3FC;\n",
              "    }\n",
              "\n",
              "    [theme=dark] .colab-df-convert:hover {\n",
              "      background-color: #434B5C;\n",
              "      box-shadow: 0px 1px 3px 1px rgba(0, 0, 0, 0.15);\n",
              "      filter: drop-shadow(0px 1px 2px rgba(0, 0, 0, 0.3));\n",
              "      fill: #FFFFFF;\n",
              "    }\n",
              "  </style>\n",
              "\n",
              "      <script>\n",
              "        const buttonEl =\n",
              "          document.querySelector('#df-9f89d460-8143-4321-9f3c-985b6b3f9009 button.colab-df-convert');\n",
              "        buttonEl.style.display =\n",
              "          google.colab.kernel.accessAllowed ? 'block' : 'none';\n",
              "\n",
              "        async function convertToInteractive(key) {\n",
              "          const element = document.querySelector('#df-9f89d460-8143-4321-9f3c-985b6b3f9009');\n",
              "          const dataTable =\n",
              "            await google.colab.kernel.invokeFunction('convertToInteractive',\n",
              "                                                     [key], {});\n",
              "          if (!dataTable) return;\n",
              "\n",
              "          const docLinkHtml = 'Like what you see? Visit the ' +\n",
              "            '<a target=\"_blank\" href=https://colab.research.google.com/notebooks/data_table.ipynb>data table notebook</a>'\n",
              "            + ' to learn more about interactive tables.';\n",
              "          element.innerHTML = '';\n",
              "          dataTable['output_type'] = 'display_data';\n",
              "          await google.colab.output.renderOutput(dataTable, element);\n",
              "          const docLink = document.createElement('div');\n",
              "          docLink.innerHTML = docLinkHtml;\n",
              "          element.appendChild(docLink);\n",
              "        }\n",
              "      </script>\n",
              "    </div>\n",
              "  </div>\n",
              "  "
            ]
          },
          "metadata": {},
          "execution_count": 61
        }
      ]
    },
    {
      "cell_type": "code",
      "source": [
        "#regplot으로 선형회귀선 표시\n",
        "plt.figure(figsize=(10,10))\n",
        "for idx, col in enumerate(plot_cols[1:]):\n",
        "  ax1=plt.subplot(2, 2, idx+1)\n",
        "  sns.regplot(x=col, y=plot_cols[0], data=plot_Df, ax=ax1)\n",
        "plt.show()"
      ],
      "metadata": {
        "colab": {
          "base_uri": "https://localhost:8080/",
          "height": 607
        },
        "id": "J-ui4lcj4ci3",
        "outputId": "200e88e4-c0d5-44f9-ed34-1b96b32bc9c7"
      },
      "execution_count": null,
      "outputs": [
        {
          "output_type": "display_data",
          "data": {
            "text/plain": [
              "<Figure size 720x720 with 4 Axes>"
            ],
            "image/png": "[encoded data removed]"
          },
          "metadata": {}
        }
      ]
    },
    {
      "cell_type": "code",
      "source": [
        "#Target 데이터 분포\n",
        "sns.displot(x='MEDV', kind='hist', data=Df)\n",
        "plt.show()"
      ],
      "metadata": {
        "colab": {
          "base_uri": "https://localhost:8080/",
          "height": 370
        },
        "id": "eo5ERN5G4xY8",
        "outputId": "24a54d7e-8a5c-43c0-db64-fabb324a084b"
      },
      "execution_count": null,
      "outputs": [
        {
          "output_type": "display_data",
          "data": {
            "text/plain": [
              "<Figure size 360x360 with 1 Axes>"
            ],
            "image/png": "[encoded data removed]"
          },
          "metadata": {}
        }
      ]
    },
    {
      "cell_type": "code",
      "source": [
        "from sklearn.preprocessing import MinMaxScaler\n",
        "scaler=MinMaxScaler()\n",
        "\n",
        "Df_scaled=Df.iloc[:, :-1]   #마지막열임을 나타내는 -1은 포함하지 않음\n",
        "scaler.fit(Df_scaled)\n",
        "Df_scaled=scaler.transform(Df_scaled)\n",
        "\n",
        "#스케일링 변환된 값을 데이터프레임에 반영\n",
        "Df.iloc[:, :-1]=Df_scaled[:, :]\n",
        "Df.head()"
      ],
      "metadata": {
        "colab": {
          "base_uri": "https://localhost:8080/",
          "height": 206
        },
        "id": "bgo_Imv24-w6",
        "outputId": "1c113698-3209-4289-fa8a-c577ba5175e1"
      },
      "execution_count": null,
      "outputs": [
        {
          "output_type": "execute_result",
          "data": {
            "text/plain": [
              "   CRIM    ZN  INDUS  CHAS   NOX    RM   AGE   DIS   RAD   TAX  PTRATIO     B  \\\n",
              "0 0.000 0.180  0.068 0.000 0.315 0.578 0.642 0.269 0.000 0.208    0.287 1.000   \n",
              "1 0.000 0.000  0.242 0.000 0.173 0.548 0.783 0.349 0.043 0.105    0.553 1.000   \n",
              "2 0.000 0.000  0.242 0.000 0.173 0.694 0.599 0.349 0.043 0.105    0.553 0.990   \n",
              "3 0.000 0.000  0.063 0.000 0.150 0.659 0.442 0.449 0.087 0.067    0.649 0.994   \n",
              "4 0.001 0.000  0.063 0.000 0.150 0.687 0.528 0.449 0.087 0.067    0.649 1.000   \n",
              "\n",
              "   LSTAT   MEDV  \n",
              "0  0.090 24.000  \n",
              "1  0.204 21.600  \n",
              "2  0.063 34.700  \n",
              "3  0.033 33.400  \n",
              "4  0.099 36.200  "
            ],
            "text/html": [
              "\n",
              "  <div id=\"df-659e6ecb-0470-4c65-9a02-5b61f8da6d8d\">\n",
              "    <div class=\"colab-df-container\">\n",
              "      <div>\n",
              "<style scoped>\n",
              "    .dataframe tbody tr th:only-of-type {\n",
              "        vertical-align: middle;\n",
              "    }\n",
              "\n",
              "    .dataframe tbody tr th {\n",
              "        vertical-align: top;\n",
              "    }\n",
              "\n",
              "    .dataframe thead th {\n",
              "        text-align: right;\n",
              "    }\n",
              "</style>\n",
              "<table border=\"1\" class=\"dataframe\">\n",
              "  <thead>\n",
              "    <tr style=\"text-align: right;\">\n",
              "      <th></th>\n",
              "      <th>CRIM</th>\n",
              "      <th>ZN</th>\n",
              "      <th>INDUS</th>\n",
              "      <th>CHAS</th>\n",
              "      <th>NOX</th>\n",
              "      <th>RM</th>\n",
              "      <th>AGE</th>\n",
              "      <th>DIS</th>\n",
              "      <th>RAD</th>\n",
              "      <th>TAX</th>\n",
              "      <th>PTRATIO</th>\n",
              "      <th>B</th>\n",
              "      <th>LSTAT</th>\n",
              "      <th>MEDV</th>\n",
              "    </tr>\n",
              "  </thead>\n",
              "  <tbody>\n",
              "    <tr>\n",
              "      <th>0</th>\n",
              "      <td>0.000</td>\n",
              "      <td>0.180</td>\n",
              "      <td>0.068</td>\n",
              "      <td>0.000</td>\n",
              "      <td>0.315</td>\n",
              "      <td>0.578</td>\n",
              "      <td>0.642</td>\n",
              "      <td>0.269</td>\n",
              "      <td>0.000</td>\n",
              "      <td>0.208</td>\n",
              "      <td>0.287</td>\n",
              "      <td>1.000</td>\n",
              "      <td>0.090</td>\n",
              "      <td>24.000</td>\n",
              "    </tr>\n",
              "    <tr>\n",
              "      <th>1</th>\n",
              "      <td>0.000</td>\n",
              "      <td>0.000</td>\n",
              "      <td>0.242</td>\n",
              "      <td>0.000</td>\n",
              "      <td>0.173</td>\n",
              "      <td>0.548</td>\n",
              "      <td>0.783</td>\n",
              "      <td>0.349</td>\n",
              "      <td>0.043</td>\n",
              "      <td>0.105</td>\n",
              "      <td>0.553</td>\n",
              "      <td>1.000</td>\n",
              "      <td>0.204</td>\n",
              "      <td>21.600</td>\n",
              "    </tr>\n",
              "    <tr>\n",
              "      <th>2</th>\n",
              "      <td>0.000</td>\n",
              "      <td>0.000</td>\n",
              "      <td>0.242</td>\n",
              "      <td>0.000</td>\n",
              "      <td>0.173</td>\n",
              "      <td>0.694</td>\n",
              "      <td>0.599</td>\n",
              "      <td>0.349</td>\n",
              "      <td>0.043</td>\n",
              "      <td>0.105</td>\n",
              "      <td>0.553</td>\n",
              "      <td>0.990</td>\n",
              "      <td>0.063</td>\n",
              "      <td>34.700</td>\n",
              "    </tr>\n",
              "    <tr>\n",
              "      <th>3</th>\n",
              "      <td>0.000</td>\n",
              "      <td>0.000</td>\n",
              "      <td>0.063</td>\n",
              "      <td>0.000</td>\n",
              "      <td>0.150</td>\n",
              "      <td>0.659</td>\n",
              "      <td>0.442</td>\n",
              "      <td>0.449</td>\n",
              "      <td>0.087</td>\n",
              "      <td>0.067</td>\n",
              "      <td>0.649</td>\n",
              "      <td>0.994</td>\n",
              "      <td>0.033</td>\n",
              "      <td>33.400</td>\n",
              "    </tr>\n",
              "    <tr>\n",
              "      <th>4</th>\n",
              "      <td>0.001</td>\n",
              "      <td>0.000</td>\n",
              "      <td>0.063</td>\n",
              "      <td>0.000</td>\n",
              "      <td>0.150</td>\n",
              "      <td>0.687</td>\n",
              "      <td>0.528</td>\n",
              "      <td>0.449</td>\n",
              "      <td>0.087</td>\n",
              "      <td>0.067</td>\n",
              "      <td>0.649</td>\n",
              "      <td>1.000</td>\n",
              "      <td>0.099</td>\n",
              "      <td>36.200</td>\n",
              "    </tr>\n",
              "  </tbody>\n",
              "</table>\n",
              "</div>\n",
              "      <button class=\"colab-df-convert\" onclick=\"convertToInteractive('df-659e6ecb-0470-4c65-9a02-5b61f8da6d8d')\"\n",
              "              title=\"Convert this dataframe to an interactive table.\"\n",
              "              style=\"display:none;\">\n",
              "        \n",
              "  <svg xmlns=\"http://www.w3.org/2000/svg\" height=\"24px\"viewBox=\"0 0 24 24\"\n",
              "       width=\"24px\">\n",
              "    <path d=\"M0 0h24v24H0V0z\" fill=\"none\"/>\n",
              "    <path d=\"M18.56 5.44l.94 2.06.94-2.06 2.06-.94-2.06-.94-.94-2.06-.94 2.06-2.06.94zm-11 1L8.5 8.5l.94-2.06 2.06-.94-2.06-.94L8.5 2.5l-.94 2.06-2.06.94zm10 10l.94 2.06.94-2.06 2.06-.94-2.06-.94-.94-2.06-.94 2.06-2.06.94z\"/><path d=\"M17.41 7.96l-1.37-1.37c-.4-.4-.92-.59-1.43-.59-.52 0-1.04.2-1.43.59L10.3 9.45l-7.72 7.72c-.78.78-.78 2.05 0 2.83L4 21.41c.39.39.9.59 1.41.59.51 0 1.02-.2 1.41-.59l7.78-7.78 2.81-2.81c.8-.78.8-2.07 0-2.86zM5.41 20L4 18.59l7.72-7.72 1.47 1.35L5.41 20z\"/>\n",
              "  </svg>\n",
              "      </button>\n",
              "      \n",
              "  <style>\n",
              "    .colab-df-container {\n",
              "      display:flex;\n",
              "      flex-wrap:wrap;\n",
              "      gap: 12px;\n",
              "    }\n",
              "\n",
              "    .colab-df-convert {\n",
              "      background-color: #E8F0FE;\n",
              "      border: none;\n",
              "      border-radius: 50%;\n",
              "      cursor: pointer;\n",
              "      display: none;\n",
              "      fill: #1967D2;\n",
              "      height: 32px;\n",
              "      padding: 0 0 0 0;\n",
              "      width: 32px;\n",
              "    }\n",
              "\n",
              "    .colab-df-convert:hover {\n",
              "      background-color: #E2EBFA;\n",
              "      box-shadow: 0px 1px 2px rgba(60, 64, 67, 0.3), 0px 1px 3px 1px rgba(60, 64, 67, 0.15);\n",
              "      fill: #174EA6;\n",
              "    }\n",
              "\n",
              "    [theme=dark] .colab-df-convert {\n",
              "      background-color: #3B4455;\n",
              "      fill: #D2E3FC;\n",
              "    }\n",
              "\n",
              "    [theme=dark] .colab-df-convert:hover {\n",
              "      background-color: #434B5C;\n",
              "      box-shadow: 0px 1px 3px 1px rgba(0, 0, 0, 0.15);\n",
              "      filter: drop-shadow(0px 1px 2px rgba(0, 0, 0, 0.3));\n",
              "      fill: #FFFFFF;\n",
              "    }\n",
              "  </style>\n",
              "\n",
              "      <script>\n",
              "        const buttonEl =\n",
              "          document.querySelector('#df-659e6ecb-0470-4c65-9a02-5b61f8da6d8d button.colab-df-convert');\n",
              "        buttonEl.style.display =\n",
              "          google.colab.kernel.accessAllowed ? 'block' : 'none';\n",
              "\n",
              "        async function convertToInteractive(key) {\n",
              "          const element = document.querySelector('#df-659e6ecb-0470-4c65-9a02-5b61f8da6d8d');\n",
              "          const dataTable =\n",
              "            await google.colab.kernel.invokeFunction('convertToInteractive',\n",
              "                                                     [key], {});\n",
              "          if (!dataTable) return;\n",
              "\n",
              "          const docLinkHtml = 'Like what you see? Visit the ' +\n",
              "            '<a target=\"_blank\" href=https://colab.research.google.com/notebooks/data_table.ipynb>data table notebook</a>'\n",
              "            + ' to learn more about interactive tables.';\n",
              "          element.innerHTML = '';\n",
              "          dataTable['output_type'] = 'display_data';\n",
              "          await google.colab.output.renderOutput(dataTable, element);\n",
              "          const docLink = document.createElement('div');\n",
              "          docLink.innerHTML = docLinkHtml;\n",
              "          element.appendChild(docLink);\n",
              "        }\n",
              "      </script>\n",
              "    </div>\n",
              "  </div>\n",
              "  "
            ]
          },
          "metadata": {},
          "execution_count": 64
        }
      ]
    },
    {
      "cell_type": "code",
      "source": [
        "#학습데이터와 테스트데이터 분할\n",
        "from sklearn.model_selection import train_test_split\n",
        "x_data=Df.loc[:, ['LSTAT', 'RM']]\n",
        "y_data=Df.loc[:, 'MEDV']\n",
        "x_train, x_test, y_train, y_test=train_test_split(x_data,\n",
        "                                                  y_data,\n",
        "                                                  test_size=0.2,\n",
        "                                                  shuffle=True,\n",
        "                                                  random_state=12)\n",
        "print(x_train.shape, y_train.shape)\n",
        "print(x_test.shape, y_test.shape)"
      ],
      "metadata": {
        "colab": {
          "base_uri": "https://localhost:8080/"
        },
        "id": "IQLsrttU5HGy",
        "outputId": "891e43d0-4513-48cd-fe02-9bbd91fe25c7"
      },
      "execution_count": null,
      "outputs": [
        {
          "output_type": "stream",
          "name": "stdout",
          "text": [
            "(404, 2) (404,)\n",
            "(102, 2) (102,)\n"
          ]
        }
      ]
    },
    {
      "cell_type": "code",
      "source": [
        "#선형 회귀 모형\n",
        "from sklearn.linear_model import LinearRegression\n",
        "lr=LinearRegression()\n",
        "lr.fit(x_train, y_train)\n",
        "\n",
        "print(\"회귀계수(기울기):\", np.round(lr.coef_, 1)) #np: numpy, coef_: 피처에 대한 회귀 계수 값\n",
        "print(\"상수항(절편):\", np.round(lr.intercept_, 1))  #intercept_: 상수항(절편) 값"
      ],
      "metadata": {
        "colab": {
          "base_uri": "https://localhost:8080/"
        },
        "id": "Pl1WEYQy5TXt",
        "outputId": "894631c0-4347-419c-bae4-2e9c3f5b478c"
      },
      "execution_count": null,
      "outputs": [
        {
          "output_type": "stream",
          "name": "stdout",
          "text": [
            "회귀계수(기울기): [-23.2  25.4]\n",
            "상수항(절편): 16.3\n"
          ]
        }
      ]
    },
    {
      "cell_type": "code",
      "source": [
        "#예측값 저장\n",
        "y_test_pred=lr.predict(x_test)\n",
        "\n",
        "#예측값과 실제값의 분포\n",
        "plt.figure(figsize=(10, 5)) #표 크기 지정\n",
        "plt.scatter(x_test['LSTAT'], y_test, label='y_test')  #파란점, 실제값\n",
        "plt.scatter(x_test['LSTAT'], y_test_pred, c='r', label='y_pred')  #빨간점, 예측값\n",
        "plt.legend(loc='best')  #범례(오른쪽 상단 박스)가 표시되는 위치 지정\n",
        "plt.show()"
      ],
      "metadata": {
        "colab": {
          "base_uri": "https://localhost:8080/",
          "height": 321
        },
        "id": "UGp1nseE5Wo6",
        "outputId": "035b7c57-1b33-498c-f54b-557707c1464d"
      },
      "execution_count": null,
      "outputs": [
        {
          "output_type": "display_data",
          "data": {
            "text/plain": [
              "<Figure size 720x360 with 1 Axes>"
            ],
            "image/png": "[encoded data removed]"
          },
          "metadata": {}
        }
      ]
    },
    {
      "cell_type": "code",
      "source": [
        "#성능 평가\n",
        "from sklearn.metrics import mean_squared_error\n",
        "y_train_pred=lr.predict(x_train)\n",
        "\n",
        "train_mse=mean_squared_error(y_train, y_train_pred) #훈련 데이터의 평가 점수\n",
        "print(\"Train MSE:%.4f\" % train_mse)\n",
        "\n",
        "test_mse=mean_squared_error(y_test, y_test_pred)\n",
        "print(\"Test MSE:%.4f\" % test_mse)"
      ],
      "metadata": {
        "colab": {
          "base_uri": "https://localhost:8080/"
        },
        "id": "omsjKInq5aMN",
        "outputId": "806c96b2-f673-46c4-a9be-46fa33434ec0"
      },
      "execution_count": null,
      "outputs": [
        {
          "output_type": "stream",
          "name": "stdout",
          "text": [
            "Train MSE:30.8042\n",
            "Test MSE:29.5065\n"
          ]
        }
      ]
    },
    {
      "cell_type": "markdown",
      "source": [
        "Train과 Test의 MSE값이 각각 30.8042, 29.5065로 나온다 "
      ],
      "metadata": {
        "id": "9VIn2gQDvvpQ"
      }
    },
    {
      "cell_type": "markdown",
      "source": [
        "**RMSE의 표현**\n"
      ],
      "metadata": {
        "id": "9gHeLMBA572V"
      }
    },
    {
      "cell_type": "code",
      "source": [
        "# 2개의 행과 4개의 열을 가진 subplots를 이용. axs는 4x2개의 ax를 가짐.\n",
        "fig, axs = plt.subplots(figsize=(16,8) , ncols=4 , nrows=2)\n",
        "lm_features = ['RM','ZN','INDUS','NOX','AGE','PTRATIO','LSTAT','RAD']\n",
        "for i , feature in enumerate(lm_features):\n",
        "    row = int(i/4)\n",
        "    col = i%4\n",
        "    # 시본의 regplot을 이용해 산점도와 선형 회귀 직선을 함께 표현\n",
        "    sns.regplot(x=feature , y=target, data=Df , ax=axs[row][col])"
      ],
      "metadata": {
        "colab": {
          "base_uri": "https://localhost:8080/",
          "height": 498
        },
        "id": "giVo_OtFname",
        "outputId": "736c5b1b-c160-4697-a119-9c1f04c6fbbc"
      },
      "execution_count": null,
      "outputs": [
        {
          "output_type": "display_data",
          "data": {
            "text/plain": [
              "<Figure size 1152x576 with 8 Axes>"
            ],
            "image/png": "[encoded data removed]"
          },
          "metadata": {}
        }
      ]
    },
    {
      "cell_type": "markdown",
      "source": [
        "506개의 데이터를 7:3 비율로 Target/Test로 분류\n",
        "  \n",
        "  train : 학습 -> linear regression 학습/모델링 수행 -> 모델(W) 생성\n",
        "  \n",
        "  test : 평가(validation)-> 평가지표 (MSE, RMSE, ... )"
      ],
      "metadata": {
        "id": "D9ze7GPVBK3O"
      }
    },
    {
      "cell_type": "code",
      "source": [
        "from sklearn.model_selection import train_test_split\n",
        "from sklearn.linear_model import LinearRegression\n",
        "from sklearn.metrics import mean_squared_error , r2_score\n",
        "\n",
        "y_target = Df[['MEDV']]\n",
        "X_data = Df.drop(['MEDV'], axis=1,inplace=False)\n",
        "\n",
        "X_train , X_test , y_train , y_test = train_test_split(X_data , y_target ,test_size=0.3, random_state=156)\n",
        "\n",
        "# Linear Regression OLS로 학습/예측/평가 수행. \n",
        "lr = LinearRegression()\n",
        "lr.fit(X_train ,y_train )\n",
        "y_preds = lr.predict(X_test)\n",
        "mse = mean_squared_error(y_test, y_preds)\n",
        "rmse = np.sqrt(mse)\n",
        "\n",
        "print('MSE : {0:.3f} , RMSE : {1:.3F}'.format(mse , rmse))\n",
        "print('Variance score : {0:.3f}'.format(r2_score(y_test, y_preds)))"
      ],
      "metadata": {
        "colab": {
          "base_uri": "https://localhost:8080/"
        },
        "id": "1Vbaa2Wznamg",
        "outputId": "d8a6d73d-25ce-43fa-eaf3-d609b2ff44a1"
      },
      "execution_count": null,
      "outputs": [
        {
          "output_type": "stream",
          "name": "stdout",
          "text": [
            "MSE : 17.297 , RMSE : 4.159\n",
            "Variance score : 0.757\n"
          ]
        }
      ]
    },
    {
      "cell_type": "markdown",
      "source": [
        "Variance score는 회귀모델이 Data를 얼마나 잘 표현했는가를 설명하는 Score이다."
      ],
      "metadata": {
        "id": "IhGKTGupBnPv"
      }
    },
    {
      "cell_type": "code",
      "source": [
        "print('절편 값:',lr.intercept_)\n",
        "print('회귀 계수값:', np.round(lr.coef_, 1))"
      ],
      "metadata": {
        "colab": {
          "base_uri": "https://localhost:8080/"
        },
        "id": "nBB1bAJ1namg",
        "outputId": "f914746b-039b-4629-aad7-031ff01119b3"
      },
      "execution_count": null,
      "outputs": [
        {
          "output_type": "stream",
          "name": "stdout",
          "text": [
            "절편 값: [28.49818847]\n",
            "회귀 계수값: [[-10.1   6.6   0.9   3.   -9.6  17.5   0.6 -19.2   8.2  -7.5  -8.6   4.1\n",
            "  -20.5]]\n"
          ]
        }
      ]
    },
    {
      "cell_type": "code",
      "source": [
        "# # 회귀 계수를 큰 값 순으로 정렬하기 위해 Series로 생성. index가 컬럼명에 유의\n",
        "# coeff = pd.Series(data=np.round(lr.coef_, 1), index=X_data.columns)\n",
        "# coeff.sort_values(ascending=False)"
      ],
      "metadata": {
        "id": "sHPlfsRBnamh"
      },
      "execution_count": null,
      "outputs": []
    },
    {
      "cell_type": "code",
      "source": [
        "from sklearn.model_selection import cross_val_score\n",
        "\n",
        "y_target = Df[['MEDV']]\n",
        "X_data = Df.drop(['MEDV'], axis=1,inplace=False)\n",
        "lr = LinearRegression()\n",
        "\n",
        "# cross_val_score( )로 5 Fold 셋으로 MSE 를 구한 뒤 이를 기반으로 다시  RMSE 구함. \n",
        "neg_mse_scores = cross_val_score(lr, X_data, y_target, scoring=\"neg_mean_squared_error\", cv = 5)\n",
        "rmse_scores  = np.sqrt(-1 * neg_mse_scores)\n",
        "avg_rmse = np.mean(rmse_scores)\n",
        "\n",
        "# cross_val_score(scoring=\"neg_mean_squared_error\")로 반환된 값은 모두 음수 \n",
        "print(' 5 folds 의 개별 Negative MSE scores: ', np.round(neg_mse_scores, 2))\n",
        "print(' 5 folds 의 개별 RMSE scores : ', np.round(rmse_scores, 2))\n",
        "print(' 5 folds 의 평균 RMSE : {0:.3f} '.format(avg_rmse))"
      ],
      "metadata": {
        "colab": {
          "base_uri": "https://localhost:8080/"
        },
        "id": "vXVx64JMnami",
        "outputId": "2b0a2a61-5f32-4e37-cd51-3c35a792b094"
      },
      "execution_count": null,
      "outputs": [
        {
          "output_type": "stream",
          "name": "stdout",
          "text": [
            " 5 folds 의 개별 Negative MSE scores:  [-12.46 -26.05 -33.07 -80.76 -33.31]\n",
            " 5 folds 의 개별 RMSE scores :  [3.53 5.1  5.75 8.99 5.77]\n",
            " 5 folds 의 평균 RMSE : 5.829 \n"
          ]
        }
      ]
    }
  ]
}